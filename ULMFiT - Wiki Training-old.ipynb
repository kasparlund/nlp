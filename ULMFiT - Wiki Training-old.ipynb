{
 "cells": [
  {
   "cell_type": "code",
   "execution_count": 1,
   "metadata": {},
   "outputs": [],
   "source": [
    "%reload_ext autoreload\n",
    "%autoreload \n",
    "#%reload_ext line_profiler\n",
    "\n",
    "#from fastai import * \n",
    "from fastai.text import * \n",
    "import sentencepiece as spm\n",
    "import io\n",
    "\n",
    "from fastai_sentencepiece import *\n",
    "from filetokenizer import *\n",
    "from languagemodelloader import *"
   ]
  },
  {
   "cell_type": "code",
   "execution_count": 2,
   "metadata": {},
   "outputs": [],
   "source": [
    "lang            = \"en\"\n",
    "pathData       = Path(\"../nlp-data\")\n",
    "path           = pathData / lang\n",
    "pathTrainValid = path/\"wiki-train_valid\"\n",
    "pathToks       = pathTrainValid/\"toks\"\n",
    "spCache        = \"sp-model\"\n",
    "pathSPVocab    = pathTrainValid / spCache"
   ]
  },
  {
   "cell_type": "raw",
   "metadata": {},
   "source": [
    "def usedGB_RAM(): \n",
    "    import psutil\n",
    "    return round((psutil.virtual_memory().used + psutil.swap_memory().used)/1e9,2)"
   ]
  },
  {
   "cell_type": "markdown",
   "metadata": {},
   "source": [
    "# Data preparation"
   ]
  },
  {
   "cell_type": "markdown",
   "metadata": {},
   "source": [
    "Load the training and validation data we prepared in wiki_preparation.ipynb. In total 100 million articles with a split of 80% / 20% for training/validation:\n",
    "- First column: text content to train the model. \n",
    "- Second column: Boolean representing if the data is for training or validation."
   ]
  },
  {
   "cell_type": "markdown",
   "metadata": {},
   "source": [
    "# Create Tokenizer\n",
    "The sentencepiece vocabulary was trained in Train Sentencepiece tokenizer.ipynb.\n",
    "\n",
    "Here we will make a BasicTokenizer from Sentencepiece so that fastai can use it instead of spacy"
   ]
  },
  {
   "cell_type": "code",
   "execution_count": 3,
   "metadata": {},
   "outputs": [
    {
     "name": "stdout",
     "output_type": "stream",
     "text": [
      "Tokenizer SentencepieceTokenizer in en with the following rules:\n",
      " - fix_html\n",
      " - replace_rep\n",
      " - replace_wrep\n",
      " - spec_add_spaces\n",
      " - rm_useless_spaces\n",
      " - replace_all_caps\n",
      " - deal_caps\n",
      "\n",
      "size og vocabulary: 32000\n",
      "pad_idx: 2\n",
      "[0, 1, 2, 3, 4, 5, 6, 7]\n",
      "vocab: <fastai.text.transform.Vocab object at 0x1067d0c18>\n"
     ]
    }
   ],
   "source": [
    "spt_func  = partial(SentencepieceTokenizer.create, path=pathTrainValid, cache_name='sp-model')\n",
    "spt_func.__name__ = SentencepieceTokenizer.__name__\n",
    "spt       = spt_func(lang=\"en\")\n",
    "tokenizer = Tokenizer(spt_func,\"en\")\n",
    "\n",
    "pad_idx   = spt.vocab().numericalize([text.transform.PAD])[0]\n",
    "vocab,max_vocab  = spt.vocab(), len(spt.vocab().itos)\n",
    "\n",
    "print(tokenizer)\n",
    "print(\"size og vocabulary:\", max_vocab)\n",
    "print(\"pad_idx:\",pad_idx)\n",
    "\n",
    "print(spt.vocab().numericalize( [\"<unk>\" ,\"xxbos\" ,\"xxpad\" ,\"xxmaj\" ,\"xxup\" ,\"xxrep\" ,\"xxwrep\", \"xxfld\"]  ))\n",
    "sentence = [\"She is tall.\", \"He is small\"]\n",
    "tokenizer._process_all_1(sentence)\n",
    "\n",
    "print(\"vocab:\",vocab)"
   ]
  },
  {
   "cell_type": "markdown",
   "metadata": {},
   "source": [
    "# LM Training\n"
   ]
  },
  {
   "cell_type": "code",
   "execution_count": 4,
   "metadata": {},
   "outputs": [],
   "source": [
    "#Discard section with kess than \"minTok\" tokens\n",
    "minToks = 7"
   ]
  },
  {
   "cell_type": "code",
   "execution_count": 5,
   "metadata": {},
   "outputs": [
    {
     "name": "stdout",
     "output_type": "stream",
     "text": [
      "Tokenizer SentencepieceTokenizer in en with the following rules:\n",
      " - fix_html\n",
      " - replace_rep\n",
      " - replace_wrep\n",
      " - spec_add_spaces\n",
      " - rm_useless_spaces\n",
      " - rm_extra_lineshift\n",
      " - rm_extra_lineshift\n",
      " - replace_all_caps\n",
      " - deal_caps\n",
      "\n",
      "size og vocabulary: 32000\n",
      "pad_idx: 2\n",
      "[0, 1, 2, 3, 4, 5, 6, 7]\n"
     ]
    }
   ],
   "source": [
    "pad_idx   = spt.vocab().numericalize([text.transform.PAD])[0]\n",
    "vocab,max_vocab = spt.vocab(), len(spt.vocab().itos)\n",
    "trainTokenizer = FileTokenizer(pathToks/\"train\", spt_func,\"en\",vocab)\n",
    "validTokenizer = FileTokenizer(pathToks/\"valid\", spt_func,\"en\",vocab)\n",
    "\n",
    "print(trainTokenizer)\n",
    "print(\"size og vocabulary:\", max_vocab)\n",
    "print(\"pad_idx:\",pad_idx)\n",
    "\n",
    "print(spt.vocab().numericalize( [\"<unk>\" ,\"xxbos\" ,\"xxpad\" ,\"xxmaj\" ,\"xxup\" ,\"xxrep\" ,\"xxwrep\", \"xxfld\"]  ))\n",
    "#sentence = [\"She is tall.\", \"He is small\"]\n",
    "#tokenizer._process_all_1(sentence)"
   ]
  },
  {
   "cell_type": "code",
   "execution_count": 6,
   "metadata": {},
   "outputs": [],
   "source": [
    "from filetokenizer import *\n",
    "#import timeit start = timeit.default_timer()\n",
    "pathTxt = pathTrainValid/\"txt\"\n",
    "files   = np.asarray( list(pathTxt.glob(\"*.txt\")) )\n",
    "nrows   = len(files)\n",
    "split   = 0.2\n",
    "splitindex, index = int(nrows*split+.5), np.random.permutation(np.arange(nrows)) \n",
    "\n",
    "chunksize=0\n",
    "\n",
    "trainList = TextList( files[:-splitindex], vocab=vocab, pad_idx=pad_idx, \n",
    "                      processor=[FileTokenizeProcessor(tokenizer=trainTokenizer, \n",
    "                                                       chunksize=chunksize, mark_fields=False)],\n",
    "                      minToks=minToks)\n",
    "\n",
    "validList = TextList( files[-splitindex:], vocab=vocab, pad_idx=pad_idx, \n",
    "                      processor=[FileTokenizeProcessor(tokenizer=validTokenizer, \n",
    "                                                       chunksize=chunksize, mark_fields=False)],\n",
    "                      minToks=minToks)\n",
    "#print(timeit.default_timer()-start )"
   ]
  },
  {
   "cell_type": "code",
   "execution_count": 7,
   "metadata": {},
   "outputs": [],
   "source": [
    "if not (pathToks/\"train\").exists():\n",
    "    print(f\"1 nb: gc.collect:{gc.collect()} - used GB memory:{usedGB_RAM()}\") \n",
    "    %time trainList.process()\n",
    "    trainList=None\n",
    "    print(f\"2 nb: gc.collect:{gc.collect()} - used GB memory:{usedGB_RAM()}\") "
   ]
  },
  {
   "cell_type": "code",
   "execution_count": 8,
   "metadata": {},
   "outputs": [],
   "source": [
    "if not (pathToks/\"valid\").exists():\n",
    "    print(f\"1 nb: gc.collect:{gc.collect()} - used GB memory:{usedGB_RAM()}\") \n",
    "    %time p = validList.process()\n",
    "    validList=None\n",
    "    print(f\"2 nb: gc.collect:{gc.collect()} - used GB memory:{usedGB_RAM()}\") "
   ]
  },
  {
   "cell_type": "code",
   "execution_count": 9,
   "metadata": {},
   "outputs": [
    {
     "name": "stdout",
     "output_type": "stream",
     "text": [
      "1 nb: used GB memory: 5.56\n",
      "threading with on 1 cores\n",
      "CPU times: user 1min 43s, sys: 9.73 s, total: 1min 52s\n",
      "Wall time: 1min 54s\n"
     ]
    }
   ],
   "source": [
    "print(f\"1 nb: gc.collect:{gc.collect()} - used GB memory:{usedGB_RAM()}\") \n",
    "%time trainIDS = trainTokenizer.getIds()"
   ]
  },
  {
   "cell_type": "code",
   "execution_count": 10,
   "metadata": {},
   "outputs": [
    {
     "name": "stdout",
     "output_type": "stream",
     "text": [
      "threading with on 1 cores\n",
      "CPU times: user 32.6 s, sys: 4.35 s, total: 36.9 s\n",
      "Wall time: 37.7 s\n",
      "2 nb: used GB memory: 8.82\n"
     ]
    }
   ],
   "source": [
    "%time validIDS=validTokenizer.getIds()\n",
    "print(f\"2 nb: gc.collect:{gc.collect()} - used GB memory:{usedGB_RAM()}\") "
   ]
  },
  {
   "cell_type": "code",
   "execution_count": 11,
   "metadata": {},
   "outputs": [
    {
     "name": "stdout",
     "output_type": "stream",
     "text": [
      "Traning:    number of arrays:24871686 - number of ids:2044746556\n",
      "Validation: number of arrays:8310438 - number of ids:732773770\n",
      "Lenght of token rags min:5 max:12985 - median:65.0\n",
      "865863\n"
     ]
    },
    {
     "data": {
      "text/plain": [
       "array([134,  71,  70,  16,  35,  39, 269, 261, 146,  89,  39,  43,  42,  20,  33, 132,  87,  67,  12,  36], dtype=int32)"
      ]
     },
     "execution_count": 11,
     "metadata": {},
     "output_type": "execute_result"
    },
    {
     "data": {
      "image/png": "[encoded data removed]",
      "text/plain": [
       "<Figure size 432x288 with 1 Axes>"
      ]
     },
     "metadata": {
      "needs_background": "light"
     },
     "output_type": "display_data"
    }
   ],
   "source": [
    "print(f\"Traning:    number of arrays:{len(trainIDS)} - number of ids:{np.sum([len(ids) for ids in trainIDS])}\")\n",
    "print(f\"Validation: number of arrays:{len(validIDS)} - number of ids:{np.sum([len(ids) for ids in validIDS])}\")\n",
    "\n",
    "#Analyse the distribution of the legnth of tokens sequences in the ragged/jagged array of tokes\n",
    "sectionlengths   = np.asarray([len(s) for s in trainIDS],dtype=np.int32)\n",
    "plt.hist(sectionlengths[sectionlengths<1000], 100, density=True, facecolor='g', alpha=0.75)\n",
    "np.histogram(sectionlengths[sectionlengths<1000],50)\n",
    "\n",
    "print(f\"Lenght of token rags min:{min(sectionlengths)} max:{np.max(sectionlengths)} - median:{np.median(sectionlengths)}\")\n",
    "print(\"sectionlengths<10:\", np.sum(sectionlengths<10))\n",
    "sectionlengths[:20]"
   ]
  },
  {
   "cell_type": "code",
   "execution_count": 12,
   "metadata": {},
   "outputs": [
    {
     "name": "stdout",
     "output_type": "stream",
     "text": [
      "MyTextLMDataBunch def create\n",
      "train_ds <class 'fastai.data_block.LabelList'>\n",
      "valid_ds <class 'fastai.data_block.LabelList'>\n",
      "datasets\n",
      "0 ds:<class 'fastai.data_block.LabelList'>\n",
      "1 ds:<class 'fastai.data_block.LabelList'>\n",
      "2 ds:<class 'fastai.data_block.LabelList'>\n",
      "LanguageModelLoader.__init__ Used GB memory:10.48 batches:24 nToks:53367 bptt:70 p_bptt:0.95 shuffle:True backwards:False\n",
      "LanguageModelLoader.__init__ Used GB memory:10.48 batches:10 nToks:21795 bptt:70 p_bptt:0.95 shuffle:False backwards:False\n",
      "LanguageModelLoader.__init__ Used GB memory:10.48 batches:24 nToks:53367 bptt:70 p_bptt:0.95 shuffle:False backwards:False\n"
     ]
    }
   ],
   "source": [
    "#i have an issue with passing pad_idx\n",
    "#dblm = MyTextLMDataBunch.from_ids( pathTrainValid, vocab, trainIDS[0:3000], validIDS[0:600], bs=128)\n",
    "dblm = MyTextLMDataBunch.from_ids( pathTrainValid, vocab, trainIDS[0:1000], validIDS[0:200], bs=32)\n",
    "#dblm = TextLMDataBunch.from_ids( pathTrainValid, vocab, trainIDS[0:1000], validIDS[0:200], bs=32)"
   ]
  },
  {
   "cell_type": "code",
   "execution_count": 13,
   "metadata": {},
   "outputs": [
    {
     "data": {
      "text/plain": [
       "32000"
      ]
     },
     "execution_count": 13,
     "metadata": {},
     "output_type": "execute_result"
    }
   ],
   "source": [
    "len(dblm.train_ds.vocab.itos)"
   ]
  },
  {
   "cell_type": "code",
   "execution_count": 14,
   "metadata": {},
   "outputs": [
    {
     "name": "stdout",
     "output_type": "stream",
     "text": [
      "LanguageModelLoader.allocate_buffers Used GB memory:10.46 shuffle:True backwards:False\n"
     ]
    },
    {
     "data": {
      "text/html": [
       "<table>  <col width='5%'>  <col width='95%'>  <tr>\n",
       "    <th>idx</th>\n",
       "    <th>text</th>\n",
       "  </tr>\n",
       "  <tr>\n",
       "    <th>0</th>\n",
       "    <th><unk> ▁pri mic er io ▁( born ▁13 <unk> ▁1940 ▁in <unk> ) ▁is ▁an <unk> ▁politician , ▁former ▁mayor ▁of <unk> . ▁members ▁of ▁ch lor oc y st ini ▁are ▁found ▁primarily ▁in ▁southeast <unk> , <unk> stral as ia , ▁and ▁the ▁western <unk> . xxup ▁i sol ated ▁genera ▁occur ▁in <unk> , ▁south <unk> , ▁the <unk> car ene ▁islands , ▁and <unk> it ius</th>\n",
       "  </tr>\n",
       "  <tr>\n",
       "    <th>1</th>\n",
       "    <th>. <unk> ▁made ▁an ▁agreement ▁with xxup ▁r ana ▁rulers ▁of <unk> ▁to ▁construct ▁dam ▁in ▁sun s ari ▁and ▁sap t ari ▁districts ▁of <unk> ▁but ▁the ▁project ▁failed ▁after ▁the ▁flood ▁of ▁may ▁1891 . ▁on ▁27 <unk> ▁1897 ▁prime ▁minister <unk> <unk> sher xxup ▁r ana ▁approved <unk> <unk> ▁to ▁construct ▁a ▁dam ▁below ▁bar a ha xxup ▁k she tra . ▁again ▁in ▁1944 ▁an <unk></th>\n",
       "  </tr>\n",
       "  <tr>\n",
       "    <th>2</th>\n",
       "    <th><unk> ssel a er <unk> ▁institute , ▁a ▁master ' s ▁degree ▁in ▁engineering ▁management , ▁and ▁an xxup <unk> ▁in ▁marketing , ▁finance ▁and ▁organizational ▁behavior ▁from ▁northwestern ▁university . ▁unit é xxup <unk> ▁1 -2 ▁ru kin zo xxup <unk> ▁at <unk> ▁level ▁he ▁won ▁a ▁title ▁in ▁bog ota ▁in ▁1992 ▁and ▁the ▁same ▁year ▁had ▁a ▁win ▁over ▁pat xxup ▁r after ▁at ▁the xxup ▁s</th>\n",
       "  </tr>\n",
       "  <tr>\n",
       "    <th>3</th>\n",
       "    <th>▁among ▁them ▁\" xxmaj cur rier ▁& xxup ▁i ves ▁and ▁the ▁new <unk> ▁scene \" ▁and ▁\" xxmaj we ▁cover ▁the ▁new <unk> er .\" ▁in ▁1934 ▁she ▁organized ▁the ▁first ▁important <unk> en ice <unk> ▁show ▁in ▁the ▁united ▁states . ▁her ▁exhibition ▁of ▁the ▁work ▁of <unk> xxup ▁a . <unk> is , ▁in ▁1947, ▁re dis covered ▁the ▁pioneer ▁social ▁document arian ▁and ▁gained ▁his ▁collection</th>\n",
       "  </tr>\n",
       "  <tr>\n",
       "    <th>4</th>\n",
       "    <th>▁of ▁his ▁mother ’ s ▁parents , ▁who ▁survived ▁the ▁war . ▁in ▁1950, ▁he ▁immigrated ▁to <unk> ▁with ▁his ▁mother . ▁after ▁spending ▁one ▁and ▁a ▁half ▁years ▁in ▁an ▁immigrant ▁camp ▁and ▁the <unk> a ▁refugee ▁absorption ▁camp ▁( ma ` a bara ), ▁they ▁moved ▁to <unk> fa . ▁in ▁1955, ▁la ub ▁began ▁studying ▁medicine ▁at ▁the <unk> ▁university ▁of <unk> ’ s ▁had assa h</th>\n",
       "  </tr>\n",
       "</table>\n"
      ],
      "text/plain": [
       "<IPython.core.display.HTML object>"
      ]
     },
     "metadata": {},
     "output_type": "display_data"
    }
   ],
   "source": [
    "dblm.show_batch()"
   ]
  },
  {
   "cell_type": "code",
   "execution_count": 15,
   "metadata": {},
   "outputs": [
    {
     "name": "stdout",
     "output_type": "stream",
     "text": [
      "1 nb: used GB memory: 10.45\n",
      "CPU times: user 489 ms, sys: 56.8 ms, total: 546 ms\n",
      "Wall time: 546 ms\n",
      "2 nb: used GB memory: 10.42\n"
     ]
    }
   ],
   "source": [
    "print(f\"1 nb: gc.collect:{gc.collect()} - used GB memory:{usedGB_RAM()}\") \n",
    "%time learn = language_model_learner(dblm, drop_mult=0, qrnn=False, pad_token=-1, callback_fns=ShowGraph)\n",
    "print(f\"2 nb: gc.collect:{gc.collect()} - used GB memory:{usedGB_RAM()}\") "
   ]
  },
  {
   "cell_type": "raw",
   "metadata": {},
   "source": [
    "%time learn.lr_find()\n",
    "learn.recorder.plot(skip_start=0)"
   ]
  },
  {
   "cell_type": "code",
   "execution_count": 16,
   "metadata": {
    "scrolled": false
   },
   "outputs": [
    {
     "name": "stdout",
     "output_type": "stream",
     "text": [
      "1 nb: gc.collect:7445 - used GB memory:10.07\n"
     ]
    },
    {
     "data": {
      "text/html": [
       "Total time: 32:03 <p><table style='width:300px; margin-bottom:10px'>\n",
       "  <tr>\n",
       "    <th>epoch</th>\n",
       "    <th>train_loss</th>\n",
       "    <th>valid_loss</th>\n",
       "    <th>accuracy</th>\n",
       "  </tr>\n",
       "  <tr>\n",
       "    <th>1</th>\n",
       "    <th>9.325174</th>\n",
       "    <th>7.754635</th>\n",
       "    <th>0.079508</th>\n",
       "  </tr>\n",
       "  <tr>\n",
       "    <th>2</th>\n",
       "    <th>7.847447</th>\n",
       "    <th>7.035449</th>\n",
       "    <th>0.039692</th>\n",
       "  </tr>\n",
       "  <tr>\n",
       "    <th>3</th>\n",
       "    <th>7.266937</th>\n",
       "    <th>7.039110</th>\n",
       "    <th>0.069600</th>\n",
       "  </tr>\n",
       "  <tr>\n",
       "    <th>4</th>\n",
       "    <th>6.951165</th>\n",
       "    <th>6.885926</th>\n",
       "    <th>0.084526</th>\n",
       "  </tr>\n",
       "  <tr>\n",
       "    <th>5</th>\n",
       "    <th>6.706802</th>\n",
       "    <th>6.843150</th>\n",
       "    <th>0.084384</th>\n",
       "  </tr>\n",
       "  <tr>\n",
       "    <th>6</th>\n",
       "    <th>6.476172</th>\n",
       "    <th>6.747453</th>\n",
       "    <th>0.087649</th>\n",
       "  </tr>\n",
       "  <tr>\n",
       "    <th>7</th>\n",
       "    <th>6.259542</th>\n",
       "    <th>6.709064</th>\n",
       "    <th>0.107559</th>\n",
       "  </tr>\n",
       "  <tr>\n",
       "    <th>8</th>\n",
       "    <th>6.050869</th>\n",
       "    <th>6.688700</th>\n",
       "    <th>0.117316</th>\n",
       "  </tr>\n",
       "  <tr>\n",
       "    <th>9</th>\n",
       "    <th>5.873759</th>\n",
       "    <th>6.688754</th>\n",
       "    <th>0.113544</th>\n",
       "  </tr>\n",
       "  <tr>\n",
       "    <th>10</th>\n",
       "    <th>5.746704</th>\n",
       "    <th>6.735076</th>\n",
       "    <th>0.116573</th>\n",
       "  </tr>\n",
       "</table>\n"
      ],
      "text/plain": [
       "<IPython.core.display.HTML object>"
      ]
     },
     "metadata": {},
     "output_type": "display_data"
    },
    {
     "name": "stdout",
     "output_type": "stream",
     "text": [
      "LanguageModelLoader.allocate_buffers Used GB memory:6.68 shuffle:False backwards:False\n"
     ]
    },
    {
     "data": {
      "image/png": "[encoded data removed]",
      "text/plain": [
       "<Figure size 432x288 with 1 Axes>"
      ]
     },
     "metadata": {},
     "output_type": "display_data"
    },
    {
     "name": "stdout",
     "output_type": "stream",
     "text": [
      "CPU times: user 1h 49min 32s, sys: 5min 56s, total: 1h 55min 28s\n",
      "Wall time: 32min 3s\n",
      "2 nb: gc.collect:1324 - used GB memory:7.93\n"
     ]
    }
   ],
   "source": [
    "print(f\"1 nb: gc.collect:{gc.collect()} - used GB memory:{usedGB_RAM()}\") \n",
    "%time learn.fit_one_cycle(10, 2e-3, moms=(0.8,0.7))\n",
    "print(f\"2 nb: gc.collect:{gc.collect()} - used GB memory:{usedGB_RAM()}\") "
   ]
  },
  {
   "cell_type": "code",
   "execution_count": 17,
   "metadata": {},
   "outputs": [],
   "source": [
    "learn.save('model-32k-sentencepiece-vocab')"
   ]
  }
 ],
 "metadata": {
  "kernelspec": {
   "display_name": "Python 3",
   "language": "python",
   "name": "python3"
  },
  "language_info": {
   "codemirror_mode": {
    "name": "ipython",
    "version": 3
   },
   "file_extension": ".py",
   "mimetype": "text/x-python",
   "name": "python",
   "nbconvert_exporter": "python",
   "pygments_lexer": "ipython3",
   "version": "3.7.1"
  }
 },
 "nbformat": 4,
 "nbformat_minor": 2
}
