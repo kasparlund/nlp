{
 "cells": [
  {
   "cell_type": "code",
   "execution_count": 60,
   "metadata": {},
   "outputs": [],
   "source": [
    "from fastai import * \n",
    "from fastai.text import * \n",
    "import numpy as np"
   ]
  },
  {
   "cell_type": "code",
   "execution_count": 103,
   "metadata": {},
   "outputs": [
    {
     "name": "stdout",
     "output_type": "stream",
     "text": [
      "(28,)\n",
      "[ 0  1  2  3  4  5  6  7  8  9 10 11 12 13 14 15 16 17 18 19 20 21 22 23 24 25 26 27]\n"
     ]
    }
   ],
   "source": [
    "            import tracemalloc\n",
    "            tracemalloc.start()\n",
    "            snapshot1 = tracemalloc.take_snapshot()\n",
    "\n",
    "            -----your interesting code\n",
    "            \n",
    "            snapshot2 = tracemalloc.take_snapshot()\n",
    "            top_stats = snapshot2.compare_to(snapshot1, 'lineno')\n",
    "            print(f\"Top 10 of {len(top_stats)}\")\n",
    "            for stat in top_stats[:10]: print(stat)\n",
    "          "
   ]
  },
  {
   "cell_type": "code",
   "execution_count": 106,
   "metadata": {},
   "outputs": [],
   "source": [
    "data = buffer[:bs*3].reshape(bs,3)"
   ]
  },
  {
   "cell_type": "code",
   "execution_count": 123,
   "metadata": {},
   "outputs": [
    {
     "data": {
      "text/plain": [
       "8"
      ]
     },
     "execution_count": 123,
     "metadata": {},
     "output_type": "execute_result"
    }
   ],
   "source": [
    "-1%9"
   ]
  },
  {
   "cell_type": "code",
   "execution_count": 122,
   "metadata": {},
   "outputs": [
    {
     "name": "stdout",
     "output_type": "stream",
     "text": [
      "i:0 i-backwards:8\n",
      "i:1 i-backwards:7\n",
      "i:2 i-backwards:6\n",
      "i:3 i-backwards:5\n",
      "i:4 i-backwards:4\n",
      "i:5 i-backwards:3\n",
      "i:6 i-backwards:2\n",
      "i:7 i-backwards:1\n",
      "i:8 i-backwards:0\n",
      "i:9 i-backwards:8\n",
      "i:10 i-backwards:7\n",
      "i:11 i-backwards:6\n",
      "i:12 i-backwards:5\n",
      "i:13 i-backwards:4\n",
      "i:14 i-backwards:3\n",
      "i:15 i-backwards:2\n",
      "i:16 i-backwards:1\n",
      "i:17 i-backwards:0\n"
     ]
    }
   ],
   "source": [
    "l=9\n",
    "for i in range(2*l):print(f\"i:{i} i-backwards:{l-1 - i%l}\")"
   ]
  },
  {
   "cell_type": "code",
   "execution_count": 87,
   "metadata": {},
   "outputs": [
    {
     "name": "stdout",
     "output_type": "stream",
     "text": [
      "[ 0  1  2  3  4  5  6  7  8  9 10 11 12]\n",
      "[12 11 10  9  8  7  6  5  4  3  2  1  0]\n",
      "torch.Size([28])\n",
      "tensor([12, 11, 10,  9,  8,  7,  6,  5,  4,  3,  2,  1,  0, 13, 14, 15, 16, 17,\n",
      "        18, 19, 20, 21, 22, 23, 24, 25, 26, 27])\n"
     ]
    }
   ],
   "source": [
    "seq_len=3\n",
    "a = np.arange(bs*seq_len,-1,-1)\n",
    "ix = np.arange(len(a))\n",
    "print(ix)\n",
    "print(a)\n",
    "ts[ix] = a[ix]\n",
    "print(t.shape)\n",
    "print(t)"
   ]
  },
  {
   "cell_type": "code",
   "execution_count": 88,
   "metadata": {},
   "outputs": [
    {
     "data": {
      "text/plain": [
       "9.333333333333334"
      ]
     },
     "execution_count": 88,
     "metadata": {},
     "output_type": "execute_result"
    }
   ],
   "source": [
    "t.numel()/3"
   ]
  },
  {
   "cell_type": "code",
   "execution_count": 89,
   "metadata": {},
   "outputs": [
    {
     "data": {
      "text/plain": [
       "tensor([[12, 11, 10,  9,  8,  7,  6,  5,  4,  3,  2,  1,  0, 13],\n",
       "        [14, 15, 16, 17, 18, 19, 20, 21, 22, 23, 24, 25, 26, 27]])"
      ]
     },
     "execution_count": 89,
     "metadata": {},
     "output_type": "execute_result"
    }
   ],
   "source": [
    "bs=4\n",
    "sl=3\n",
    "bs_dim=t.numel()/sl\n",
    "t.view(-1,14)"
   ]
  },
  {
   "cell_type": "code",
   "execution_count": 100,
   "metadata": {},
   "outputs": [
    {
     "name": "stdout",
     "output_type": "stream",
     "text": [
      "[2. 2. 2. 2. 2.]\n",
      "tensor([2., 2., 2., 2., 2.], dtype=torch.float64)\n"
     ]
    }
   ],
   "source": [
    "import numpy as np\n",
    "a = np.ones(5)\n",
    "b = torch.from_numpy(a)\n",
    "np.add(a, 1, out=a)\n",
    "print(a)\n",
    "print(b)"
   ]
  },
  {
   "cell_type": "code",
   "execution_count": null,
   "metadata": {},
   "outputs": [],
   "source": [
    "import asyncio\n",
    "async def myfun():\n",
    "    await asyncio.sleep(1)\n",
    "    return 5"
   ]
  },
  {
   "cell_type": "code",
   "execution_count": null,
   "metadata": {},
   "outputs": [],
   "source": [
    "await myfun()\n",
    "await myfun()\n"
   ]
  },
  {
   "cell_type": "code",
   "execution_count": null,
   "metadata": {},
   "outputs": [],
   "source": [
    "async def hello():\n",
    "    await asyncio.sleep(1)\n",
    "    return \"hello\"\n",
    "async def test():\n",
    "    loop = asyncio.get_event_loop()\n",
    "    tasks = []\n",
    "    for i in range(10):\n",
    "        tasks.append(loop.create_task(hello()))\n",
    "    # all the tasks will automatically run\n",
    "    asyncio.set_event_loop(loop)\n",
    "    rest = asyncio.gather(*tasks)\n",
    "    await rest"
   ]
  },
  {
   "cell_type": "code",
   "execution_count": null,
   "metadata": {},
   "outputs": [],
   "source": [
    "#await test()\n",
    "\n",
    "loop = asyncio.get_event_loop()\n",
    "tasks = []\n",
    "for i in range(10):\n",
    "    tasks.append(loop.create_task(hello()))\n",
    "# all the tasks will automatically run\n",
    "asyncio.set_event_loop(loop)\n",
    "rest = asyncio.gather(*tasks)\n",
    "await rest"
   ]
  },
  {
   "cell_type": "code",
   "execution_count": null,
   "metadata": {},
   "outputs": [],
   "source": [
    "from multiprocessing import Pool\n",
    "from multiprocessing.dummy import Pool as ThreadPool \n",
    "\n",
    "pool = ThreadPool(1) \n",
    "results = pool.map(test,None)\n",
    "pool.close() \n",
    "pool.join()\n"
   ]
  },
  {
   "cell_type": "code",
   "execution_count": null,
   "metadata": {},
   "outputs": [],
   "source": [
    "        \"\"\"\n",
    "        async def hello():\n",
    "            await asyncio.sleep(1)\n",
    "            return \"hello\"\n",
    "    \n",
    "        fileblocks = partition_by_cores(files, n_cpus)\n",
    "        print(f\"fileblocks:{len(fileblocks)}\")\n",
    "        tasks = []\n",
    "        i=0\n",
    "        loop = asyncio.get_event_loop()\n",
    "        for fb in fileblocks:\n",
    "            print(f\"task:{i}\")\n",
    "            i += 1\n",
    "            results = tasks.append( loop.create_task( FileTokenizer.getIds_from_file(fb) ) )\n",
    "        asyncio.set_event_loop(loop)\n",
    "        results = asyncio.gather(*tasks)\n",
    "        await results\n",
    "        \"\"\"\n"
   ]
  },
  {
   "cell_type": "raw",
   "metadata": {},
   "source": [
    "%load_ext autoreload\n",
    "%autoreload 2\n",
    "from fastai.text import * \n",
    "import sentencepiece as spm\n"
   ]
  },
  {
   "cell_type": "code",
   "execution_count": null,
   "metadata": {},
   "outputs": [],
   "source": [
    "lang            = \"en\"\n",
    "pathData       = Path(\"../nlp-data\")\n",
    "path           = pathData / lang\n",
    "pathTrainValid = path/\"wiki-train_valid\"\n",
    "pathNPY        = pathTrainValid/\"dummy.npy\"\n",
    "pathNPZ        = pathTrainValid/\"dummy.npz\"\n"
   ]
  },
  {
   "cell_type": "code",
   "execution_count": null,
   "metadata": {},
   "outputs": [],
   "source": [
    "arrays = np.empty(10, dtype=object)\n",
    "arrays"
   ]
  },
  {
   "cell_type": "code",
   "execution_count": null,
   "metadata": {},
   "outputs": [],
   "source": [
    "import io\n",
    "a=np.arange(3,dtype=np.int32).astype(np.int32)\n",
    "b=np.arange(5,dtype=np.int32).astype(np.int32)\n",
    "c=np.arange(10,dtype=np.int32).astype(np.int32)\n"
   ]
  },
  {
   "cell_type": "code",
   "execution_count": null,
   "metadata": {},
   "outputs": [],
   "source": [
    "with pathNPY.open(\"wb\") as f:\n",
    "    np.save(f,a, allow_pickle=False, fix_imports=False)\n",
    "    np.save(f,b, allow_pickle=False, fix_imports=False)\n",
    "    np.save(f,c, allow_pickle=False, fix_imports=False)\n",
    "\n",
    "with pathNPY.open(\"rb\") as f:\n",
    "    f.seek(0, 2); file_size = f.tell(); f.seek(0)\n",
    "    while f.tell() != file_size:\n",
    "        print(np.load(f))\n"
   ]
  },
  {
   "cell_type": "code",
   "execution_count": null,
   "metadata": {},
   "outputs": [],
   "source": [
    "arrays = np.empty(0, dtype=object)\n",
    "arrays"
   ]
  },
  {
   "cell_type": "code",
   "execution_count": null,
   "metadata": {},
   "outputs": [],
   "source": [
    "arrays = [] #np.empty(3, dtype=object)\n",
    "for i in range(3):\n",
    "    #for i,a in enumerate(arrays):\n",
    "    arrays.append( np.arange(i+1) )\n",
    "\n",
    "#arrays2 = np.empty(3, dtype=object)\n",
    "#arrays2[:3] = arrays[:3]\n",
    "#arrays[1][0] = 10\n",
    "print(arrays)\n",
    "\n",
    "def save(arrays):\n",
    "    with pathNPY.open(\"wb\") as f:\n",
    "        if isinstance(arrays,list): \n",
    "            arrays = np.asarray(arrays,dtype=object)\n",
    "        np.save(f,arrays, allow_pickle=True, fix_imports=False)\n",
    "        \n",
    "def load():\n",
    "    with pathNPY.open(\"rb\") as f:\n",
    "        arrays = np.load(f)\n",
    "    return arrays\n",
    "\n",
    "save(arrays)\n",
    "load()"
   ]
  },
  {
   "cell_type": "code",
   "execution_count": null,
   "metadata": {},
   "outputs": [],
   "source": [
    "%timeit save(arrays)"
   ]
  },
  {
   "cell_type": "code",
   "execution_count": null,
   "metadata": {},
   "outputs": [],
   "source": [
    "%timeit load()\n",
    "print(load())"
   ]
  },
  {
   "cell_type": "code",
   "execution_count": null,
   "metadata": {},
   "outputs": [],
   "source": [
    "arrays = [] #np.empty(0, dtype=object)\n",
    "for i in range(3):\n",
    "    a = load()\n",
    "    if len(a) > 0: arrays.extend( a.tolist() )\n",
    "arrays = np.asarray(arrays,dtype=object)    \n",
    "print(len(arrays))\n",
    "print(arrays)"
   ]
  },
  {
   "cell_type": "code",
   "execution_count": null,
   "metadata": {},
   "outputs": [],
   "source": []
  }
 ],
 "metadata": {
  "kernelspec": {
   "display_name": "Python 3",
   "language": "python",
   "name": "python3"
  },
  "language_info": {
   "codemirror_mode": {
    "name": "ipython",
    "version": 3
   },
   "file_extension": ".py",
   "mimetype": "text/x-python",
   "name": "python",
   "nbconvert_exporter": "python",
   "pygments_lexer": "ipython3",
   "version": "3.7.1"
  }
 },
 "nbformat": 4,
 "nbformat_minor": 2
}
