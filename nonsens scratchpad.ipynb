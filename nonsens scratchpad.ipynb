{
 "cells": [
  {
   "cell_type": "code",
   "execution_count": 1,
   "metadata": {},
   "outputs": [],
   "source": [
    "from fastai import * \n",
    "from fastai.text import * \n",
    "import numpy as np\n",
    "import io\n",
    "import pathlib\n"
   ]
  },
  {
   "cell_type": "code",
   "execution_count": 2,
   "metadata": {},
   "outputs": [
    {
     "data": {
      "text/plain": [
       "array([32767], dtype=int16)"
      ]
     },
     "execution_count": 2,
     "metadata": {},
     "output_type": "execute_result"
    }
   ],
   "source": [
    "#np.asarray([65536],dtype=np.int16)\n",
    "np.asarray([65536/2-1],dtype=np.int16)"
   ]
  },
  {
   "cell_type": "code",
   "execution_count": 3,
   "metadata": {},
   "outputs": [],
   "source": [
    "text=\"Oak Creek, Colorado\\n\\n\\nOak Creek is a Statutory Town in Routt County, Colorado, United States. The population was 849 at the 2000 census. It was incorporated in 1907 as a coal mining town. The community was named for scrub oak near the original town site.\\nOak Creek is located at (40.275049, -106.957607).\""
   ]
  },
  {
   "cell_type": "code",
   "execution_count": 6,
   "metadata": {},
   "outputs": [
    {
     "data": {
      "text/plain": [
       "'Oak Creek, Colorado\\nOak Creek is a Statutory Town in Routt County, Colorado, United States. The population was 849 at the 2000 census. It was incorporated in 1907 as a coal mining town. The community was named for scrub oak near the original town site.\\nOak Creek is located at (40.275049, -106.957607).'"
      ]
     },
     "execution_count": 6,
     "metadata": {},
     "output_type": "execute_result"
    }
   ],
   "source": [
    "#import fastai_sentencepiece\n",
    "\n",
    "def rm_extra_lineshift(t:str) -> str:\n",
    "    #return re.sub('\\r?\\n|\\r/', '\\n', t)\n",
    "    return re.sub('[\\r\\n]+', '\\n', t)\n",
    "\n",
    "defaults.text_pre_rules = [fix_html, replace_rep, replace_wrep, spec_add_spaces, rm_useless_spaces]\n",
    "\n",
    "t = reduce(lambda t, rule: rule(t), defaults.text_pre_rules, text)\n",
    "t = rm_extra_lineshift(t)\n",
    "t"
   ]
  },
  {
   "cell_type": "code",
   "execution_count": null,
   "metadata": {},
   "outputs": [],
   "source": [
    "lang     = \"en\"\n",
    "pathData = Path(\"../nlp-data\")\n",
    "path     = pathData / lang\n",
    "pToks    = path/\"wiki-train_valid\"/\"toks\"\n"
   ]
  },
  {
   "cell_type": "code",
   "execution_count": null,
   "metadata": {},
   "outputs": [],
   "source": [
    "import re\n",
    "#p = re.compile('([\\r\\n]+.?)+', r'\\r\\n')\n",
    "p = re.compile(\"[\\r\\n]+.?\")\n",
    "txt = \" 1\\n\\n\\n\\n\\n\"\n",
    "p.sub(\"\\n\",txt)"
   ]
  },
  {
   "cell_type": "code",
   "execution_count": null,
   "metadata": {},
   "outputs": [],
   "source": [
    "imax = int(1e8)\n",
    "def tuppel():\n",
    "    for i in range(imax): \n",
    "        r = (i,i+1)\n",
    "        l = r[1]-r[0]\n",
    "%timeit tuppel()    "
   ]
  },
  {
   "cell_type": "code",
   "execution_count": null,
   "metadata": {},
   "outputs": [],
   "source": [
    "def simpleParams():\n",
    "    for i in range(imax): \n",
    "        r0 = i\n",
    "        r1 = i+1\n",
    "        l  = r1-r0\n",
    "%timeit simpleParams()        "
   ]
  },
  {
   "cell_type": "code",
   "execution_count": null,
   "metadata": {},
   "outputs": [],
   "source": [
    "lang     = \"en\"\n",
    "pathData = Path(\"../nlp-data\")\n",
    "path     = pathData / lang\n",
    "pTrain   = path/\"wiki-train_valid\"/\"toks\"/\"train\"\n",
    "\n",
    "def loadAll(pTrain):\n",
    "    for p in pTrain.glob(\"*.npy\"):\n",
    "        with p.open(\"rb\") as f:\n",
    "            np.load(f)\n",
    "%time loadAll(pTrain)\n",
    "#s=None\n",
    "gc.collect()"
   ]
  },
  {
   "cell_type": "code",
   "execution_count": null,
   "metadata": {},
   "outputs": [],
   "source": [
    "np.load??"
   ]
  },
  {
   "cell_type": "code",
   "execution_count": null,
   "metadata": {},
   "outputs": [],
   "source": [
    "?np.load"
   ]
  },
  {
   "cell_type": "code",
   "execution_count": null,
   "metadata": {},
   "outputs": [],
   "source": [
    "%%timeit\n",
    "lang     = \"en\"\n",
    "pathData = Path(\"../nlp-data\")\n",
    "path     = pathData / lang\n",
    "p        = path/\"wiki-train_valid\"/\"toks\"/\"train\"/\"0-ids.npy\"\n",
    "    \n",
    "a=None\n",
    "gc.collect()"
   ]
  },
  {
   "cell_type": "code",
   "execution_count": null,
   "metadata": {},
   "outputs": [],
   "source": [
    "            import tracemalloc\n",
    "            tracemalloc.start()\n",
    "            snapshot1 = tracemalloc.take_snapshot()\n",
    "\n",
    "            -----your interesting code\n",
    "            \n",
    "            snapshot2 = tracemalloc.take_snapshot()\n",
    "            top_stats = snapshot2.compare_to(snapshot1, 'lineno')\n",
    "            print(f\"Top 10 of {len(top_stats)}\")\n",
    "            for stat in top_stats[:10]: print(stat)\n",
    "          "
   ]
  },
  {
   "cell_type": "code",
   "execution_count": null,
   "metadata": {},
   "outputs": [],
   "source": [
    "data = buffer[:bs*3].reshape(bs,3)"
   ]
  },
  {
   "cell_type": "code",
   "execution_count": null,
   "metadata": {},
   "outputs": [],
   "source": [
    "-1%9"
   ]
  },
  {
   "cell_type": "code",
   "execution_count": null,
   "metadata": {},
   "outputs": [],
   "source": [
    "l=9\n",
    "for i in range(2*l):print(f\"i:{i} i-backwards:{l-1 - i%l}\")"
   ]
  },
  {
   "cell_type": "code",
   "execution_count": null,
   "metadata": {},
   "outputs": [],
   "source": [
    "seq_len=3\n",
    "a = np.arange(bs*seq_len,-1,-1)\n",
    "ix = np.arange(len(a))\n",
    "print(ix)\n",
    "print(a)\n",
    "ts[ix] = a[ix]\n",
    "print(t.shape)\n",
    "print(t)"
   ]
  },
  {
   "cell_type": "code",
   "execution_count": null,
   "metadata": {},
   "outputs": [],
   "source": [
    "t.numel()/3"
   ]
  },
  {
   "cell_type": "code",
   "execution_count": null,
   "metadata": {},
   "outputs": [],
   "source": [
    "bs=4\n",
    "sl=3\n",
    "bs_dim=t.numel()/sl\n",
    "t.view(-1,14)"
   ]
  },
  {
   "cell_type": "code",
   "execution_count": null,
   "metadata": {},
   "outputs": [],
   "source": [
    "import numpy as np\n",
    "a = np.ones(5)\n",
    "b = torch.from_numpy(a)\n",
    "np.add(a, 1, out=a)\n",
    "print(a)\n",
    "print(b)"
   ]
  },
  {
   "cell_type": "code",
   "execution_count": null,
   "metadata": {},
   "outputs": [],
   "source": [
    "import asyncio\n",
    "async def myfun():\n",
    "    await asyncio.sleep(1)\n",
    "    return 5"
   ]
  },
  {
   "cell_type": "code",
   "execution_count": null,
   "metadata": {},
   "outputs": [],
   "source": [
    "await myfun()\n",
    "await myfun()\n"
   ]
  },
  {
   "cell_type": "code",
   "execution_count": null,
   "metadata": {},
   "outputs": [],
   "source": [
    "async def hello():\n",
    "    await asyncio.sleep(1)\n",
    "    return \"hello\"\n",
    "async def test():\n",
    "    loop = asyncio.get_event_loop()\n",
    "    tasks = []\n",
    "    for i in range(10):\n",
    "        tasks.append(loop.create_task(hello()))\n",
    "    # all the tasks will automatically run\n",
    "    asyncio.set_event_loop(loop)\n",
    "    rest = asyncio.gather(*tasks)\n",
    "    await rest"
   ]
  },
  {
   "cell_type": "code",
   "execution_count": null,
   "metadata": {},
   "outputs": [],
   "source": [
    "#await test()\n",
    "\n",
    "loop = asyncio.get_event_loop()\n",
    "tasks = []\n",
    "for i in range(10):\n",
    "    tasks.append(loop.create_task(hello()))\n",
    "# all the tasks will automatically run\n",
    "asyncio.set_event_loop(loop)\n",
    "rest = asyncio.gather(*tasks)\n",
    "await rest"
   ]
  },
  {
   "cell_type": "code",
   "execution_count": null,
   "metadata": {},
   "outputs": [],
   "source": [
    "from multiprocessing import Pool\n",
    "from multiprocessing.dummy import Pool as ThreadPool \n",
    "\n",
    "pool = ThreadPool(1) \n",
    "results = pool.map(test,None)\n",
    "pool.close() \n",
    "pool.join()\n"
   ]
  },
  {
   "cell_type": "code",
   "execution_count": null,
   "metadata": {},
   "outputs": [],
   "source": [
    "        \"\"\"\n",
    "        async def hello():\n",
    "            await asyncio.sleep(1)\n",
    "            return \"hello\"\n",
    "    \n",
    "        fileblocks = partition_by_cores(files, n_cpus)\n",
    "        print(f\"fileblocks:{len(fileblocks)}\")\n",
    "        tasks = []\n",
    "        i=0\n",
    "        loop = asyncio.get_event_loop()\n",
    "        for fb in fileblocks:\n",
    "            print(f\"task:{i}\")\n",
    "            i += 1\n",
    "            results = tasks.append( loop.create_task( FileTokenizer.getIds_from_file(fb) ) )\n",
    "        asyncio.set_event_loop(loop)\n",
    "        results = asyncio.gather(*tasks)\n",
    "        await results\n",
    "        \"\"\"\n"
   ]
  },
  {
   "cell_type": "raw",
   "metadata": {},
   "source": [
    "%load_ext autoreload\n",
    "%autoreload 2\n",
    "from fastai.text import * \n",
    "import sentencepiece as spm\n"
   ]
  },
  {
   "cell_type": "code",
   "execution_count": null,
   "metadata": {},
   "outputs": [],
   "source": [
    "lang            = \"en\"\n",
    "pathData       = Path(\"../nlp-data\")\n",
    "path           = pathData / lang\n",
    "pathTrainValid = path/\"wiki-train_valid\"\n",
    "pathNPY        = pathTrainValid/\"dummy.npy\"\n",
    "pathNPZ        = pathTrainValid/\"dummy.npz\"\n"
   ]
  },
  {
   "cell_type": "code",
   "execution_count": null,
   "metadata": {},
   "outputs": [],
   "source": [
    "arrays = np.empty(10, dtype=object)\n",
    "arrays"
   ]
  },
  {
   "cell_type": "code",
   "execution_count": null,
   "metadata": {},
   "outputs": [],
   "source": [
    "import io\n",
    "a=np.arange(3,dtype=np.int32).astype(np.int32)\n",
    "b=np.arange(5,dtype=np.int32).astype(np.int32)\n",
    "c=np.arange(10,dtype=np.int32).astype(np.int32)\n"
   ]
  },
  {
   "cell_type": "code",
   "execution_count": null,
   "metadata": {},
   "outputs": [],
   "source": [
    "with pathNPY.open(\"wb\") as f:\n",
    "    np.save(f,a, allow_pickle=False, fix_imports=False)\n",
    "    np.save(f,b, allow_pickle=False, fix_imports=False)\n",
    "    np.save(f,c, allow_pickle=False, fix_imports=False)\n",
    "\n",
    "with pathNPY.open(\"rb\") as f:\n",
    "    f.seek(0, 2); file_size = f.tell(); f.seek(0)\n",
    "    while f.tell() != file_size:\n",
    "        print(np.load(f))\n"
   ]
  },
  {
   "cell_type": "code",
   "execution_count": null,
   "metadata": {},
   "outputs": [],
   "source": [
    "arrays = np.empty(0, dtype=object)\n",
    "arrays"
   ]
  },
  {
   "cell_type": "code",
   "execution_count": null,
   "metadata": {},
   "outputs": [],
   "source": [
    "arrays = [] #np.empty(3, dtype=object)\n",
    "for i in range(3):\n",
    "    #for i,a in enumerate(arrays):\n",
    "    arrays.append( np.arange(i+1) )\n",
    "\n",
    "#arrays2 = np.empty(3, dtype=object)\n",
    "#arrays2[:3] = arrays[:3]\n",
    "#arrays[1][0] = 10\n",
    "print(arrays)\n",
    "\n",
    "def save(arrays):\n",
    "    with pathNPY.open(\"wb\") as f:\n",
    "        if isinstance(arrays,list): \n",
    "            arrays = np.asarray(arrays,dtype=object)\n",
    "        np.save(f,arrays, allow_pickle=True, fix_imports=False)\n",
    "        \n",
    "def load():\n",
    "    with pathNPY.open(\"rb\") as f:\n",
    "        arrays = np.load(f)\n",
    "    return arrays\n",
    "\n",
    "save(arrays)\n",
    "load()"
   ]
  },
  {
   "cell_type": "code",
   "execution_count": null,
   "metadata": {},
   "outputs": [],
   "source": [
    "%timeit save(arrays)"
   ]
  },
  {
   "cell_type": "code",
   "execution_count": null,
   "metadata": {},
   "outputs": [],
   "source": [
    "%timeit load()\n",
    "print(load())"
   ]
  },
  {
   "cell_type": "code",
   "execution_count": null,
   "metadata": {},
   "outputs": [],
   "source": [
    "arrays = [] #np.empty(0, dtype=object)\n",
    "for i in range(3):\n",
    "    a = load()\n",
    "    if len(a) > 0: arrays.extend( a.tolist() )\n",
    "arrays = np.asarray(arrays,dtype=object)    \n",
    "print(len(arrays))\n",
    "print(arrays)"
   ]
  },
  {
   "cell_type": "code",
   "execution_count": null,
   "metadata": {},
   "outputs": [],
   "source": []
  }
 ],
 "metadata": {
  "kernelspec": {
   "display_name": "Python 3",
   "language": "python",
   "name": "python3"
  },
  "language_info": {
   "codemirror_mode": {
    "name": "ipython",
    "version": 3
   },
   "file_extension": ".py",
   "mimetype": "text/x-python",
   "name": "python",
   "nbconvert_exporter": "python",
   "pygments_lexer": "ipython3",
   "version": "3.7.1"
  }
 },
 "nbformat": 4,
 "nbformat_minor": 2
}
