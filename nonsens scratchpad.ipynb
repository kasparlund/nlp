{
 "cells": [
  {
   "cell_type": "code",
   "execution_count": 1,
   "metadata": {},
   "outputs": [],
   "source": [
    "from fastai import * \n",
    "from fastai.text import * \n",
    "import numpy as np\n",
    "import io\n",
    "import pathlib\n",
    "from fastai_sentencepiece import *\n",
    "from filetokenizer import *\n",
    "from languagemodelloader import *"
   ]
  },
  {
   "cell_type": "code",
   "execution_count": 3,
   "metadata": {},
   "outputs": [],
   "source": [
    "lang=\"en\"\n",
    "minToks = 10"
   ]
  },
  {
   "cell_type": "code",
   "execution_count": 42,
   "metadata": {},
   "outputs": [],
   "source": [
    "pathData       = Path(\"../../data/nlp\")\n",
    "path           = pathData / lang\n",
    "pathDump       = path/\"wiki-dump\"\n",
    "pathJson       = path/\"wiki-json\"\n",
    "\n",
    "pathTrainValid = path/\"wiki-train_valid\"\n",
    "pathTxt        = pathTrainValid/\"txt\"\n",
    "pathToks       = pathTrainValid/\"toks\"\n",
    "pathcsv        = pathTrainValid/\"wiki.csv\"\n",
    "\n",
    "cache_name   = \"sp-model\"\n",
    "pathVocab    = pathTrainValid / cache_name"
   ]
  },
  {
   "cell_type": "code",
   "execution_count": 43,
   "metadata": {},
   "outputs": [
    {
     "name": "stdout",
     "output_type": "stream",
     "text": [
      "self.dtype:<class 'numpy.int16'>\n",
      "self.dtype:<class 'numpy.int16'>\n",
      "Tokenizer SentencepieceTokenizer in en with the following rules:\n",
      " - fix_html\n",
      " - replace_rep\n",
      " - replace_wrep\n",
      " - spec_add_spaces\n",
      " - rm_useless_spaces\n",
      " - rm_extra_lineshift\n",
      " - rm_extra_lineshift\n",
      " - rm_extra_lineshift\n",
      " - rm_extra_lineshift\n",
      " - rm_extra_lineshift\n",
      " - rm_extra_lineshift\n",
      " - rm_extra_lineshift\n",
      " - rm_extra_lineshift\n",
      " - rm_extra_lineshift\n",
      " - rm_extra_lineshift\n",
      " - rm_extra_lineshift\n",
      " - rm_extra_lineshift\n",
      " - replace_all_caps\n",
      " - deal_caps\n",
      "\n",
      "size og vocabulary: 32000\n",
      "pad_idx: 0\n",
      "[0, 1, 2, 0, 3, 4, 5, 6, 0]\n"
     ]
    }
   ],
   "source": [
    "#Discard section with kess than \"minTok\" tokens\n",
    "spt_func  = partial(SentencepieceTokenizer.create, pathVocab=pathVocab)\n",
    "spt_func.__name__ = SentencepieceTokenizer.__name__\n",
    "spt       = spt_func(lang=\"en\")\n",
    "pad_idx   = spt.vocab().numericalize([text.transform.PAD])[0]\n",
    "vocab,max_vocab = spt.vocab(), len(spt.vocab().itos)\n",
    "trainTokenizer = FileTokenizer(pathToks/\"train\", spt_func,\"en\",vocab,minToks=minToks,n_cpus=max(defaults.cpus-1,1))\n",
    "validTokenizer = FileTokenizer(pathToks/\"valid\", spt_func,\"en\",vocab,minToks=minToks,n_cpus=max(defaults.cpus-1,1))\n",
    "\n",
    "print(trainTokenizer)\n",
    "print(\"size og vocabulary:\", max_vocab)\n",
    "print(\"pad_idx:\",pad_idx)\n",
    "\n",
    "print(spt.vocab().numericalize( [\"xxunk\" ,\"xxbos\",\"xxeos\" ,\"xxpad\" ,\"xxmaj\" ,\"xxup\" ,\"xxrep\" ,\"xxwrep\", \"xxfld\"]  ))\n",
    "#sentence = [\"She is tall.\", \"He is small\"]\n",
    "#tokenizer._process_all_1(sentence)"
   ]
  },
  {
   "cell_type": "code",
   "execution_count": 44,
   "metadata": {},
   "outputs": [
    {
     "name": "stdout",
     "output_type": "stream",
     "text": [
      "number og len(toks)=)1 5727\n"
     ]
    }
   ],
   "source": [
    "toks   =  np.asarray([v for v in spt.vocab().itos])\n",
    "tokslen = np.asarray([len(v) for v in spt.vocab().itos])\n",
    "ix_sort = np.argsort(tokslen)\n",
    "#tokslen = tokslen[ix_sort]\n",
    "#toks    = toks[ix_sort]\n",
    "print(\"number og len(toks)=)1\", np.sum(tokslen==1))"
   ]
  },
  {
   "cell_type": "code",
   "execution_count": 45,
   "metadata": {},
   "outputs": [
    {
     "data": {
      "text/plain": [
       "',,.,s,-,\\',\",),▁,e,:,d,a,y,t,;,n,i,o,S,A,r,m,’,k,g,C,B,l,c,D,u,b,z,I,K,p,h,2,T,E,–,P,F,G,M,1,f,x,W,L,3,H,R,O,V,4,%,N,—,>,w,U,j,J,5,é,v,],6,8,X,Y,7,9,”,Z,0,(,á,&,Q,!,ā,q,í,<,ó,?,ä,+,ō,š,ü,_,ī,=,ö,ú,ū,*,ı,ł,°,ă,å,$,и,ç,č,à,è,ë,[,ø,ž,α,ş,о,а,е,|,â,ę,ê,æ,ș,т,ß,с,ñ,ô,ð,ا,ś,л,×,ν,ι,ρ,н,ο,р,τ,ą,ý,‘,ε,д,“,в,ा,ż,ğ,ř,ț,î,λ,É,σ,π,र,्,у,ć,−,ر,},κ,»,ē,ě,م,м,`,ò,ʻ,ن,ə,ي,ń,ő,γ,к,η,ل,ì,õ,г,ė,ς,و,đ,β,ï,′,μ,@,й,υ,δ,ω,ب,ù,я,்,~,د,п,б,י,Ü,ã,ы,θ,ि,·,ţ,क,ь,س,†,з,ו,‐,Ś,म,ч,त,न,ṣ,ί,ό,ạ,ר,±,С,व,ŏ,ả,ά,ṭ,û,स,ت,ी,Δ,Ú,ی,М,φ,ه,ư,े,œ,А,ה,χ,ḥ,ʿ,ệ,ع,ц,א,В,ल,य,द,中,Í,ح,า,^,Æ,Α,К,П,ु,Ö,ṇ,Ω,х,Б,⁄,大,→,þ,प,Σ,£,„,ב,ế,ة,έ,ं,ň,€,Þ,ف,ů,≤,ա,ร,Š,ồ,ל,ج,ź,ह,ύ,州,Ä,ق,Д,ش,ш,¥,Н,і,ή,ж,க,Т,מ,王,ị,•,Π,Г,ज,О,ộ,{,Р,Ș,ש,ो,ி,ṃ,子,ー,道,公,್,、,村,ு,山,ת,ர,Κ,ग,®,ŋ,த,ũ,́,Ć,श,ம,น,Ḥ,ћ,Ε,人,ξ,İ,ǎ,ע,ब,ŭ,ா,Γ,נ,ņ,ப,≥,天,ز,ك,ன,Č,ი,文,Á,Î,И,ḍ,ン,ờ,ಿ,¡,Μ,Φ,¢,Λ,כ,া,്,ĩ,ק,ј,李,ζ,ח,ḩ,भ,ъ,خ,ậ,の,镇,ட,∈,ა,Ž,э,国,≈,★,ว,פ,Ț,أ,₤,∞,ώ,家,三,平,เ,ṛ,Ñ,Л,च,ÿ,ד,อ,ย,ť,Ţ,ص,Τ,日,ấ,§,ಾ,À,ั,ắ,Ο,ม,南,ն,一,ס,ط,ง,司,ು,ச,«,・,ן,ನ,武,ː,ರ,У,ф,ם,ิ,ọ,щ,Ø,街,ľ,太,西,安,ю,ล,ψ,ố,江,生,্,ǔ,上,ण,บ,ề,金,東,國,Å,Ō,ʾ,₹,ய,ல,北,海,之,ก,З,ध,ை,َ,ष,ầ,会,高,་,軍,書,ส,ವ,้,馬,ứ,元,新,ต,ỳ,ġ,ħ,ک,学,水,Ó,田,ಕ,្,ू,வ,ʔ,Β,都,‡,්,部,ス,河,ท,ತ,明,ル,Ν,的,Ι,ơ,ე,₱,Â,ё,ड,ા,ր,神,ക,్,ǫ,ʼ,ổ,ե,่,劉,華,ŵ,ט,आ,ủ,대,ḫ,ợ,行,ử,¿,Е,Ş,和,ի,ಲ,原,皇,路,ẕ,本,郎,ख,Ā,Ç,ন,ు,ದ,ớ,ṅ,ク,石,리,រ,法,ห,光,Đ,ƒ,غ,ラ,有,ɛ,ள,Ľ,門,五,二,Ħ,ర,ッ,小,德,Ц,ट,張,林,ా,พ,美,ん,이,イ,র,ර,主,ম,ს,い,ǐ,Θ,ব,ụ,ἀ,⟨,⟩,ト,ָ,社,̄,ַ,ి,ז,अ,ừ,⋅,Ф,ג,న,下,年,青,我,侯,女,ļ,ո,ం,夫,校,ű,城,長,院,ල,學,白,ี,Χ,რ,Ч,ಗ,士,ų,ស,ด,湖,十,限,์,Ж,歌,ɪ,گ,ೆ,龍,학,한,ল,ි,四,京,川,永,。,台,ಮ,通,ض,ِ,پ,ಸ,ḵ,È,氏,花,將,真,空,世,थ,њ,ữ,东,ّ,∧,信,帝,의,ˈ,―,陳,陽,ස,Ἀ,く,Ρ,ަ,ア,♯,Ż,市,ា,シ,ḷ,ǒ,צ,ত,ව,ค,≠,宗,心,յ,マ,成,義,ɔ,ო,区,不,事,名,龙,月,Ə,藤,ى,ি,ය,ự,乡,玉,ற,ා,り,地,清,立,ְ,ּ,リ,星,ു,ಂ,দ,ల,Ī,Η,ئ,ै,∨,侍,章,Υ,Ψ,ক,න,ვ,《,》,华,福,화,տ,羅,동,っ,集,∂,ャ,정,주,ŷ,ث,ண,ʃ,Х,़,ந,春,阿,ක,工,溪,Œ,য,ะ,ذ,ْ,‚,你,會,楊,流,교,প,ে,志,縣,آ,ロ,正,ლ,黄,尚,ಳ,使,友,ս,ւ,Ṭ,漢,Ô,ď,Ū,ہ,घ,ุ,‰,♦,フ,昭,業,郡,陵,사,љ,ः,方,장,う,史,て,衛,教,知,周,科,ത,క,～,Ш,স,ু,அ,പ,គ,し,¬,Э,ằ,ỗ,ド,建,英,կ,と,성,จ,刘,ാ,口,ृ,ല,ി,ẓ,た,ム,ە,♭,雄,香,나,き,ダ,朝,기,ḳ,六,해,ศ,ἐ,レ,代,吉,全,自,同,马,ര,ோ,ೇ,ಡ,ไ,ํ,մ,ெ,エ,港,Ř,ಯ,ද,ῖ,수,̂,̱,ִ,।,ὶ,₩,令,夏,少,無,論,인,ǂ,ך,ई,化,忠,ठ,მ,キ,男,第,記,な,ே,語,̓,ỉ,音,唐,ന,松,ʒ,民,阳,ద,八,국,상,̃,॥,ნ,ី,Ṣ,ể,カ,タ,博,尉,經,魏,￼,Ē,ĭ,ɑ,̀,״,ễ,Ọ,≡,后,朱,野,黃,조,©,ʊ,إ,უ,古,政,ಟ,度,沙,Ł,木,మ,ช,ន,ป,ା,മ,る,고,ӏ,⊕,⊗,九,兵,島,師,良,̊,ბ,⊆,崔,弘,愛,手,梁,스,신,ķ,ǁ,ɣ,̲,達,부,サ,ジ,治,竹,ར,千,形,航,か,こ,好,「,回,は,樂,ী,技,ේ,保,̧,ở,∴,威,彥,頭,원,\\xad,Я,ֶ,়,ప,ු,თ,ῦ,ウ,コ,仁,合,智,火,范,지,Ġ,ֵ,ூ,Ḫ,利,广,胡,伊,ʕ,ಪ,ම,ས,」,昌,色,坪,↵,谷,แ,长,ព,୍,വ,分,Ò,ģ,త,ู,ṯ,デ,何,奇,定,洲,郭,선,̈,Ј,ђ,સ,ข,ẹ,ὐ,↦,∅,∼,ビ,在,紀,虎,鄭,김,미,ء,ਾ,ẩ,仙,君,团,宋,宮,思,景,物,百,省,아,వ,吳,堂,式,族,曲,育,重,મ,プ,ә,み,ங,パ,者,特,陈,桥,あ,ھ,গ,ོ,牛,Õ,ਸ,ත,\\u200d,多,慶,机,萬,角,÷,ї,ڠ,ન,స,ẫ,お,嘉,申,興,문,Ю,ު,उ,ো,ક,ે,ẻ,⊂,♠,♥,チ,孫,宣,梅,玄,里,로,어,회,ɨ,ौ,ἰ,連,제,하,Ά,छ,โ,ὀ,津,͡,丁,〜,時,←,袁,万,蔡,ម,张,ಹ,ក,も,能,力,府,ُ,ภ,ត,ュ,蘇,Ա,ք,に,爱,童,鬼,Ý,ǃ,چ,ਰ,ொ,ῶ,‒,∇,内,康,情,沈,洪,程,陸,騎,마,ދ,ਿ,ೊ,ນ,ὰ,ὸ,↑,√,作,夷,廣,拳,斯,来,秋,顧,風,시,ĕ,ނ,ം,დ,‖,̍,刀,延,군,라,ழ,す,球,ި,ธ,界,直,ち,伯,內,土,ま,ँ,চ,ஆ,ಬ,さ,館,հ,ֿ,ే,じ,よ,ナ,孝,泉,遠,ɲ,ʁ,̣,̨,ղ,ٹ,િ,Ḳ,云,典,命,喜,容,寺,從,柳,源,觀,解,話,车,飞,요,̤,շ,າ,ハ,交,夜,徐,戦,盧,秦,趙,공,구,다,도,양,호,،,ް,ધ,વ,ප,テ,ニ,ブ,修,克,宇,早,禮,오,포,☆,オ,相,祖,臺,ェ,也,体,基,株,貞,ֹ,ာ,で,れ,މ,გ,ら,出,ゃ,左,右,承,進,以,双,祝,ോ,េ,గ,യ,ใ,を,ރ,ズ,ヒ,造,ಶ,ீ,ಣ,ァ,ョ,乐,如,拔,溱,ळ,ẽ,ィ,呂,嗣,字,峰,师,應,是,親,보,영,일,¶,Ì,ާ,ઠ,ି,∠,♣,え,傳,園,希,彩,朗,爾,산,ĉ,फ,丸,兒,客,察,屋,术,米,藏,要,銀,진,Հ,އ,झ,ῆ,今,桂,段,母,电,賀,门,ญ,ฟ,ວ,ང,亭,先,号,異,簡,足,首,그,서,중,セ,寶,機,ិ,හ,老,葉,ង,ถ,列,後,許,言,入,湾,岩,红,塔,洋,ೂ,ហ,等,ର,謝,ञ,య,ూ,ಧ,ಭ,が,ミ,版,ޫ,ట,ദ,സ,\\u200c,局,町,蓮,送,齊,가,삼,Ђ,І,ў,պ,બ,ર,ಇ,ག,ប,ḗ,₣,ノ,丘,丹,創,场,室,开,感,慕,才,普,榮,波,泰,用,略,罗,若,藝,見,鐵,雷,靈,韓,魔,니,연,자,천,ө,ـ,ਗ,ତ,ษ,လ,ქ,ც,ḱ,ἔ,井,俊,勢,妙,崇,摩,曹,杜,然,翼,赤,辛,铁,黑,현,ऊ,శ,း,ご,佛,商,守,敏,樹,關,鳳,জ,້,ད,္,前,圖,意,次,習,勝,房,目,半,儿,潘,編,ନ,ങ,േ,Ἰ,吏,視,վ,எ,అ,ള,െ,ល,វ,だ,廖,放,紅,霸,\\x92,ɬ,Ս,բ,२,ஜ,ಅ,ೀ,ტ,ἄ,‹,↔,任,來,奉,季,居,振,条,浦,祥,終,聖,芳,車,雅,雲,면,우,Ê,ċ,ʉ,̌,ү,լ,ڤ,ए,३,ભ,ං,མ,ᑦ,ុ,ỷ,ἴ,ὁ,‛,›,∘,◌,业,久,儀,共,再,制,團,壁,妃,娘,官,幹,所,打,无,楚,極,殿,氣,班,理,盛,翁,草,賈,錄,間,電,震,랑,민,박,복,에,을,ׁ,ො,ទ,伝,佳,务,动,場,宫,将,敬,灣,燕,竺,聯,議,越,鱼,비,임,Ņ,இ,ろ,了,念,画,赵,ˁ,્,ေ,អ,補,Ζ,∑,到,他,យ,衣,外,督,於,干,亚,杨,池,宜,ເ,ഷ,କ,ସ,ច,Ἐ,唱,戰,ŝ,գ,ื,ワ,尔,御,提,瑞,術,郑,ȝ,ɕ,আ,ষ,ਮ,ੇ,ମ,ో,ජ,ผ,ὑ,∆,吾,型,委,姜,巴,留,私,符,裡,鄧,风,飯,명,모,Ð,ĝ,Ğ,ɳ,ʈ,ʌ,̪,ں,इ,ओ,ॆ,ও,ો,අ,ณ,ົ,ེ,ხ,Ḵ,ặ,⇒,─,□,▪,☃,々,ツ,バ,七,亮,仔,倉,冠,助,县,园,坂,坊,報,壹,姚,孔,射,崎,己,强,拓,招,最,未,桃,森,為,獎,甫,益,秀,管,節,約,羽,詩,諸,謙,貴,追,阮,雨,非,駅,ꜣ,경,관,내,드,무,버,석,여,역,철,터,티,Ő,ƕ,̆,қ,ظ,ފ,ৰ,਼,ં,દ,ஞ,ె,ಚ,ട,ർ,ග,བ,ყ,ჯ,ṟ,Ἑ,け,余,動,區,可,宏,易,浙,炎,烈,犬,穆,精,純,統,艺,豊,運,選,鄉,開,靖,안,창,홍,ൂ,ສ,モ,速,酒,ލ,ძ,ソ,円,討,飛,ɦ,想,め,ැ,船,横,麻,诚,舞,其,指,又,︎,潭,彭,渡,洞,厂,钟,భ,ฒ,廟,ച,ണ,బ,ུ,ガ,站,ན,ṉ,夢,등,ؤ,উ,ਪ,ഗ,ボ,休,军,卫,宅,彼,禅,辞,鎮,간,토,ќ,ը,হ,ḻ,ひ,協,哈,單,寧,屈,広,強,曾,苻,荊,落,表,防,馮,류,왕,음,Ù,Ď,į,Ķ,Ư,ɯ,ϊ,є,ѣ,Բ,է,թ,խ,ף,ץ,ܐ,ড,থ,ਹ,ੀ,ବ,உ,റ,ට,ී,ෝ,ະ,ზ,ᐦ,ជ,ូ,Ḍ,ṁ,Ṇ,ṓ,ỏ,ὄ,ὲ,\\u202d,※,∗,∪,≅,⊥,⎯,│,█,◦,『,』,ふ,メ,义,亞,位,偉,備,僕,判,剛,剣,功,卓,叻,員,坎,头,契,奖,孙,宝,宿,封,尼,屆,岳,布,幾,座,庭,彦,彪,律,恩,恭,惠,晉,曼,望,格,桓,械,活,浩,湘,溫,澄,濟,灵,狼,盟,範,紹,统,耶,臣,與,莊,葛,蒙,蘭,裕,记,谢,隆,雙,雜,雪,靜,魂,鹿,黎,노,는,독,두,릉,만,말,백,법,육,은,전,절,준,파,혜,Ă,Й,ң,ց,జ,ຫ,ຸ,င,\\u202c,器,尾,征,甘,登,而,説,际,鶴,齋,소,դ,অ,ῑ,樊,甲,纪,貓,Կ,ܬ,ੰ,฿,于,爺,董,奈,襄,់,グ,映,反,็,戲,婦,幸,陰,秘,得,揮,佐,/,腹,毛,吴,鸭,ធ,枚,醫,輯,ഹ,熱,組,ծ,ڑ,ଂ,ಷ,Ẕ,ẖ,ὔ,演,病,经,聞,駒,물,ީ,ढ,ੁ,ማ,ḏ,ペ,初,包,匡,店,引,持,歩,油,沼,由,蔵,邦,體,당,생,행,ĥ,ǀ,₵,奕,實,岭,急,泥,琵,說,运,鄂,韋,발,승,\\x81,Ɛ,ȟ,ʹ,̥,Ѣ,ے,ސ,ङ,ਨ,ડ,ଡ,ଣ,ଳ,ಜ,ඛ,බ,ซ,๒,შ,ት,ነ,ἱ,ἶ,ὴ,‟,₦,↓,∫,ⴳ,ぇ,ね,゚,ギ,ネ,专,丞,仇,介,健,儒,兄,冰,勤,协,卿,发,吹,味,咸,哀,品,哉,埠,培,壇,変,妈,姬,婆,寓,寿,就,展,崗,幕,庄,庫,廚,影,徽,憲,戎,戶,播,敦,旗,期,根,條,楼,毘,汝,沮,洛,渠,烏,片,狂,現,睡,矢,礁,穀,究,突,競,粉,級,経,絳,綜,総,續,级,翰,耀,職,肉,臨,节,茂,荒,菜,著,蒲,裴,試,警,譯,论,象,赛,身,逸,邊,邨,郷,醒,隊,随,難,面,韜,顯,顺,餘,黒,鼓,개,검,길,남,너,단,반,배,봉,씨,예,옥,족,종,타,통,평,표,후,Έ,ғ,Қ,Մ,ռ,ਬ,ਲ,ુ,ஐ,ණ,ບ,ᒃ,ḇ,Ẓ,ἡ,₧,ず,ケ,与,丰,丿,乌,仲,传,呼,哲,奎,妹,宁,寄,彰,扶,斉,杰,構,橋,歸,殷,沁,深,牌,琶,瓦,组,萊,蕭,詞,諫,辰,遊,鐘,雍,霍,鮮,루,애,Ξ,Ы,Ӏ,ވ,ধ,ਦ,ੋ,ੱ,つ,別,塘,婷,杉,湯,着,研,翔,調,语,迦,順,ູ,ფ,ὕ,ⵔ,暗,碰,號,ీ,ု,去,完,邵,參,သ,声,番,起,食,切,錦,則,籍,仕,善,狮,沟,关,柏,肖,ྲ,ះ,導,眼,ལ,హ,專,恆,控,근,歡,ٌ,ಆ,滿,북,ތ,ణ,ష,അ,ബ,ූ,ཁ,კ,ឹ,ᾶ,仰,伽,剧,加,夕,悦,滋,熙,製,迪,尊,沒,위,Ã,ĺ,˥,ֲ,ײ,ॉ,ੂ,ୀ,ೋ,ධ,პ,ᑖ,Ḏ,Ỳ,仓,俱,傅,優,刑,副,叔,塞,奚,姐,孟,廷,改,朋,果,柯,柴,欽,步,汪,済,湛,漳,玛,瑶,畫,發,聲,葫,螺,詹,誠,词,遇,邱,郵,釋,鎭,閑,静,髮,魯,게,본,얼,짜,최,\\x94,\\x97,¤,ĵ,Ļ,Ŝ,Ź,ǘ,ǚ,ǣ,ɗ,ɫ,ˆ,̯,͟,Ό,Ћ,ґ,Շ,զ,չ,փ,ޑ,०,१,४,ট,ৌ,ਖ,હ,ପ,ୁ,ஒ,ఖ,ඩ,ෂ,ළ,ฏ,ຈ,ດ,ພ,ັ,ྡ,်,წ,ᄌ,ሐ,ም,ር,ገ,ᑲ,ᒥ,ᓄ,ᓇ,ᔅ,ោ,Ṛ,Ἄ,ῳ,ῷ,℧,∩,≃,≫,⌘,☳,♪,ⴰ,ⵉ,ヴ,丈,丽,伍,便,個,倚,倫,傑,养,冶,劇,劍,医,升,午,嚴,固,圣,坑,处,奔,奶,孩,密,屏,岑,帖,幻,弟,弥,彬,戊,戸,护,报,措,揚,晏,晶,杯,楠,榜,樓,殺,毅,比,浪,淮,淵,温,湊,満,漂,潮,焼,照,營,猛,琴,瑤,産,監,盤,眞,瞳,砲,示,祭,禧,禺,竜,笙,系,素,絕,絵,纳,胤,舉,舒,芝,苏,苑,茶,荣,萧,薛,视,講,说,谁,豐,豪,貢,貫,賞,賢,質,超,輝,輪,达,过,邁,邑,邢,那,銅,钱,队,阪,鞭,頤,養,驃,魄,鲜,鳥,鳴,麗,거,과,권,금,녀,놈,더,돌,들,래,룹,범,불,블,새,손,술,식,실,업,와,운,유,입,점,직,채,크,트,함,흥,희,🇺,ǧ,̅,͘,ಥ,ᔨ,乾,兴,兼,垣,实,寛,尹,常,庆,徒,復,循,沖,琦,箭,菊,萨,蘄,需,霖,霞,鹰,뚱,세,혼,ǝ,ɓ,ˌ,Џ,Щ,џ,ұ,ӯ,Տ,ॊ,ই,ਤ,ੜ,ຂ,ມ,ደ,ᐊ,ᑎ,ᕕ,\\u2060,び,ょ,ォ,ベ,両,兆,农,勇,勒,均,堅,壽,姊,存,富,屠,廉,徳,怡,恒,慈,染,濱,珠,碼,祠,策,考,肅,蛇,裁,覚,訓,资,鍾,鑒,陶,離,頼,饒,립,병,익,재,프,환,황,Գ,ܢ,ެ,খ,শ,ણ,લ,ధ,ງ,ຊ,ི,ထ,န,မ,ᒫ,ណ,ំ,ゆ,ゴ,享,凤,库,快,施,昇,気,汉,炮,瑜,羌,联,芬,虞,讓,贵,述,零,始,ܦ,શ,Ῥ,ⴻ,実,远,隧,ી,ෙ,ྱ,ဆ,ရ,ိ,ံ,へ,ポ,忍,愿,杠,ܸ,撃,県,时,刺,浜,注,至,領,僧,曰,欲,鄰,覺,充,致,豹,故,域,两,失,档,贡,峪,兰,羊,邓,ញ,閻,ഞ,ど,属,維,ൊ,妻,脉,림,已,Љ,ջ,օ,ޮ,ଗ,ృ,ฎ,ฑ,៍,住,别,哥,救,更,枕,犍,狗,股,訊,譚,阜,급,렛,친,팩,휴,增,鎖,顾,ʡ,һ,Ո,ګ,ۇ,ଓ,చ,භ,๊,ჟ,ღ,ほ,向,坨,塚,幼,录,拉,昧,曇,案,植,橫,沢,笔,筑,細,給,線,莲,虚,蜀,評,训,輔,閉,韻,顔,데,심,ɐ,˨,અ,ജ,Ꮳ,ẋ,ἑ,₪,Ⱪ,乖,佟,劳,厉,叶,哪,喬,団,圍,壯,奥,媚,巾,廓,彌,忘,抛,昂,梨,歐,止,毗,浣,淳,瀬,猴,珪,种,糍,聶,聽,莫,護,財,辯,郝,階,項,饃,鼎,ꝏ,달,디,밤,슬,\\x85,Ë,Ĝ,Ĵ,Ŏ,Ŭ,Ǵ,ȳ,ɒ,ɟ,ɸ,ɻ,ɾ,ʍ,ˀ,ˊ,˧,ͣ,ͥ,ͦ,Є,ҙ,Ӗ,ӗ,ӣ,Ӯ,ԝ,Ե,Վ,ձ,׳,؟,ڈ,ژ,ښ,ڬ,ۆ,ێ,ܘ,ܪ,ހ,ބ,ঁ,ং,এ,ছ,ঞ,ূ,ਉ,ਕ,ਟ,ਠ,ਫ,ટ,ଦ,ୋ,డ,ಎ,ಫ,೧,ൻ,ൽ,ඇ,උ,ປ,ཀ,པ,ཕ,ཞ,ཨ,ྗ,ླ,က,ည,ჲ,ሕ,ሥ,ረ,ወ,Ꭵ,ᐅ,ᐟ,ᐤ,ᑕ,ᒡ,ᒪ,ᓯ,ᕗ,ᘔ,ដ,ើ,ៃ,២,ṫ,ṱ,ṳ,Ứ,ἕ,Ἔ,ἷ,ὅ,Ὀ,ὖ,ὼ,ῡ,₡,₴,∖,∝,∶,≔,≪,⋈,⌜,⌝,└,┘,◄,◆,☵,☶,♩,❧,ⱪ,ⲁ,ⲃ,⸮,〈,〉,【,】,ざ,そ,ば,や,ヘ,ユ,ヨ,个,临,么,乱,亀,亨,亲,件,伤,侃,俣,候,倩,停,儂,儼,党,冉,冷,刚,创,劃,办,勃,務,勳,匠,单,印,卻,厦,取,句,吐,否,含,听,啡,図,围,圓,坦,塾,墓,増,壺,夔,央,奏,奭,姉,姓,媛,媯,嬪,孤,尸,屁,岗,岛,岡,岱,岸,峨,嵘,嵩,嵬,嶺,巧,巨,巫,差,帥,幡,幽,庵,庸,庾,廈,弓,弗,弦,弱,当,役,徹,怕,恕,悟,患,悼,愼,慧,懇,懌,懷,懿,战,批,投,抱,掖,摂,摸,敖,散,整,斗,料,斬,斷,旻,晟,暦,曽,材,板,架,柑,查,栃,栗,桑,梓,梵,棋,槃,槍,様,標,檀,歷,汤,汴,況,洺,浓,浚,涼,渥,渾,準,满,潔,澳,煲,熟,爛,父,爽,牙,猫,獄,獅,獨,獻,率,玫,瑛,甄,甜,発,皎,皓,皮,看,砂,破,碌,碩,祿,禍,禰,秉,稚,稞,稷,稿,端,篌,籺,糧,紋,紫,紮,絲,網,緣,織,繪,繼,线,绍,缘,网,置,罰,署,翎,翠,膺,臧,舟,艮,苞,苦,荆,荼,菲,蓀,蓉,蓝,蔣,藩,處,蛤,蜼,融,衍,装,见,规,計,訪,誥,设,话,買,賓,賦,贊,躲,転,載,輿,轉,辻,迎,近,迹,逊,途,這,遙,遼,酉,酱,量,鈴,鉄,錢,鎌,鏡,锅,闊,陀,附,隱,革,韶,響,頑,饭,馆,駄,駙,騰,驰,驳,验,鬱,鷄,麟,麦,默,龔,Ꚑ,ꚑ,감,겸,곡,골,굴,규,글,긴,께,네,든,락,려,력,르,머,먼,밥,방,밭,번,분,브,빈,숙,숭,쌀,앙,야,억,용,움,월,윤,잡,증,짓,처,청,츠,치,커,코,탄,탕,판,퍼,편,항,향,힌,\\uf0d8,𐓟,𐬌,𐬙,🇸,𠔻,\\x93,ƿ,Ё,ହ,ጉ,ᑐ,Ḡ,ῥ,ゾ,什,倭,叡,图,垂,姑,寒,庠,怒,恪,扎,折,晃,服,柱,桐,桜,權,浮,涇,渭,熊,牧,琳,禹,箜,綱,蜑,衞,譜,许,赫,辭,農,鄀,醉,闇,靡,頻,鹽,계,뽐,카,효,Ĉ,ȅ,ɡ,ʤ,̇,Ғ,ܡ,ৈ,ਧ,જ,ત,પ,ય,ఘ,ಒ,ശ,ൃ,ຕ,ອ,ຽ,ዝ,ᐧ,ᑯ,ᚢ,ᛊ,ភ,Ἁ,Ὄ,ῐ,ⵙ,ゥ,ザ,乙,例,凰,吃,咖,喻,墨,売,她,导,帶,总,恨,暨,櫃,欖,气,汀,求,派,混,爵,牟,磨,舍,菩,营,薇,誌,豆,闘,際,霄,頃,까,막,쇼,언,엔,체,초,했,헌,협,형,𐊀,𐓻,Խ,Փ,ٍ,丙,伟,冯,囚,眉,綵,隴,설,혁,ҭ,ܝ,ܫ,ܲ,ކ,ގ,ঊ,ণ,ভ,ਭ,ਵ,ఉ,ై,ယ,៉,័,ἵ,ゼ,ヤ,乎,刻,因,戈,拍,授,杭,潟,狸,织,罪,脚,談,鑫,願,鸡,솔,𐊗,𐓘,𐬀,杂,疆,ʏ,ஷ,ආ,ີ,ແ,受,ܗ,ഴ,ဗ,識,讀,騒,蟹,ឿ,们,援,泊,襲,旨,矯,請,避,悅,召,剖,鸽,弯,苍,坡,铺,淫,ཤ,ྤ,付,拯,檢,畜,疫,雖,Է,Ջ,ޠ,ଞ,ಠ,ീ,ິ,ぞ,书,努,匱,告,困,埃,尤,怖,恐,拜,旭,监,离,稀,类,舶,艾,菱,遂,ϋ,ݴ,ޔ,ফ,ફ,ଜ,ஊ,ఒ,ᐻ,ὤ,ⵜ,ぱ,勁,勘,営,垢,堀,峇,峯,慰,旧,昊,框,棘,椰,檻,沪,淑,烂,票,紙,綠,练,职,胆,胞,膽,袍,該,誤,邪,鉅,鑼,难,額,鲁,鵬,鸯,鸳,鹏,點,鼠,Ꞌ,같,겠,껴,뚫,롯,색,센,짐,캬,합,Ė,Ǣ,Ѓ,৳,ን,ጌ,Ḗ,ṹ,ỡ,▲,ⴱ,ⴽ,ㄇ,丢,傩,傷,儺,冬,刈,卞,咄,咽,塗,奢,廳,归,拿,捞,斑,曙,替,桔,椿,櫓,毒,氐,滸,潜,濬,煬,犛,瑪,砚,粵,耿,茅,莒,蕪,蕲,薄,裵,裹,褚,譙,込,邻,键,霆,駿,魚,鳩,뉴,륜,망,뿌,없,열,옹,윙,핫,Ɗ,\\x89,\\x91,\\x9d,¦,Ï,Û,Ą,Ċ,Ĕ,Ĭ,Ň,Ŋ,ŕ,ŗ,Ť,ŧ,Ɲ,Ɵ,Ƨ,ƭ,Ʒ,ǜ,Ǧ,Ǫ,ǭ,ǰ,ǵ,Ƿ,ǽ,ȁ,ȇ,ȍ,ȏ,ȗ,Ȝ,ɘ,ɭ,ɽ,ʂ,ʋ,ʘ,˩,̋,̕,̜,̞,̡,̩,̶,͜,ͤ,ͧ,ΐ,ϛ,Ϝ,ϯ,Ї,Ѝ,Ў,Ь,ѓ,Ѡ,Ѧ,Ѯ,Ѱ,ѻ,Ґ,ҟ,ҧ,ҷ,ҽ,ӈ,Ә,ӧ,Զ,Թ,Ի,Ղ,Չ,Ռ,Ք,ժ,ճ,֏,֦,ֽ,ׂ,׃,װ,ؒ,؛,ً,ٔ,ٗ,١,٢,٣,٥,ٰ,ٱ,ٻ,ڀ,ڕ,ڼ,ܕ,ܠ,ܩ,݂,ݜ,ݢ,ݨ,ށ,ޅ,ޏ,ޖ,ޱ,ߏ,ߒ,ߞ,ऐ,औ,ऽ,ॅ,ঃ,ঋ,ঘ,ঝ,ঠ,ৃ,৩,ৱ,ਅ,ਆ,ਓ,ਚ,ਜ,ਝ,ਣ,ੈ,੍,ੲ,આ,ઇ,ખ,ગ,ચ,છ,ઢ,થ,ળ,ષ,ଅ,ଆ,ଇ,ଘ,ଚ,ଟ,ଫ,ଲ,ଶ,ଷ,଼,େ,ୈ,ஓ,ஶ,ஸ,ஹ,ௌ,ః,ఆ,ఇ,ఈ,ొ,ౕ,ಈ,ಓ,ೈ,೩,ആ,ഏ,ഖ,ഠ,ഥ,ധ,ൾ,ඹ,ශ,ෛ,ฃ,ฐ,ฺ,๕,ຍ,ຮ,ໃ,່,།,ཆ,ཇ,ཛ,འ,ྟ,ྦ,ྩ,ခ,တ,ဖ,ီ,ျ,ွ,ჩ,ᄀ,ᄃ,ᄅ,ᄇ,ᄍ,ᄎ,ለ,ል,ሠ,ራ,ቀ,ብ,ተ,ች,ኀ,ና,ኛ,አ,ኣ,ኪ,ዌ,ዓ,ዛ,ያ,ይ,ዳ,ዶ,ጣ,ጮ,ፉ,ፍ,ፎ,Ꭹ,Ꮃ,Ꮭ,ᐄ,ᐺ,ᑑ,ᑭ,ᑰ,ᒄ,ᒋ,ᒦ,ᒶ,ᒷ,ᒻ,ᒼ,ᓈ,ᕓ,ᕙ,ᕝ,ᕞ,ᕠ,ᕤ,ᕦ,ᕪ,ᖅ,ឋ,ផ,ឧ,ៀ,៊,។,០,១,៤,ᱹ,ᲈ,ᵵ,ᵹ,ḣ,ḿ,Ṅ,ṍ,ṙ,ṝ,Ṡ,ṵ,ẏ,ẞ,Ạ,Ấ,ẳ,Ẹ,Ủ,ỵ,ἢ,Ἡ,Ἱ,Ἴ,ὃ,Ὁ,ὠ,ὡ,⁙,℗,℘,℞,↗,↚,⇔,⇪,∃,∉,≝,≮,≯,⊇,⊊,⊔,⊠,⊢,⊦,⋀,⌊,⌋,⎋,⑆,┌,┐,├,■,▣,▶,◇,◊,☂,☒,☔,☮,☲,☴,☷,♀,♂,♐,♮,♰,✈,✘,✸,❤,➢,⨁,⩾,⬅,⬇,Ⲁ,Ⲡ,ⲩ,ⴼ,ⵍ,ⵏ,ⵓ,ⵡ,ぎ,ぐ,げ,せ,ぢ,ぶ,ぷ,ぼ,ゅ,ゲ,ヌ,ピ,ホ,ヶ,ㄎ,ㇱ,ㇲ,ㇷ,㝏,㷁,䨻,䵋,丐,丑,串,乔,习,乳,乸,亁,亂,亜,亡,产,仑,仝,仮,份,仿,伏,伙,伸,似,佃,但,低,佑,佩,佬,侠,侨,俄,俎,俔,俨,俳,們,债,倾,偏,偷,傀,傒,傣,僉,像,僑,僜,僰,儁,億,償,儡,允,兌,兑,兮,具,兹,冀,冕,冫,决,净,准,凉,凖,凡,凯,凶,函,刮,剥,剩,割,勋,勍,勐,勣,勾,卍,卐,単,卜,占,卡,卢,卦,危,厚,厲,叟,叠,叢,叩,各,吊,吒,吧,呵,咀,哇,哨,哼,唄,唅,唛,啓,啘,啦,喆,喈,喉,喼,嗑,嗚,嘆,嘔,嘘,嘯,嘴,嘶,嘻,噬,囍,囲,圭,圳,坐,坛,坤,垍,垦,埋,堆,堡,堤,堪,堰,塡,境,墙,壆,壶,壼,复,夤,奘,妆,妏,姆,姿,娄,娜,娱,婴,媱,嫁,嫂,嬖,嬗,嬴,孃,孑,宥,宪,宰,害,宴,宸,宽,宾,寅,寢,寨,寬,寮,寵,寸,対,對,尙,尽,層,履,屬,屯,峠,峭,嵯,嶼,巖,巡,巢,巳,巷,巻,巽,币,帆,帕,帘,帯,帳,床,序,应,底,庚,廊,廋,廞,廠,廬,廻,廾,弁,弇,彗,彝,彧,往,待,很,従,微,徵,忌,応,忻,态,怎,怪,恬,恵,恺,悉,您,悩,惊,惡,愉,慎,憐,憬,懸,戀,戍,戚,戴,户,扁,扇,扉,払,扜,找,抄,抚,拗,拘,拱,拾,挥,挺,捕,捶,掃,接,掾,揆,換,揭,搖,摊,撒,撞,撰,擷,擾,攘,支,攸,攻,敌,敗,敞,敢,数,敵,敷,數,斌,斎,斐,斧,旋,旺,昆,昱,显,晁,晋,晓,晔,晚,晩,晴,暉,暊,暑,暴,曦,朏,朔,末,朴,杀,杲,杵,枓,枝,枫,枰,枹,柔,标,栖,核,梗,梢,梴,棍,棒,棟,棠,棧,棼,椪,楹,楽,槐,樋,樑,樟,模,橘,橙,欄,欢,欧,欸,欺,款,歇,歎,歙,此,歧,歲,死,殆,殊,殖,殛,毎,毓,毫,氕,氘,氚,氵,氾,汗,決,沃,沉,沌,沔,泳,泵,洁,洮,洼,浄,浅,济,涂,涉,涌,淚,淺,渊,渝,游,湜,溏,溥,滌,滎,滕,滙,滾,漁,漆,漕,漫,潁,潞,澤,澧,澨,澹,濤,瀑,灘,灭,灰,炉,炳,点,烤,热,焖,焱,煌,煒,煥,煩,熈,燉,燒,燚,燭,燮,爻,爿,牵,犭,狀,狄,狐,独,猢,猪,献,猶,猻,猿,獏,獞,獠,獸,玮,现,玲,珂,珍,珥,珩,琠,琢,琪,瑟,瑫,璋,璘,璜,璠,璡,璣,璩,璿,瓣,瓶,瓷,甸,畢,疒,疕,疢,疵,疾,痛,瘍,皋,皖,盐,盖,盘,盾,眇,眠,睛,瞱,瞿,短,矽,矿,碇,碑,碗,碧,磁,磯,礬,祈,祗,祜,祧,祺,禄,禛,禪,禽,秒,租,秤,稔,稱,穂,穎,穣,穴,窑,窮,窯,竖,竞,笑,笛,筆,答,筝,筲,箋,箕,箱,箸,篇,篤,簖,簠,籀,籌,粋,粤,粥,粹,糕,糰,糸,紗,紡,紧,累,結,絜,絢,綏,綿,緑,緒,緯,練,縄,縝,總,績,繆,繋,纂,纸,终,结,绝,绪,绿,罕,罽,羕,羣,群,翀,翊,耕,聚,聡,聪,肃,肆,肇,肘,胄,胐,脈,脩,脫,腥,腦,腾,膏,膠,膳,舊,般,艇,艦,艶,芦,芮,苾,茱,茹,荥,荪,荷,莘,菁,菖,萩,蒂,蒋,蒼,蓋,蔚,蔬,蔭,蔽,薔,薩,薫,薯,蘆,虐,虔,虛,虢,虫,虹,虻,虾,蛉,蛋,蛙,蛟,蛮,蜻,蝦,螭,蟲,蠟,血,衆,衜,衡,衢,袖,裏,裘,裝,裸,襦,覆,規,観,观,触,訂,訥,詡,詣,詧,誡,誰,諏,諭,謀,謎,證,譲,變,评,识,诈,诌,诗,诞,该,诺,调,谐,谣,谭,谿,貉,貘,負,貨,貪,賠,賣,賤,賴,購,贝,财,责,质,贫,费,贺,赞,赟,赦,走,趴,跃,跑,跟,跡,蹇,躍,軌,軟,輕,辉,辑,辦,辨,辽,迁,迅,这,迴,退,适,逃,逆,透,逐,逮,週,過,遐,遘,遞,遯,遵,邈,邗,邠,邽,鄙,鄚,鄱,鄴,配,酥,酺,醸,采,釜,鈔,鉤,銖,銘,銭,銳,鋏,鋼,錫,錯,鍔,鎛,鏊,鐸,鑁,钢,钮,铉,铜,铠,铭,银,错,锥,镉,镜,閔,関,閤,閨,閭,闓,闕,问,间,闵,闻,阙,阴,阵,陆,陛,陝,陞,隋,隗,隙,險,隹,隻,雀,雁,雛,雞,霊,霧,霫,露,靉,靚,鞏,鞮,韞,韩,韵,頂,須,頌,頓,顛,颇,颉,颗,飲,飼,餃,餌,饱,馕,馗,馥,駆,駕,駱,騫,騶,騷,驍,驗,驾,驿,骆,骊,骏,骢,骥,鬘,鬥,鬧,鬯,鬻,魅,魇,魈,鮨,鰐,鱉,鴨,鴻,鵝,鷲,鷹,鸇,鸞,鸦,鹃,鹤,麒,麥,麴,麵,麼,鼬,齐,龐,龜,Ꙉ,Ꙩ,ꙩ,Ꝛ,ꡂ,ꡊ,ꡎ,ꡙ,ꡛ,ꦗ,각,갈,강,건,걸,것,격,겹,겼,광,귀,극,깨,꼬,꽃,꿈,끝,낙,넷,녕,놀,늑,늘,늠,능,님,덕,돈,돼,둔,득,땀,뛰,뜨,란,랄,랭,럴,레,렬,령,록,룰,륵,를,름,맛,맥,맵,맺,먹,목,묘,묵,뭘,뮤,및,벌,베,볶,봄,뷰,빙,빨,빼,살,샷,섭,셋,셔,순,슴,쑥,쓰,암,온,왈,웅,워,율,있,잎,잔,저,적,접,좋,좌,죽,쥐,즈,즐,징,찢,차,찬,찰,참,찹,척,첨,촌,촛,출,취,캐,캣,케,켓,켰,콩,쿤,큰,태,테,톤,특,페,펙,풍,픔,피,핑,할,허,혹,훈,흑,흔,히,\\uf02d,\\uf0a7,\\uf0b7,﨑,️,𐆄,𐊕,𐍆,𐒻,𐓏,𐩶,𐬁,𐬆,𐬞,𐬭,𐬯,𑀅,𑀉,𑀫,𑄝,𑄳,𝄐,\\x82,Ʃ,ȵ,ҫ,Ҳ,ಏ,ᑌ,Ḷ,ὦ,Ὥ,₺,乘,仪,佺,倒,吟,啟,囂,圉,墟,宛,尺,崧,慢,握,旷,曜,棣,汁,滅,滑,滬,燧,瓜,畬,祐,祕,禎,秧,穗,簿,莼,萍,蚧,詔,読,豫,贾,赡,轩,逢,邴,郕,醇,鉾,鏞,钦,閬,阎,陣,陬,驟,骤,鹅,黁,黔,黝,렉,삐,컹,필,험,ƛ,Ί,Ӧ,ܓ,ܛ,ଯ,ஈ,ೌ,එ,ච,ථ,ື,ໄ,ጃ,ᐃ,ᕐ,ᛖ,ḡ,ṗ,ἠ,ἦ,∀,ぜ,依,兎,参,哒,壬,娛,婺,孜,峡,弾,彈,懐,扈,旃,晨,暮,束,椒,楓,樣,汙,污,汧,炒,烟,煮,爆,状,獣,瑰,碣,禨,禿,羯,聊,舜,虜,蜜,蟅,觉,詁,证,販,贯,辺,迫,遺,郞,鍊,鑑,锁,锷,陂,降,韦,鮑,결,런,룡,바,울,추,팥,픈,홈,𐊓,𐬧,ƞ,Җ,ҳ,Պ,ܣ,ޙ,ૃ,థ,എ,ກ,ຜ,ཐ,ྫ,ဌ,ဒ,ဓ,ဝ,ြ,ᓕ,ᖕ,ⲛ,ⲟ,ⲫ,ⵊ,ⵎ,ぬ,做,呉,唯,啤,嗎,弹,排,敎,朵,栋,環,療,絡,纬,背,胎,臭,茉,莉,认,閣,黨,𐬨,ฉ,ึ,ྒ,ဇ,態,當,衹,让,ឥ,靼,韃,踊,必,忽,ẵ,ỹ,乃,晢,潤,瑳,齒,●,Ḩ,\\\\,#,亦,懼,畏,皆,粲,索,諷'"
      ]
     },
     "execution_count": 45,
     "metadata": {},
     "output_type": "execute_result"
    }
   ],
   "source": [
    "charaters = \",\".join(toks[tokslen==1])\n",
    "#np.sum(toks=='a')\n",
    "charaters"
   ]
  },
  {
   "cell_type": "code",
   "execution_count": 46,
   "metadata": {},
   "outputs": [
    {
     "data": {
      "text/plain": [
       "[56, 299, 1700, 1]"
      ]
     },
     "execution_count": 46,
     "metadata": {},
     "output_type": "execute_result"
    }
   ],
   "source": [
    "spt.vocab().numericalize([\"a\",\"b\",\"ab\",\"xxbos\"])"
   ]
  },
  {
   "cell_type": "code",
   "execution_count": 47,
   "metadata": {},
   "outputs": [
    {
     "data": {
      "text/plain": [
       "'a b'"
      ]
     },
     "execution_count": 47,
     "metadata": {},
     "output_type": "execute_result"
    }
   ],
   "source": [
    "spt.vocab().textify([56,299])"
   ]
  },
  {
   "cell_type": "code",
   "execution_count": 48,
   "metadata": {},
   "outputs": [
    {
     "data": {
      "text/plain": [
       "array([32767], dtype=int16)"
      ]
     },
     "execution_count": 48,
     "metadata": {},
     "output_type": "execute_result"
    }
   ],
   "source": [
    "#np.asarray([65536],dtype=np.int16)\n",
    "np.asarray([65536/2-1],dtype=np.int16)"
   ]
  },
  {
   "cell_type": "code",
   "execution_count": 58,
   "metadata": {},
   "outputs": [],
   "source": [
    "text=\"Oak Creek, Colorado\\n\\n\\nOak Creek is a Statutory Town in Routt County, Colorado, United States. The population was 849 at the 2000 census. It was incorporated in 1907 as a coal mining town. The community was named for scrub oak near the original town site.\\nOak Creek is located at (40.275049, -106.957607).\"\n",
    "text=\"[[Russian Revolution (1917)|Russian Revolution|Russian Revolution]]]\"\n",
    "\n",
    "text=\"in the historical canon), are the anarchist territories during the [[Spanish Revolution of 1936|Spanish Revolution]] and \"+\\\n",
    "     \"the [[Free Territory]] during the [[Russian Revolution (1917)|Russian Revolution]].Through the efforts \"+\\\n",
    "     \"and influence of the [[Anarchism in Spain|Spanish anarchists]] during the Spanish ,詹,誠,词,遇,邱,郵,釋,鎭,閑,\"\n",
    "text=text+text\n",
    "#text=[\"\\nin the historical canon),\", \"\\nare the anarchist territories during the \\n[[Spanish Revolution of 1936|Spanish Revolution]] and \",\n",
    "#      \"the [[Free Territory]] during the [[Russian Revolution (1917)|Russian Revolution]].\\nThrough the efforts \",\"and influence of the [[Anarchism in Spain|Spanish anarchists]] during the Spanish\\n\\n\\n\"]"
   ]
  },
  {
   "cell_type": "code",
   "execution_count": 59,
   "metadata": {},
   "outputs": [
    {
     "name": "stdout",
     "output_type": "stream",
     "text": [
      "in the historical canon), are the anarchist territories during the [[Spanish Revolution of 1936|Spanish Revolution]] and the [[Free Territory]] during the [[Russian Revolution (1917)|Russian Revolution]].Through the efforts and influence of the [[Anarchism in Spain|Spanish anarchists]] during the Spanish ,詹,誠,词,遇,邱,郵,釋,鎭,閑,in the historical canon), are the anarchist territories during the [[Spanish Revolution of 1936|Spanish Revolution]] and the [[Free Territory]] during the [[Russian Revolution (1917)|Russian Revolution]].Through the efforts and influence of the [[Anarchism in Spain|Spanish anarchists]] during the Spanish ,詹,誠,词,遇,邱,郵,釋,鎭,閑,\n",
      "------------\n",
      "in the historical canon), are the anarchist territories during the [[Spanish Revolution of 1936|Spanish Revolution]] and the [[Free Territory]] during the [[Russian Revolution (1917)|Russian Revolution]].Through the efforts and influence of the [[Anarchism in Spain|Spanish anarchists]] during the Spanish ,,,,,,,,,,in the historical canon), are the anarchist territories during the [[Spanish Revolution of 1936|Spanish Revolution]] and the [[Free Territory]] during the [[Russian Revolution (1917)|Russian Revolution]].Through the efforts and influence of the [[Anarchism in Spain|Spanish anarchists]] during the Spanish ,,,,,,,,,,\n",
      "------------\n"
     ]
    }
   ],
   "source": [
    "#import fastai_sentencepiece\n",
    "\n",
    "def extract_link_title(t:str) -> str:\n",
    "    return re.sub('\\[\\[([^\\]^|\\[:]+)|([^\\]\\[:]+)\\]\\]', '\\g<1>', t).replace(']]','')\n",
    "    #return re.sub('\\[\\[(?:([^\\]\\[:]+))|([^\\]\\[:]+)\\]\\]', '\\g<1>', t).replace('[','')\n",
    "    #return re.sub('\\[\\[(?:([^\\]\\[:]+))|([^\\]\\[:]+)\\]\\]', '\\g<1>', t)\n",
    "def remove_first_empty_lines(t:str) -> str:\n",
    "    return re.sub('^\\n', '', t)\n",
    "\n",
    "def keep_western(t:str) -> str:\n",
    "    return ''.join(re.findall('([A-Za-z\\d_ -/:-@\\[-`{-~])',t))\n",
    "    #return  re.sub('\\', '', t)\n",
    "                   \n",
    "#\\p{IsLatin}|[! -/:-@\\[-`{-~]|[0-9]\n",
    "                         \n",
    "print(text)\n",
    "print(\"------------\") \n",
    "#for i,t in enumerate(text):\n",
    "#    print(extract_link_title(t))\n",
    "#    print(remove_first_empty_lines(t))\n",
    "#%timeit re.sub('\\[\\[([^\\]^|\\[:]+)|([^\\]\\[:]+)\\]\\]', '\\g<1>', text)\n",
    "print(keep_western(text))\n",
    "print(\"------------\")\n",
    "\n"
   ]
  },
  {
   "cell_type": "code",
   "execution_count": 44,
   "metadata": {},
   "outputs": [
    {
     "data": {
      "text/plain": [
       "12"
      ]
     },
     "execution_count": 44,
     "metadata": {},
     "output_type": "execute_result"
    }
   ],
   "source": [
    "defaults.cpus"
   ]
  },
  {
   "cell_type": "code",
   "execution_count": 12,
   "metadata": {},
   "outputs": [],
   "source": [
    "lang     = \"en\"\n",
    "pathData = Path(\"../nlp-data\")\n",
    "path     = pathData / lang\n",
    "pToks    = path/\"wiki-train_valid\"/\"toks\"\n"
   ]
  },
  {
   "cell_type": "code",
   "execution_count": null,
   "metadata": {},
   "outputs": [],
   "source": [
    "import re\n",
    "#p = re.compile('([\\r\\n]+.?)+', r'\\r\\n')\n",
    "p = re.compile(\"[\\r\\n]+.?\")\n",
    "txt = \" 1\\n\\n\\n\\n\\n\"\n",
    "p.sub(\"\\n\",txt)"
   ]
  },
  {
   "cell_type": "code",
   "execution_count": null,
   "metadata": {},
   "outputs": [],
   "source": [
    "imax = int(1e8)\n",
    "def tuppel():\n",
    "    for i in range(imax): \n",
    "        r = (i,i+1)\n",
    "        l = r[1]-r[0]\n",
    "%timeit tuppel()    "
   ]
  },
  {
   "cell_type": "code",
   "execution_count": null,
   "metadata": {},
   "outputs": [],
   "source": [
    "def simpleParams():\n",
    "    for i in range(imax): \n",
    "        r0 = i\n",
    "        r1 = i+1\n",
    "        l  = r1-r0\n",
    "%timeit simpleParams()        "
   ]
  },
  {
   "cell_type": "code",
   "execution_count": null,
   "metadata": {},
   "outputs": [],
   "source": [
    "lang     = \"en\"\n",
    "pathData = Path(\"../nlp-data\")\n",
    "path     = pathData / lang\n",
    "pTrain   = path/\"wiki-train_valid\"/\"toks\"/\"train\"\n",
    "\n",
    "def loadAll(pTrain):\n",
    "    for p in pTrain.glob(\"*.npy\"):\n",
    "        with p.open(\"rb\") as f:\n",
    "            np.load(f)\n",
    "%time loadAll(pTrain)\n",
    "#s=None\n",
    "gc.collect()"
   ]
  },
  {
   "cell_type": "code",
   "execution_count": null,
   "metadata": {},
   "outputs": [],
   "source": [
    "np.load??"
   ]
  },
  {
   "cell_type": "code",
   "execution_count": null,
   "metadata": {},
   "outputs": [],
   "source": [
    "?np.load"
   ]
  },
  {
   "cell_type": "code",
   "execution_count": null,
   "metadata": {},
   "outputs": [],
   "source": [
    "%%timeit\n",
    "lang     = \"en\"\n",
    "pathData = Path(\"../nlp-data\")\n",
    "path     = pathData / lang\n",
    "p        = path/\"wiki-train_valid\"/\"toks\"/\"train\"/\"0-ids.npy\"\n",
    "    \n",
    "a=None\n",
    "gc.collect()"
   ]
  },
  {
   "cell_type": "code",
   "execution_count": null,
   "metadata": {},
   "outputs": [],
   "source": [
    "            import tracemalloc\n",
    "            tracemalloc.start()\n",
    "            snapshot1 = tracemalloc.take_snapshot()\n",
    "\n",
    "            -----your interesting code\n",
    "            \n",
    "            snapshot2 = tracemalloc.take_snapshot()\n",
    "            top_stats = snapshot2.compare_to(snapshot1, 'lineno')\n",
    "            print(f\"Top 10 of {len(top_stats)}\")\n",
    "            for stat in top_stats[:10]: print(stat)\n",
    "          "
   ]
  },
  {
   "cell_type": "code",
   "execution_count": null,
   "metadata": {},
   "outputs": [],
   "source": [
    "data = buffer[:bs*3].reshape(bs,3)"
   ]
  },
  {
   "cell_type": "code",
   "execution_count": null,
   "metadata": {},
   "outputs": [],
   "source": [
    "-1%9"
   ]
  },
  {
   "cell_type": "code",
   "execution_count": null,
   "metadata": {},
   "outputs": [],
   "source": [
    "l=9\n",
    "for i in range(2*l):print(f\"i:{i} i-backwards:{l-1 - i%l}\")"
   ]
  },
  {
   "cell_type": "code",
   "execution_count": null,
   "metadata": {},
   "outputs": [],
   "source": [
    "seq_len=3\n",
    "a = np.arange(bs*seq_len,-1,-1)\n",
    "ix = np.arange(len(a))\n",
    "print(ix)\n",
    "print(a)\n",
    "ts[ix] = a[ix]\n",
    "print(t.shape)\n",
    "print(t)"
   ]
  },
  {
   "cell_type": "code",
   "execution_count": null,
   "metadata": {},
   "outputs": [],
   "source": [
    "t.numel()/3"
   ]
  },
  {
   "cell_type": "code",
   "execution_count": null,
   "metadata": {},
   "outputs": [],
   "source": [
    "bs=4\n",
    "sl=3\n",
    "bs_dim=t.numel()/sl\n",
    "t.view(-1,14)"
   ]
  },
  {
   "cell_type": "code",
   "execution_count": null,
   "metadata": {},
   "outputs": [],
   "source": [
    "import numpy as np\n",
    "a = np.ones(5)\n",
    "b = torch.from_numpy(a)\n",
    "np.add(a, 1, out=a)\n",
    "print(a)\n",
    "print(b)"
   ]
  },
  {
   "cell_type": "code",
   "execution_count": null,
   "metadata": {},
   "outputs": [],
   "source": [
    "import asyncio\n",
    "async def myfun():\n",
    "    await asyncio.sleep(1)\n",
    "    return 5"
   ]
  },
  {
   "cell_type": "code",
   "execution_count": null,
   "metadata": {},
   "outputs": [],
   "source": [
    "await myfun()\n",
    "await myfun()\n"
   ]
  },
  {
   "cell_type": "code",
   "execution_count": null,
   "metadata": {},
   "outputs": [],
   "source": [
    "async def hello():\n",
    "    await asyncio.sleep(1)\n",
    "    return \"hello\"\n",
    "async def test():\n",
    "    loop = asyncio.get_event_loop()\n",
    "    tasks = []\n",
    "    for i in range(10):\n",
    "        tasks.append(loop.create_task(hello()))\n",
    "    # all the tasks will automatically run\n",
    "    asyncio.set_event_loop(loop)\n",
    "    rest = asyncio.gather(*tasks)\n",
    "    await rest"
   ]
  },
  {
   "cell_type": "code",
   "execution_count": null,
   "metadata": {},
   "outputs": [],
   "source": [
    "#await test()\n",
    "\n",
    "loop = asyncio.get_event_loop()\n",
    "tasks = []\n",
    "for i in range(10):\n",
    "    tasks.append(loop.create_task(hello()))\n",
    "# all the tasks will automatically run\n",
    "asyncio.set_event_loop(loop)\n",
    "rest = asyncio.gather(*tasks)\n",
    "await rest"
   ]
  },
  {
   "cell_type": "code",
   "execution_count": null,
   "metadata": {},
   "outputs": [],
   "source": [
    "from multiprocessing import Pool\n",
    "from multiprocessing.dummy import Pool as ThreadPool \n",
    "\n",
    "pool = ThreadPool(1) \n",
    "results = pool.map(test,None)\n",
    "pool.close() \n",
    "pool.join()\n"
   ]
  },
  {
   "cell_type": "code",
   "execution_count": null,
   "metadata": {},
   "outputs": [],
   "source": [
    "        \"\"\"\n",
    "        async def hello():\n",
    "            await asyncio.sleep(1)\n",
    "            return \"hello\"\n",
    "    \n",
    "        fileblocks = partition_by_cores(files, n_cpus)\n",
    "        print(f\"fileblocks:{len(fileblocks)}\")\n",
    "        tasks = []\n",
    "        i=0\n",
    "        loop = asyncio.get_event_loop()\n",
    "        for fb in fileblocks:\n",
    "            print(f\"task:{i}\")\n",
    "            i += 1\n",
    "            results = tasks.append( loop.create_task( FileTokenizer.getIds_from_file(fb) ) )\n",
    "        asyncio.set_event_loop(loop)\n",
    "        results = asyncio.gather(*tasks)\n",
    "        await results\n",
    "        \"\"\"\n"
   ]
  },
  {
   "cell_type": "raw",
   "metadata": {},
   "source": [
    "%load_ext autoreload\n",
    "%autoreload 2\n",
    "from fastai.text import * \n",
    "import sentencepiece as spm\n"
   ]
  },
  {
   "cell_type": "code",
   "execution_count": null,
   "metadata": {},
   "outputs": [],
   "source": [
    "lang            = \"en\"\n",
    "pathData       = Path(\"../nlp-data\")\n",
    "path           = pathData / lang\n",
    "pathTrainValid = path/\"wiki-train_valid\"\n",
    "pathNPY        = pathTrainValid/\"dummy.npy\"\n",
    "pathNPZ        = pathTrainValid/\"dummy.npz\"\n"
   ]
  },
  {
   "cell_type": "code",
   "execution_count": null,
   "metadata": {},
   "outputs": [],
   "source": [
    "arrays = np.empty(10, dtype=object)\n",
    "arrays"
   ]
  },
  {
   "cell_type": "code",
   "execution_count": null,
   "metadata": {},
   "outputs": [],
   "source": [
    "import io\n",
    "a=np.arange(3,dtype=np.int32).astype(np.int32)\n",
    "b=np.arange(5,dtype=np.int32).astype(np.int32)\n",
    "c=np.arange(10,dtype=np.int32).astype(np.int32)\n"
   ]
  },
  {
   "cell_type": "code",
   "execution_count": null,
   "metadata": {},
   "outputs": [],
   "source": [
    "with pathNPY.open(\"wb\") as f:\n",
    "    np.save(f,a, allow_pickle=False, fix_imports=False)\n",
    "    np.save(f,b, allow_pickle=False, fix_imports=False)\n",
    "    np.save(f,c, allow_pickle=False, fix_imports=False)\n",
    "\n",
    "with pathNPY.open(\"rb\") as f:\n",
    "    f.seek(0, 2); file_size = f.tell(); f.seek(0)\n",
    "    while f.tell() != file_size:\n",
    "        print(np.load(f))\n"
   ]
  },
  {
   "cell_type": "code",
   "execution_count": null,
   "metadata": {},
   "outputs": [],
   "source": [
    "arrays = np.empty(0, dtype=object)\n",
    "arrays"
   ]
  },
  {
   "cell_type": "code",
   "execution_count": null,
   "metadata": {},
   "outputs": [],
   "source": [
    "arrays = [] #np.empty(3, dtype=object)\n",
    "for i in range(3):\n",
    "    #for i,a in enumerate(arrays):\n",
    "    arrays.append( np.arange(i+1) )\n",
    "\n",
    "#arrays2 = np.empty(3, dtype=object)\n",
    "#arrays2[:3] = arrays[:3]\n",
    "#arrays[1][0] = 10\n",
    "print(arrays)\n",
    "\n",
    "def save(arrays):\n",
    "    with pathNPY.open(\"wb\") as f:\n",
    "        if isinstance(arrays,list): \n",
    "            arrays = np.asarray(arrays,dtype=object)\n",
    "        np.save(f,arrays, allow_pickle=True, fix_imports=False)\n",
    "        \n",
    "def load():\n",
    "    with pathNPY.open(\"rb\") as f:\n",
    "        arrays = np.load(f)\n",
    "    return arrays\n",
    "\n",
    "save(arrays)\n",
    "load()"
   ]
  },
  {
   "cell_type": "code",
   "execution_count": null,
   "metadata": {},
   "outputs": [],
   "source": [
    "%timeit save(arrays)"
   ]
  },
  {
   "cell_type": "code",
   "execution_count": null,
   "metadata": {},
   "outputs": [],
   "source": [
    "%timeit load()\n",
    "print(load())"
   ]
  },
  {
   "cell_type": "code",
   "execution_count": null,
   "metadata": {},
   "outputs": [],
   "source": [
    "arrays = [] #np.empty(0, dtype=object)\n",
    "for i in range(3):\n",
    "    a = load()\n",
    "    if len(a) > 0: arrays.extend( a.tolist() )\n",
    "arrays = np.asarray(arrays,dtype=object)    \n",
    "print(len(arrays))\n",
    "print(arrays)"
   ]
  },
  {
   "cell_type": "code",
   "execution_count": null,
   "metadata": {},
   "outputs": [],
   "source": []
  }
 ],
 "metadata": {
  "kernelspec": {
   "display_name": "Python 3",
   "language": "python",
   "name": "python3"
  },
  "language_info": {
   "codemirror_mode": {
    "name": "ipython",
    "version": 3
   },
   "file_extension": ".py",
   "mimetype": "text/x-python",
   "name": "python",
   "nbconvert_exporter": "python",
   "pygments_lexer": "ipython3",
   "version": "3.7.1"
  }
 },
 "nbformat": 4,
 "nbformat_minor": 2
}
