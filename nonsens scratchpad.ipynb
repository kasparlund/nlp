{
 "cells": [
  {
   "cell_type": "code",
   "execution_count": 1,
   "metadata": {},
   "outputs": [],
   "source": [
    "%reload_ext autoreload\n",
    "%autoreload 2"
   ]
  },
  {
   "cell_type": "code",
   "execution_count": 2,
   "metadata": {},
   "outputs": [],
   "source": [
    "from fastai.text import * \n",
    "import io\n",
    "import pathlib\n",
    "from fastai_sentencepiece import *\n",
    "from filetokenizer import *\n",
    "from languagemodelloader import *\n",
    "import re\n"
   ]
  },
  {
   "cell_type": "code",
   "execution_count": null,
   "metadata": {},
   "outputs": [],
   "source": [
    "#test swapping\n",
    "input_seq[[ix1, ix2]] = input_seq[[ix2, ix1]]"
   ]
  },
  {
   "cell_type": "code",
   "execution_count": 3,
   "metadata": {},
   "outputs": [],
   "source": [
    "txt = \"in the historical canon), are [the anarchist territories during the [[Spanish Revolution of 1936|Spanish Revolution]] and the [[Free Territory]] during the [[Russian Revolution (1917)|Russian Revolution]]. Through the efforts and influence of the [[Anarchism in Spain|Spanish anarchists]] during the Spanish [[file:manifestación cnt bilbao.jpg|thumb|left|[[international workers' day|may day]] 2010 demonstration of spanish [[anarcho-syndicalism|anarcho-syndicalist]] trade [union [[confederación nacional del trabajo|cnt]] in bilbao, basque country]] [[anarcho-syndicalism]] is a branch of anarchism that focuses on the labour movement. anarcho-syndicalists view labour unions as a potential force for revolutionary social change, replacing capitalism and the state with a new society democratically self-managed by workers. the basic principles of anarcho-syndicalism are workers' [[wikt:solidarity|solidarity]], [[direct action]] and [[workers' self-management]]. anarcho-syndicalists believe that only direct action—that is, action concentrated on directly attaining a goal as opposed to indirect action, such as electing a representative to a government position—will allow workers to liberate themselves. moreover, anarcho-syndicalists believe that workers' organisations (the organisations that struggle against the wage system, which in anarcho-syndicalist theory will eventually form the basis of a new society) should be self-managing. they should not have bosses or 'business agents'—rather, the workers should be able to make all the decisions that affect them themselves. rudolf rocker was one of the most popular voices in the anarcho-syndicalist movement. he outlined a view of the origins of the movement, what it sought and why it was important to the future of labour in his 1938 pamphlet 'anarcho-syndicalism'. the international workers association is an international anarcho-syndicalist federation of various labour unions from different countries. the spanish cnt played and still plays a major role in the spanish labour movement. it was also an important force in the spanish civil war. 华,福,화,a{}:,á123546789/\\ \"\n",
    "txt += \"compensation for labour, some held out the possibility of a post-revolutionary transition to a communist system of distribution according to need.[[sime city:kropotkin2.jpg|thumb|upright|peter kropotkin was influential in the development of anarcho-communism]] lklæk\"\n",
    "txt += \"the foreign relations of angola are based on angola's strong support of u.s. foreign policy as the angolan economy is dependent on u.s. foreign aid.\\r\\nfrom 1975 to 1989, angola was aligned with the eastern bloc, in particular the soviet union, libya, and cuba. since then, it has focused on improving relationships with western countries, cultivating links with other portuguese-speaking countries, and asserting its own national interests in central africa through military and diplomatic intervention. in 1993, it established formal diplomatic relations with the united states. it has entered the southern african development community as a vehicle for improving ties with its largely anglophone neighbors to the south. zimbabwe and namibia joined angola in its military intervention in the democratic republic of the congo, where angolan troops remain in support of the joseph kabila government. it also has intervened in the republic of the congo (brazzaville) to support the existing government in that country.\\r\\nsince 1998, angola has successfully worked with the united nations security council to impose and carry out sanctions on unita. more recently, it has extended those efforts to controls on conflict diamonds, the primary source of revenue for unita during the civil war that ended in 2002. at the same time, angola has promoted the revival of the community of portuguese-speaking countries (cplp) as a forum for cultural exchange and expanding ties with portugal (its former ruler) and brazil (which shares many cultural affinities with angola) in particular. angola is a member of the port management association of eastern and southern africa (pmaesa).\"\n",
    "txt += \"▁). \\\".  (,a)  ' ''''\\\"  \\\"  is, a branch of anarchism,, , .that focuses on the labour movement. () ( ) (  )  (, ) (,å )  ( , ,, ;)  <ref> </ref> </ ref> < /ref > <ref /> <br> <nowiki> < / nowiki> < / >anarcho-syndicalists view labour unions as a potential force for revoludirected by peter jackson. the titles were , , and .were, , and . ,(; , , short for s-⁠gravenhage ) \"\n",
    "txt = 'divine revelation, .... since it is contained in the word of god and in christ, also includes the living tradition or sensus fidelium, the magisterium, the sacraments, and catholic dogma.<ref name=\"http://www.vatican.va/archive/ccc_css/archive/catechism/p123a9p1.htm#767\">catechism, 767<ref name=\"http://www.vatican.va/archive/ccc_css/archive/catechism/p2s1c1a2.htm#1116\\\">catechism, 1116<ref name=\"http://www.vatican.va/archive/ccc_css/archive/catechism/p1s1c2a2.htm#88\\\">catechism, 88 because the living tradition and the magisterium are a part of divine revelation, they both have divine authority.<ref name=\\\"http://www.vatican.va/archive/ccc_css/archive/catechism/p123a9p4.htm#874\\\">catechism, 874 because the sacraments are a part of divine revelation, their natures cannot be changed ( for example, receiving holy communion without mortal sin ) but their ways of celebration can be changed ( for example, receiving holy communion in the hand or on the tongue ).<ref name=\\\"http://www.vatican.va/roman_curia/congregations/ccdds/documents/rc_con_ccdds_doc_20040423_redemptionis-sacramentum_en.html\\\">redemptionis sacramentum, 10 because catholic dogma is a part of divine revelation, the saving truths of christ are immutable.<ref name=\\\"http://www.vatican.va/roman_curia/congregations/cfaith/documents/rc_con_cfaith_doc_20120106_nota-anno-fede_en.html\\\">note with pastoral recommendations for the year of faith: the council, according to pope john xxiii, wanted to transmit doctrine, pure and whole, without attenuations or misrepresentations, in such a way that this sure and immutable teaching, which must be respected faithfully, is elaborated and presented in a way which corresponds to the needs of our time.<ref name=\\\"https://w2.vatican.va/content/john-paul-ii/en/speeches/1984/may/documents/hf_jp-ii_spe_19840503_vescovi-coreani.html\\\">address of pope john paul ii to the bishops of korea: in union with christ you will ponder again what god’s word demands of the the the the'"
   ]
  },
  {
   "cell_type": "code",
   "execution_count": 4,
   "metadata": {},
   "outputs": [
    {
     "name": "stdout",
     "output_type": "stream",
     "text": [
      "divine revelation, .... since it is contained in the word of god and in christ, also includes the living tradition or sensus fidelium, the magisterium, the sacraments, and catholic dogma.<ref name=\"http://www.vatican.va/archive/ccc_css/archive/catechism/p123a9p1.htm#767\">catechism, 767<ref name=\"http://www.vatican.va/archive/ccc_css/archive/catechism/p2s1c1a2.htm#1116\">catechism, 1116<ref name=\"http://www.vatican.va/archive/ccc_css/archive/catechism/p1s1c2a2.htm#88\">catechism, 88 because the living tradition and the magisterium are a part of divine revelation, they both have divine authority.<ref name=\"http://www.vatican.va/archive/ccc_css/archive/catechism/p123a9p4.htm#874\">catechism, 874 because the sacraments are a part of divine revelation, their natures cannot be changed ( for example, receiving holy communion without mortal sin ) but their ways of celebration can be changed ( for example, receiving holy communion in the hand or on the tongue ).<ref name=\"http://www.vatican.va/roman_curia/congregations/ccdds/documents/rc_con_ccdds_doc_20040423_redemptionis-sacramentum_en.html\">redemptionis sacramentum, 10 because catholic dogma is a part of divine revelation, the saving truths of christ are immutable.<ref name=\"http://www.vatican.va/roman_curia/congregations/cfaith/documents/rc_con_cfaith_doc_20120106_nota-anno-fede_en.html\">note with pastoral recommendations for the year of faith: the council, according to pope john xxiii, wanted to transmit doctrine, pure and whole, without attenuations or misrepresentations, in such a way that this sure and immutable teaching, which must be respected faithfully, is elaborated and presented in a way which corresponds to the needs of our time.<ref name=\"https://w2.vatican.va/content/john-paul-ii/en/speeches/1984/may/documents/hf_jp-ii_spe_19840503_vescovi-coreani.html\">address of pope john paul ii to the bishops of korea: in union with christ you will ponder again what god’s word demands of the the the the\n",
      "------------------------------------------------------------\n"
     ]
    },
    {
     "data": {
      "text/plain": [
       "'divine revelation, .... since it is contained in the word of god and in christ, also includes the living tradition or sensus fidelium, the magisterium, the sacraments, and catholic dogma.<ref name=\"http://www.vatican.va/archive/ccc_css/archive/catechism/p123a9p1.htm#767\">catechism, 767<ref name=\"http://www.vatican.va/archive/ccc_css/archive/catechism/p2s1c1a2.htm#1116\">catechism, 1116<ref name=\"http://www.vatican.va/archive/ccc_css/archive/catechism/p1s1c2a2.htm#88\">catechism, 88 because the living tradition and the magisterium are a part of divine revelation, they both have divine authority.<ref name=\"http://www.vatican.va/archive/ccc_css/archive/catechism/p123a9p4.htm#874\">catechism, 874 because the sacraments are a part of divine revelation, their natures cannot be changed ( for example, receiving holy communion without mortal sin ) but their ways of celebration can be changed ( for example, receiving holy communion in the hand or on the tongue ).<ref name=\"http://www.vatican.va/roman_curia/congregations/ccdds/documents/rc_con_ccdds_doc_20040423_redemptionis-sacramentum_en.html\">redemptionis sacramentum, 10 because catholic dogma is a part of divine revelation, the saving truths of christ are immutable.<ref name=\"http://www.vatican.va/roman_curia/congregations/cfaith/documents/rc_con_cfaith_doc_20120106_nota-anno-fede_en.html\">note with pastoral recommendations for the year of faith: the council, according to pope john xxiii, wanted to transmit doctrine, pure and whole, without attenuations or misrepresentations, in such a way that this sure and immutable teaching, which must be respected faithfully, is elaborated and presented in a way which corresponds to the needs of our time.<ref name=\"https://w2.vatican.va/content/john-paul-ii/en/speeches/1984/may/documents/hf_jp-ii_spe_19840503_vescovi-coreani.html\">address of pope john paul ii to the bishops of korea: in union with christ you will ponder again what god’s word demands of  xxwrep4the '"
      ]
     },
     "execution_count": 4,
     "metadata": {},
     "output_type": "execute_result"
    }
   ],
   "source": [
    "def remove_html(t:str)->str:\n",
    "    return re.sub(\"<(style|script)[^<>]*>.*?</\\1>|</?[a-z][a-z0-9]*[^<>]*>|<!--.*?-->\", \"\", t)   \n",
    "print(txt)\n",
    "print(\"-\"*60)\n",
    "my_replace_wrep(txt)"
   ]
  },
  {
   "cell_type": "code",
   "execution_count": 8,
   "metadata": {
    "scrolled": true
   },
   "outputs": [
    {
     "name": "stdout",
     "output_type": "stream",
     "text": [
      "rule:fix_html time:21560\n",
      "rule:lower time:18280\n",
      "rule:extract_link_title time:13320\n",
      "rule:rm_stray_tags time:10680\n",
      "rule:rm_empty_lists time:95120\n",
      "rule:rm_empty_quotes time:9820\n",
      "rule:my_replace_rep time:61240\n",
      "rule:my_replace_wrep time:118500\n",
      "rule:spec_add_more_spaces time:2540\n",
      "rule:rm_useless_spaces time:24300\n",
      "rule:trim time:420\n",
      "divine revelation, .... since it is contained in the word of god and in christ, also includes the living tradition or sensus fidelium, the magisterium, the sacraments, and catholic dogma.<ref name=\"http://www.vatican.va/archive/ccc_css/archive/catechism/p123a9p1.htm#767\">catechism, 767<ref name=\"http://www.vatican.va/archive/ccc_css/archive/catechism/p2s1c1a2.htm#1116\">catechism, 1116<ref name=\"http://www.vatican.va/archive/ccc_css/archive/catechism/p1s1c2a2.htm#88\">catechism, 88 because the living tradition and the magisterium are a part of divine revelation, they both have divine authority.<ref name=\"http://www.vatican.va/archive/ccc_css/archive/catechism/p123a9p4.htm#874\">catechism, 874 because the sacraments are a part of divine revelation, their natures cannot be changed ( for example, receiving holy communion without mortal sin ) but their ways of celebration can be changed ( for example, receiving holy communion in the hand or on the tongue ).<ref name=\"http://www.vatican.va/roman_curia/congregations/ccdds/documents/rc_con_ccdds_doc_20040423_redemptionis-sacramentum_en.html\">redemptionis sacramentum, 10 because catholic dogma is a part of divine revelation, the saving truths of christ are immutable.<ref name=\"http://www.vatican.va/roman_curia/congregations/cfaith/documents/rc_con_cfaith_doc_20120106_nota-anno-fede_en.html\">note with pastoral recommendations for the year of faith: the council, according to pope john xxiii, wanted to transmit doctrine, pure and whole, without attenuations or misrepresentations, in such a way that this sure and immutable teaching, which must be respected faithfully, is elaborated and presented in a way which corresponds to the needs of our time.<ref name=\"https://w2.vatican.va/content/john-paul-ii/en/speeches/1984/may/documents/hf_jp-ii_spe_19840503_vescovi-coreani.html\">address of pope john paul ii to the bishops of korea: in union with christ you will ponder again what god’s word demands of the the the the\n",
      "------------------------------------------------------------\n",
      "divine revelation,  xxrep 4 .  since it is contained in the word of god and in christ, also includes the living tradition or sensus fidelium, the magisterium, the sacraments, and catholic dogma.<ref name=\"http://www.vatican.va/archive/ccc_css/archive/catechism/p123a9p1.htm#767\">catechism, 767<ref name=\"http://www.vatican.va/archive/ccc_css/archive/catechism/p2s1c1a2.htm#1116\">catechism, 1116<ref name=\"http://www.vatican.va/archive/ccc_css/archive/catechism/p1s1c2a2.htm#88\">catechism, 88 because the living tradition and the magisterium are a part of divine revelation, they both have divine authority.<ref name=\"http://www.vatican.va/archive/ccc_css/archive/catechism/p123a9p4.htm#874\">catechism, 874 because the sacraments are a part of divine revelation, their natures cannot be changed ( for example, receiving holy communion without mortal sin ) but their ways of celebration can be changed ( for example, receiving holy communion in the hand or on the tongue ).<ref name=\"http://www.vatican.va/roman_curia/congregations/ccdds/documents/rc_con_ccdds_doc_20040423_redemptionis-sacramentum_en.html\">redemptionis sacramentum, 10 because catholic dogma is a part of divine revelation, the saving truths of christ are immutable.<ref name=\"http://www.vatican.va/roman_curia/congregations/cfaith/documents/rc_con_cfaith_doc_20120106_nota-anno-fede_en.html\">note with pastoral recommendations for the year of faith: the council, according to pope john xxiii, wanted to transmit doctrine, pure and whole, without attenuations or misrepresentations, in such a way that this sure and immutable teaching, which must be respected faithfully, is elaborated and presented in a way which corresponds to the needs of our time.<ref name=\"https://w2.vatican.va/content/john-paul-ii/en/speeches/1984/may/documents/hf_jp-ii_spe_19840503_vescovi-coreani.html\">address of pope john paul ii to the bishops of korea: in union with christ you will ponder again what god’s word demands of the the the the\n",
      "------------------------------------------------------------\n",
      "78.7 µs ± 903 ns per loop (mean ± std. dev. of 7 runs, 10000 loops each)\n"
     ]
    }
   ],
   "source": [
    "import re\n",
    "import time\n",
    "def measureAll(txt):\n",
    "    for r in spm_rules:\n",
    "        ts = time.perf_counter_ns()\n",
    "        r(txt)\n",
    "        r(txt)\n",
    "        r(txt)\n",
    "        r(txt)\n",
    "        r(txt)\n",
    "        te = time.perf_counter_ns()\n",
    "        print(f\"rule:{r.__name__} time:{(te-ts)//5}\")\n",
    "\n",
    "measureAll(txt)\n",
    "\n",
    "print(txt)\n",
    "print(\"-\"*60)\n",
    "#remove_file_ref(txt)\n",
    "#%timeit extract_link_title(txt)\n",
    "#%timeit rm_empty_lists(txt)\n",
    "#%timeit rm_empty_quotes(txt)\n",
    "\n",
    "#def my_replace_wrep2(t:str) -> str:\n",
    "#    def _replace_wrep(m:Collection[str]) -> str:\n",
    "#        c,_ = m.groups()\n",
    "#        n=len(re.findall(c,m.string[m.start():m.end()]))\n",
    "#        return f' {TK_WREP} {n} {c} '    \n",
    "#    return re.sub(r'(\\w+)\\s+(\\1\\b\\s+)+',_replace_wrep,t)#\"\\g<1>\"\n",
    "\n",
    "#my_replace_wrep2(\"sasa txt txt txt txt asas\")\n",
    "text=\"sasa  txt  txt  txt txt  asas\"\n",
    "print(replace_rep(txt))\n",
    "print(\"-\"*60)\n",
    "#print(my_replace_rep(txt))\n",
    "#%timeit replace_rep(txt)\n",
    "%timeit rm_empty_lists(txt)\n"
   ]
  },
  {
   "cell_type": "code",
   "execution_count": 6,
   "metadata": {},
   "outputs": [
    {
     "data": {
      "text/plain": [
       "0"
      ]
     },
     "execution_count": 6,
     "metadata": {},
     "output_type": "execute_result"
    }
   ],
   "source": [
    "#txt='{\"id\": \"12\", \"url\": \"https://en.wikipedia.org/wiki?curid=12\", \"title\": \"Anarchism\", \"text\": \"Anarchism\\n\\nAnarchism is a political philosophy that advocates self-governed societies based on voluntary, cooperative institutions, rejecting unjust hierarchy. These institutions are often described as stateless societies, although several authors have defined them more specifically as institutions based on non-hierarchical or free associations. Anarchism holds capitalism, the state, and representative democracy to be undesirable, unnecessary and harmful.\\n\\nWhile opposition to the state is central, anarchism specifically entails opposing authority or hierarchical organisation in the conduct of all human relations. Anarchism is usually considered a far-left ideology and much of anarchist economics and anarchist legal philosophy reflects anti-authoritarian interpretations of communism, collectivism, syndicalism, mutualism, or participatory economics.\\n\\nAnarchism does not offer a fixed body of doctrine from a single particular world view, instead fluxing and flowing as a philosophy. Many types and traditions of anarchism exist, not all of which are mutually exclusive. Anarchist schools of thought can differ fundamentally, supporting anything from extreme individualism to complete collectivism. Strains of anarchism have often been divided into the categories of social and individualist anarchism or similar dual classifications.\\n\\nThe word \\\"anarchism\\\" is composed from the word \\\"anarchy\\\" and the suffix -ism, themselves derived respectively from the Greek , i.e. \\\"anarchy\\\" (from , \\\"anarchos\\\", meaning \\\"one without rulers\\\"; from the privative prefix ἀν- (\\\"an-\\\", i.e. \\\"without\\\") and , \\\"archos\\\", i.e. \\\"leader\\\", \\\"ruler\\\"; (cf. \\\"archon\\\" or , \\\"arkhē\\\", i.e. \\\"authority\\\", \\\"sovereignty\\\", \\\"realm\\\", \\\"magistracy\\\")) and the suffix or (\\\"-ismos\\\", \\\"-isma\\\", from the verbal infinitive suffix , \\\"-izein\\\"). '\n",
    "#%timeit re.compile(\"txt\").findall(\"txt txt txt txt txt\")                \n",
    "\"txt txt txt txt txt\".find(\"txt\")"
   ]
  },
  {
   "cell_type": "code",
   "execution_count": 7,
   "metadata": {},
   "outputs": [
    {
     "ename": "SyntaxError",
     "evalue": "invalid syntax (<ipython-input-7-481340dae688>, line 1)",
     "output_type": "error",
     "traceback": [
      "\u001b[1;36m  File \u001b[1;32m\"<ipython-input-7-481340dae688>\"\u001b[1;36m, line \u001b[1;32m1\u001b[0m\n\u001b[1;33m    rule:fix_html time:19440\u001b[0m\n\u001b[1;37m                     ^\u001b[0m\n\u001b[1;31mSyntaxError\u001b[0m\u001b[1;31m:\u001b[0m invalid syntax\n"
     ]
    }
   ],
   "source": [
    "rule:fix_html time:19440\n",
    "rule:lower time:17900\n",
    "rule:extract_link_title time:12760\n",
    "rule:rm_stray_tags time:10440\n",
    "rule:rm_empty_lists time:112340\n",
    "rule:rm_empty_quotes time:10100\n",
    "rule:replace_rep time:87960\n",
    "rule:replace_wrep time:123440\n",
    "rule:spec_add_more_spaces time:2400\n",
    "rule:rm_useless_spaces time:26400\n",
    "rule:trim time:440"
   ]
  }
 ],
 "metadata": {
  "kernelspec": {
   "display_name": "Python 3",
   "language": "python",
   "name": "python3"
  },
  "language_info": {
   "codemirror_mode": {
    "name": "ipython",
    "version": 3
   },
   "file_extension": ".py",
   "mimetype": "text/x-python",
   "name": "python",
   "nbconvert_exporter": "python",
   "pygments_lexer": "ipython3",
   "version": "3.7.1"
  }
 },
 "nbformat": 4,
 "nbformat_minor": 2
}
