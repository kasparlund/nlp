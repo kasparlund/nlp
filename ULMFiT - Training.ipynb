{
 "cells": [
  {
   "cell_type": "code",
   "execution_count": 1,
   "metadata": {},
   "outputs": [],
   "source": [
    "%load_ext autoreload\n",
    "%autoreload 2\n",
    "from fastai import * \n",
    "from fastai.text import * \n",
    "import sentencepiece as spm\n",
    "import psutil\n"
   ]
  },
  {
   "cell_type": "code",
   "execution_count": 2,
   "metadata": {},
   "outputs": [],
   "source": [
    "lang            = \"en\"\n",
    "pathData       = Path(\"../nlp-data\")\n",
    "path           = pathData / lang\n",
    "pathTrainValid = path/\"wiki-train_valid\"\n",
    "spCache        = \"sp-model\"\n",
    "pathSPVocab    = pathTrainValid / spCache"
   ]
  },
  {
   "cell_type": "code",
   "execution_count": 3,
   "metadata": {},
   "outputs": [],
   "source": [
    "#def usedGB_RAM(): return round((psutil.virtual_memory().total-psutil.virtual_memory().free)/1e9,2)\n",
    "def usedGB_RAM(): return round((psutil.virtual_memory().used + psutil.swap_memory().used)/1e9,2)\n"
   ]
  },
  {
   "cell_type": "code",
   "execution_count": 4,
   "metadata": {},
   "outputs": [
    {
     "data": {
      "text/plain": [
       "4.67"
      ]
     },
     "execution_count": 4,
     "metadata": {},
     "output_type": "execute_result"
    }
   ],
   "source": [
    "psutil.virtual_memory().total\n",
    "usedGB_RAM()"
   ]
  },
  {
   "cell_type": "markdown",
   "metadata": {},
   "source": [
    "# Data preparation"
   ]
  },
  {
   "cell_type": "markdown",
   "metadata": {},
   "source": [
    "Load the training and validation data we prepared in wiki_preparation.ipynb. In total 100 million articles with a split of 80% / 20% for training/validation:\n",
    "- First column: text content to train the model. \n",
    "- Second column: Boolean representing if the data is for training or validation."
   ]
  },
  {
   "cell_type": "markdown",
   "metadata": {},
   "source": [
    "# Create Tokenizer\n",
    "The sentencepiece vocabulary was trained in Train Sentencepiece tokenizer.ipynb.\n",
    "\n",
    "Here we will make a BasicTokenizer from Sentencepiece so that fastai can use it instead of spacy"
   ]
  },
  {
   "cell_type": "code",
   "execution_count": 5,
   "metadata": {},
   "outputs": [],
   "source": [
    "class SentencepieceTokenizer(BaseTokenizer):\n",
    "    def __init__(self, lang:str):\n",
    "        path,cache_name = pathTrainValid, \"sp-model\"\n",
    "    #def __init__(self, path:PathOrStr, cache_name:str='sp-model'):\n",
    "        self.pathVocab = path / cache_name\n",
    "        self.vocab_    = Vocab(pickle.load(open(self.pathVocab/'itos.pkl', 'rb')))\n",
    "        self.tok       = spm.SentencePieceProcessor()\n",
    "        \n",
    "        self.tok.Load(str(Path(path) / cache_name / 'm.model'))\n",
    "        text.transform.UNK = \"<unk>\"\n",
    "\n",
    "    #def __call__(self, language:str): return self    \n",
    "        \n",
    "    def tokenizer(self, t:str) -> List[str]:\n",
    "        return self.tok.EncodeAsPieces(t)\n",
    "    \n",
    "    def add_special_cases(self, toks:Collection[str]):\n",
    "        #this should have been done when training sentencepiece\n",
    "        pass\n",
    "    \n",
    "    def vocab(self): return self.vocab_"
   ]
  },
  {
   "cell_type": "code",
   "execution_count": 6,
   "metadata": {},
   "outputs": [
    {
     "name": "stdout",
     "output_type": "stream",
     "text": [
      "Tokenizer SentencepieceTokenizer in en with the following rules:\n",
      " - fix_html\n",
      " - replace_rep\n",
      " - replace_wrep\n",
      " - spec_add_spaces\n",
      " - rm_useless_spaces\n",
      " - replace_all_caps\n",
      " - deal_caps\n",
      "\n",
      "size og vocabulary: 32000\n",
      "pad_idx: 2\n",
      "[0, 1, 2, 3, 4, 5, 6, 7]\n"
     ]
    },
    {
     "data": {
      "text/plain": [
       "[['▁she', '▁is', '▁tall', '.'], ['▁he', '▁is', '▁small']]"
      ]
     },
     "execution_count": 6,
     "metadata": {},
     "output_type": "execute_result"
    }
   ],
   "source": [
    "spt       = SentencepieceTokenizer(lang=\"en\")\n",
    "tokenizer = Tokenizer(SentencepieceTokenizer,\"en\")\n",
    "pad_idx   = spt.vocab().numericalize([text.transform.PAD])[0]\n",
    "vocab,max_vocab  = spt.vocab(), len(spt.vocab().itos)\n",
    "\n",
    "print(tokenizer)\n",
    "print(\"size og vocabulary:\", max_vocab)\n",
    "print(\"pad_idx:\",pad_idx)\n",
    "\n",
    "print(spt.vocab().numericalize( [\"<unk>\" ,\"xxbos\" ,\"xxpad\" ,\"xxmaj\" ,\"xxup\" ,\"xxrep\" ,\"xxwrep\", \"xxfld\"]  ))\n",
    "sentence = [\"She is tall.\", \"He is small\"]\n",
    "tokenizer._process_all_1(sentence)"
   ]
  },
  {
   "cell_type": "markdown",
   "metadata": {},
   "source": [
    "# LM Training\n"
   ]
  },
  {
   "cell_type": "markdown",
   "metadata": {},
   "source": [
    "We train two LM: one with a 60k vocabulary and one with a 30k vocabulary. The two models have different performance and computation needs."
   ]
  },
  {
   "cell_type": "code",
   "execution_count": 7,
   "metadata": {},
   "outputs": [],
   "source": [
    "#Discard section with kess than \"minTok\" tokens\n",
    "minToks=10"
   ]
  },
  {
   "cell_type": "raw",
   "metadata": {},
   "source": [
    "#from ..torch_core import *\n",
    "\n",
    "def my_join_texts(texts:Collection[str], mark_fields:bool=False):\n",
    "    if not isinstance(texts, np.ndarray): texts = np.array(texts)\n",
    "    if is1d(texts): texts = texts[:,None]\n",
    "    df = pd.DataFrame({i:texts[:,i] for i in range(texts.shape[1])})\n",
    "    #text_col = f'{BOS} {FLD} {1} ' + df[0] if mark_fields else  f'{BOS} ' + df[0]\n",
    "    text_col = df[0]\n",
    "    print(df.shape)\n",
    "    for i in range(1,len(df.columns)):\n",
    "        #text_col += (f' {FLD} {i+1} ' if mark_fields else ' ') + df[i]\n",
    "        text_col += df[i]\n",
    "    return text_col.values\n",
    "\n",
    "#text.data._join_texts = my_join_texts"
   ]
  },
  {
   "cell_type": "code",
   "execution_count": 8,
   "metadata": {},
   "outputs": [
    {
     "data": {
      "text/plain": [
       "'[0.  1.  2.  3.1]'"
      ]
     },
     "execution_count": 8,
     "metadata": {},
     "output_type": "execute_result"
    }
   ],
   "source": [
    "a= [0,1,2,3.1]\n",
    "json.dumps(a)\n",
    "str(np.asarray(a))"
   ]
  },
  {
   "cell_type": "raw",
   "metadata": {},
   "source": [
    "import io\n",
    "a=np.arange(int(1e9))\n",
    "#f = io.StringIO()\n",
    "f = (pathTrainValid/\"dummy.txt\").open(\"w\")\n",
    "%timeit f.write(str(a))\n",
    "f.close()\n",
    "gc.collect()"
   ]
  },
  {
   "cell_type": "code",
   "execution_count": 9,
   "metadata": {},
   "outputs": [],
   "source": [
    "from multiprocessing import Pool\n",
    "from multiprocessing.dummy import Pool as ThreadPool "
   ]
  },
  {
   "cell_type": "code",
   "execution_count": 10,
   "metadata": {},
   "outputs": [],
   "source": [
    "class FileTokenizer():\n",
    "    \"Put together rules and a tokenizer function to tokenize text with multiprocessing.\"\n",
    "    def __init__(self, tokPath:Path, tok_func:Callable, lang:str, vocab:Vocab=vocab, pre_rules:ListRules=None,\n",
    "                 post_rules:ListRules=None, special_cases:Collection[str]=None, n_cpus:int=None):\n",
    "        self.tok_func,self.lang,self.special_cases = tok_func,lang,special_cases\n",
    "        self.pre_rules  = ifnone(pre_rules,  defaults.text_pre_rules )\n",
    "        self.post_rules = ifnone(post_rules, defaults.text_post_rules )\n",
    "        self.special_cases = special_cases if special_cases else defaults.text_spec_tok\n",
    "        self.n_cpus = ifnone(n_cpus, defaults.cpus)\n",
    "        self.vocab  = vocab\n",
    "        self.tokPath = tokPath\n",
    "        \n",
    "        self.count=0\n",
    "\n",
    "    def __repr__(self) -> str:\n",
    "        res = f'Tokenizer {self.tok_func.__name__} in {self.lang} with the following rules:\\n'\n",
    "        for rule in self.pre_rules: res += f' - {rule.__name__}\\n'\n",
    "        for rule in self.post_rules: res += f' - {rule.__name__}\\n'\n",
    "        return res\n",
    "\n",
    "    def process_text(self, t:str, tok:BaseTokenizer) -> List[str]:\n",
    "        \"Process one text `t` with tokenizer `tok`.\"\n",
    "        inPath = Path(t)\n",
    "        if not inPath.exists(): \n",
    "            print(f\"file does not exist{str(inPath)}\")\n",
    "            return \"\"\n",
    "        \n",
    "        pathIds = self.tokPath/(inPath.stem+\"-ids.npy\")\n",
    "        pathIds.parent.mkdir(parents=True,exist_ok=True)\n",
    "        \n",
    "        arrays = []\n",
    "        with inPath.open(\"r\") as f:\n",
    "            for line in f:\n",
    "                for rule in self.pre_rules: line = rule(line)\n",
    "                toks = tok.tokenizer(line)\n",
    "                for rule in self.post_rules: toks = rule(toks)\n",
    "                ids = vocab.numericalize(toks) \n",
    "                \n",
    "                if len(toks) < minToks: continue\n",
    "                arrays.append( np.asarray(ids, dtype=np.int16) )\n",
    "        \n",
    "        if len(arrays)>0:\n",
    "            with pathIds.open(\"wb\") as f:\n",
    "                np.save(f, arrays, allow_pickle=True, fix_imports=False)\n",
    "                \n",
    "        return t\n",
    "\n",
    "    def _process_all_1(self, texts:Collection[str]) -> List[List[str]]:\n",
    "        \"Process a list of `texts` in one process.\"\n",
    "        tok = self.tok_func(self.lang)\n",
    "        if self.special_cases: tok.add_special_cases(self.special_cases)\n",
    "        return [self.process_text(t, tok) for t in texts]\n",
    "\n",
    "    def process_all(self, texts:Collection[str]) -> List[List[str]]:\n",
    "        \"Process a list of `texts`.\"\n",
    "        print(\"FileTokenizer process_all\")\n",
    "        \n",
    "        if self.n_cpus <= 1: return self._process_all_1(texts)\n",
    "        print(f\"cpus: {self.n_cpus} number of files:{len(texts)}\")\n",
    "        with ProcessPoolExecutor(self.n_cpus) as e:\n",
    "            #return e.map(self._process_all_1, partition_by_cores(texts, self.n_cpus))\n",
    "            return sum(e.map(self._process_all_1, partition_by_cores(texts, self.n_cpus)), [])\n",
    "        \n",
    "    @staticmethod\n",
    "    def getIds_from_file(files):\n",
    "        idArrays=[]\n",
    "        for fp in files:\n",
    "            with fp.open(\"rb\") as f:\n",
    "                a = np.load(f)\n",
    "                if len(a) > 0: idArrays.extend( a )\n",
    "        return idArrays \n",
    "    \n",
    "    def getIds(self, n_cpus=defaults.cpus):\n",
    "        #threading does not help on speed in this case :(\n",
    "        files = list(self.tokPath.glob(\"*-ids.npy\"))\n",
    "        \n",
    "        #3use_cores = max(1,defaults.cpus)\n",
    "        print(f\"threading with on {n_cpus} cores\")\n",
    "        pool = ThreadPool(n_cpus) \n",
    "\n",
    "        results = pool.map(FileTokenizer.getIds_from_file, partition_by_cores(files, n_cpus))\n",
    "        pool.close() \n",
    "        pool.join()\n",
    "    \n",
    "    \n",
    "        idArrays=[]\n",
    "        for a in results:idArrays.extend(a)\n",
    "        idArrays = np.asarray(idArrays,dtype=object)    \n",
    "        return idArrays \n",
    "    \n",
    "    \"\"\"\n",
    "    def getIds(self):\n",
    "        pool = ThreadPool() \n",
    "\n",
    "        files = list(self.tokPath.glob(\"*-ids.npy\"))\n",
    "        idArrays=[]\n",
    "        for p in files:\n",
    "            with p.open(\"rb\") as f:\n",
    "                a = np.load(f)\n",
    "                if len(a) > 0: idArrays.extend( a )\n",
    "                    \n",
    "        idArrays = np.asarray(idArrays,dtype=object)    \n",
    "        return idArrays \n",
    "    \"\"\"\n",
    "        "
   ]
  },
  {
   "cell_type": "code",
   "execution_count": 11,
   "metadata": {},
   "outputs": [],
   "source": [
    "class FileTokenizeProcessor(PreProcessor):\n",
    "    \"`PreProcessor` that tokenizes the texts in `ds`.\"\n",
    "    def __init__(self, ds:ItemList=None, tokenizer:Tokenizer=None, chunksize:int=10000, mark_fields:bool=False):\n",
    "        self.tokenizer,self.chunksize,self.mark_fields = ifnone(tokenizer, Tokenizer()),chunksize,mark_fields\n",
    "\n",
    "    def process_one(self, item):  return self.tokenizer._process_all_1([item])[0]\n",
    "    def process(self, ds):\n",
    "        print(\"FileTokenizeProcessor process\")\n",
    "        #ds.items = _join_texts(ds.items, self.mark_fields)\n",
    "        self.tokenizer.process_all(ds.items)\n",
    "        #ds.items = self.tokenizer.process_all(ds.items)\n",
    "        #ds.items = tokens\n"
   ]
  },
  {
   "cell_type": "code",
   "execution_count": 12,
   "metadata": {},
   "outputs": [
    {
     "name": "stdout",
     "output_type": "stream",
     "text": [
      "Tokenizer SentencepieceTokenizer in en with the following rules:\n",
      " - fix_html\n",
      " - replace_rep\n",
      " - replace_wrep\n",
      " - spec_add_spaces\n",
      " - rm_useless_spaces\n",
      " - replace_all_caps\n",
      " - deal_caps\n",
      "\n",
      "size og vocabulary: 32000\n",
      "pad_idx: 2\n",
      "[0, 1, 2, 3, 4, 5, 6, 7]\n"
     ]
    }
   ],
   "source": [
    "pad_idx   = spt.vocab().numericalize([text.transform.PAD])[0]\n",
    "vocab,max_vocab = spt.vocab(), len(spt.vocab().itos)\n",
    "trainTokenizer = FileTokenizer(pathTrainValid/\"toks/train\", SentencepieceTokenizer,\"en\",vocab)\n",
    "validTokenizer = FileTokenizer(pathTrainValid/\"toks/valid\", SentencepieceTokenizer,\"en\",vocab)\n",
    "\n",
    "print(trainTokenizer)\n",
    "print(\"size og vocabulary:\", max_vocab)\n",
    "print(\"pad_idx:\",pad_idx)\n",
    "\n",
    "print(spt.vocab().numericalize( [\"<unk>\" ,\"xxbos\" ,\"xxpad\" ,\"xxmaj\" ,\"xxup\" ,\"xxrep\" ,\"xxwrep\", \"xxfld\"]  ))\n",
    "#sentence = [\"She is tall.\", \"He is small\"]\n",
    "#tokenizer._process_all_1(sentence)"
   ]
  },
  {
   "cell_type": "code",
   "execution_count": 13,
   "metadata": {},
   "outputs": [],
   "source": [
    "#import timeit start = timeit.default_timer()\n",
    "pathTxt = pathTrainValid/\"txt\"\n",
    "files   = np.asarray( list(pathTxt.glob(\"*.txt\")) )\n",
    "nrows   = len(files)\n",
    "split   = 0.2\n",
    "splitindex, index = int(nrows*split+.5), np.random.permutation(np.arange(nrows)) \n",
    "\n",
    "chunksize=0\n",
    "\n",
    "trainList = TextList( files[:-splitindex], vocab=vocab, pad_idx=pad_idx, \n",
    "                     processor=[FileTokenizeProcessor(tokenizer=trainTokenizer, chunksize=chunksize, mark_fields=False)] )\n",
    "validList = TextList( files[-splitindex:], vocab=vocab, pad_idx=pad_idx, \n",
    "                     processor=[FileTokenizeProcessor(tokenizer=validTokenizer, chunksize=chunksize, mark_fields=False)] )\n",
    "#print(timeit.default_timer()-start )"
   ]
  },
  {
   "cell_type": "raw",
   "metadata": {},
   "source": [
    "%time p = trainList.process()"
   ]
  },
  {
   "cell_type": "raw",
   "metadata": {},
   "source": [
    "%time p = validList.process()"
   ]
  },
  {
   "cell_type": "code",
   "execution_count": 14,
   "metadata": {},
   "outputs": [
    {
     "name": "stdout",
     "output_type": "stream",
     "text": [
      "1 nb: used GB memory: 4.63\n",
      "threading with on 1 cores\n",
      "CPU times: user 1min 49s, sys: 9.74 s, total: 1min 59s\n",
      "Wall time: 2min\n"
     ]
    }
   ],
   "source": [
    "print(\"1 nb: used GB memory:\", usedGB_RAM()) \n",
    "%time trainIDS = trainTokenizer.getIds(n_cpus=1)"
   ]
  },
  {
   "cell_type": "code",
   "execution_count": 15,
   "metadata": {},
   "outputs": [
    {
     "name": "stdout",
     "output_type": "stream",
     "text": [
      "threading with on 1 cores\n",
      "CPU times: user 35.6 s, sys: 5.16 s, total: 40.8 s\n",
      "Wall time: 41.7 s\n",
      "2 nb: used GB memory: 8.51\n"
     ]
    }
   ],
   "source": [
    "%time validIDS = validTokenizer.getIds(n_cpus=1)\n",
    "gc.collect()\n",
    "print(\"2 nb: used GB memory:\", usedGB_RAM()) "
   ]
  },
  {
   "cell_type": "code",
   "execution_count": 16,
   "metadata": {},
   "outputs": [
    {
     "name": "stdout",
     "output_type": "stream",
     "text": [
      "Traning:    number of arrays:25527730 - number of ids:2046492393\n",
      "Validation: number of arrays:8504038 - number of ids:733295647\n"
     ]
    }
   ],
   "source": [
    "print(f\"Traning:    number of arrays:{len(trainIDS)} - number of ids:{np.sum([len(ids) for ids in trainIDS])}\")\n",
    "print(f\"Validation: number of arrays:{len(validIDS)} - number of ids:{np.sum([len(ids) for ids in validIDS])}\")"
   ]
  },
  {
   "cell_type": "code",
   "execution_count": 17,
   "metadata": {},
   "outputs": [
    {
     "name": "stdout",
     "output_type": "stream",
     "text": [
      "min:1 max:12985 - median:63.0\n",
      "1521907\n"
     ]
    },
    {
     "data": {
      "text/plain": [
       "array([134,  71,  70,  16,  35,  39, 269, 261, 146,  89,  39,  43,  42,  20,  33, 132,  87,  67,  12,  36], dtype=int32)"
      ]
     },
     "execution_count": 17,
     "metadata": {},
     "output_type": "execute_result"
    },
    {
     "data": {
      "image/png": "[encoded data removed]",
      "text/plain": [
       "<Figure size 432x288 with 1 Axes>"
      ]
     },
     "metadata": {
      "needs_background": "light"
     },
     "output_type": "display_data"
    }
   ],
   "source": [
    "sectionlengths = np.asarray([len(s) for s in trainIDS],dtype=np.int32)\n",
    "n, bins, patches = plt.hist(sectionlengths[sectionlengths<1000], 100, density=True, facecolor='g', alpha=0.75)\n",
    "np.histogram(sectionlengths[sectionlengths<1000],50)\n",
    "\n",
    "print(f\"min:{min(sectionlengths)} max:{np.max(sectionlengths)} - median:{np.median(sectionlengths)}\")\n",
    "print(np.sum(sectionlengths<10))\n",
    "sectionlengths[:20]"
   ]
  },
  {
   "cell_type": "code",
   "execution_count": 18,
   "metadata": {},
   "outputs": [],
   "source": [
    "#import traceback\n",
    "def usedGB_RAM(): \n",
    "    import psutil\n",
    "    return round((psutil.virtual_memory().used + psutil.swap_memory().used)/1e9,2)\n",
    "\n",
    "#missing backwards\n",
    "class MyLanguageModelLoader():\n",
    "    \"Create a dataloader with bptt slightly changing.\"\n",
    "    \n",
    "    class CircularIndex():\n",
    "        def __init__(self, length:int ): self.idx = np.arange(length)\n",
    "        #if the index exceed length then getitem wrap the key and starrt return key-len(self.idx)\n",
    "        def __getitem__(self, key): return self.idx[key%len(self.idx)]\n",
    "        def __len__(self) -> int: return len(self.idx)\n",
    "        def shuffle(self): \n",
    "            print(\"shuffle\")\n",
    "            np.random.shuffle(self.idx)\n",
    "                \n",
    "    def __init__(self, dataset:LabelList, bs:int=64, bptt:int=70, backwards:bool=False, shuffle:bool=False,\n",
    "                 max_len:int=25, p_bptt:int=0.95):\n",
    "        self.dataset,self.bs,self.bptt,self.backwards,self.shuffle,self.p_bptt = dataset,bs,bptt,backwards,shuffle,p_bptt\n",
    "        self.idx        = MyLanguageModelLoader.CircularIndex(len(self.dataset))\n",
    "        #self.idx        = np.arange(len(self.dataset))\n",
    "        self.ragLengths = np.asarray([len(s) for s in dataset.x.items],dtype=np.int) if len(dataset.x.items) > 0 else []\n",
    "        self.nToks      = np.sum(self.ragLengths)\n",
    "        \n",
    "        self.min_seq,self.max_seq = 5,max_len\n",
    "        self.num_workers = 0\n",
    "        self.init_kwargs = dict(bs=bs, bptt=bptt, backwards=backwards, shuffle=shuffle, max_seq=max_len)\n",
    "\n",
    "        print(f\"LanguageModelLoader.__init__ - used GB memory: {usedGB_RAM()} length of dataset:{len(self.ragLengths)} \"+\\\n",
    "              f\"\\nnToks:{self.nToks} bptt:{self.bptt} max_seq:{self.max_seq} shuffle:{self.shuffle}\" )  \n",
    "        \n",
    "    def __iter__(self):\n",
    "        if getattr(self.dataset, 'item', None) is not None: \n",
    "            yield LongTensor(getattr(self.dataset, 'item'))[None],LongTensor([0])\n",
    "        if self.shuffle: \n",
    "            self.idx.shuffle()\n",
    "            #np.random.shuffle(self.idx)\n",
    "\n",
    "        #print(f\"LanguageModelLoader.__iter__ - used GB memory: {usedGB_RAM()} length of dataset:{len(self.ragLengths)} \"+\\\n",
    "        #      f\"nToks:{self.nToks} bptt:{self.bptt} max_seq:{self.max_seq}\" )  \n",
    "        \n",
    "        self.offset,self.ei,self.eo  = 0,0,1\n",
    "        while self.offset + self.min_seq*self.bs < self.nToks-1:\n",
    "            if self.offset==0: \n",
    "                seq_len = self.bptt + self.max_seq\n",
    "            else:\n",
    "                bptt    = self.bptt if np.random.random() < self.p_bptt else self.bptt / 2.\n",
    "                seq_len = max(self.min_seq, int(np.random.normal(bptt, 5)))\n",
    "                seq_len = min(seq_len,      self.bptt + self.max_seq)\n",
    "                \n",
    "            res, seq_len = self.get_batch(self.offset, seq_len)\n",
    "            #if self.offset==0 : print(res)\n",
    "            self.offset += self.bs*seq_len\n",
    "            yield res\n",
    "            \n",
    "    def get_batch(self, offset:int, seq_len:int) -> Tuple[LongTensor, LongTensor]:\n",
    "        \"Create a batch at `i` of a given `seq_len`.\"\n",
    "        # create a batch from the ragged token array\n",
    "        \n",
    "        #offset: the number of processed tokens in the batch    \n",
    "        #seq_len: the number of tokens that the caller wants in the batch. We do not wrap around \n",
    "        #         to pick from the start so the returned seq_len in the batch may be smaller \n",
    "        #bi: index of the first rag to be extract\n",
    "        #bo: index where the extract should be in the first rag\n",
    "        #ei: index of the last rag to be extract\n",
    "        #bo: index (not inclusive) where the extract stops in the last rag\n",
    "        \n",
    "        seq_max = (self.nToks-offset)//self.bs\n",
    "        seq_len = min( seq_len, seq_max)\n",
    "        nToks   = self.bs*(seq_len)\n",
    "        \n",
    "        #find the last rag indexes for the batch\n",
    "        bi,bo,cSum = self.ei, self.eo-1, 0\n",
    "        for j in range(bi,len(self.ragLengths)):\n",
    "            rl_i    = self.ragLengths[self.idx[j]]\n",
    "            rl     = (rl_i-bo) if j==bi else rl_i \n",
    "            cSum += rl\n",
    "            #if seq_len==seq_max: print(f\"j:{j} raglength:{self.ragLengths[self.idx[j]} rl:{rl} nToks:{nToks} cSum:{cSum}\")\n",
    "            if nToks <= cSum: \n",
    "                self.ei = j\n",
    "                self.eo = nToks-(cSum-rl) if j>bi else nToks-(cSum-rl) + bo\n",
    "                break\n",
    "            \n",
    "        #Extract the batch\n",
    "        tok_seq = []\n",
    "        for j in range(bi,self.ei+1):\n",
    "            #notice the dobbeltindexing that uses the randomization of the rags\n",
    "            rag = self.dataset.x.items[self.idx[j]]\n",
    "            if   bi==self.ei: toks = rag[bo:self.eo]\n",
    "            elif  j==bi     : toks = rag[bo:] \n",
    "            elif  j==self.ei: toks = rag[:self.eo]\n",
    "            else:             toks = rag    \n",
    "            tok_seq.extend(toks)\n",
    "        #print(f\"rag:{j} rl:{len(rag)} toks:{len(toks)}\")\n",
    "\n",
    "        #print( f\"offset:{offset} seq_len:{seq_len} seq_max:{seq_max} nToks:{nToks} nBToks:{len(tok_seq)} \"+\\\n",
    "        #       f\"bi:{bi} bo:{bo} ei:{self.ei} eo:{self.eo}\" )\n",
    "        \n",
    "        tok_seq = np.asarray(tok_seq).reshape(self.bs,-1)\n",
    "        data    = LongTensor(tok_seq)\n",
    "        res     = data[:,0:seq_len-1], data[:,1:seq_len]\n",
    "        return res, seq_len\n",
    "\n",
    "    def __len__(self) -> int: \n",
    "        #stack = ''.join(traceback.format_stack()[-levels=5:])\n",
    "        #print(f\"__len__: {stack}\")\n",
    "        return int(math.ceil((self.nToks-1) / self.bptt))\n",
    "    def __getattr__(self,k:str)->Any: return getattr(self.dataset, k)\n",
    "\n",
    "    @property\n",
    "    def batch_size(self): return self.bs\n",
    "    @batch_size.setter\n",
    "    def batch_size(self, v): self.bs = v\n",
    "\n",
    "    def batchify(self, data:np.ndarray) -> LongTensor: pass\n",
    "        #\"Split the corpus `data` in batches.\"\n",
    "        #nb = data.shape[0] // self.bs\n",
    "        #data = np.array(data[:nb*self.bs]).reshape(self.bs, -1)\n",
    "        #if self.backwards: data=data[:,::-1].copy()\n",
    "        #return LongTensor(data)\n",
    "\n",
    "class MyTextLMDataBunch(TextLMDataBunch):\n",
    "    \"Create a `TextDataBunch` suitable for training a language model.\"\n",
    "    @classmethod\n",
    "    def from_ids(cls, path:PathOrStr, vocab:Vocab, \n",
    "                 train_ids:Collection[Collection[int]],        valid_ids:Collection[Collection[int]],\n",
    "                 test_ids:Collection[Collection[int]]=None, \n",
    "                 train_lbls:Collection[Union[int,float]]=None, valid_lbls:Collection[Union[int,float]]=None, \n",
    "                 classes:Collection[Any]=None, processor:PreProcessor=None, **kwargs) -> DataBunch:\n",
    "        \"Create a `TextDataBunch` from ids, labels and a `vocab`.\"\n",
    "        src = LabelLists(path, TextList(train_ids, vocab, path=path, processor=[]),\n",
    "                               TextList(valid_ids, vocab, path=path, processor=[]))\n",
    "        #src = src.label_for_lm() if cls==TextLMDataBunch else src.label_from_lists(train_lbls, valid_lbls, classes=classes, processor=[]) \n",
    "        src.train = src.train.label_for_lm()\n",
    "        src.valid = src.valid.label_for_lm()\n",
    "\n",
    "        #if test_ids is not None: src.add_test(TextList(test_ids, vocab, path=path), label=train_lbls[0])\n",
    "        #src.valid.x.processor = ifnone(processor, [TokenizeProcessor(), NumericalizeProcessor(vocab=vocab)])\n",
    "       \n",
    "        src.train.x._bunch = MyTextLMDataBunch\n",
    "        src.valid.x._bunch = MyTextLMDataBunch\n",
    "        return src.databunch(**kwargs)\n",
    "    \n",
    "    #need customized version of this in order to set MyLanguageModelLoader\n",
    "    @classmethod\n",
    "    def create(cls, train_ds, valid_ds, test_ds=None, path:PathOrStr='.', no_check:bool=False, **kwargs) -> DataBunch:\n",
    "        \"Create a `TextDataBunch` in `path` from the `datasets` for language modelling.\"\n",
    "        print(\"MyTextLMDataBunch def create\")\n",
    "        datasets    = cls._init_ds(train_ds, valid_ds, test_ds)\n",
    "        dataloaders = [MyLanguageModelLoader(ds, shuffle=(i==0), **kwargs) for i,ds in enumerate(datasets)]\n",
    "        return cls(*dataloaders, path=path, no_check=no_check)\n"
   ]
  },
  {
   "cell_type": "code",
   "execution_count": 19,
   "metadata": {},
   "outputs": [
    {
     "name": "stdout",
     "output_type": "stream",
     "text": [
      "MyTextLMDataBunch def create\n",
      "LanguageModelLoader.__init__ - used GB memory: 10.4 length of dataset:4000 \n",
      "nToks:252772 bptt:70 max_seq:25 shuffle:True\n",
      "LanguageModelLoader.__init__ - used GB memory: 10.4 length of dataset:800 \n",
      "nToks:73497 bptt:70 max_seq:25 shuffle:False\n",
      "LanguageModelLoader.__init__ - used GB memory: 10.4 length of dataset:4000 \n",
      "nToks:252772 bptt:70 max_seq:25 shuffle:False\n"
     ]
    }
   ],
   "source": [
    "#%%debug\n",
    "#i have an issue with passing pad_idx\n",
    "dblm = MyTextLMDataBunch.from_ids( pathTrainValid, vocab, trainIDS[0:4000], validIDS[0:800], bs=128)"
   ]
  },
  {
   "cell_type": "code",
   "execution_count": 20,
   "metadata": {},
   "outputs": [
    {
     "data": {
      "text/plain": [
       "32000"
      ]
     },
     "execution_count": 20,
     "metadata": {},
     "output_type": "execute_result"
    }
   ],
   "source": [
    "len(dblm.train_ds.vocab.itos)"
   ]
  },
  {
   "cell_type": "code",
   "execution_count": 21,
   "metadata": {},
   "outputs": [
    {
     "name": "stdout",
     "output_type": "stream",
     "text": [
      "1 nb: used GB memory: 10.4\n",
      "CPU times: user 474 ms, sys: 77.5 ms, total: 552 ms\n",
      "Wall time: 635 ms\n",
      "2 nb: used GB memory: 10.55\n"
     ]
    }
   ],
   "source": [
    "print(\"1 nb: used GB memory:\", usedGB_RAM()) \n",
    "%time learn = language_model_learner(dblm, drop_mult=0, qrnn=False, pad_token=-1, callback_fns=ShowGraph)\n",
    "print(\"2 nb: used GB memory:\", usedGB_RAM()) "
   ]
  },
  {
   "cell_type": "raw",
   "metadata": {},
   "source": [
    "%time learn.lr_find()"
   ]
  },
  {
   "cell_type": "raw",
   "metadata": {},
   "source": [
    "learn.recorder.plot(skip_start=0)"
   ]
  },
  {
   "cell_type": "code",
   "execution_count": 22,
   "metadata": {
    "scrolled": false
   },
   "outputs": [
    {
     "name": "stdout",
     "output_type": "stream",
     "text": [
      "5\n",
      "1 nb: used GB memory: 10.55\n"
     ]
    },
    {
     "data": {
      "text/html": [
       "Total time: 1:17:34 <p><table style='width:300px; margin-bottom:10px'>\n",
       "  <tr>\n",
       "    <th>epoch</th>\n",
       "    <th>train_loss</th>\n",
       "    <th>valid_loss</th>\n",
       "    <th>accuracy</th>\n",
       "  </tr>\n",
       "  <tr>\n",
       "    <th>1</th>\n",
       "    <th>9.728927</th>\n",
       "    <th>8.954528</th>\n",
       "    <th>0.054251</th>\n",
       "  </tr>\n",
       "  <tr>\n",
       "    <th>2</th>\n",
       "    <th>8.784595</th>\n",
       "    <th>7.969549</th>\n",
       "    <th>0.054087</th>\n",
       "  </tr>\n",
       "  <tr>\n",
       "    <th>3</th>\n",
       "    <th>8.104761</th>\n",
       "    <th>7.505545</th>\n",
       "    <th>0.054339</th>\n",
       "  </tr>\n",
       "  <tr>\n",
       "    <th>4</th>\n",
       "    <th>7.676877</th>\n",
       "    <th>7.319628</th>\n",
       "    <th>0.053750</th>\n",
       "  </tr>\n",
       "  <tr>\n",
       "    <th>5</th>\n",
       "    <th>7.390817</th>\n",
       "    <th>7.192531</th>\n",
       "    <th>0.054520</th>\n",
       "  </tr>\n",
       "  <tr>\n",
       "    <th>6</th>\n",
       "    <th>7.191383</th>\n",
       "    <th>7.124517</th>\n",
       "    <th>0.052948</th>\n",
       "  </tr>\n",
       "  <tr>\n",
       "    <th>7</th>\n",
       "    <th>7.068231</th>\n",
       "    <th>7.070170</th>\n",
       "    <th>0.054729</th>\n",
       "  </tr>\n",
       "  <tr>\n",
       "    <th>8</th>\n",
       "    <th>6.983055</th>\n",
       "    <th>7.058527</th>\n",
       "    <th>0.054970</th>\n",
       "  </tr>\n",
       "  <tr>\n",
       "    <th>9</th>\n",
       "    <th>6.924092</th>\n",
       "    <th>7.030709</th>\n",
       "    <th>0.062767</th>\n",
       "  </tr>\n",
       "  <tr>\n",
       "    <th>10</th>\n",
       "    <th>6.874950</th>\n",
       "    <th>7.022233</th>\n",
       "    <th>0.059933</th>\n",
       "  </tr>\n",
       "</table>\n"
      ],
      "text/plain": [
       "<IPython.core.display.HTML object>"
      ]
     },
     "metadata": {},
     "output_type": "display_data"
    },
    {
     "name": "stdout",
     "output_type": "stream",
     "text": [
      "shuffle\n"
     ]
    },
    {
     "data": {
      "image/png": "[encoded data removed]",
      "text/plain": [
       "<Figure size 432x288 with 1 Axes>"
      ]
     },
     "metadata": {},
     "output_type": "display_data"
    },
    {
     "name": "stdout",
     "output_type": "stream",
     "text": [
      "shuffle\n",
      "shuffle\n",
      "shuffle\n",
      "shuffle\n",
      "shuffle\n",
      "shuffle\n",
      "shuffle\n",
      "shuffle\n",
      "shuffle\n",
      "CPU times: user 4h 3min 49s, sys: 12min 28s, total: 4h 16min 18s\n",
      "Wall time: 1h 17min 34s\n",
      "2 nb: used GB memory: 10.25\n",
      "1339\n"
     ]
    }
   ],
   "source": [
    "print(gc.collect())\n",
    "print(\"1 nb: used GB memory:\", usedGB_RAM()) \n",
    "%time learn.fit_one_cycle(10, 2e-3, moms=(0.8,0.7))\n",
    "print(\"2 nb: used GB memory:\", usedGB_RAM()) \n",
    "print(gc.collect())"
   ]
  },
  {
   "cell_type": "raw",
   "metadata": {},
   "source": [
    "\n",
    "\n",
    "\n",
    "\n"
   ]
  },
  {
   "cell_type": "raw",
   "metadata": {},
   "source": [
    "learn.fit_one_cycle(5, 2e-3, moms=(0.8,0.7))"
   ]
  },
  {
   "cell_type": "raw",
   "metadata": {},
   "source": [
    "learn.fit_one_cycle(1, 2e-4, moms=(0.8,0.7))"
   ]
  },
  {
   "cell_type": "raw",
   "metadata": {},
   "source": [
    "learn.save('model-32k-sentencepiece-vocab')"
   ]
  },
  {
   "cell_type": "raw",
   "metadata": {},
   "source": [
    "print(text.transform.BOS)\n",
    "print(text.transform.FLD)\n",
    "print(text.transform.PAD)\n",
    "type(data_lm_full.train_ds.y)"
   ]
  },
  {
   "cell_type": "raw",
   "metadata": {},
   "source": [
    "np.exp(4)"
   ]
  },
  {
   "cell_type": "raw",
   "metadata": {},
   "source": [
    "np.exp(3.239415)"
   ]
  },
  {
   "cell_type": "raw",
   "metadata": {},
   "source": []
  },
  {
   "cell_type": "raw",
   "metadata": {},
   "source": [
    "data_lm_full.train_ds.x.items"
   ]
  },
  {
   "cell_type": "raw",
   "metadata": {},
   "source": [
    "data.show_batch()"
   ]
  },
  {
   "cell_type": "raw",
   "metadata": {},
   "source": [
    "dblm.save('full_lm')"
   ]
  },
  {
   "cell_type": "raw",
   "metadata": {},
   "source": [
    "dblm = TextLMDataBunch.load(pathTrainValid, 'full_lm', bs=64)"
   ]
  },
  {
   "cell_type": "raw",
   "metadata": {},
   "source": [
    "#%%debug\n",
    "#import pdb; .set_trace() \n",
    "\n",
    "\n",
    "data_lm_full = TextLMDataBunch.from_csv( pathTrainValid, csv_name='deepfrance.csv', text_cols=0, label_cols=1,\n",
    "                                         tokenizer=tokenizer, vocab=vocab,\n",
    "                                         max_vocab=max_vocab,\n",
    "                                         min_freq=0,\n",
    "                                         chunksize=100\n",
    "                                 )"
   ]
  },
  {
   "cell_type": "raw",
   "metadata": {},
   "source": [
    "dblm.show_batch()"
   ]
  },
  {
   "cell_type": "raw",
   "metadata": {},
   "source": [
    "learn = language_model_learner(dblm, drop_mult=0, qrnn=False, pad_token=-1, callback_fns=ShowGraph)\n",
    "learn.lr_find()\n",
    "learn.recorder.plot(skip_start=0)"
   ]
  },
  {
   "cell_type": "raw",
   "metadata": {},
   "source": [
    "while training a very large language model i noticed that \"fix_ds\" in basic_data.py => def _init_ds create an extra dataset that will lead to an instance of LanguageModelLoader.\n",
    "Why would we need an extra dataset and LanguageModelLoader. The downside is loss of memory\n",
    "\n",
    "I can see and measure that it is a copy of the training data and that it uses some memory - which is bad.\n",
    "\n",
    "Why do we need it ?"
   ]
  }
 ],
 "metadata": {
  "kernelspec": {
   "display_name": "Python 3",
   "language": "python",
   "name": "python3"
  },
  "language_info": {
   "codemirror_mode": {
    "name": "ipython",
    "version": 3
   },
   "file_extension": ".py",
   "mimetype": "text/x-python",
   "name": "python",
   "nbconvert_exporter": "python",
   "pygments_lexer": "ipython3",
   "version": "3.7.1"
  }
 },
 "nbformat": 4,
 "nbformat_minor": 2
}
