{
 "cells": [
  {
   "cell_type": "code",
   "execution_count": 1,
   "metadata": {},
   "outputs": [],
   "source": [
    "%reload_ext autoreload\n",
    "%autoreload 2\n",
    "#from fastai import * \n",
    "from fastai.text import * \n",
    "import sentencepiece as spm"
   ]
  },
  {
   "cell_type": "code",
   "execution_count": 2,
   "metadata": {},
   "outputs": [],
   "source": [
    "lang            = \"en\"\n",
    "pathData       = Path(\"../nlp-data\")\n",
    "path           = pathData / lang\n",
    "pathTrainValid = path/\"wiki-train_valid\"\n",
    "spCache        = \"sp-model\"\n",
    "pathSPVocab    = pathTrainValid / spCache"
   ]
  },
  {
   "cell_type": "code",
   "execution_count": 3,
   "metadata": {},
   "outputs": [],
   "source": [
    "def usedGB_RAM(): \n",
    "    import psutil\n",
    "    return round((psutil.virtual_memory().used + psutil.swap_memory().used)/1e9,2)"
   ]
  },
  {
   "cell_type": "markdown",
   "metadata": {},
   "source": [
    "# Data preparation"
   ]
  },
  {
   "cell_type": "markdown",
   "metadata": {},
   "source": [
    "Load the training and validation data we prepared in wiki_preparation.ipynb. In total 100 million articles with a split of 80% / 20% for training/validation:\n",
    "- First column: text content to train the model. \n",
    "- Second column: Boolean representing if the data is for training or validation."
   ]
  },
  {
   "cell_type": "markdown",
   "metadata": {},
   "source": [
    "# Create Tokenizer\n",
    "The sentencepiece vocabulary was trained in Train Sentencepiece tokenizer.ipynb.\n",
    "\n",
    "Here we will make a BasicTokenizer from Sentencepiece so that fastai can use it instead of spacy"
   ]
  },
  {
   "cell_type": "code",
   "execution_count": 5,
   "metadata": {},
   "outputs": [],
   "source": [
    "class SentencepieceTokenizer(BaseTokenizer):\n",
    "    def __init__(self, lang:str):\n",
    "        path,cache_name = pathTrainValid, \"sp-model\"\n",
    "    #def __init__(self, path:PathOrStr, cache_name:str='sp-model'):\n",
    "        self.pathVocab = path / cache_name\n",
    "        self.vocab_    = Vocab(pickle.load(open(self.pathVocab/'itos.pkl', 'rb')))\n",
    "        self.tok       = spm.SentencePieceProcessor()\n",
    "        \n",
    "        self.tok.Load(str(Path(path) / cache_name / 'm.model'))\n",
    "        text.transform.UNK = \"<unk>\"\n",
    "\n",
    "    #def __call__(self, language:str): return self    \n",
    "        \n",
    "    def tokenizer(self, t:str) -> List[str]:\n",
    "        return self.tok.EncodeAsPieces(t)\n",
    "    \n",
    "    def add_special_cases(self, toks:Collection[str]):\n",
    "        #this should have been done when training sentencepiece\n",
    "        pass\n",
    "    \n",
    "    def vocab(self): return self.vocab_"
   ]
  },
  {
   "cell_type": "code",
   "execution_count": 6,
   "metadata": {},
   "outputs": [
    {
     "name": "stdout",
     "output_type": "stream",
     "text": [
      "Tokenizer SentencepieceTokenizer in en with the following rules:\n",
      " - fix_html\n",
      " - replace_rep\n",
      " - replace_wrep\n",
      " - spec_add_spaces\n",
      " - rm_useless_spaces\n",
      " - replace_all_caps\n",
      " - deal_caps\n",
      "\n",
      "size og vocabulary: 32000\n",
      "pad_idx: 2\n",
      "[0, 1, 2, 3, 4, 5, 6, 7]\n"
     ]
    },
    {
     "data": {
      "text/plain": [
       "[['▁she', '▁is', '▁tall', '.'], ['▁he', '▁is', '▁small']]"
      ]
     },
     "execution_count": 6,
     "metadata": {},
     "output_type": "execute_result"
    }
   ],
   "source": [
    "spt       = SentencepieceTokenizer(lang=\"en\")\n",
    "tokenizer = Tokenizer(SentencepieceTokenizer,\"en\")\n",
    "pad_idx   = spt.vocab().numericalize([text.transform.PAD])[0]\n",
    "vocab,max_vocab  = spt.vocab(), len(spt.vocab().itos)\n",
    "\n",
    "print(tokenizer)\n",
    "print(\"size og vocabulary:\", max_vocab)\n",
    "print(\"pad_idx:\",pad_idx)\n",
    "\n",
    "print(spt.vocab().numericalize( [\"<unk>\" ,\"xxbos\" ,\"xxpad\" ,\"xxmaj\" ,\"xxup\" ,\"xxrep\" ,\"xxwrep\", \"xxfld\"]  ))\n",
    "sentence = [\"She is tall.\", \"He is small\"]\n",
    "tokenizer._process_all_1(sentence)"
   ]
  },
  {
   "cell_type": "markdown",
   "metadata": {},
   "source": [
    "# LM Training\n"
   ]
  },
  {
   "cell_type": "markdown",
   "metadata": {},
   "source": [
    "We train two LM: one with a 60k vocabulary and one with a 30k vocabulary. The two models have different performance and computation needs."
   ]
  },
  {
   "cell_type": "code",
   "execution_count": 7,
   "metadata": {},
   "outputs": [],
   "source": [
    "#Discard section with kess than \"minTok\" tokens\n",
    "minToks=10"
   ]
  },
  {
   "cell_type": "raw",
   "metadata": {},
   "source": [
    "#from ..torch_core import *\n",
    "\n",
    "def my_join_texts(texts:Collection[str], mark_fields:bool=False):\n",
    "    if not isinstance(texts, np.ndarray): texts = np.array(texts)\n",
    "    if is1d(texts): texts = texts[:,None]\n",
    "    df = pd.DataFrame({i:texts[:,i] for i in range(texts.shape[1])})\n",
    "    #text_col = f'{BOS} {FLD} {1} ' + df[0] if mark_fields else  f'{BOS} ' + df[0]\n",
    "    text_col = df[0]\n",
    "    print(df.shape)\n",
    "    for i in range(1,len(df.columns)):\n",
    "        #text_col += (f' {FLD} {i+1} ' if mark_fields else ' ') + df[i]\n",
    "        text_col += df[i]\n",
    "    return text_col.values\n",
    "\n",
    "#text.data._join_texts = my_join_texts"
   ]
  },
  {
   "cell_type": "code",
   "execution_count": 8,
   "metadata": {},
   "outputs": [
    {
     "data": {
      "text/plain": [
       "'[0.  1.  2.  3.1]'"
      ]
     },
     "execution_count": 8,
     "metadata": {},
     "output_type": "execute_result"
    }
   ],
   "source": [
    "a= [0,1,2,3.1]\n",
    "json.dumps(a)\n",
    "str(np.asarray(a))"
   ]
  },
  {
   "cell_type": "raw",
   "metadata": {},
   "source": [
    "import io\n",
    "a=np.arange(int(1e9))\n",
    "#f = io.StringIO()\n",
    "f = (pathTrainValid/\"dummy.txt\").open(\"w\")\n",
    "%timeit f.write(str(a))\n",
    "f.close()\n",
    "gc.collect()"
   ]
  },
  {
   "cell_type": "code",
   "execution_count": 9,
   "metadata": {},
   "outputs": [],
   "source": [
    "from multiprocessing import Pool\n",
    "from multiprocessing.dummy import Pool as ThreadPool "
   ]
  },
  {
   "cell_type": "code",
   "execution_count": 10,
   "metadata": {},
   "outputs": [],
   "source": [
    "#import asyncio\n",
    "class FileTokenizer():\n",
    "    \"Put together rules and a tokenizer function to tokenize text with multiprocessing.\"\n",
    "    def __init__(self, tokPath:Path, tok_func:Callable, lang:str, vocab:Vocab=vocab, pre_rules:ListRules=None,\n",
    "                 post_rules:ListRules=None, special_cases:Collection[str]=None, n_cpus:int=None):\n",
    "        self.tok_func,self.lang,self.special_cases = tok_func,lang,special_cases\n",
    "        self.pre_rules  = ifnone(pre_rules,  defaults.text_pre_rules )\n",
    "        self.post_rules = ifnone(post_rules, defaults.text_post_rules )\n",
    "        self.special_cases = special_cases if special_cases else defaults.text_spec_tok\n",
    "        self.n_cpus = ifnone(n_cpus, defaults.cpus)\n",
    "        self.vocab  = vocab\n",
    "        self.tokPath = tokPath\n",
    "        \n",
    "        self.count=0\n",
    "\n",
    "    def __repr__(self) -> str:\n",
    "        res = f'Tokenizer {self.tok_func.__name__} in {self.lang} with the following rules:\\n'\n",
    "        for rule in self.pre_rules: res += f' - {rule.__name__}\\n'\n",
    "        for rule in self.post_rules: res += f' - {rule.__name__}\\n'\n",
    "        return res\n",
    "\n",
    "    def process_text(self, t:str, tok:BaseTokenizer) -> List[str]:\n",
    "        \"Process one text `t` with tokenizer `tok`.\"\n",
    "        inPath = Path(t)\n",
    "        if not inPath.exists(): \n",
    "            print(f\"file does not exist{str(inPath)}\")\n",
    "            return \"\"\n",
    "        \n",
    "        pathIds = self.tokPath/(inPath.stem+\"-ids.npy\")\n",
    "        pathIds.parent.mkdir(parents=True,exist_ok=True)\n",
    "        \n",
    "        arrays = []\n",
    "        with inPath.open(\"r\") as f:\n",
    "            for line in f:\n",
    "                for rule in self.pre_rules: line = rule(line)\n",
    "                toks = tok.tokenizer(line)\n",
    "                for rule in self.post_rules: toks = rule(toks)\n",
    "                ids = vocab.numericalize(toks) \n",
    "                \n",
    "                if len(toks) < minToks: continue\n",
    "                arrays.append( np.asarray(ids, dtype=np.int16) )\n",
    "        \n",
    "        if len(arrays)>0:\n",
    "            with pathIds.open(\"wb\") as f:\n",
    "                np.save(f, arrays, allow_pickle=True, fix_imports=False)\n",
    "                \n",
    "        return t\n",
    "\n",
    "    def _process_all_1(self, texts:Collection[str]) -> List[List[str]]:\n",
    "        \"Process a list of `texts` in one process.\"\n",
    "        tok = self.tok_func(self.lang)\n",
    "        if self.special_cases: tok.add_special_cases(self.special_cases)\n",
    "        return [self.process_text(t, tok) for t in texts]\n",
    "\n",
    "    def process_all(self, texts:Collection[str]) -> List[List[str]]:\n",
    "        \"Process a list of `texts`.\"\n",
    "        print(\"FileTokenizer process_all\")\n",
    "        \n",
    "        if self.n_cpus <= 1: return self._process_all_1(texts)\n",
    "        print(f\"cpus: {self.n_cpus} number of files:{len(texts)}\")\n",
    "        with ProcessPoolExecutor(self.n_cpus) as e:\n",
    "            #return e.map(self._process_all_1, partition_by_cores(texts, self.n_cpus))\n",
    "            return sum(e.map(self._process_all_1, partition_by_cores(texts, self.n_cpus)), [])\n",
    "        \n",
    "    @staticmethod\n",
    "    def getIds_from_file(files):\n",
    "        idArrays=[]\n",
    "        for fp in files:\n",
    "            with fp.open(\"rb\") as f:\n",
    "                a = np.load(f)\n",
    "                if len(a) > 0: idArrays.extend( a )\n",
    "        return idArrays \n",
    "    \n",
    "    def getIds(self, n_cpus=defaults.cpus):\n",
    "        #threading does not help on speed in this case :(\n",
    "        files = list(self.tokPath.glob(\"*-ids.npy\"))\n",
    "        \n",
    "        #3use_cores = max(1,defaults.cpus)\n",
    "        print(f\"threading with on {n_cpus} cores\")\n",
    "        \n",
    "        pool = ThreadPool(n_cpus) \n",
    "        results = pool.map(FileTokenizer.getIds_from_file, partition_by_cores(files, n_cpus))\n",
    "        pool.close() \n",
    "        pool.join()\n",
    "        \n",
    "        idArrays=[]\n",
    "        for a in results:idArrays.extend(a)\n",
    "        idArrays = np.asarray(idArrays,dtype=object)    \n",
    "        return idArrays \n"
   ]
  },
  {
   "cell_type": "code",
   "execution_count": 11,
   "metadata": {},
   "outputs": [],
   "source": [
    "class FileTokenizeProcessor(PreProcessor):\n",
    "    \"`PreProcessor` that tokenizes the texts in `ds`.\"\n",
    "    def __init__(self, ds:ItemList=None, tokenizer:Tokenizer=None, chunksize:int=10000, mark_fields:bool=False):\n",
    "        self.tokenizer,self.chunksize,self.mark_fields = ifnone(tokenizer, Tokenizer()),chunksize,mark_fields\n",
    "\n",
    "    def process_one(self, item):  return self.tokenizer._process_all_1([item])[0]\n",
    "    def process(self, ds):\n",
    "        print(\"FileTokenizeProcessor process\")\n",
    "        #ds.items = _join_texts(ds.items, self.mark_fields)\n",
    "        self.tokenizer.process_all(ds.items)\n",
    "        #ds.items = self.tokenizer.process_all(ds.items)\n",
    "        #ds.items = tokens\n"
   ]
  },
  {
   "cell_type": "code",
   "execution_count": 12,
   "metadata": {},
   "outputs": [
    {
     "name": "stdout",
     "output_type": "stream",
     "text": [
      "Tokenizer SentencepieceTokenizer in en with the following rules:\n",
      " - fix_html\n",
      " - replace_rep\n",
      " - replace_wrep\n",
      " - spec_add_spaces\n",
      " - rm_useless_spaces\n",
      " - replace_all_caps\n",
      " - deal_caps\n",
      "\n",
      "size og vocabulary: 32000\n",
      "pad_idx: 2\n",
      "[0, 1, 2, 3, 4, 5, 6, 7]\n"
     ]
    }
   ],
   "source": [
    "pad_idx   = spt.vocab().numericalize([text.transform.PAD])[0]\n",
    "vocab,max_vocab = spt.vocab(), len(spt.vocab().itos)\n",
    "trainTokenizer = FileTokenizer(pathTrainValid/\"toks/train\", SentencepieceTokenizer,\"en\",vocab)\n",
    "validTokenizer = FileTokenizer(pathTrainValid/\"toks/valid\", SentencepieceTokenizer,\"en\",vocab)\n",
    "\n",
    "print(trainTokenizer)\n",
    "print(\"size og vocabulary:\", max_vocab)\n",
    "print(\"pad_idx:\",pad_idx)\n",
    "\n",
    "print(spt.vocab().numericalize( [\"<unk>\" ,\"xxbos\" ,\"xxpad\" ,\"xxmaj\" ,\"xxup\" ,\"xxrep\" ,\"xxwrep\", \"xxfld\"]  ))\n",
    "#sentence = [\"She is tall.\", \"He is small\"]\n",
    "#tokenizer._process_all_1(sentence)"
   ]
  },
  {
   "cell_type": "code",
   "execution_count": 13,
   "metadata": {},
   "outputs": [],
   "source": [
    "#import timeit start = timeit.default_timer()\n",
    "pathTxt = pathTrainValid/\"txt\"\n",
    "files   = np.asarray( list(pathTxt.glob(\"*.txt\")) )\n",
    "nrows   = len(files)\n",
    "split   = 0.2\n",
    "splitindex, index = int(nrows*split+.5), np.random.permutation(np.arange(nrows)) \n",
    "\n",
    "chunksize=0\n",
    "\n",
    "trainList = TextList( files[:-splitindex], vocab=vocab, pad_idx=pad_idx, \n",
    "                     processor=[FileTokenizeProcessor(tokenizer=trainTokenizer, chunksize=chunksize, mark_fields=False)] )\n",
    "validList = TextList( files[-splitindex:], vocab=vocab, pad_idx=pad_idx, \n",
    "                     processor=[FileTokenizeProcessor(tokenizer=validTokenizer, chunksize=chunksize, mark_fields=False)] )\n",
    "#print(timeit.default_timer()-start )"
   ]
  },
  {
   "cell_type": "raw",
   "metadata": {},
   "source": [
    "%time p = trainList.process()"
   ]
  },
  {
   "cell_type": "raw",
   "metadata": {},
   "source": [
    "%time p = validList.process()"
   ]
  },
  {
   "cell_type": "code",
   "execution_count": 14,
   "metadata": {},
   "outputs": [
    {
     "name": "stdout",
     "output_type": "stream",
     "text": [
      "1 nb: used GB memory: 3.51\n",
      "threading with on 2 cores\n",
      "CPU times: user 2min 26s, sys: 16.7 s, total: 2min 43s\n",
      "Wall time: 2min 34s\n"
     ]
    }
   ],
   "source": [
    "print(\"1 nb: used GB memory:\", usedGB_RAM()) \n",
    "%time trainIDS = trainTokenizer.getIds(n_cpus=2)"
   ]
  },
  {
   "cell_type": "code",
   "execution_count": 15,
   "metadata": {},
   "outputs": [
    {
     "name": "stdout",
     "output_type": "stream",
     "text": [
      "threading with on 1 cores\n",
      "CPU times: user 35.4 s, sys: 3.46 s, total: 38.8 s\n",
      "Wall time: 39.4 s\n",
      "2 nb: used GB memory: 7.96\n"
     ]
    }
   ],
   "source": [
    "%time validIDS = validTokenizer.getIds(n_cpus=1)\n",
    "print(\"2 nb: used GB memory:\", usedGB_RAM()) "
   ]
  },
  {
   "cell_type": "code",
   "execution_count": 16,
   "metadata": {},
   "outputs": [
    {
     "name": "stdout",
     "output_type": "stream",
     "text": [
      "Traning:    number of arrays:25527730 - number of ids:2046492393\n",
      "Validation: number of arrays:8504038 - number of ids:733295647\n"
     ]
    }
   ],
   "source": [
    "print(f\"Traning:    number of arrays:{len(trainIDS)} - number of ids:{np.sum([len(ids) for ids in trainIDS])}\")\n",
    "print(f\"Validation: number of arrays:{len(validIDS)} - number of ids:{np.sum([len(ids) for ids in validIDS])}\")"
   ]
  },
  {
   "cell_type": "code",
   "execution_count": 17,
   "metadata": {},
   "outputs": [
    {
     "name": "stdout",
     "output_type": "stream",
     "text": [
      "min:1 max:12985 - median:63.0\n",
      "1521907\n"
     ]
    },
    {
     "data": {
      "text/plain": [
       "array([134,  71,  70,  16,  35,  39, 269, 261, 146,  89,  39,  43,  42,  20,  33, 132,  87,  67,  12,  36], dtype=int32)"
      ]
     },
     "execution_count": 17,
     "metadata": {},
     "output_type": "execute_result"
    },
    {
     "data": {
      "image/png": "[encoded data removed]",
      "text/plain": [
       "<Figure size 432x288 with 1 Axes>"
      ]
     },
     "metadata": {
      "needs_background": "light"
     },
     "output_type": "display_data"
    }
   ],
   "source": [
    "\"Analyse the distribution of the legnth of tokens sequences in the ragged/jagged array of tokes\n",
    "sectionlengths   = np.asarray([len(s) for s in trainIDS],dtype=np.int32)\n",
    "plt.hist(sectionlengths[sectionlengths<1000], 100, density=True, facecolor='g', alpha=0.75)\n",
    "np.histogram(sectionlengths[sectionlengths<1000],50)\n",
    "\n",
    "print(f\"Lenght of token rags min:{min(sectionlengths)} max:{np.max(sectionlengths)} - median:{np.median(sectionlengths)}\")\n",
    "print(np.sum(sectionlengths<10))\n",
    "sectionlengths[:20]"
   ]
  },
  {
   "cell_type": "code",
   "execution_count": 18,
   "metadata": {},
   "outputs": [],
   "source": [
    "class MyLanguageModelLoader():\n",
    "    \"Create a dataloader with bptt slightly changing.\"\n",
    "    \n",
    "    class CircularIndex():\n",
    "        def __init__(self, length:int): \n",
    "            self.idx = np.arange(length)\n",
    "            self.forward_ = True\n",
    "        #when the index exceeds the length of self.idx then is is wrap to start indexing at the head\n",
    "        #if the index is backwards then start at the end and wraps if necessary at head to continue\n",
    "        def __getitem__(self, i): \n",
    "            index = i%len(self.idx) if self.forward_ else len(self.idx)-1 - i%len(self.idx)\n",
    "            return self.idx[index]\n",
    "        def __len__(self) -> int: return len(self.idx)\n",
    "        def shuffle(self): np.random.shuffle(self.idx)\n",
    "        def forward(self, forward:bool=True): self.forward_ = forward\n",
    "                \n",
    "    def __init__(self, dataset:LabelList, bs:int=64, bptt:int=70, backwards:bool=False, shuffle:bool=False,\n",
    "                 max_len:int=25, p_bptt:int=0.95):\n",
    "        self.init_kwargs = dict(bs=bs, bptt=bptt, backwards=backwards, shuffle=shuffle, max_seq=max_len)\n",
    "        self.dataset,self.bs,self.bptt,self.backwards,self.shuffle,self.p_bptt = dataset,bs,bptt,backwards,shuffle,p_bptt\n",
    "        \n",
    "        #self.idx simplifies calculation of self.ite_len and the batch loop were seq_len varies uniformly\n",
    "        #idx is used to index the raggged dataset. \n",
    "        #It can be shuffle in-place \n",
    "        #The indexing is circular in order to stay within self.dataset.x.items\n",
    "        self.idx = MyLanguageModelLoader.CircularIndex(len(self.dataset))\n",
    "        self.idx.forward( self.backwards==False ) \n",
    "        \n",
    "        nToks = 0\n",
    "        for s in dataset.x.items: nToks+=len(s)\n",
    "        self.ite_len = math.ceil( nToks / (self.bs*self.bptt) ) #this is returned in def __len__(self) \n",
    "        \n",
    "        #The first batch has length = 2*self.bptt as in the original code\n",
    "        self.first_seq_len = 2*self.bptt\n",
    "        #The following batches vary uniformly around bppt as defined by p_bptt\n",
    "        seq_other = math.ceil( self.bptt*(1+0.5*self.p_bptt) )\n",
    "        \n",
    "        #allocate the required worth-case batchbuffer \n",
    "        max_batch_element = self.bs*( max(self.first_seq_len, seq_other) +1 )\n",
    "        self.buffer       = np.zeros(max_batch_element, dtype=np.long)\n",
    "        \n",
    "        #self.min_seq,self.max_seq = 5,max_len #self.min_seq, self.max_seq is no longer used\n",
    "        self.num_workers = 0\n",
    "\n",
    "        print(f\"LanguageModelLoader.__init__ Used GB memory:{usedGB_RAM()} batches:{len(self)} nToks:{nToks} \"+\\\n",
    "              f\"bptt:{self.bptt} p_bptt:{self.p_bptt} shuffle:{self.shuffle} backwards:{self.backwards}\" )  \n",
    "        \n",
    "    def __iter__(self):\n",
    "        if getattr(self.dataset, 'item', None) is not None: \n",
    "            yield LongTensor(getattr(self.dataset, 'item'))[None],LongTensor([0])\n",
    "        if self.shuffle: self.idx.shuffle()\n",
    "\n",
    "        i,self.ei,self.eo = 0,0,1\n",
    "        while i < self.ite_len:\n",
    "            seq_len = self.first_seq_len if i==0 else int(self.bptt*(1. + self.p_bptt*(np.random.random() - 0.5)))\n",
    "            nToks   = self.bs*(seq_len+1)\n",
    "            \n",
    "            self.fill_buffer(nToks)\n",
    "            data  = torch.from_numpy( self.buffer[:nToks].reshape(self.bs,-1) )\n",
    "            res   = data[:,0:seq_len-1], data[:,1:seq_len]        \n",
    "            i    += 1\n",
    "            #if i==self.ite_len : print(res) # check that y is shift to predict x       \n",
    "            yield res\n",
    "            \n",
    "    \n",
    "    def fill_buffer(self, nToks:int):\n",
    "        \"new the tokens in the buffer with nToks from the ragged array\"\n",
    "        #nToks: number of tokens to be extract and inserted starting at the beginning of the buffer from the \n",
    "        #       last saved indices in the ragged array and forward - possibly wrapping to the head of the dataset\n",
    "        #bi: index of the first rag to be extract\n",
    "        #bo: index where the extraction starts in the first rag\n",
    "        #ei: index of the last rag to be extract\n",
    "        #bo: index (not inclusive) where the extract stops in the last rag\n",
    "        \n",
    "        j, bi, bo, csum, ibuf = self.ei, self.ei, self.eo-1, 0, 0\n",
    "        while nToks > csum:   \n",
    "            rag   = self.dataset.x.items[self.idx[j]]\n",
    "            rl    = (len(rag)-bo) if j==bi else len(rag) \n",
    "            csum += rl        \n",
    "            if nToks <= csum: \n",
    "                self.ei = j\n",
    "                self.eo = ( nToks-(csum-rl) ) if j>bi else (nToks-(csum-rl) + bo)\n",
    "                r       = (bo,self.eo) if bi==self.ei else (0,self.eo)\n",
    "            else: \n",
    "                r       = (bo,len(rag)) if j==self.ei else (0,len(rag))            \n",
    "            self.buffer[ibuf:ibuf+r[1]-r[0]] = rag[r[0]:r[1]]\n",
    "            ibuf += r[1]-r[0]\n",
    "            j    += 1      \n",
    "        #print( f\"nToks:{nToks} nBToks:{ibuf} bi:{bi} bo:{bo} ei:{self.ei} eo:{self.eo}\" )        \n",
    "\n",
    "    def __len__(self) -> int: return self.ite_len\n",
    "    def __getattr__(self,k:str)->Any: return getattr(self.dataset, k)\n",
    "\n",
    "    @property\n",
    "    def batch_size(self): return self.bs\n",
    "    @batch_size.setter\n",
    "    def batch_size(self, v): self.bs = v\n",
    "\n",
    "    def batchify(self, data:np.ndarray) -> LongTensor: pass\n",
    "\n",
    "class MyTextLMDataBunch(TextLMDataBunch):\n",
    "    \"Create a `TextDataBunch` suitable for training a language model.\"\n",
    "    @classmethod\n",
    "    def from_ids(cls, path:PathOrStr, vocab:Vocab, \n",
    "                 train_ids:Collection[Collection[int]],        valid_ids:Collection[Collection[int]],\n",
    "                 test_ids:Collection[Collection[int]]=None, \n",
    "                 train_lbls:Collection[Union[int,float]]=None, valid_lbls:Collection[Union[int,float]]=None, \n",
    "                 classes:Collection[Any]=None, processor:PreProcessor=None, **kwargs) -> DataBunch:\n",
    "        \"Create a `TextDataBunch` from ids, labels and a `vocab`.\"\n",
    "        src = LabelLists(path, TextList(train_ids, vocab, path=path, processor=[]),\n",
    "                               TextList(valid_ids, vocab, path=path, processor=[]))\n",
    "        #src = src.label_for_lm() if cls==TextLMDataBunch else src.label_from_lists(train_lbls, valid_lbls, classes=classes, processor=[]) \n",
    "        src.train = src.train.label_for_lm()\n",
    "        src.valid = src.valid.label_for_lm()\n",
    "\n",
    "        #if test_ids is not None: src.add_test(TextList(test_ids, vocab, path=path), label=train_lbls[0])\n",
    "        #src.valid.x.processor = ifnone(processor, [TokenizeProcessor(), NumericalizeProcessor(vocab=vocab)])\n",
    "       \n",
    "        #ensure our create is called\n",
    "        src.train.x._bunch = MyTextLMDataBunch\n",
    "        src.valid.x._bunch = MyTextLMDataBunch\n",
    "        return src.databunch(**kwargs)\n",
    "    \n",
    "    #need customized version of this in order to set MyLanguageModelLoader\n",
    "    @classmethod\n",
    "    def create(cls, train_ds, valid_ds, test_ds=None, path:PathOrStr='.', no_check:bool=False, **kwargs) -> DataBunch:\n",
    "        \"Create a `TextDataBunch` in `path` from the `datasets` for language modelling.\"\n",
    "        print(\"MyTextLMDataBunch def create\")\n",
    "        datasets    = cls._init_ds(train_ds, valid_ds, test_ds)\n",
    "        dataloaders = [MyLanguageModelLoader(ds, shuffle=(i==0), **kwargs) for i,ds in enumerate(datasets)]\n",
    "        return cls(*dataloaders, path=path, no_check=no_check)\n"
   ]
  },
  {
   "cell_type": "code",
   "execution_count": 19,
   "metadata": {},
   "outputs": [
    {
     "name": "stdout",
     "output_type": "stream",
     "text": [
      "MyTextLMDataBunch def create\n",
      "LanguageModelLoader.__init__ Used GB memory:10.67 batches:29 nToks:252772 bptt:70 p_bptt:0.95 shuffle:True backwards:False\n",
      "LanguageModelLoader.__init__ Used GB memory:10.67 batches:9 nToks:73497 bptt:70 p_bptt:0.95 shuffle:False backwards:False\n",
      "LanguageModelLoader.__init__ Used GB memory:10.67 batches:29 nToks:252772 bptt:70 p_bptt:0.95 shuffle:False backwards:False\n"
     ]
    }
   ],
   "source": [
    "#i have an issue with passing pad_idx\n",
    "dblm = MyTextLMDataBunch.from_ids( pathTrainValid, vocab, trainIDS[0:4000], validIDS[0:800], bs=128)\n",
    "#dblm = MyTextLMDataBunch.from_ids( pathTrainValid, vocab, trainIDS[0:1000], validIDS[0:200], bs=32)"
   ]
  },
  {
   "cell_type": "code",
   "execution_count": 20,
   "metadata": {},
   "outputs": [
    {
     "data": {
      "text/plain": [
       "32000"
      ]
     },
     "execution_count": 20,
     "metadata": {},
     "output_type": "execute_result"
    }
   ],
   "source": [
    "len(dblm.train_ds.vocab.itos)"
   ]
  },
  {
   "cell_type": "code",
   "execution_count": 28,
   "metadata": {},
   "outputs": [
    {
     "data": {
      "text/html": [
       "<table>  <col width='5%'>  <col width='95%'>  <tr>\n",
       "    <th>idx</th>\n",
       "    <th>text</th>\n",
       "  </tr>\n",
       "  <tr>\n",
       "    <th>0</th>\n",
       "    <th><unk> ▁lost ▁both ▁his ▁legs ▁in ▁1971. xxup ▁i ga ▁ ś wi ą t ek ▁won ▁the ▁title , ▁defeating <unk> ie xxup ▁k ün g ▁in ▁the ▁final , ▁6–4 , ▁6–2 . <unk> hard <unk> le ben ▁of ▁the xxup ▁i s k ▁travelled ▁to <unk> ▁in ▁1928, ▁seeking ▁support ▁for ▁the ▁group ' s ▁ideas . ▁he ▁recruited ▁three ▁members : <unk> <unk> , <unk> ▁green</th>\n",
       "  </tr>\n",
       "  <tr>\n",
       "    <th>1</th>\n",
       "    <th>▁series ▁within ▁the <unk> ma ▁brand ▁and ▁sold ▁alongside ▁the ▁similarly ▁size d <unk> ma xxup ▁m 6. ▁originally ▁launched ▁as ▁the ▁third ▁generation <unk> ma ▁family ▁se dan , ▁the ▁model ▁was ▁later ▁renamed ▁to <unk> ma xxup ▁f ami lia xxup ▁m 5, ▁replacing ▁the <unk> ma ▁3 ▁or <unk> ma ▁family ▁compact ▁cars . ▁de but ing ▁in ▁late ▁2013 ▁and ▁officially ▁launched ▁in ▁may ▁2014, ▁the</th>\n",
       "  </tr>\n",
       "  <tr>\n",
       "    <th>2</th>\n",
       "    <th>▁institution ▁of ▁highway s ▁and ▁transportation . ▁she ▁was ▁director ▁of ▁as set ▁management ▁at ▁transport ▁for <unk> . ▁par don ▁died ▁on ▁12 <unk> ▁1910 ▁aboard ▁the ▁\" o xu s \", ▁on ▁which ▁he ▁had ▁embarked ▁in <unk> . ▁during ▁the <unk> – xxmaj <unk> ▁war ▁in <unk> ▁1901 , <unk> ▁was ▁injured ▁in ▁a ▁battle ▁in ▁the <unk> <unk> ▁municipality . ▁although ▁he ▁got ▁shot ▁through ▁the</th>\n",
       "  </tr>\n",
       "  <tr>\n",
       "    <th>3</th>\n",
       "    <th>ification ▁of ▁with dra wal ) ▁act ▁2017 ▁upon ▁the ▁result ▁of ▁the ▁public ▁vote ▁and ▁requires ▁the ▁prime ▁minister ▁to ▁not ify ▁the xxup ▁eu ▁of ▁the xxup <unk> ' s ▁re traction ▁of ▁its ▁article ▁50 ▁notice ▁as ▁follows : ▁on <unk> ▁20, ▁2018, <unk> ▁police ▁raid ed ▁the ▁home ▁of ▁the ▁board ▁members ▁of ▁the <unk> ▁non - profit xxup ▁z wi ebel fre und e ,</th>\n",
       "  </tr>\n",
       "  <tr>\n",
       "    <th>4</th>\n",
       "    <th>, ▁the ▁hotel ▁was ▁a ▁three - story ▁brick ▁and ▁s tu cco ▁building ▁in <unk> ▁revival ▁style . ▁an ▁extensive ▁re model ing ▁happened ▁in ▁1928, ▁with <unk> xxup ▁t . ▁no lan ▁supervision , ▁which ▁added ▁a ▁fourth <unk> ▁style d ▁story ▁to ▁the ▁building , ▁including ▁an ▁und ulated ▁roof ▁and ▁a ▁corner ▁ob eli sk . ▁the ▁1928 ▁re model ing ▁also ▁added ▁a ▁three -</th>\n",
       "  </tr>\n",
       "</table>\n"
      ],
      "text/plain": [
       "<IPython.core.display.HTML object>"
      ]
     },
     "metadata": {},
     "output_type": "display_data"
    }
   ],
   "source": [
    "dblm.show_batch()"
   ]
  },
  {
   "cell_type": "code",
   "execution_count": 21,
   "metadata": {},
   "outputs": [
    {
     "name": "stdout",
     "output_type": "stream",
     "text": [
      "1 nb: used GB memory: 10.66\n",
      "CPU times: user 469 ms, sys: 48.2 ms, total: 517 ms\n",
      "Wall time: 535 ms\n",
      "2 nb: used GB memory: 10.66\n"
     ]
    }
   ],
   "source": [
    "print(\"1 nb: used GB memory:\", usedGB_RAM()) \n",
    "%time learn = language_model_learner(dblm, drop_mult=0, qrnn=False, pad_token=-1, callback_fns=ShowGraph)\n",
    "print(\"2 nb: used GB memory:\", usedGB_RAM()) "
   ]
  },
  {
   "cell_type": "raw",
   "metadata": {},
   "source": [
    "%time learn.lr_find()\n",
    "learn.recorder.plot(skip_start=0)"
   ]
  },
  {
   "cell_type": "code",
   "execution_count": 22,
   "metadata": {
    "scrolled": false
   },
   "outputs": [
    {
     "name": "stdout",
     "output_type": "stream",
     "text": [
      "1 nb: gc.collect:7435 - used GB memory:10.63\n"
     ]
    },
    {
     "data": {
      "text/html": [
       "Total time: 1:22:45 <p><table style='width:300px; margin-bottom:10px'>\n",
       "  <tr>\n",
       "    <th>epoch</th>\n",
       "    <th>train_loss</th>\n",
       "    <th>valid_loss</th>\n",
       "    <th>accuracy</th>\n",
       "  </tr>\n",
       "  <tr>\n",
       "    <th>1</th>\n",
       "    <th>9.112278</th>\n",
       "    <th>7.478217</th>\n",
       "    <th>0.058400</th>\n",
       "  </tr>\n",
       "  <tr>\n",
       "    <th>2</th>\n",
       "    <th>7.717758</th>\n",
       "    <th>7.057650</th>\n",
       "    <th>0.051947</th>\n",
       "  </tr>\n",
       "  <tr>\n",
       "    <th>3</th>\n",
       "    <th>7.199347</th>\n",
       "    <th>6.861418</th>\n",
       "    <th>0.084079</th>\n",
       "  </tr>\n",
       "  <tr>\n",
       "    <th>4</th>\n",
       "    <th>6.848588</th>\n",
       "    <th>6.628748</th>\n",
       "    <th>0.103896</th>\n",
       "  </tr>\n",
       "  <tr>\n",
       "    <th>5</th>\n",
       "    <th>6.544610</th>\n",
       "    <th>6.420011</th>\n",
       "    <th>0.124220</th>\n",
       "  </tr>\n",
       "  <tr>\n",
       "    <th>6</th>\n",
       "    <th>6.275595</th>\n",
       "    <th>6.329161</th>\n",
       "    <th>0.136577</th>\n",
       "  </tr>\n",
       "  <tr>\n",
       "    <th>7</th>\n",
       "    <th>6.051308</th>\n",
       "    <th>6.228448</th>\n",
       "    <th>0.142387</th>\n",
       "  </tr>\n",
       "  <tr>\n",
       "    <th>8</th>\n",
       "    <th>5.878789</th>\n",
       "    <th>6.197314</th>\n",
       "    <th>0.145556</th>\n",
       "  </tr>\n",
       "  <tr>\n",
       "    <th>9</th>\n",
       "    <th>5.748291</th>\n",
       "    <th>6.213835</th>\n",
       "    <th>0.145112</th>\n",
       "  </tr>\n",
       "  <tr>\n",
       "    <th>10</th>\n",
       "    <th>5.658380</th>\n",
       "    <th>6.169898</th>\n",
       "    <th>0.146772</th>\n",
       "  </tr>\n",
       "</table>\n"
      ],
      "text/plain": [
       "<IPython.core.display.HTML object>"
      ]
     },
     "metadata": {},
     "output_type": "display_data"
    },
    {
     "data": {
      "image/png": "[encoded data removed]",
      "text/plain": [
       "<Figure size 432x288 with 1 Axes>"
      ]
     },
     "metadata": {},
     "output_type": "display_data"
    },
    {
     "name": "stdout",
     "output_type": "stream",
     "text": [
      "CPU times: user 4h 20min 54s, sys: 12min 45s, total: 4h 33min 40s\n",
      "Wall time: 1h 22min 45s\n",
      "2 nb: gc.collect:1339 - used GB memory:13.83\n"
     ]
    }
   ],
   "source": [
    "print(f\"1 nb: gc.collect:{gc.collect()} - used GB memory:{usedGB_RAM()}\") \n",
    "%time learn.fit_one_cycle(10, 2e-3, moms=(0.8,0.7))\n",
    "print(f\"2 nb: gc.collect:{gc.collect()} - used GB memory:{usedGB_RAM()}\") "
   ]
  },
  {
   "cell_type": "code",
   "execution_count": 25,
   "metadata": {},
   "outputs": [],
   "source": [
    "learn.save('model-32k-sentencepiece-vocab')"
   ]
  },
  {
   "cell_type": "raw",
   "metadata": {},
   "source": [
    "#load does not work\n",
    "learn.load('model-32k-sentencepiece-vocab')"
   ]
  },
  {
   "cell_type": "raw",
   "metadata": {},
   "source": [
    "\n",
    "\n",
    "\n"
   ]
  },
  {
   "cell_type": "raw",
   "metadata": {},
   "source": [
    "while training a very large language model i noticed that \"fix_ds\" in basic_data.py => def _init_ds create an extra dataset that will lead to an instance of LanguageModelLoader.\n",
    "Why would we need an extra dataset and LanguageModelLoader. The downside is loss of memory\n",
    "\n",
    "I can see and measure that it is a copy of the training data and that it uses some memory - which is bad.\n",
    "\n",
    "Why do we need it ?"
   ]
  }
 ],
 "metadata": {
  "kernelspec": {
   "display_name": "Python 3",
   "language": "python",
   "name": "python3"
  },
  "language_info": {
   "codemirror_mode": {
    "name": "ipython",
    "version": 3
   },
   "file_extension": ".py",
   "mimetype": "text/x-python",
   "name": "python",
   "nbconvert_exporter": "python",
   "pygments_lexer": "ipython3",
   "version": "3.7.1"
  }
 },
 "nbformat": 4,
 "nbformat_minor": 2
}
