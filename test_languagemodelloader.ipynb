{
 "cells": [
  {
   "cell_type": "markdown",
   "metadata": {},
   "source": [
    "# Test of whether LanguageModelLoader deliver batch where each row is a continuous set of tokens\n",
    "\n",
    "\n",
    "Status is that the test works with\n",
    "\n",
    "-MyLanguageModelLoader \n",
    "\n",
    "-fastai's LanguageModelLoader, however, throws an exception while indexing the jagged array\n"
   ]
  },
  {
   "cell_type": "code",
   "execution_count": 1,
   "metadata": {},
   "outputs": [],
   "source": [
    "%reload_ext autoreload\n",
    "%autoreload 2"
   ]
  },
  {
   "cell_type": "code",
   "execution_count": 2,
   "metadata": {},
   "outputs": [],
   "source": [
    "from fastai.text import * \n",
    "from languagemodelloader import *"
   ]
  },
  {
   "cell_type": "code",
   "execution_count": 3,
   "metadata": {},
   "outputs": [],
   "source": [
    "def getAllBatches(data,iterations=1):\n",
    "    x=None\n",
    "    data.on_epoch_begin()\n",
    "    for i in range(iterations):\n",
    "        countIte=0\n",
    "        for xb,yb in data:\n",
    "            countIte += 1\n",
    "            d= xb.data.numpy()            \n",
    "            if x is None: \n",
    "                x = xb.data.numpy().copy()\n",
    "            else:         \n",
    "                x = np.concatenate((x, xb.data.numpy().copy()),axis=1)\n",
    "            continue\n",
    "    data.on_epoch_end()\n",
    "    return x,countIte"
   ]
  },
  {
   "cell_type": "code",
   "execution_count": 4,
   "metadata": {},
   "outputs": [],
   "source": [
    "def jaggedArrayWithConsecutiveNumbers(bs,sentence_length,iterations,minTokens):\n",
    "    \"create jagged array with random layout and filled with consequetive numbers\"\n",
    "    jagged = []\n",
    "    count = 0\n",
    "    total = bs*sentence_length*iterations\n",
    "    #print(f\"total:{total}\")\n",
    "    while count < total:\n",
    "        nb = total-count if total-count<sentence_length else minTokens+int(np.random.random() * sentence_length)\n",
    "        jagged.append(np.arange(count+1,count+1+nb))\n",
    "        count = jagged[-1][-1]\n",
    "    jagged = np.asarray(jagged)    \n",
    "    return jagged, count\n",
    "\n",
    "def printJagged(jagged, count):\n",
    "    print(f\"count:{count}\")\n",
    "    for j in jagged: print(j)"
   ]
  },
  {
   "cell_type": "code",
   "execution_count": 5,
   "metadata": {},
   "outputs": [],
   "source": [
    "def test_datadirection( bs,seq_len,sentence_length, iterations,minTokens, backwards=False, nbInoutGenerations=10, log=False):\n",
    "    for i in range(nbInoutGenerations):\n",
    "        jagged,countTokens = jaggedArrayWithConsecutiveNumbers(bs,seq_len,iterations,minTokens)\n",
    "        if log: \n",
    "            print(\"jagged array\")\n",
    "            printJagged(jagged, countTokens)\n",
    "            \n",
    "        trainIDS = validIDS = jagged\n",
    "        db       = TextLMDataBunch.from_ids( \".\", None, trainIDS, validIDS, bptt=seq_len, bs=bs, no_check=True)\n",
    "        data     = LanguageModelPreLoader(db.train_ds, bs=bs, bptt=seq_len, backwards=backwards, shuffle=False)\n",
    "        dl       = DataLoader(data, bs, shuffle=False)\n",
    "        batches, countIte = getAllBatches(dl)\n",
    "        if log: \n",
    "            print(\"concatenated batchs\")\n",
    "            display(pd.DataFrame(data=batches))\n",
    "\n",
    "        assert countIte==len(dl), f\"number of iteration does not match: countIte:{countIte}!= len(data):{len(dl)} \"\n",
    "        \n",
    "        #The diff from one to the next column must be 1 for aligned mini-batches with forward indexing of the data\n",
    "        #(forward is default for LanguageModelLoader ie.: backwards=False) \n",
    "        b_diff = batches[:,1:] - batches[:,0:-1]\n",
    "        if log: \n",
    "            print(\"column diffs\")\n",
    "            display(pd.DataFrame(data=b_diff))\n",
    "            \n",
    "        diff_value = -1 if backwards else 1\n",
    "        assert (b_diff.flatten()==diff_value).all(), \"the sequences of batch rows are not contiguous\"\n",
    "        \n",
    "        ix = np.arange(1,len(batches))\n",
    "        diff = -1 if backwards else 1\n",
    "        assert np.all(batches[ix-1,-1]+diff == batches[ix,0]), f\"last token i row-1 {batches[ix-1,-1]}+{diff} must be equal to first element in row:{batches[ix,0]}\"\n",
    "    gc.collect()"
   ]
  },
  {
   "cell_type": "markdown",
   "metadata": {},
   "source": [
    "# Test continouity of tokens in batches loaded forwards and backwards"
   ]
  },
  {
   "cell_type": "code",
   "execution_count": 6,
   "metadata": {},
   "outputs": [],
   "source": [
    "#create test data so that we can control whether the LanguageModelLoader returns contigous tokens \n",
    "#The genrated data must be size so that the batches will not wrap aoround. \n",
    "bs         =  32\n",
    "seq_len    =  3  #=bptt\n",
    "sentence_length = 7*seq_len\n",
    "iterations =  2\n",
    "minTokens  =  1 #in a rag array"
   ]
  },
  {
   "cell_type": "code",
   "execution_count": 7,
   "metadata": {},
   "outputs": [
    {
     "name": "stdout",
     "output_type": "stream",
     "text": [
      "CPU times: user 2.82 s, sys: 7.14 ms, total: 2.82 s\n",
      "Wall time: 2.82 s\n"
     ]
    }
   ],
   "source": [
    "%time test_datadirection( bs, seq_len, sentence_length, iterations, minTokens, backwards=False, nbInoutGenerations=1000, log=False)"
   ]
  },
  {
   "cell_type": "code",
   "execution_count": 8,
   "metadata": {},
   "outputs": [
    {
     "name": "stdout",
     "output_type": "stream",
     "text": [
      "CPU times: user 2.88 s, sys: 6.53 ms, total: 2.89 s\n",
      "Wall time: 2.89 s\n"
     ]
    }
   ],
   "source": [
    "%time test_datadirection( bs, seq_len,  sentence_length, iterations, minTokens, backwards=True, nbInoutGenerations=1000, log=False)"
   ]
  },
  {
   "cell_type": "code",
   "execution_count": 9,
   "metadata": {},
   "outputs": [],
   "source": [
    "import cProfile\n",
    "from line_profiler import *\n",
    "%load_ext line_profiler"
   ]
  },
  {
   "cell_type": "raw",
   "metadata": {},
   "source": [
    "cProfile.run('test_datadirection( bs, seq_len, sentence_length, iterations, minTokens, backwards=False, nbInoutGenerations=10000, log=False)').sort_stats(-1)"
   ]
  },
  {
   "cell_type": "code",
   "execution_count": 10,
   "metadata": {},
   "outputs": [],
   "source": [
    "%lprun -f LanguageModelPreLoader.fill_row test_datadirection( bs, seq_len, sentence_length, iterations, minTokens, backwards=False, nbInoutGenerations=1000, log=False)\n",
    "#%lprun -f LanguageModelPreLoader.fill_batch test_datadirection( bs, seq_len, sentence_length, iterations, minTokens, backwards=True, nbInoutGenerations=10000, log=False)"
   ]
  },
  {
   "cell_type": "code",
   "execution_count": null,
   "metadata": {},
   "outputs": [],
   "source": []
  }
 ],
 "metadata": {
  "kernelspec": {
   "display_name": "Python 3",
   "language": "python",
   "name": "python3"
  },
  "language_info": {
   "codemirror_mode": {
    "name": "ipython",
    "version": 3
   },
   "file_extension": ".py",
   "mimetype": "text/x-python",
   "name": "python",
   "nbconvert_exporter": "python",
   "pygments_lexer": "ipython3",
   "version": "3.7.1"
  }
 },
 "nbformat": 4,
 "nbformat_minor": 2
}
