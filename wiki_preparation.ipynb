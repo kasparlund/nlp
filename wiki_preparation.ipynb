{
 "cells": [
  {
   "cell_type": "code",
   "execution_count": 1,
   "metadata": {},
   "outputs": [],
   "source": [
    "%reload_ext autoreload\n",
    "%autoreload 2"
   ]
  },
  {
   "cell_type": "code",
   "execution_count": 10,
   "metadata": {},
   "outputs": [],
   "source": [
    "import pandas as pd\n",
    "import numpy as np\n",
    "import json as json\n",
    "from pathlib import *\n",
    "import re\n",
    "from IPython.display import display, HTML\n"
   ]
  },
  {
   "cell_type": "code",
   "execution_count": 3,
   "metadata": {},
   "outputs": [],
   "source": [
    "path      = Path(\"../nlp-data/fr/\")\n",
    "pathSrc   = path/\"wiki-json\"\n",
    "pathClear = path/\"wiki-train_valid\"\n",
    "pathClearTxt = path/\"wiki-train_valid\"/\"txt\"\n",
    "pathClear.mkdir(exist_ok=True)\n",
    "pathClearTxt.mkdir(exist_ok=True)"
   ]
  },
  {
   "cell_type": "code",
   "execution_count": 4,
   "metadata": {},
   "outputs": [],
   "source": [
    "from fastai import *\n",
    "from fastai.text import * \n",
    "txt = []\n",
    "noSrcParts = len(pathSrc.parts)\n",
    "for fn in pathSrc.glob(\"**/wiki*\"):\n",
    "    with open(fn, encoding='utf-8') as f:\n",
    "        sections = []\n",
    "        for line in f:\n",
    "            \n",
    "            section = json.loads(line)\n",
    "            if section['text'].find(section['title']) >=0 :\n",
    "                section['text'] = section['text'][len(section['title'])+2:]\n",
    "                \n",
    "            section['text']      = text.rm_useless_spaces(text.fix_html(section['text'])).replace('\\n\\n', \"\\n\")\n",
    "            section['textWords'] = len(re.findall(r'\\w+',section['text']))\n",
    "            \n",
    "            if section['textWords'] > 0:\n",
    "                txt.append(section)\n",
    "                sections.append(section)\n",
    "                \n",
    "        if len(sections)>0:\n",
    "            p = pathClearTxt.joinpath(*fn.parts[noSrcParts:])\n",
    "            p.parent.mkdir(exist_ok=True)\n",
    "            with p.open(\"w+\") as fw:\n",
    "                for s in sections:\n",
    "                    fw.write(s[\"text\"])\n",
    "                \n",
    "                \n",
    "dfText = pd.DataFrame(txt)\n",
    "dfText = dfText[dfText.textWords>0]\n",
    "dfText.to_csv(pathClear/'wiki.csv',index=False)"
   ]
  },
  {
   "cell_type": "code",
   "execution_count": 5,
   "metadata": {},
   "outputs": [],
   "source": [
    "#Read the csv files select the rows with most text and asign train and validation labels"
   ]
  },
  {
   "cell_type": "code",
   "execution_count": 12,
   "metadata": {},
   "outputs": [
    {
     "name": "stdout",
     "output_type": "stream",
     "text": [
      "dfText.shape:(1000000, 5)\n"
     ]
    },
    {
     "data": {
      "text/html": [
       "<div>\n",
       "<style scoped>\n",
       "    .dataframe tbody tr th:only-of-type {\n",
       "        vertical-align: middle;\n",
       "    }\n",
       "\n",
       "    .dataframe tbody tr th {\n",
       "        vertical-align: top;\n",
       "    }\n",
       "\n",
       "    .dataframe thead th {\n",
       "        text-align: right;\n",
       "    }\n",
       "</style>\n",
       "<table border=\"1\" class=\"dataframe\">\n",
       "  <thead>\n",
       "    <tr style=\"text-align: right;\">\n",
       "      <th></th>\n",
       "      <th>id</th>\n",
       "      <th>text</th>\n",
       "      <th>textWords</th>\n",
       "      <th>title</th>\n",
       "      <th>url</th>\n",
       "    </tr>\n",
       "  </thead>\n",
       "  <tbody>\n",
       "    <tr>\n",
       "      <th>1616423</th>\n",
       "      <td>7840298</td>\n",
       "      <td>Georges Turines, né le à Lautignac et mort le ...</td>\n",
       "      <td>112</td>\n",
       "      <td>Georges Turines</td>\n",
       "      <td>https://fr.wikipedia.org/wiki?curid=7840298</td>\n",
       "    </tr>\n",
       "    <tr>\n",
       "      <th>1503613</th>\n",
       "      <td>3343103</td>\n",
       "      <td>Le Lac Travis est un réservoir situé sur le Co...</td>\n",
       "      <td>112</td>\n",
       "      <td>Lac Travis</td>\n",
       "      <td>https://fr.wikipedia.org/wiki?curid=3343103</td>\n",
       "    </tr>\n",
       "    <tr>\n",
       "      <th>542789</th>\n",
       "      <td>1593728</td>\n",
       "      <td>Vraptchichté (en , en ) est une municipalité d...</td>\n",
       "      <td>112</td>\n",
       "      <td>Vraptchichté</td>\n",
       "      <td>https://fr.wikipedia.org/wiki?curid=1593728</td>\n",
       "    </tr>\n",
       "    <tr>\n",
       "      <th>28544</th>\n",
       "      <td>4139306</td>\n",
       "      <td>Tigran Levonovitch Petrossian (en ) est un gra...</td>\n",
       "      <td>112</td>\n",
       "      <td>Tigran L. Petrossian</td>\n",
       "      <td>https://fr.wikipedia.org/wiki?curid=4139306</td>\n",
       "    </tr>\n",
       "    <tr>\n",
       "      <th>394379</th>\n",
       "      <td>5636896</td>\n",
       "      <td>L'Oberlin noir (N595) est un cépage.\\nDescript...</td>\n",
       "      <td>112</td>\n",
       "      <td>Oberlin noir</td>\n",
       "      <td>https://fr.wikipedia.org/wiki?curid=5636896</td>\n",
       "    </tr>\n",
       "  </tbody>\n",
       "</table>\n",
       "</div>"
      ],
      "text/plain": [
       "              id                                               text  \\\n",
       "1616423  7840298  Georges Turines, né le à Lautignac et mort le ...   \n",
       "1503613  3343103  Le Lac Travis est un réservoir situé sur le Co...   \n",
       "542789   1593728  Vraptchichté (en , en ) est une municipalité d...   \n",
       "28544    4139306  Tigran Levonovitch Petrossian (en ) est un gra...   \n",
       "394379   5636896  L'Oberlin noir (N595) est un cépage.\\nDescript...   \n",
       "\n",
       "         textWords                 title  \\\n",
       "1616423        112       Georges Turines   \n",
       "1503613        112            Lac Travis   \n",
       "542789         112          Vraptchichté   \n",
       "28544          112  Tigran L. Petrossian   \n",
       "394379         112          Oberlin noir   \n",
       "\n",
       "                                                 url  \n",
       "1616423  https://fr.wikipedia.org/wiki?curid=7840298  \n",
       "1503613  https://fr.wikipedia.org/wiki?curid=3343103  \n",
       "542789   https://fr.wikipedia.org/wiki?curid=1593728  \n",
       "28544    https://fr.wikipedia.org/wiki?curid=4139306  \n",
       "394379   https://fr.wikipedia.org/wiki?curid=5636896  "
      ]
     },
     "execution_count": 12,
     "metadata": {},
     "output_type": "execute_result"
    }
   ],
   "source": [
    "print(f\"dfText.shape:{dfText.shape}\")\n",
    "dfText.head()"
   ]
  },
  {
   "cell_type": "code",
   "execution_count": null,
   "metadata": {
    "scrolled": true
   },
   "outputs": [],
   "source": []
  },
  {
   "cell_type": "raw",
   "metadata": {},
   "source": [
    "#save cleaned text as one file for training of the tokenizer\n",
    "dfText  = pd.read_csv(pathClean/'train_and_valid.csv')\n",
    "textCol = 1\n",
    "with open(pathClean/\"train_and_valid.txt\", \"w\") as fn:\n",
    "    for i in range(dfText.shape[0]):\n",
    "        fn.write(dfText.iloc[i,textCol])\n",
    "    fn.close()"
   ]
  },
  {
   "cell_type": "code",
   "execution_count": null,
   "metadata": {},
   "outputs": [],
   "source": []
  }
 ],
 "metadata": {
  "kernelspec": {
   "display_name": "Python 3",
   "language": "python",
   "name": "python3"
  },
  "language_info": {
   "codemirror_mode": {
    "name": "ipython",
    "version": 3
   },
   "file_extension": ".py",
   "mimetype": "text/x-python",
   "name": "python",
   "nbconvert_exporter": "python",
   "pygments_lexer": "ipython3",
   "version": "3.7.1"
  }
 },
 "nbformat": 4,
 "nbformat_minor": 2
}
