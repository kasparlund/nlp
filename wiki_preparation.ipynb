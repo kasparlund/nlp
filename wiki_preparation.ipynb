{
 "cells": [
  {
   "cell_type": "code",
   "execution_count": 1,
   "metadata": {},
   "outputs": [],
   "source": [
    "%reload_ext autoreload\n",
    "%autoreload 2"
   ]
  },
  {
   "cell_type": "code",
   "execution_count": 2,
   "metadata": {},
   "outputs": [],
   "source": [
    "import pandas as pd\n",
    "import numpy as np\n",
    "import json as json\n",
    "from pathlib import *\n",
    "import re\n",
    "from IPython.display import display, HTML"
   ]
  },
  {
   "cell_type": "code",
   "execution_count": 3,
   "metadata": {},
   "outputs": [],
   "source": [
    "path              = Path(\"../../data/nlp-data/fr/\")\n",
    "pathJson          = path/\"wiki-json\"\n",
    "pathWikiExtractor = \"../wikiextractor\""
   ]
  },
  {
   "cell_type": "markdown",
   "metadata": {},
   "source": [
    "# convert wikidump to a cleaned jon files\n",
    "\n",
    "1) Clone wikiextractor: git clone https://github.com/attardi/wikiextractor.git ../\n",
    "\n",
    "2) Install wikiextractor by running the following command use sudo if required: python setup.py install\n",
    "\n",
    "3) Then we convert the wikidump to json-files using wikiextractr that also removes wiki formatting etc"
   ]
  },
  {
   "cell_type": "code",
   "execution_count": 4,
   "metadata": {
    "scrolled": true
   },
   "outputs": [
    {
     "name": "stdout",
     "output_type": "stream",
     "text": [
      "Cloning into '../wikiextractor'...\n",
      "remote: Enumerating objects: 523, done.\u001b[K\n",
      "remote: Total 523 (delta 0), reused 0 (delta 0), pack-reused 523\u001b[K\n",
      "Receiving objects: 100% (523/523), 454.22 KiB | 1.09 MiB/s, done.\n",
      "Resolving deltas: 100% (297/297), done.\n"
     ]
    }
   ],
   "source": [
    "!git clone https://github.com/attardi/wikiextractor.git $pathWikiExtractor"
   ]
  },
  {
   "cell_type": "code",
   "execution_count": 5,
   "metadata": {
    "scrolled": true
   },
   "outputs": [
    {
     "name": "stdout",
     "output_type": "stream",
     "text": [
      "/home/kl/code/wikiextractor\n",
      "running install\n",
      "running bdist_egg\n",
      "running egg_info\n",
      "creating wikiextractor.egg-info\n",
      "writing wikiextractor.egg-info/PKG-INFO\n",
      "writing dependency_links to wikiextractor.egg-info/dependency_links.txt\n",
      "writing top-level names to wikiextractor.egg-info/top_level.txt\n",
      "writing manifest file 'wikiextractor.egg-info/SOURCES.txt'\n",
      "reading manifest file 'wikiextractor.egg-info/SOURCES.txt'\n",
      "writing manifest file 'wikiextractor.egg-info/SOURCES.txt'\n",
      "installing library code to build/bdist.linux-x86_64/egg\n",
      "running install_lib\n"
     ]
    },
    {
     "name": "stderr",
     "output_type": "stream",
     "text": [
      "warning: install_lib: 'build/lib' does not exist -- no Python modules to install\n",
      "\n"
     ]
    },
    {
     "name": "stdout",
     "output_type": "stream",
     "text": [
      "creating build\n",
      "creating build/bdist.linux-x86_64\n",
      "creating build/bdist.linux-x86_64/egg\n",
      "creating build/bdist.linux-x86_64/egg/EGG-INFO\n",
      "installing scripts to build/bdist.linux-x86_64/egg/EGG-INFO/scripts\n",
      "running install_scripts\n",
      "running build_scripts\n",
      "creating build/scripts-3.6\n",
      "copying and adjusting WikiExtractor.py -> build/scripts-3.6\n",
      "changing mode of build/scripts-3.6/WikiExtractor.py from 644 to 755\n",
      "creating build/bdist.linux-x86_64/egg/EGG-INFO/scripts\n",
      "copying build/scripts-3.6/WikiExtractor.py -> build/bdist.linux-x86_64/egg/EGG-INFO/scripts\n",
      "changing mode of build/bdist.linux-x86_64/egg/EGG-INFO/scripts/WikiExtractor.py to 755\n",
      "copying wikiextractor.egg-info/PKG-INFO -> build/bdist.linux-x86_64/egg/EGG-INFO\n",
      "copying wikiextractor.egg-info/SOURCES.txt -> build/bdist.linux-x86_64/egg/EGG-INFO\n",
      "copying wikiextractor.egg-info/dependency_links.txt -> build/bdist.linux-x86_64/egg/EGG-INFO\n",
      "copying wikiextractor.egg-info/top_level.txt -> build/bdist.linux-x86_64/egg/EGG-INFO\n"
     ]
    },
    {
     "name": "stderr",
     "output_type": "stream",
     "text": [
      "zip_safe flag not set; analyzing archive contents...\n"
     ]
    },
    {
     "name": "stdout",
     "output_type": "stream",
     "text": [
      "creating dist\n",
      "creating 'dist/wikiextractor-2.69-py3.6.egg' and adding 'build/bdist.linux-x86_64/egg' to it\n",
      "removing 'build/bdist.linux-x86_64/egg' (and everything under it)\n",
      "Processing wikiextractor-2.69-py3.6.egg\n",
      "Copying wikiextractor-2.69-py3.6.egg to /home/kl/anaconda3/envs/fastai/lib/python3.6/site-packages\n",
      "Adding wikiextractor 2.69 to easy-install.pth file\n",
      "Installing WikiExtractor.py script to /home/kl/anaconda3/envs/fastai/bin\n",
      "\n",
      "Installed /home/kl/anaconda3/envs/fastai/lib/python3.6/site-packages/wikiextractor-2.69-py3.6.egg\n",
      "Processing dependencies for wikiextractor==2.69\n",
      "Finished processing dependencies for wikiextractor==2.69\n"
     ]
    }
   ],
   "source": [
    "%cd $pathWikiExtractor\n",
    "%run setup.py install"
   ]
  },
  {
   "cell_type": "code",
   "execution_count": 6,
   "metadata": {},
   "outputs": [
    {
     "name": "stdout",
     "output_type": "stream",
     "text": [
      "wikidum:../../data/nlp-data/fr/wikidump/frwiki-20181120-pages-articles-multistream.xml.bz2\n"
     ]
    },
    {
     "name": "stderr",
     "output_type": "stream",
     "text": [
      "/home/kl/code/wikiextractor/WikiExtractor.py:2432: DeprecationWarning: Flags not at the start of the expression '\\\\[(((?i)bitcoin:|ftp' (truncated)\n",
      "  re.S | re.U)\n",
      "/home/kl/code/wikiextractor/WikiExtractor.py:2439: DeprecationWarning: Flags not at the start of the expression '^(http://|https://)(' (truncated)\n",
      "  re.X | re.S | re.U)\n",
      "/home/kl/code/wikiextractor/WikiExtractor.py:645: DeprecationWarning: The 'warn' function is deprecated, use 'warning' instead\n",
      "  self.title, self.id, *errs)\n",
      "WARNING: Template errors in article '14 mars' (3570): title(1) recursion(0, 0, 0)\n",
      "/home/kl/code/wikiextractor/WikiExtractor.py:645: DeprecationWarning: The 'warn' function is deprecated, use 'warning' instead\n",
      "  self.title, self.id, *errs)\n",
      "WARNING: Template errors in article 'Coupe de l'America' (24404): title(1) recursion(0, 0, 0)\n",
      "/home/kl/code/wikiextractor/WikiExtractor.py:645: DeprecationWarning: The 'warn' function is deprecated, use 'warning' instead\n",
      "  self.title, self.id, *errs)\n",
      "WARNING: Template errors in article 'Corrosion aqueuse' (37336): title(1) recursion(0, 0, 0)\n",
      "/home/kl/code/wikiextractor/WikiExtractor.py:645: DeprecationWarning: The 'warn' function is deprecated, use 'warning' instead\n",
      "  self.title, self.id, *errs)\n",
      "WARNING: Template errors in article 'Quinquennat (politique)' (45202): title(1) recursion(0, 0, 0)\n",
      "/home/kl/code/wikiextractor/WikiExtractor.py:645: DeprecationWarning: The 'warn' function is deprecated, use 'warning' instead\n",
      "  self.title, self.id, *errs)\n",
      "WARNING: Template errors in article 'Mercury (automobile)' (62877): title(1) recursion(0, 0, 0)\n",
      "/home/kl/code/wikiextractor/WikiExtractor.py:645: DeprecationWarning: The 'warn' function is deprecated, use 'warning' instead\n",
      "  self.title, self.id, *errs)\n",
      "WARNING: Template errors in article 'Cratère de Chicxulub' (89478): title(1) recursion(0, 0, 0)\n",
      "/home/kl/code/wikiextractor/WikiExtractor.py:645: DeprecationWarning: The 'warn' function is deprecated, use 'warning' instead\n",
      "  self.title, self.id, *errs)\n",
      "WARNING: Template errors in article 'Courcy (Marne)' (97227): title(1) recursion(0, 0, 0)\n",
      "WARNING: Template errors in article 'Prix Harvey (comics)' (139360): title(1) recursion(0, 0, 0)\n",
      "WARNING: Template errors in article 'Philémon (poète)' (148849): title(1) recursion(0, 0, 0)\n",
      "/home/kl/code/wikiextractor/WikiExtractor.py:645: DeprecationWarning: The 'warn' function is deprecated, use 'warning' instead\n",
      "  self.title, self.id, *errs)\n",
      "WARNING: Template errors in article 'Ailly-le-Haut-Clocher' (173046): title(1) recursion(0, 0, 0)\n",
      "WARNING: Template errors in article 'Hattrick' (181237): title(8) recursion(0, 0, 0)\n",
      "WARNING: Template errors in article 'Le Doulieu' (192830): title(1) recursion(0, 0, 0)\n",
      "WARNING: Template errors in article 'Palais des papes d'Avignon' (229820): title(1) recursion(0, 0, 0)\n",
      "WARNING: Template errors in article 'Sóller' (244882): title(1) recursion(0, 0, 0)\n",
      "WARNING: Template errors in article 'Pont-de-Metz' (329090): title(1) recursion(0, 0, 0)\n",
      "WARNING: Template errors in article 'Gourbera' (465251): title(3) recursion(0, 0, 0)\n",
      "WARNING: Template errors in article 'Urbanisme en France' (466829): title(1) recursion(0, 0, 0)\n",
      "WARNING: Template errors in article 'Ernest Jones' (472217): title(1) recursion(0, 0, 0)\n",
      "WARNING: Template errors in article 'Maumusson (Loire-Atlantique)' (473789): title(1) recursion(0, 0, 0)\n",
      "WARNING: Template errors in article 'Vitrification (recyclage)' (530200): title(1) recursion(0, 0, 0)\n",
      "WARNING: Template errors in article 'Rebergues' (534814): title(1) recursion(0, 0, 0)\n",
      "WARNING: Template errors in article 'Bessines-sur-Gartempe' (545639): title(1) recursion(0, 0, 0)\n",
      "WARNING: Template errors in article 'Premiers ministres des provinces et territoires du Canada' (572338): title(1) recursion(0, 0, 0)\n",
      "WARNING: Template errors in article 'Saint-Colomban (Loire-Atlantique)' (623225): title(1) recursion(0, 0, 0)\n",
      "WARNING: Template errors in article 'Peter Lindbergh' (649281): title(1) recursion(0, 0, 0)\n",
      "WARNING: Template errors in article 'Adaptation d'impédances' (697259): title(1) recursion(0, 0, 0)\n",
      "WARNING: Template errors in article 'Yves Langlois (réalisateur)' (815016): title(1) recursion(0, 0, 0)\n",
      "WARNING: Template errors in article 'Chloé Sainte-Marie' (834514): title(1) recursion(0, 0, 0)\n",
      "WARNING: Template errors in article 'Diocèse de Tarentaise' (920197): title(1) recursion(0, 0, 0)\n",
      "/home/kl/code/wikiextractor/WikiExtractor.py:645: DeprecationWarning: The 'warn' function is deprecated, use 'warning' instead\n",
      "  self.title, self.id, *errs)\n",
      "WARNING: Template errors in article 'Ulysse' (953922): title(1) recursion(0, 0, 0)\n",
      "WARNING: Template errors in article 'Histoire de l'astronomie' (973703): title(1) recursion(0, 0, 0)\n",
      "/home/kl/code/wikiextractor/WikiExtractor.py:645: DeprecationWarning: The 'warn' function is deprecated, use 'warning' instead\n",
      "  self.title, self.id, *errs)\n",
      "WARNING: Template errors in article 'Gasgas' (1172324): title(1) recursion(0, 0, 0)\n",
      "WARNING: Template errors in article 'Religion maya' (1359137): title(1) recursion(0, 0, 0)\n",
      "WARNING: Template errors in article 'Hakim El Ghissassi' (1381667): title(1) recursion(0, 0, 0)\n",
      "WARNING: Template errors in article 'Compacité (astronomie)' (1452127): title(1) recursion(0, 0, 0)\n",
      "/home/kl/code/wikiextractor/WikiExtractor.py:645: DeprecationWarning: The 'warn' function is deprecated, use 'warning' instead\n",
      "  self.title, self.id, *errs)\n",
      "WARNING: Template errors in article 'Théorème de Rellich' (1472347): title(1) recursion(0, 0, 0)\n",
      "WARNING: Template errors in article 'Dialogues de Platon' (1605521): title(1) recursion(0, 0, 0)\n",
      "WARNING: Template errors in article 'Marc Moulin' (1628683): title(1) recursion(0, 0, 0)\n",
      "WARNING: Template errors in article 'Sallanche' (1768732): title(1) recursion(0, 0, 0)\n",
      "WARNING: Template errors in article 'Dérogeance' (1869711): title(1) recursion(0, 0, 0)\n",
      "WARNING: Template errors in article 'Championnats du monde juniors de natation' (3424274): title(1) recursion(0, 0, 0)\n",
      "WARNING: Template errors in article 'Junko Minagawa' (3685064): title(1) recursion(0, 0, 0)\n",
      "WARNING: Template errors in article 'Cravates de Sherman' (3690406): title(1) recursion(0, 0, 0)\n",
      "WARNING: Template errors in article 'Nestor Koukolnik' (3749525): title(1) recursion(0, 0, 0)\n",
      "WARNING: Template errors in article 'Basilique Saint-François-de-Sales de Thonon-les-Bains' (4054470): title(1) recursion(0, 0, 0)\n",
      "WARNING: Template errors in article 'Trittico Lombardo' (4285118): title(1) recursion(0, 0, 0)\n",
      "WARNING: Template errors in article 'Récif corallien d'eau froide' (4474539): title(1) recursion(0, 0, 0)\n",
      "WARNING: Template errors in article 'Marthe et Mathilde' (4495468): title(1) recursion(0, 0, 0)\n",
      "WARNING: Template errors in article 'Neutrino' (4722577): title(1) recursion(0, 0, 0)\n",
      "WARNING: Template errors in article 'CANT Z.501' (5012392): title(1) recursion(0, 0, 0)\n",
      "WARNING: Template errors in article 'Classe Baltimore' (5162277): title(1) recursion(0, 0, 0)\n",
      "WARNING: Template errors in article 'Fontaine Jean-Baptiste de La Salle' (5341397): title(1) recursion(0, 0, 0)\n",
      "WARNING: Template errors in article 'Argant' (5437512): title(1) recursion(0, 0, 0)\n",
      "WARNING: Template errors in article 'Coupe du monde de tir de l'ISSF 2009' (5497235): title(2) recursion(0, 0, 0)\n",
      "WARNING: Template errors in article 'Mathieu Peybernes' (5516952): title(2) recursion(0, 0, 0)\n",
      "WARNING: Template errors in article 'Neutrino stérile' (5820124): title(1) recursion(0, 0, 0)\n",
      "WARNING: Template errors in article 'Alexander David González' (5948726): title(2) recursion(0, 0, 0)\n",
      "WARNING: Template errors in article 'Liste des Trésors nationaux du Japon (sanctuaires)' (6407917): title(1) recursion(0, 0, 0)\n",
      "WARNING: Template errors in article 'Héniochie' (6503937): title(1) recursion(0, 0, 0)\n",
      "WARNING: Template errors in article 'Liste des plus hautes constructions de Tokyo' (6849852): title(1) recursion(0, 0, 0)\n",
      "WARNING: Template errors in article 'Attaque du fort d'Ében-Émael' (7505171): title(1) recursion(0, 0, 0)\n",
      "WARNING: Template errors in article 'Deaflympics d'été de 1997' (8592273): title(2) recursion(0, 0, 0)\n",
      "WARNING: Template errors in article 'Deaflympics d'été de 1993' (8714749): title(2) recursion(0, 0, 0)\n"
     ]
    },
    {
     "name": "stderr",
     "output_type": "stream",
     "text": [
      "WARNING: Template errors in article 'Bataille de Wakde-Sarmi (Lone Tree Hill)' (8748487): title(1) recursion(0, 0, 0)\n",
      "WARNING: Template errors in article 'Freebie marketing' (8793547): title(1) recursion(0, 0, 0)\n",
      "WARNING: Template errors in article 'Edouard Dor' (9079929): title(1) recursion(0, 0, 0)\n",
      "WARNING: Template errors in article 'Approximation quasi-géostrophique' (9358004): title(1) recursion(0, 0, 0)\n",
      "WARNING: Template errors in article 'NASAMS' (9637644): title(1) recursion(0, 0, 0)\n",
      "WARNING: Template errors in article 'Le Brébant' (9650361): title(1) recursion(0, 0, 0)\n",
      "WARNING: Template errors in article 'Judith décapitant Holopherne (Finson)' (9939258): title(1) recursion(0, 0, 0)\n",
      "WARNING: Template errors in article 'Habitat I' (10088858): title(1) recursion(0, 0, 0)\n",
      "WARNING: Template errors in article 'Kelvin Gastelum' (10230705): title(1) recursion(0, 0, 0)\n",
      "WARNING: Template errors in article 'Statut des langues des signes en Afrique' (10616413): title(1) recursion(0, 0, 0)\n",
      "WARNING: Template errors in article 'Adolf Thiel' (10633692): title(1) recursion(0, 0, 0)\n",
      "WARNING: Template errors in article 'Festival international du film fantastique de Neuchâtel 2008' (10828588): title(1) recursion(0, 0, 0)\n",
      "WARNING: Template errors in article 'Championnats d'Amérique du Sud juniors d'athlétisme 2017' (10955838): title(1) recursion(0, 0, 0)\n",
      "WARNING: Template errors in article 'Saut en longueur féminin aux championnats du monde d'athlétisme 2017' (10970365): title(3) recursion(0, 0, 0)\n",
      "WARNING: Template errors in article 'Course en ligne masculine aux championnats du monde de cyclisme sur route 2000' (11020464): title(3) recursion(0, 0, 0)\n",
      "WARNING: Template errors in article 'Contre-la-montre masculin des moins de 23 ans aux championnats du monde de cyclisme sur route 2000' (11020500): title(3) recursion(0, 0, 0)\n",
      "WARNING: Template errors in article 'Contre-la-montre masculin des juniors aux championnats du monde de cyclisme sur route 2000' (11020551): title(3) recursion(0, 0, 0)\n",
      "WARNING: Template errors in article 'Course en ligne masculine des juniors aux championnats du monde de cyclisme sur route 2000' (11020553): title(3) recursion(0, 0, 0)\n",
      "WARNING: Template errors in article 'Contre-la-montre féminin des juniors aux championnats du monde de cyclisme sur route 2000' (11020601): title(3) recursion(0, 0, 0)\n",
      "WARNING: Template errors in article 'Course en ligne féminine aux championnats du monde de cyclisme sur route 2000' (11020612): title(3) recursion(0, 0, 0)\n",
      "WARNING: Template errors in article 'Course en ligne féminine des juniors aux championnats du monde de cyclisme sur route 2000' (11020600): title(3) recursion(0, 0, 0)\n",
      "WARNING: Template errors in article 'Mega Man (série d'animation, 1994)' (11390251): title(1) recursion(0, 0, 0)\n",
      "WARNING: Template errors in article 'Alexandre Vanautgaerden' (11513670): title(1) recursion(0, 0, 0)\n",
      "WARNING: Template errors in article 'Fraction continue de Rogers-Ramanujan' (11623883): title(1) recursion(0, 0, 0)\n",
      "WARNING: Template errors in article 'Opérations de secours de la grotte de Tham Luang' (11824191): title(1) recursion(0, 0, 0)\n",
      "WARNING: Template errors in article 'Championnats des Balkans d'athlétisme en salle 2017' (11856798): title(20) recursion(0, 0, 0)\n",
      "WARNING: Template errors in article 'Championnats des Balkans d'athlétisme en salle 2016' (11856807): title(20) recursion(0, 0, 0)\n",
      "WARNING: Template errors in article 'Championnats des Balkans d'athlétisme en salle 2015' (11856812): title(20) recursion(0, 0, 0)\n",
      "WARNING: Template errors in article 'Championnats des Balkans d'athlétisme en salle 2013' (11856818): title(20) recursion(0, 0, 0)\n",
      "WARNING: Template errors in article 'Championnats des Balkans d'athlétisme en salle 2014' (11856813): title(20) recursion(0, 0, 0)\n",
      "WARNING: Template errors in article 'Championnats des Balkans d'athlétisme en salle 2012' (11856819): title(20) recursion(0, 0, 0)\n",
      "WARNING: Template errors in article 'Karl Meier' (11945139): title(1) recursion(0, 0, 0)\n",
      "WARNING: Template errors in article 'Championnats du monde de cyclo-cross 2019' (11996031): title(51) recursion(0, 0, 0)\n",
      "WARNING: Template errors in article 'Aviron aux Jeux olympiques de la jeunesse de 2018' (12001882): title(13) recursion(0, 0, 0)\n",
      "WARNING: Template errors in article 'Futsal aux Jeux olympiques de la jeunesse de 2018' (12006300): title(12) recursion(0, 0, 0)\n",
      "WARNING: Template errors in article 'Ivan Hel' (12008475): title(1) recursion(0, 0, 0)\n",
      "WARNING: Template errors in article 'Fait stylisé' (12114352): title(1) recursion(0, 0, 0)\n",
      "WARNING: Template errors in article 'UCI Coupe des Nations U23 2019' (12136108): title(2) recursion(0, 0, 0)\n",
      "WARNING: Template errors in article 'Calendrier international féminin UCI 2019' (12143455): title(10) recursion(0, 0, 0)\n"
     ]
    },
    {
     "name": "stdout",
     "output_type": "stream",
     "text": [
      "\n",
      "IPython CPU timings (estimated):\n",
      "  User   :    1691.63 s.\n",
      "  System :      17.90 s.\n",
      "Wall time:    2161.30 s.\n"
     ]
    }
   ],
   "source": [
    "#extracting the json-files. This will take about an hour\n",
    "fn_wikidump = list((path/\"wikidump\").iterdir())[0]\n",
    "print(f\"wikidump:{fn_wikidump}\")\n",
    "%run -t WikiExtractor.py -o $pathJson  --json -q  $fn_wikidump"
   ]
  }
 ],
 "metadata": {
  "kernelspec": {
   "display_name": "Python 3",
   "language": "python",
   "name": "python3"
  },
  "language_info": {
   "codemirror_mode": {
    "name": "ipython",
    "version": 3
   },
   "file_extension": ".py",
   "mimetype": "text/x-python",
   "name": "python",
   "nbconvert_exporter": "python",
   "pygments_lexer": "ipython3",
   "version": "3.7.1"
  }
 },
 "nbformat": 4,
 "nbformat_minor": 2
}
