{
 "cells": [
  {
   "cell_type": "code",
   "execution_count": 1,
   "metadata": {},
   "outputs": [],
   "source": [
    "%reload_ext autoreload\n",
    "%autoreload 2"
   ]
  },
  {
   "cell_type": "code",
   "execution_count": 2,
   "metadata": {},
   "outputs": [],
   "source": [
    "from fastai.callbacks import * \n",
    "from fastai.text import * \n",
    "import io\n",
    "import pathlib\n",
    "from fastai_sentencepiece import *\n",
    "from filetokenizer import *\n",
    "from languagemodelloader import *\n",
    "import matplotlib.pyplot as plt"
   ]
  },
  {
   "cell_type": "code",
   "execution_count": 3,
   "metadata": {},
   "outputs": [],
   "source": [
    "lang=\"en\"\n",
    "#pathData       = Path(\"../../data/nlp\")\n",
    "pathData       = Path(\"../nlp-data\")\n",
    "path           = pathData / lang\n",
    "pathDump       = path/\"wiki-dump\"\n",
    "pathJson       = path/\"wiki-json\"\n",
    "\n",
    "pathTrainValid = path/\"wiki-train_valid\"\n",
    "pathTxt        = pathTrainValid/\"txt\"\n",
    "pathToks       = pathTrainValid/\"toks\"\n",
    "pathcsv        = pathTrainValid/\"wiki.csv\"\n",
    "\n",
    "cache_name   = \"sp-model\"\n",
    "pathVocab    = pathTrainValid / cache_name"
   ]
  },
  {
   "cell_type": "code",
   "execution_count": 4,
   "metadata": {},
   "outputs": [
    {
     "name": "stdout",
     "output_type": "stream",
     "text": [
      "6\n",
      "57\n",
      "4\n",
      "7\n",
      "68\n",
      "95\n"
     ]
    }
   ],
   "source": [
    "favorite_numbers = [6, 57, 4, 7, 68, 95]\n",
    "my_iterator = iter(favorite_numbers)\n",
    "for n in my_iterator:\n",
    "    print(n)"
   ]
  },
  {
   "cell_type": "code",
   "execution_count": 5,
   "metadata": {},
   "outputs": [],
   "source": [
    "from mpl_toolkits.axes_grid1 import host_subplot\n",
    "import mpl_toolkits.axisartist as AA\n",
    "import matplotlib.pyplot as plt\n",
    "import matplotlib.ticker as mtick\n",
    "\n",
    "def mimmax(v):\n",
    "    v_min,v_max = min(v), max(v)\n",
    "    if   v_min==v_max and v_min==0: v_min,v_max = v_min-.1, v_min+.1 \n",
    "    elif v_min==v_max :             v_min,v_max = v_min-.1*v_min,v_max+.1*v_max\n",
    "    return v_min,v_max\n",
    "    \n",
    "def plot_hyperparameters( x, ys:dict ):\n",
    "    def setAxis(ax,k,v):\n",
    "        ax.set_ylabel(k)\n",
    "        p, = ax.plot(x, v, label=k)\n",
    "        ax.axis[\"left\"].label.set_color(p.get_color())\n",
    "        limits = mimmax(v)\n",
    "        ax.set_ylim(limits)\n",
    "        if limits[0] < 1e-1 and limits[1] < 1e-1:ax.yaxis.set_major_formatter(mtick.FormatStrFormatter('%.2e'))\n",
    "        \n",
    "    host = host_subplot(111, axes_class=AA.Axes)\n",
    "    plt.subplots_adjust(right=0.75)\n",
    "    par1 = host.twinx()\n",
    "    par2 = host.twinx()\n",
    "\n",
    "    offset = 60\n",
    "    new_fixed_axis = par2.get_grid_helper().new_fixed_axis\n",
    "    par2.axis[\"right\"] = new_fixed_axis(loc=\"right\",\n",
    "                                        axes=par2,\n",
    "                                        offset=(offset, 0))\n",
    "    par1.axis[\"right\"].toggle(all=True)\n",
    "    par2.axis[\"right\"].toggle(all=True)\n",
    "\n",
    "    host.set_xlabel(\"samples\")\n",
    "    for i,item in enumerate(ys.items()):\n",
    "        k,v = item[0],item[1]\n",
    "        if i==0:   setAxis(host,k,v)\n",
    "        elif i==1: setAxis(par1,k,v)\n",
    "        elif i==2: setAxis(par2,k,v)\n",
    "    host.legend()\n",
    "\n",
    "plt.show()"
   ]
  },
  {
   "cell_type": "code",
   "execution_count": 19,
   "metadata": {},
   "outputs": [],
   "source": [
    "def sigmoid(pct:float, lower:Number=0., upper:Number=1., mid_slope=.5, slope=10)->Number:\n",
    "    \"sigmoid from `lower` to `upper` limit as `pct` increase.\"\n",
    "    return lower + (upper-lower)/(1.+exp( -slope*(pct-mid_slope) ))\n",
    "def annealing_cos(pct:float, lower:Number=0, upper:Number=1, flip_limits:bool=False)->Number:\n",
    "    \"Cosine anneal from `lower` to `upper` as pct goes from 0.0 to 1.0.\"\n",
    "    if flip_limits:lower, upper = upper, lower\n",
    "    cos_out = np.cos(np.pi * pct) + 1\n",
    "    return upper + (lower-upper)/2 * cos_out\n",
    "def annealing_const(pct:float, lower:Number=1, upper:Number=1)->Number:\n",
    "    \"No annealing, always return `lower`.\"\n",
    "    return lower\n",
    "def annealing_linear(pct:float, lower:Number=0, upper:Number=1, flip_limits:bool=False)->Number:\n",
    "    \"Linearly anneal from `lower` to `upper` as pct goes from 0.0 to 1.0.\"\n",
    "    if flip_limits:lower, upper = upper, lower\n",
    "    return lower + pct * (upper-lower)\n",
    "\n",
    "class FunctionStepper():\n",
    "    func:AnnealFunc\n",
    "  \n",
    "    def __init__(self,func=None):self.func = func\n",
    "    \n",
    "    def begin(self, samples:int, limits:StartOptEnd )->None:\n",
    "        if self.func is None: self.func = annealing_linear if is_tuple(limits) else annealing_const\n",
    "        self.n, self.n_iter = 0, samples\n",
    "        lower,upper = (limits[0],limits[1]) if is_tuple(limits) else (limits,limits)        \n",
    "        self.func   = partial(self.func,lower=lower, upper=upper)    \n",
    "        \n",
    "    def __len__(self):  return self.n_iter\n",
    "    def __iter__(self): return self\n",
    "    def __next__(self): \n",
    "        \"Return next value along annealed schedule.\"\n",
    "        self.n += 1\n",
    "        if self.n > self.n_iter: raise StopIteration\n",
    "        else:                    return self.func(pct=self.n/self.n_iter)\n",
    "        \n",
    "class PhaseStepper():\n",
    "    \"Iterates transparently over multiple phases.\"\n",
    "    def __init__(self,phases:Union[List[Callable],List[FunctionStepper]]=[FunctionStepper()],\n",
    "                 intervals:Floats=None, limits=None, samples:int=0 ):\n",
    "        assert len(phases) > 0, \"must provide one of more hyperparameter functions og FunctionSteppers\"\n",
    "        self._pcts, self._samples, self._limits = None,None,None        \n",
    "        if isinstance(phases[0],FunctionStepper): self._phases = phases\n",
    "        else:                                     self._phases = [FunctionStepper(p) for p in phases]\n",
    "        self.step_iter=None\n",
    "        if samples> 0           : self.samples=samples\n",
    "        if intervals is not None: self.intervals=intervals\n",
    "        if limits    is not None: self.limits=limits\n",
    "        \n",
    "    @property\n",
    "    def intervals(self):return self._pcts\n",
    "    @intervals.setter\n",
    "    def intervals(self,pcts:Floats):\n",
    "        \"set the extend of each pases as a percentage in decimals\"\n",
    "        if len(pcts) < len(self._phases):\n",
    "            rem = (1.0-sum(pcts)) / ( len(self._phases)-len(pcts) )\n",
    "            for i in range(len(pcts),len(self._phases)):pcts.append(rem)\n",
    "        elif sum(pcts) != 1.:\n",
    "            pcts = np.asarray(pcts)/sum(pcts)        \n",
    "        self._pcts = np.asarray(pcts)\n",
    "            \n",
    "    @property\n",
    "    def samples(self):return self._samples\n",
    "    @samples.setter\n",
    "    def samples(self, samples:int):\n",
    "        \"The minimum nuber of samples is one times the number of phases\"\n",
    "        assert samples >= len(self._phases), \"provide at lest 1 sample pr phase\"\n",
    "        self._samples = samples\n",
    "        \n",
    "    @property\n",
    "    def limits(self):return self._limits\n",
    "    @limits.setter\n",
    "    def limits(self, limits:Union[List[StartOptEnd],StartOptEnd] ):\n",
    "        #@todo must be able to received an interval for each phase\n",
    "        #@todo must be able to handle layer groups\n",
    "        \n",
    "        assert isinstance(limits,float) or isinstance(limits,tuple), \"you must provide one of 1) tuple(lower, upper) limits or 2) a float with the constant limit ie when upper==lower\"\n",
    "        self._limits = limits\n",
    "        \n",
    "    def begin_(self):\n",
    "        assert self.samples>0 and len(self.intervals)==len(self._phases) and self.limits is not None, \"missing one of: samples, intervals, limits\"\n",
    "        \n",
    "        for phase,pct in zip(self._phases,self.intervals): phase.begin( int(round(pct*self.samples)), self.limits )\n",
    "        assert self.samples == sum(len(p) for p in self._phases), \"internal error samples != sum(len(p) for p in phases)\"\n",
    "        \n",
    "        self.cum_samples, self.n, self.phase_ite  = 0, 0, iter(self._phases)\n",
    "        self.phase = next(self.phase_ite)\n",
    "        #print(f\"begin samples:{self.samples} intervals:{self.intervals} limits:{self.limits}\")\n",
    "        \n",
    "    def __len__(self):  return self.samples\n",
    "    def __iter__(self): \n",
    "        self.begin_()\n",
    "        return self\n",
    "    \n",
    "    def __next__(self):\n",
    "        \"Return next value along schedule.\"\n",
    "        self.n += 1\n",
    "        if self.n > self.samples: raise StopIteration\n",
    "        elif self.n > len(self.phase)+self.cum_samples:\n",
    "            self.cum_samples += len(self.phase)\n",
    "            self.phase        = next(self.phase_ite)   \n",
    "        return next(self.phase)     \n",
    "    \n",
    "    def step(self):\n",
    "        \"backward compatibility\"\n",
    "        if self.step_iter is None: \n",
    "            self.step_iter = iter(self)\n",
    "        if self.n >= self.samples:\n",
    "            #@todo should return lst iter in case pytorch fastai demands more samples than specified\n",
    "            #should not happen but looks fastai expects that it could happen\n",
    "            \n",
    "            #print(\"def step(self) if self.n >= self.samples:\")\n",
    "            self.step_iter = iter(self) #start over again\n",
    "            #self.step_iter=None\n",
    "            #raise StopIteration\n",
    "        return next(self)"
   ]
  },
  {
   "cell_type": "code",
   "execution_count": 20,
   "metadata": {},
   "outputs": [
    {
     "name": "stdout",
     "output_type": "stream",
     "text": [
      "lr:  min:0.000 max:0.003\n",
      "mom: min:0.700 max:0.800\n",
      "wd : min:1e-06 max:1e-06\n"
     ]
    },
    {
     "data": {
      "image/png": "[encoded data removed]",
      "text/plain": [
       "<Figure size 432x288 with 1 Axes>"
      ]
     },
     "metadata": {
      "needs_background": "light"
     },
     "output_type": "display_data"
    }
   ],
   "source": [
    "#With sigmnoid\n",
    "phases = [partial(sigmoid, mid_slope=0.3, slope= 10),\n",
    "          partial(sigmoid, mid_slope=0.7, slope=-20) ]\n",
    "samples = 100\n",
    "tl_lrs  = PhaseStepper( phases, intervals=[.4,.6],limits=(1e-4,3e-3), samples=samples )\n",
    "lrs     = [v for v in tl_lrs]\n",
    "\n",
    "tl_moms = PhaseStepper( phases, intervals=[.4,.6],limits=(0.8,.7), samples=samples )\n",
    "moms    = [v for v in tl_moms]\n",
    "\n",
    "tl_wd   = PhaseStepper([FunctionStepper()], intervals=[1],limits=1e-6, samples=samples )\n",
    "wds     = [v for v in tl_wd]\n",
    "\n",
    "idx     = np.arange(len(lrs),dtype=np.int)\n",
    "#display( pd.DataFrame(data=np.stack([idx,lrs,moms],axis=0).T,columns=[\"idx\",\"lr\",\"mom\"]) )\n",
    "print(f\"lr:  min:{min(lrs):0.3f} max:{max(lrs):0.3f}\")\n",
    "print(f\"mom: min:{min(moms):0.3f} max:{max(moms):0.3f}\")\n",
    "print(f\"wd : min:{min(wds)} max:{max(wds)}\")\n",
    "plot_hyperparameters(idx,{\"lr\":lrs, \"moms\":moms, \"wd\":wds} )"
   ]
  },
  {
   "cell_type": "code",
   "execution_count": 21,
   "metadata": {},
   "outputs": [
    {
     "name": "stdout",
     "output_type": "stream",
     "text": [
      "lr:  min:0.000 max:0.003\n",
      "mom: min:0.700 max:0.800\n"
     ]
    },
    {
     "data": {
      "image/png": "[encoded data removed]",
      "text/plain": [
       "<Figure size 432x288 with 1 Axes>"
      ]
     },
     "metadata": {
      "needs_background": "light"
     },
     "output_type": "display_data"
    }
   ],
   "source": [
    "#with cosine annealing\n",
    "phases = [ partial(annealing_cos),\n",
    "           partial(annealing_cos,flip_limits=True) ]\n",
    "samples = 100\n",
    "tl_lrs = PhaseStepper( phases, [.4,.6], (1e-4,3e-3), samples )\n",
    "lrs    = [v for v in tl_lrs]\n",
    "\n",
    "tl_moms = PhaseStepper( phases, [.4,.6], (0.8,.7), samples )\n",
    "moms    = [v for v in tl_moms]\n",
    "\n",
    "idx   = np.arange(len(lrs),dtype=np.int)\n",
    "print(f\"lr:  min:{min(lrs):0.3f} max:{max(lrs):0.3f}\")\n",
    "print(f\"mom: min:{min(moms):0.3f} max:{max(moms):0.3f}\")\n",
    "plot_hyperparameters(idx,{\"lr\":lrs, \"moms\":moms} )"
   ]
  },
  {
   "cell_type": "code",
   "execution_count": 22,
   "metadata": {},
   "outputs": [
    {
     "name": "stdout",
     "output_type": "stream",
     "text": [
      "id(my_fit_one_cycle): 112514519112 id(Learner.fit_one_cycle): 112318674328\n",
      "id(my_fit_one_cycle): 112514519112 id(Learner.fit_one_cycle): 112514519112\n"
     ]
    }
   ],
   "source": [
    "class MyOneCycleScheduler(LearnerCallback):\n",
    "    \"Manage 1-Cycle style training as outlined in Leslie Smith's [paper](https://arxiv.org/pdf/1803.09820.pdf).\"\n",
    "    def __init__( self, learn:Learner, phases:List[PhaseStepper] ):\n",
    "        super().__init__(learn)\n",
    "        self.lr_scheds, self.mom_scheds = phases[0], phases[1]\n",
    "            \n",
    "    def on_train_begin(self, n_epochs:int, **kwargs:Any)->None:\n",
    "        \"Initialize our optimization params based on our annealing schedule.\"        \n",
    "        self.lr_scheds.samples = self.mom_scheds.samples = len(self.learn.data.train_dl) * n_epochs\n",
    "        self.learn.opt.lr,self.learn.opt.mom = self.lr_scheds.step(), self.mom_scheds.step()\n",
    "        print(f\"on_train_begin lr:{self.opt.lr}, mom:{self.opt.mom}\")\n",
    "\n",
    "    def on_batch_end(self, train, **kwargs:Any)->None:\n",
    "        \"Take one step forward on the annealing schedule for the optim params.\"\n",
    "        if train:\n",
    "            #self.opt.lr, self.opt.mom  = self.lr_scheds.step(), self.mom_scheds.step()\n",
    "            self.learn.opt.lr,self.learn.opt.mom = self.lr_scheds.step(), self.mom_scheds.step()\n",
    "            print(f\"on_batch_end lr:{self.opt.lr}, mom:{self.opt.mom}\")\n",
    "\n",
    "def my_fit_one_cycle(learn:Learner, cyc_len:int, max_lr:Union[Floats,slice]=defaults.lr,\n",
    "                     moms:Tuple[float,float]=(0.95,0.85), div_factor:float=25., pct_start:float=0.3,\n",
    "                     wd:float=None, callbacks:Optional[CallbackList]=None, \n",
    "                     lrCurve:PhaseStepper=None,momsCurve:PhaseStepper=None,wdCurve:PhaseStepper=None, **kwargs)->None:\n",
    "    \"Fit a model following the 1cycle policy.\"\n",
    "    print(\"my_fit_one_cycle\")\n",
    "\n",
    "    moms   = tuple(listify(moms,2))\n",
    "    lr_max = learn.lr_range(max_lr)\n",
    "    if is_listy(lr_max): lr_max = np.array(lr_max)\n",
    "    low_lr = lr_max/div_factor        \n",
    "        \n",
    "    functions = [partial(sigmoid, mid_slope=0.3, slope= 10),\n",
    "                 partial(sigmoid, mid_slope=0.7, slope=-20) ]\n",
    "    phases    = [PhaseStepper( functions, [pct_start,1-pct_start], (low_lr,  lr_max)), \n",
    "                 PhaseStepper( functions, [pct_start,1-pct_start], (moms[1], moms[0])) ]\n",
    "    \n",
    "    callbacks = listify(callbacks)\n",
    "    callbacks.append(MyOneCycleScheduler(learn, phases))\n",
    "    learn.fit(cyc_len, max_lr, wd=wd, callbacks=callbacks)\n",
    "    \n",
    "print(f\"id(my_fit_one_cycle): {id(my_fit_one_cycle)} id(Learner.fit_one_cycle): {id(Learner.fit_one_cycle)}\")\n",
    "Learner.fit_one_cycle = my_fit_one_cycle\n",
    "print(f\"id(my_fit_one_cycle): {id(my_fit_one_cycle)} id(Learner.fit_one_cycle): {id(Learner.fit_one_cycle)}\")"
   ]
  },
  {
   "cell_type": "code",
   "execution_count": 23,
   "metadata": {},
   "outputs": [
    {
     "name": "stdout",
     "output_type": "stream",
     "text": [
      "pad_idx:2\n"
     ]
    }
   ],
   "source": [
    "spt_func  = partial(SentencepieceTokenizer.create, pathVocab=pathVocab)\n",
    "spt_func.__name__ = SentencepieceTokenizer.__name__\n",
    "spt       = spt_func(lang=\"en\")\n",
    "\n",
    "pad_idx   = spt.vocab().numericalize([text.transform.PAD])[0]\n",
    "print(f\"pad_idx:{pad_idx}\")\n",
    "vocab,max_vocab = spt.vocab(), len(spt.vocab().itos)\n",
    "trainTokenizer = FileTokenizer(pathToks/\"train\", spt_func,\"en\",vocab,n_cpus=max(defaults.cpus-1,1))\n",
    "validTokenizer = FileTokenizer(pathToks/\"valid\", spt_func,\"en\",vocab,n_cpus=max(defaults.cpus-1,1))"
   ]
  },
  {
   "cell_type": "code",
   "execution_count": 24,
   "metadata": {},
   "outputs": [
    {
     "name": "stdout",
     "output_type": "stream",
     "text": [
      "CPU times: user 600 ms, sys: 93.7 ms, total: 693 ms\n",
      "Wall time: 695 ms\n",
      "CPU times: user 812 ms, sys: 119 ms, total: 931 ms\n",
      "Wall time: 933 ms\n"
     ]
    },
    {
     "data": {
      "text/plain": [
       "22356"
      ]
     },
     "execution_count": 24,
     "metadata": {},
     "output_type": "execute_result"
    }
   ],
   "source": [
    "minToks = 10\n",
    "maxToks = 400\n",
    "nTrainToks, nValidToks = int(5e1),int(1e1)\n",
    "%time trainIDS = trainTokenizer.getIds(nbSentences=nTrainToks)\n",
    "%time validIDS = validTokenizer.getIds(nbSentences=nValidToks)\n",
    "gc.collect()"
   ]
  },
  {
   "cell_type": "code",
   "execution_count": 25,
   "metadata": {},
   "outputs": [
    {
     "name": "stdout",
     "output_type": "stream",
     "text": [
      "CPU times: user 990 µs, sys: 1e+03 ns, total: 991 µs\n",
      "Wall time: 1e+03 µs\n"
     ]
    },
    {
     "data": {
      "text/plain": [
       "0"
      ]
     },
     "execution_count": 25,
     "metadata": {},
     "output_type": "execute_result"
    }
   ],
   "source": [
    "%time dblm = TextLMDataBunch.from_ids( pathTrainValid, vocab, trainIDS, validIDS, bptt=35, bs=6, num_workers=0, no_check=True)\n",
    "gc.collect()"
   ]
  },
  {
   "cell_type": "code",
   "execution_count": 26,
   "metadata": {},
   "outputs": [
    {
     "data": {
      "text/html": [
       "<table>  <col width='5%'>  <col width='95%'>  <tr>\n",
       "    <th>idx</th>\n",
       "    <th>text</th>\n",
       "  </tr>\n",
       "  <tr>\n",
       "    <th>0</th>\n",
       "    <th>▁row an ▁re solv es ▁is ▁the ▁short ▁name ▁for ▁a ▁colonial ▁era ▁document ▁called ▁\" xxmaj re so lution s ▁by ▁inhabitants ▁of ▁row an ▁county ▁concerning ▁resistance ▁to ▁parliamentary ▁taxation ▁and ▁the ▁provincial</th>\n",
       "  </tr>\n",
       "  <tr>\n",
       "    <th>1</th>\n",
       "    <th>▁suburb . ▁the ▁group ▁has ▁also ▁condemned ▁the <unk> - led ▁intervention ▁in <unk> ▁with ▁sal im ▁calling ▁it ▁\" an ▁attack ▁on ▁the <unk> i ▁people \". ▁after ▁leaving <unk> <unk> <unk> had ▁and</th>\n",
       "  </tr>\n",
       "</table>\n"
      ],
      "text/plain": [
       "<IPython.core.display.HTML object>"
      ]
     },
     "metadata": {},
     "output_type": "display_data"
    }
   ],
   "source": [
    "dblm.show_batch(rows=2)"
   ]
  },
  {
   "cell_type": "code",
   "execution_count": 27,
   "metadata": {},
   "outputs": [
    {
     "name": "stdout",
     "output_type": "stream",
     "text": [
      "CPU times: user 437 ms, sys: 95.6 ms, total: 533 ms\n",
      "Wall time: 532 ms\n"
     ]
    }
   ],
   "source": [
    "%time learn = language_model_learner(dblm, drop_mult=0, qrnn=False, pad_token=pad_idx,  callback_fns=ShowGraph )"
   ]
  },
  {
   "cell_type": "code",
   "execution_count": 28,
   "metadata": {},
   "outputs": [
    {
     "name": "stdout",
     "output_type": "stream",
     "text": [
      "my_fit_one_cycle\n",
      "before remove params:['params', 'lr', 'betas', 'eps', 'weight_decay', 'amsgrad']\n",
      "after remove params:['lr', 'betas', 'eps', 'weight_decay', 'amsgrad']\n",
      "OptimWrapper.read_val:lr cval:[0, 0, 0, 0]\n",
      "OptimWrapper.read_val:betas cval:([0.9, 0.9, 0.9, 0.9], [0.99, 0.99, 0.99, 0.99])\n",
      "OptimWrapper.read_val:weight_decay cval:[0, 0, 0, 0]\n",
      "after wd params:['lr', 'betas', 'eps', 'weight_decay', 'amsgrad']\n",
      "OptimWrapper.set_val:lr cval:[0.003, 0.003, 0.003, 0.003]\n",
      "OptimWrapper.set_val:lr cval:[0.0008945512935455861, 0.0008945512935455861, 0.0008945512935455861, 0.0008945512935455861]\n",
      "OptimWrapper.set_val:betas cval:([0.7268941421369995, 0.7268941421369995, 0.7268941421369995, 0.7268941421369995], [0.99, 0.99, 0.99, 0.99])\n",
      "on_train_begin lr:0.0008945512935455861, mom:0.7268941421369995\n"
     ]
    },
    {
     "data": {
      "text/html": [
       "Total time: 00:47 <p><table style='width:300px; margin-bottom:10px'>\n",
       "  <tr>\n",
       "    <th>epoch</th>\n",
       "    <th>train_loss</th>\n",
       "    <th>valid_loss</th>\n",
       "    <th>accuracy</th>\n",
       "  </tr>\n",
       "  <tr>\n",
       "    <th>1</th>\n",
       "    <th>7.569637</th>\n",
       "    <th>7.662906</th>\n",
       "    <th>0.061472</th>\n",
       "  </tr>\n",
       "</table>\n"
      ],
      "text/plain": [
       "<IPython.core.display.HTML object>"
      ]
     },
     "metadata": {},
     "output_type": "display_data"
    },
    {
     "name": "stdout",
     "output_type": "stream",
     "text": [
      "OptimWrapper.set_val:weight_decay cval:[0, 0, 0, 0]\n",
      "OptimWrapper.set_val:lr cval:[0.0022254487064544146, 0.0022254487064544146, 0.0022254487064544146, 0.0022254487064544146]\n",
      "OptimWrapper.set_val:betas cval:([0.7731058578630006, 0.7731058578630006, 0.7731058578630006, 0.7731058578630006], [0.99, 0.99, 0.99, 0.99])\n",
      "on_batch_end lr:0.0022254487064544146, mom:0.7731058578630006\n",
      "OptimWrapper.set_val:weight_decay cval:[0, 0, 0, 0]\n",
      "OptimWrapper.set_val:lr cval:[0.002863413485248608, 0.002863413485248608, 0.002863413485248608, 0.002863413485248608]\n",
      "OptimWrapper.set_val:betas cval:([0.7952574126822434, 0.7952574126822434, 0.7952574126822434, 0.7952574126822434], [0.99, 0.99, 0.99, 0.99])\n",
      "on_batch_end lr:0.002863413485248608, mom:0.7952574126822434\n",
      "OptimWrapper.set_val:weight_decay cval:[0, 0, 0, 0]\n",
      "OptimWrapper.set_val:lr cval:[0.00298072458933806, 0.00298072458933806, 0.00298072458933806, 0.00298072458933806]\n",
      "OptimWrapper.set_val:betas cval:([0.7993307149075716, 0.7993307149075716, 0.7993307149075716, 0.7993307149075716], [0.99, 0.99, 0.99, 0.99])\n",
      "on_batch_end lr:0.00298072458933806, mom:0.7993307149075716\n",
      "OptimWrapper.set_val:weight_decay cval:[0, 0, 0, 0]\n",
      "OptimWrapper.set_val:lr cval:[0.0029973761725601263, 0.0029973761725601263, 0.0029973761725601263, 0.0029973761725601263]\n",
      "OptimWrapper.set_val:betas cval:([0.7999088948805599, 0.7999088948805599, 0.7999088948805599, 0.7999088948805599], [0.99, 0.99, 0.99, 0.99])\n",
      "on_batch_end lr:0.0029973761725601263, mom:0.7999088948805599\n",
      "OptimWrapper.set_val:weight_decay cval:[0, 0, 0, 0]\n",
      "OptimWrapper.set_val:lr cval:[0.0029999888464423605, 0.0029999888464423605, 0.0029999888464423605, 0.0029999888464423605]\n",
      "OptimWrapper.set_val:betas cval:([0.7999996127236931, 0.7999996127236931, 0.7999996127236931, 0.7999996127236931], [0.99, 0.99, 0.99, 0.99])\n",
      "on_batch_end lr:0.0029999888464423605, mom:0.7999996127236931\n",
      "OptimWrapper.set_val:weight_decay cval:[0, 0, 0, 0]\n",
      "OptimWrapper.set_val:lr cval:[0.0029999480539389853, 0.0029999480539389853, 0.0029999480539389853, 0.0029999480539389853]\n",
      "OptimWrapper.set_val:betas cval:([0.7999981963173259, 0.7999981963173259, 0.7999981963173259, 0.7999981963173259], [0.99, 0.99, 0.99, 0.99])\n",
      "on_batch_end lr:0.0029999480539389853, mom:0.7999981963173259\n",
      "OptimWrapper.set_val:weight_decay cval:[0, 0, 0, 0]\n",
      "OptimWrapper.set_val:lr cval:[0.002999758081361655, 0.002999758081361655, 0.002999758081361655, 0.002999758081361655]\n",
      "OptimWrapper.set_val:betas cval:([0.7999916000472798, 0.7999916000472798, 0.7999916000472798, 0.7999916000472798], [0.99, 0.99, 0.99, 0.99])\n",
      "on_batch_end lr:0.002999758081361655, mom:0.7999916000472798\n",
      "OptimWrapper.set_val:weight_decay cval:[0, 0, 0, 0]\n",
      "OptimWrapper.set_val:lr cval:[0.0029988736294626643, 0.0029988736294626643, 0.0029988736294626643, 0.0029988736294626643]\n",
      "OptimWrapper.set_val:betas cval:([0.7999608899118981, 0.7999608899118981, 0.7999608899118981, 0.7999608899118981], [0.99, 0.99, 0.99, 0.99])\n",
      "on_batch_end lr:0.0029988736294626643, mom:0.7999608899118981\n",
      "OptimWrapper.set_val:weight_decay cval:[0, 0, 0, 0]\n",
      "OptimWrapper.set_val:lr cval:[0.002994761513136387, 0.002994761513136387, 0.002994761513136387, 0.002994761513136387]\n",
      "OptimWrapper.set_val:betas cval:([0.7998181080950135, 0.7998181080950135, 0.7998181080950135, 0.7998181080950135], [0.99, 0.99, 0.99, 0.99])\n",
      "on_batch_end lr:0.002994761513136387, mom:0.7998181080950135\n",
      "OptimWrapper.set_val:weight_decay cval:[0, 0, 0, 0]\n",
      "OptimWrapper.set_val:lr cval:[0.002975763404318112, 0.002975763404318112, 0.002975763404318112, 0.002975763404318112]\n",
      "OptimWrapper.set_val:betas cval:([0.7991584515388234, 0.7991584515388234, 0.7991584515388234, 0.7991584515388234], [0.99, 0.99, 0.99, 0.99])\n",
      "on_batch_end lr:0.002975763404318112, mom:0.7991584515388234\n",
      "OptimWrapper.set_val:weight_decay cval:[0, 0, 0, 0]\n",
      "OptimWrapper.set_val:lr cval:[0.0028904905921705096, 0.0028904905921705096, 0.0028904905921705096, 0.0028904905921705096]\n",
      "OptimWrapper.set_val:betas cval:([0.7961975900059205, 0.7961975900059205, 0.7961975900059205, 0.7961975900059205], [0.99, 0.99, 0.99, 0.99])\n",
      "on_batch_end lr:0.0028904905921705096, mom:0.7961975900059205\n",
      "OptimWrapper.set_val:weight_decay cval:[0, 0, 0, 0]\n",
      "OptimWrapper.set_val:lr cval:[0.002552238920189802, 0.002552238920189802, 0.002552238920189802, 0.002552238920189802]\n",
      "OptimWrapper.set_val:betas cval:([0.7844527402843682, 0.7844527402843682, 0.7844527402843682, 0.7844527402843682], [0.99, 0.99, 0.99, 0.99])\n",
      "on_batch_end lr:0.002552238920189802, mom:0.7844527402843682\n",
      "OptimWrapper.set_val:weight_decay cval:[0, 0, 0, 0]\n",
      "OptimWrapper.set_val:lr cval:[0.0016705512669004051, 0.0016705512669004051, 0.0016705512669004051, 0.0016705512669004051]\n",
      "OptimWrapper.set_val:betas cval:([0.753838585656264, 0.753838585656264, 0.753838585656264, 0.753838585656264], [0.99, 0.99, 0.99, 0.99])\n",
      "on_batch_end lr:0.0016705512669004051, mom:0.753838585656264\n",
      "OptimWrapper.set_val:weight_decay cval:[0, 0, 0, 0]\n",
      "OptimWrapper.set_val:lr cval:[0.0006967740620810522, 0.0006967740620810522, 0.0006967740620810522, 0.0006967740620810522]\n",
      "OptimWrapper.set_val:betas cval:([0.7200268771555921, 0.7200268771555921, 0.7200268771555921, 0.7200268771555921], [0.99, 0.99, 0.99, 0.99])\n",
      "on_batch_end lr:0.0006967740620810522, mom:0.7200268771555921\n",
      "OptimWrapper.set_val:weight_decay cval:[0, 0, 0, 0]\n",
      "OptimWrapper.set_val:lr cval:[0.00026695058078132544, 0.00026695058078132544, 0.00026695058078132544, 0.00026695058078132544]\n",
      "OptimWrapper.set_val:betas cval:([0.7051024507215737, 0.7051024507215737, 0.7051024507215737, 0.7051024507215737], [0.99, 0.99, 0.99, 0.99])\n",
      "on_batch_end lr:0.00026695058078132544, mom:0.7051024507215737\n",
      "OptimWrapper.set_val:weight_decay cval:[0, 0, 0, 0]\n",
      "OptimWrapper.set_val:lr cval:[0.0001528689569031804, 0.0001528689569031804, 0.0001528689569031804, 0.0001528689569031804]\n",
      "OptimWrapper.set_val:betas cval:([0.7011412832258048, 0.7011412832258048, 0.7011412832258048, 0.7011412832258048], [0.99, 0.99, 0.99, 0.99])\n",
      "on_batch_end lr:0.0001528689569031804, mom:0.7011412832258048\n",
      "OptimWrapper.set_val:weight_decay cval:[0, 0, 0, 0]\n",
      "OptimWrapper.set_val:lr cval:[0.00012712115469110815, 0.00012712115469110815, 0.00012712115469110815, 0.00012712115469110815]\n",
      "OptimWrapper.set_val:betas cval:([0.7002472623156635, 0.7002472623156635, 0.7002472623156635, 0.7002472623156635], [0.99, 0.99, 0.99, 0.99])\n",
      "on_batch_end lr:0.00012712115469110815, mom:0.7002472623156635\n",
      "OptimWrapper.set_val:weight_decay cval:[0, 0, 0, 0]\n",
      "OptimWrapper.set_val:lr cval:[0.0008945512935455861, 0.0008945512935455861, 0.0008945512935455861, 0.0008945512935455861]\n",
      "OptimWrapper.set_val:betas cval:([0.7268941421369995, 0.7268941421369995, 0.7268941421369995, 0.7268941421369995], [0.99, 0.99, 0.99, 0.99])\n",
      "on_batch_end lr:0.0008945512935455861, mom:0.7268941421369995\n"
     ]
    },
    {
     "data": {
      "image/png": "[encoded data removed]",
      "text/plain": [
       "<Figure size 432x288 with 1 Axes>"
      ]
     },
     "metadata": {},
     "output_type": "display_data"
    },
    {
     "name": "stdout",
     "output_type": "stream",
     "text": [
      "CPU times: user 3min 3s, sys: 6.57 s, total: 3min 9s\n",
      "Wall time: 47.1 s\n"
     ]
    }
   ],
   "source": [
    "%time learn.fit_one_cycle(1,3e-3, moms=(0.8,0.7),pct_start=0.3)"
   ]
  },
  {
   "cell_type": "code",
   "execution_count": 29,
   "metadata": {},
   "outputs": [
    {
     "name": "stdout",
     "output_type": "stream",
     "text": [
      "learn.recorder.lrs:\n",
      "[0.0008945512935455861, 0.0022254487064544146, 0.002863413485248608, 0.00298072458933806, 0.0029973761725601263, 0.0029999888464423605, 0.0029999480539389853, 0.002999758081361655, 0.0029988736294626643, 0.002994761513136387, 0.002975763404318112, 0.0028904905921705096, 0.002552238920189802, 0.0016705512669004051, 0.0006967740620810522, 0.00026695058078132544, 0.0001528689569031804, 0.00012712115469110815]\n",
      "learn.recorder.moms:\n",
      "[0.7268941421369995, 0.7731058578630006, 0.7952574126822434, 0.7993307149075716, 0.7999088948805599, 0.7999996127236931, 0.7999981963173259, 0.7999916000472798, 0.7999608899118981, 0.7998181080950135, 0.7991584515388234, 0.7961975900059205, 0.7844527402843682, 0.753838585656264, 0.7200268771555921, 0.7051024507215737, 0.7011412832258048, 0.7002472623156635]\n"
     ]
    },
    {
     "data": {
      "image/png": "[encoded data removed]",
      "text/plain": [
       "<Figure size 864x288 with 2 Axes>"
      ]
     },
     "metadata": {
      "needs_background": "light"
     },
     "output_type": "display_data"
    }
   ],
   "source": [
    "learn.recorder.plot_lr(show_moms=True)\n",
    "print(f\"learn.recorder.lrs:\\n{learn.recorder.lrs}\")\n",
    "print(f\"learn.recorder.moms:\\n{learn.recorder.moms}\")"
   ]
  },
  {
   "cell_type": "code",
   "execution_count": 30,
   "metadata": {},
   "outputs": [
    {
     "data": {
      "image/png": "[encoded data removed]",
      "text/plain": [
       "<Figure size 432x288 with 1 Axes>"
      ]
     },
     "metadata": {
      "needs_background": "light"
     },
     "output_type": "display_data"
    }
   ],
   "source": [
    "learn.recorder.plot_losses()"
   ]
  },
  {
   "cell_type": "code",
   "execution_count": 31,
   "metadata": {},
   "outputs": [
    {
     "name": "stdout",
     "output_type": "stream",
     "text": [
      "my_fit_one_cycle\n",
      "OptimWrapper.set_val:lr cval:[0.00021882987290360977, 0.0007823559780804169, 0.002797062705912073, 0.009999999999999998]\n",
      "OptimWrapper.set_val:lr cval:[6.52515152907801e-05, 0.00023328585073498638, 0.0008340386872339208, 0.002981837645151953]\n",
      "OptimWrapper.set_val:betas cval:([0.7268941421369995, 0.7268941421369995, 0.7268941421369995, 0.7268941421369995], [0.99, 0.99, 0.99, 0.99])\n",
      "on_train_begin lr:0.002981837645151953, mom:0.7268941421369995\n"
     ]
    },
    {
     "data": {
      "text/html": [
       "Total time: 00:48 <p><table style='width:300px; margin-bottom:10px'>\n",
       "  <tr>\n",
       "    <th>epoch</th>\n",
       "    <th>train_loss</th>\n",
       "    <th>valid_loss</th>\n",
       "    <th>accuracy</th>\n",
       "  </tr>\n",
       "  <tr>\n",
       "    <th>1</th>\n",
       "    <th>5.854187</th>\n",
       "    <th>7.794514</th>\n",
       "    <th>0.083983</th>\n",
       "  </tr>\n",
       "</table>\n"
      ],
      "text/plain": [
       "<IPython.core.display.HTML object>"
      ]
     },
     "metadata": {},
     "output_type": "display_data"
    },
    {
     "name": "stdout",
     "output_type": "stream",
     "text": [
      "OptimWrapper.set_val:weight_decay cval:[0, 0, 0, 0]\n",
      "OptimWrapper.set_val:lr cval:[0.00016233155252897409, 0.0005803643664686473, 0.0020749065269146357, 0.0074181623548480475]\n",
      "OptimWrapper.set_val:betas cval:([0.7731058578630006, 0.7731058578630006, 0.7731058578630006, 0.7731058578630006], [0.99, 0.99, 0.99, 0.99])\n",
      "on_batch_end lr:0.0074181623548480475, mom:0.7731058578630006\n",
      "OptimWrapper.set_val:weight_decay cval:[0, 0, 0, 0]\n",
      "OptimWrapper.set_val:lr cval:[0.00020886680301581174, 0.00074673621930011, 0.002669715690398197, 0.009544711617495358]\n",
      "OptimWrapper.set_val:betas cval:([0.7952574126822434, 0.7952574126822434, 0.7952574126822434, 0.7952574126822434], [0.99, 0.99, 0.99, 0.99])\n",
      "on_batch_end lr:0.009544711617495358, mom:0.7952574126822434\n",
      "OptimWrapper.set_val:weight_decay cval:[0, 0, 0, 0]\n",
      "OptimWrapper.set_val:lr cval:[0.0002174238610151707, 0.0007773292338266423, 0.002779091195144189, 0.009935748631126866]\n",
      "OptimWrapper.set_val:betas cval:([0.7993307149075716, 0.7993307149075716, 0.7993307149075716, 0.7993307149075716], [0.99, 0.99, 0.99, 0.99])\n",
      "on_batch_end lr:0.009935748631126866, mom:0.7993307149075716\n",
      "OptimWrapper.set_val:weight_decay cval:[0, 0, 0, 0]\n",
      "OptimWrapper.set_val:lr cval:[0.0002186384822952136, 0.0007816717223860714, 0.0027946163692858, 0.009991253908533752]\n",
      "OptimWrapper.set_val:betas cval:([0.7999088948805599, 0.7999088948805599, 0.7999088948805599, 0.7999088948805599], [0.99, 0.99, 0.99, 0.99])\n",
      "on_batch_end lr:0.009991253908533752, mom:0.7999088948805599\n",
      "OptimWrapper.set_val:weight_decay cval:[0, 0, 0, 0]\n",
      "OptimWrapper.set_val:lr cval:[0.00021882905932640956, 0.0007823530693962515, 0.0027970523068453694, 0.009999962821474534]\n",
      "OptimWrapper.set_val:betas cval:([0.7999996127236931, 0.7999996127236931, 0.7999996127236931, 0.7999996127236931], [0.99, 0.99, 0.99, 0.99])\n",
      "on_batch_end lr:0.009999962821474534, mom:0.7999996127236931\n",
      "OptimWrapper.set_val:weight_decay cval:[0, 0, 0, 0]\n",
      "OptimWrapper.set_val:lr cval:[0.00021882608378696655, 0.0007823424313099594, 0.0027970142737820786, 0.009999826846463283]\n",
      "OptimWrapper.set_val:betas cval:([0.7999981963173259, 0.7999981963173259, 0.7999981963173259, 0.7999981963173259], [0.99, 0.99, 0.99, 0.99])\n",
      "on_batch_end lr:0.009999826846463283, mom:0.7999981963173259\n",
      "OptimWrapper.set_val:weight_decay cval:[0, 0, 0, 0]\n",
      "OptimWrapper.set_val:lr cval:[0.00021881222656198242, 0.0007822928892494441, 0.0027968371520450132, 0.009999193604538848]\n",
      "OptimWrapper.set_val:betas cval:([0.7999916000472798, 0.7999916000472798, 0.7999916000472798, 0.7999916000472798], [0.99, 0.99, 0.99, 0.99])\n",
      "on_batch_end lr:0.009999193604538848, mom:0.7999916000472798\n",
      "OptimWrapper.set_val:weight_decay cval:[0, 0, 0, 0]\n",
      "OptimWrapper.set_val:lr cval:[0.00021874771172976726, 0.0007820622371726108, 0.0027960125295710663, 0.009996245431542213]\n",
      "OptimWrapper.set_val:betas cval:([0.7999608899118981, 0.7999608899118981, 0.7999608899118981, 0.7999608899118981], [0.99, 0.99, 0.99, 0.99])\n",
      "on_batch_end lr:0.009996245431542213, mom:0.7999608899118981\n",
      "OptimWrapper.set_val:weight_decay cval:[0, 0, 0, 0]\n",
      "OptimWrapper.set_val:lr cval:[0.00021844776043208588, 0.0007809898575758024, 0.0027921785804981987, 0.009982538377121288]\n",
      "OptimWrapper.set_val:betas cval:([0.7998181080950135, 0.7998181080950135, 0.7998181080950135, 0.7998181080950135], [0.99, 0.99, 0.99, 0.99])\n",
      "on_batch_end lr:0.009982538377121288, mom:0.7998181080950135\n",
      "OptimWrapper.set_val:weight_decay cval:[0, 0, 0, 0]\n",
      "OptimWrapper.set_val:lr cval:[0.00021706197585271523, 0.000776035429573736, 0.0027744656132787137, 0.009919211347727039]\n",
      "OptimWrapper.set_val:betas cval:([0.7991584515388234, 0.7991584515388234, 0.7991584515388234, 0.7991584515388234], [0.99, 0.99, 0.99, 0.99])\n",
      "on_batch_end lr:0.009919211347727039, mom:0.7991584515388234\n",
      "OptimWrapper.set_val:weight_decay cval:[0, 0, 0, 0]\n",
      "OptimWrapper.set_val:lr cval:[0.00021084189630458412, 0.0007537975314566008, 0.002694961145716612, 0.009634968640568365]\n",
      "OptimWrapper.set_val:betas cval:([0.7961975900059205, 0.7961975900059205, 0.7961975900059205, 0.7961975900059205], [0.99, 0.99, 0.99, 0.99])\n",
      "on_batch_end lr:0.009634968640568365, mom:0.7961975900059205\n",
      "OptimWrapper.set_val:weight_decay cval:[0, 0, 0, 0]\n",
      "OptimWrapper.set_val:lr cval:[0.0001861687061749269, 0.0006655864588999999, 0.0023795907667467316, 0.00850746306729934]\n",
      "OptimWrapper.set_val:betas cval:([0.7844527402843682, 0.7844527402843682, 0.7844527402843682, 0.7844527402843682], [0.99, 0.99, 0.99, 0.99])\n",
      "on_batch_end lr:0.00850746306729934, mom:0.7844527402843682\n",
      "OptimWrapper.set_val:weight_decay cval:[0, 0, 0, 0]\n",
      "OptimWrapper.set_val:lr cval:[0.00012185550713825997, 0.0004356552567831153, 0.0015575455489870958, 0.005568504223001349]\n",
      "OptimWrapper.set_val:betas cval:([0.753838585656264, 0.753838585656264, 0.753838585656264, 0.753838585656264], [0.99, 0.99, 0.99, 0.99])\n",
      "on_batch_end lr:0.005568504223001349, mom:0.753838585656264\n",
      "OptimWrapper.set_val:weight_decay cval:[0, 0, 0, 0]\n",
      "OptimWrapper.set_val:lr cval:[5.0824993149242844e-05, 0.00018170845094682886, 0.0006496402478312581, 0.0023225802069368404]\n",
      "OptimWrapper.set_val:betas cval:([0.7200268771555921, 0.7200268771555921, 0.7200268771555921, 0.7200268771555921], [0.99, 0.99, 0.99, 0.99])\n",
      "on_batch_end lr:0.0023225802069368404, mom:0.7200268771555921\n",
      "OptimWrapper.set_val:weight_decay cval:[0, 0, 0, 0]\n",
      "OptimWrapper.set_val:lr cval:[1.9472253887974086e-05, 6.961679424210307e-05, 0.0002488925046083379, 0.0008898352692710847]\n",
      "OptimWrapper.set_val:betas cval:([0.7051024507215737, 0.7051024507215737, 0.7051024507215737, 0.7051024507215737], [0.99, 0.99, 0.99, 0.99])\n",
      "on_batch_end lr:0.0008898352692710847, mom:0.7051024507215737\n",
      "OptimWrapper.set_val:weight_decay cval:[0, 0, 0, 0]\n",
      "OptimWrapper.set_val:lr cval:[1.1150764803343457e-05, 3.98659807653736e-05, 0.00014252801941518862, 0.000509563189677268]\n",
      "OptimWrapper.set_val:betas cval:([0.7011412832258048, 0.7011412832258048, 0.7011412832258048, 0.7011412832258048], [0.99, 0.99, 0.99, 0.99])\n",
      "on_batch_end lr:0.000509563189677268, mom:0.7011412832258048\n",
      "OptimWrapper.set_val:weight_decay cval:[0, 0, 0, 0]\n",
      "OptimWrapper.set_val:lr cval:[9.272635374805104e-06, 3.315133177102463e-05, 0.00011852194697299272, 0.0004237371823036938]\n",
      "OptimWrapper.set_val:betas cval:([0.7002472623156635, 0.7002472623156635, 0.7002472623156635, 0.7002472623156635], [0.99, 0.99, 0.99, 0.99])\n",
      "on_batch_end lr:0.0004237371823036938, mom:0.7002472623156635\n",
      "OptimWrapper.set_val:weight_decay cval:[0, 0, 0, 0]\n",
      "OptimWrapper.set_val:lr cval:[6.52515152907801e-05, 0.00023328585073498638, 0.0008340386872339208, 0.002981837645151953]\n",
      "OptimWrapper.set_val:betas cval:([0.7268941421369995, 0.7268941421369995, 0.7268941421369995, 0.7268941421369995], [0.99, 0.99, 0.99, 0.99])\n",
      "on_batch_end lr:0.002981837645151953, mom:0.7268941421369995\n"
     ]
    },
    {
     "data": {
      "image/png": "[encoded data removed]",
      "text/plain": [
       "<Figure size 432x288 with 1 Axes>"
      ]
     },
     "metadata": {},
     "output_type": "display_data"
    }
   ],
   "source": [
    "learn.fit_one_cycle(1, slice(1e-2/(2.6**4),1e-2), moms=(0.8,0.7))"
   ]
  },
  {
   "cell_type": "raw",
   "metadata": {},
   "source": [
    "            import tracemalloc\n",
    "            tracemalloc.start()\n",
    "            snapshot1 = tracemalloc.take_snapshot()\n",
    "\n",
    "            -----your interesting code\n",
    "            \n",
    "            snapshot2 = tracemalloc.take_snapshot()\n",
    "            top_stats = snapshot2.compare_to(snapshot1, 'lineno')\n",
    "            print(f\"Top 10 of {len(top_stats)}\")\n",
    "            for stat in top_stats[:10]: print(stat)\n",
    "          "
   ]
  },
  {
   "cell_type": "code",
   "execution_count": null,
   "metadata": {},
   "outputs": [],
   "source": []
  },
  {
   "cell_type": "code",
   "execution_count": null,
   "metadata": {},
   "outputs": [],
   "source": []
  }
 ],
 "metadata": {
  "kernelspec": {
   "display_name": "Python 3",
   "language": "python",
   "name": "python3"
  },
  "language_info": {
   "codemirror_mode": {
    "name": "ipython",
    "version": 3
   },
   "file_extension": ".py",
   "mimetype": "text/x-python",
   "name": "python",
   "nbconvert_exporter": "python",
   "pygments_lexer": "ipython3",
   "version": "3.7.2"
  }
 },
 "nbformat": 4,
 "nbformat_minor": 2
}
