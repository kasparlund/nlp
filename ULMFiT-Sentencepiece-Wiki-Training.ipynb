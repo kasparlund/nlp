{
 "cells": [
  {
   "cell_type": "markdown",
   "metadata": {},
   "source": [
    "# Build a language model based on wikipedia in you language \n",
    "\n",
    "The notebooke includes the whole process but you will need to help the process if the following problem happens:  \n",
    "-you internet connection is interrupted (stage 1)\n",
    "\n",
    "-you run out of diskspace\n",
    "\n",
    "-because of the huge memory consumption. creatig the databunch for the training requires lots of memory\n",
    "\n",
    "\n",
    "In order ot handle these problemn the notebook is divided into stages. If the process is failes in a stage then you can resume the processing from the beginning of that stage by:\n",
    "-restarting the kernel \"Kernel\"/Restart & Clear Output\n",
    "\n",
    "-running the cells in stage 0: initialization\n",
    "\n",
    "-running the cells from the start of the stage that failed "
   ]
  },
  {
   "cell_type": "markdown",
   "metadata": {},
   "source": [
    "# Stage 0: Initialisation\n",
    "lang: You must set the parameter \"lang\" to the language you want to build a model for. Fx:\n",
    "\n",
    "fr: for french\n",
    "\n",
    "en: for english\n",
    "\n",
    "de:for german\n",
    "\n",
    "da: for danish \n",
    "\n",
    "etc.\n",
    "\n",
    "pathData: You must se the location where you want your data stored using the parameter pathData. Consider using a ssd-rive"
   ]
  },
  {
   "cell_type": "code",
   "execution_count": 1,
   "metadata": {},
   "outputs": [],
   "source": [
    "lang=\"en\""
   ]
  },
  {
   "cell_type": "code",
   "execution_count": 2,
   "metadata": {},
   "outputs": [],
   "source": [
    "%reload_ext autoreload\n",
    "%autoreload 2"
   ]
  },
  {
   "cell_type": "code",
   "execution_count": 3,
   "metadata": {},
   "outputs": [],
   "source": [
    "from fastai.text import * \n",
    "\n",
    "from IPython.display import display, HTML\n",
    "from pathlib import *\n",
    "import re\n",
    "import shutil"
   ]
  },
  {
   "cell_type": "code",
   "execution_count": 4,
   "metadata": {},
   "outputs": [],
   "source": [
    "pathData       = Path(\"../../data/nlp\")\n",
    "path           = pathData / lang\n",
    "pathDump       = path/\"wiki-dump\"\n",
    "pathJson       = path/\"wiki-json\"\n",
    "\n",
    "pathTrainValid = path/\"wiki-train_valid\"\n",
    "pathTxt        = pathTrainValid/\"txt\"\n",
    "pathToks       = pathTrainValid/\"toks\"\n",
    "pathcsv        = pathTrainValid/\"wiki.csv\"\n",
    "\n",
    "cache_name   = \"sp-model\"\n",
    "pathVocab    = pathTrainValid / cache_name"
   ]
  },
  {
   "cell_type": "markdown",
   "metadata": {},
   "source": [
    "# requried libraries: \n",
    "conda install -c anaconda psutil \n",
    "\n",
    "conda install -c anaconda git \n",
    "\n",
    "#conda install -c menpo wget \n",
    "conda install curl\n"
   ]
  },
  {
   "cell_type": "code",
   "execution_count": 5,
   "metadata": {},
   "outputs": [],
   "source": [
    "def usedGB_RAM():\n",
    "    import psutil\n",
    "    return round((psutil.virtual_memory().used + psutil.swap_memory().used)/1e9,2)"
   ]
  },
  {
   "cell_type": "markdown",
   "metadata": {},
   "source": [
    "# Stage 1: download the selected language from wikipedia and convert the articles to json"
   ]
  },
  {
   "cell_type": "code",
   "execution_count": 6,
   "metadata": {
    "scrolled": true
   },
   "outputs": [],
   "source": [
    "if len(list(pathDump.glob(\"*.bz2\")))==0:\n",
    "    print(f\"1 nb: gc.collect:{gc.collect()} - used GB memory:{usedGB_RAM()}\") \n",
    "    pathDump.mkdir(parents=True,exist_ok=True)\n",
    "    #fn  = f\"{lang}wiki-latest-pages-articles.xml.bz2\"\n",
    "    fn  = f\"{lang}wiki-latest-pages-articles-multistream.xml.bz2\"\n",
    "    url = f\"https://dumps.wikimedia.org/{lang}wiki/latest/{fn}\"\n",
    "    #cmd = f\"wget -c --no-check-certificate --show-progress {str(url)} -P {str(pathDump)}\"\n",
    "    cmd = f'curl -k -C - -o \"{str(pathDump/fn)}\" \"{str(url)}\"'\n",
    "    print(f\"If the command fails in the notebook then copy the command and run it in the terminal:{cmd}\")\n",
    "    ! $cmd\n",
    "    print(f\"2 nb: gc.collect:{gc.collect()} - used GB memory:{usedGB_RAM()}\") "
   ]
  },
  {
   "cell_type": "markdown",
   "metadata": {},
   "source": [
    "# Stage 2: Convert wikipedia dump to articles in json"
   ]
  },
  {
   "cell_type": "code",
   "execution_count": 7,
   "metadata": {},
   "outputs": [],
   "source": [
    "pathWikiExtractor = Path(\"../wikiextractor\")"
   ]
  },
  {
   "cell_type": "code",
   "execution_count": 8,
   "metadata": {},
   "outputs": [],
   "source": [
    "if not pathJson.exists():\n",
    "    !git clone https://github.com/attardi/wikiextractor.git $pathWikiExtractor\n",
    "    cmd = f\"cd {str(pathWikiExtractor)} && python setup.py install\"\n",
    "    ! $cmd"
   ]
  },
  {
   "cell_type": "code",
   "execution_count": 9,
   "metadata": {},
   "outputs": [
    {
     "name": "stdout",
     "output_type": "stream",
     "text": [
      "Wall time: 0 ns\n"
     ]
    }
   ],
   "source": [
    "%%time\n",
    "if not pathJson.exists():\n",
    "    print(f\"1 nb: gc.collect:{gc.collect()} - used GB memory:{usedGB_RAM()}\") \n",
    "    #extracting the json-files. This takes about 1 hour for french with files read from and saved to a ssd hardrive \n",
    "    fn_wikidump = list(pathDump.iterdir())[0]\n",
    "    cmd = f\"cd {str(pathWikiExtractor)} && python WikiExtractor.py -o {str(pathJson)} --json --processes {defaults.cpus} -q  {str(fn_wikidump)}\"\n",
    "    print(f\"If WikiExtractor fails in the notebook then copy the command and run it in the terminal:{cmd}\")\n",
    "    ! $cmd\n",
    "    print(f\"2 nb: gc.collect:{gc.collect()} - used GB memory:{usedGB_RAM()}\") \n"
   ]
  },
  {
   "cell_type": "markdown",
   "metadata": {},
   "source": [
    "# Stage 3: building a vocabulary using sentencepiece\n",
    "\n",
    "Now we separate the title of the wikipedia section from text section that we keep. \n",
    "\n",
    "In order to makes a first reduction on the number of section we clean the text with the preprocessing rules from fastai and ignore text with less than \"minWords\"\n",
    "\n",
    "You must set the lenght of the shortes sections you want to keep using the parameter \"minWords\""
   ]
  },
  {
   "cell_type": "code",
   "execution_count": 10,
   "metadata": {},
   "outputs": [],
   "source": [
    "minWords  = 10\n",
    "chunksize = 25000"
   ]
  },
  {
   "cell_type": "code",
   "execution_count": 11,
   "metadata": {},
   "outputs": [
    {
     "name": "stdout",
     "output_type": "stream",
     "text": [
      "Requirement already satisfied: sentencepiece in c:\\users\\kl\\appdata\\local\\conda\\conda\\envs\\fastai\\lib\\site-packages (0.1.7)\n"
     ]
    }
   ],
   "source": [
    "!pip install sentencepiece"
   ]
  },
  {
   "cell_type": "code",
   "execution_count": 54,
   "metadata": {},
   "outputs": [],
   "source": [
    "from fastai_sentencepiece import *\n",
    "from filetokenizer import *\n",
    "from languagemodelloader import *"
   ]
  },
  {
   "cell_type": "code",
   "execution_count": 13,
   "metadata": {},
   "outputs": [],
   "source": [
    "if not pathTxt.exists():\n",
    "    print(f\"1 nb: gc.collect:{gc.collect()} - used GB memory:{usedGB_RAM()}\") \n",
    "    swm = SentencepieceWikiModel(lang=lang, pathJson=pathJson, pathcsv=pathcsv, pathTxt=pathTxt, pathVocab=pathVocab, minWords=minWords )\n",
    "    \n",
    "    %time swm.wikijson2TrainingData()   \n",
    "    print(f\"2 nb: gc.collect:{gc.collect()} - used GB memory:{usedGB_RAM()}\") "
   ]
  },
  {
   "cell_type": "code",
   "execution_count": 14,
   "metadata": {
    "scrolled": true
   },
   "outputs": [],
   "source": [
    "if not (pathVocab/\"m.model\").exists():\n",
    "    print(f\"1 nb: gc.collect:{gc.collect()} - used GB memory:{usedGB_RAM()}\") \n",
    "    swm = SentencepieceWikiModel(lang=lang, pathJson=pathJson, pathcsv=pathcsv, pathTxt=pathTxt, pathVocab=pathVocab, minWords=minWords)\n",
    "    %time swm.trainVocabulary()\n",
    "    print(f\"2 nb: gc.collect:{gc.collect()} - used GB memory:{usedGB_RAM()}\") "
   ]
  },
  {
   "cell_type": "code",
   "execution_count": 15,
   "metadata": {},
   "outputs": [],
   "source": [
    "if not (pathVocab/\"itos.pkl\").exists():\n",
    "    swm = SentencepieceWikiModel(lang=lang, pathJson=pathJson, pathcsv=pathcsv, pathTxt=pathTxt, pathVocab=pathVocab, minWords=minWords)\n",
    "    swm.convertVocab()"
   ]
  },
  {
   "cell_type": "markdown",
   "metadata": {},
   "source": [
    "# Show some examples using the vocabulary"
   ]
  },
  {
   "cell_type": "code",
   "execution_count": 16,
   "metadata": {
    "scrolled": true
   },
   "outputs": [
    {
     "name": "stdout",
     "output_type": "stream",
     "text": [
      "1: Size of vocabulary: 32000\n",
      "2: ['▁She', '▁is', '▁tall', '.', '▁He', '▁is', '▁small']\n",
      "3: [118, 18, 3920, 9, 40, 18, 322]\n"
     ]
    }
   ],
   "source": [
    "swm = SentencepieceWikiModel(lang=lang, pathJson=pathJson, pathcsv=pathcsv, pathTxt=pathTxt, pathVocab=pathVocab, minWords=minWords)\n",
    "sp = spm.SentencePieceProcessor()\n",
    "sp.Load(str(pathVocab / \"m.model\"))\n",
    "print(\"1: Size of vocabulary:\",sp.GetPieceSize())\n",
    "sentence = \"She is tall. He is small\"\n",
    "print(\"2:\", sp.EncodeAsPieces(sentence))\n",
    "print(\"3:\", sp.EncodeAsIds(sentence))\n"
   ]
  },
  {
   "cell_type": "code",
   "execution_count": 17,
   "metadata": {},
   "outputs": [
    {
     "name": "stdout",
     "output_type": "stream",
     "text": [
      "Control symbol\n",
      "<unk>(0)\n",
      "\n",
      "user_defined_symbols\n",
      "xxfld(0)\n",
      "xxmaj(3)\n",
      "xxup(4)\n",
      "xxrep(5)\n",
      "xxwrep(6)\n"
     ]
    }
   ],
   "source": [
    "print(f\"Control symbol\")\n",
    "for s in [\"<unk>\"]: print(f\"{s}({sp.PieceToId(s)})\")\n",
    "\n",
    "print(f\"\\nuser_defined_symbols\")\n",
    "for s in swm.getUserdefinedSymbols():print(f\"{s}({sp.PieceToId(s)})\")"
   ]
  },
  {
   "cell_type": "markdown",
   "metadata": {},
   "source": [
    "# Prepare training of the language model"
   ]
  },
  {
   "cell_type": "markdown",
   "metadata": {},
   "source": [
    "# Create Tokenizer\n",
    "The sentencepiece vocabulary was trained in Train Sentencepiece tokenizer.ipynb.\n",
    "\n",
    "Here we will make a BasicTokenizer from Sentencepiece"
   ]
  },
  {
   "cell_type": "code",
   "execution_count": 18,
   "metadata": {},
   "outputs": [
    {
     "name": "stdout",
     "output_type": "stream",
     "text": [
      "Tokenizer SentencepieceTokenizer in en with the following rules:\n",
      " - fix_html\n",
      " - replace_rep\n",
      " - replace_wrep\n",
      " - spec_add_spaces\n",
      " - rm_useless_spaces\n",
      " - rm_extra_lineshift\n",
      " - replace_all_caps\n",
      " - deal_caps\n",
      "\n",
      "size og vocabulary: 32000\n",
      "pad_idx: 0\n",
      "[0, 1, 0, 3, 4, 5, 6, 0]\n",
      "vocab: <fastai.text.transform.Vocab object at 0x0000020D6C325358>\n"
     ]
    }
   ],
   "source": [
    "spt_func  = partial(SentencepieceTokenizer.create, pathVocab=pathVocab)\n",
    "spt_func.__name__ = SentencepieceTokenizer.__name__\n",
    "spt       = spt_func(lang=\"en\")\n",
    "tokenizer = Tokenizer(spt_func,\"en\")\n",
    "\n",
    "pad_idx   = spt.vocab().numericalize([text.transform.PAD])[0]\n",
    "vocab,max_vocab  = spt.vocab(), len(spt.vocab().itos)\n",
    "\n",
    "print(tokenizer)\n",
    "print(\"size og vocabulary:\", max_vocab)\n",
    "print(\"pad_idx:\",pad_idx)\n",
    "\n",
    "print(spt.vocab().numericalize( [\"<unk>\" ,\"xxbos\" ,\"xxpad\" ,\"xxmaj\" ,\"xxup\" ,\"xxrep\" ,\"xxwrep\", \"xxfld\"]  ))\n",
    "sentence = [\"She is tall.\", \"He is small\"]\n",
    "tokenizer._process_all_1(sentence)\n",
    "\n",
    "print(\"vocab:\",vocab)"
   ]
  },
  {
   "cell_type": "markdown",
   "metadata": {},
   "source": [
    "# LM Training\n",
    "Set the minimum number of tokens for the sections that we shall retain"
   ]
  },
  {
   "cell_type": "code",
   "execution_count": 19,
   "metadata": {},
   "outputs": [],
   "source": [
    "#Discard section with kess than \"minTok\" tokens\n",
    "minToks = 10"
   ]
  },
  {
   "cell_type": "code",
   "execution_count": 30,
   "metadata": {},
   "outputs": [
    {
     "name": "stdout",
     "output_type": "stream",
     "text": [
      "self.dtype:<class 'numpy.int16'>\n",
      "self.dtype:<class 'numpy.int16'>\n",
      "Tokenizer SentencepieceTokenizer in en with the following rules:\n",
      " - fix_html\n",
      " - replace_rep\n",
      " - replace_wrep\n",
      " - spec_add_spaces\n",
      " - rm_useless_spaces\n",
      " - rm_extra_lineshift\n",
      " - rm_extra_lineshift\n",
      " - replace_all_caps\n",
      " - deal_caps\n",
      "\n",
      "size og vocabulary: 32000\n",
      "pad_idx: 0\n",
      "[0, 1, 0, 3, 4, 5, 6, 0]\n"
     ]
    }
   ],
   "source": [
    "pad_idx   = spt.vocab().numericalize([text.transform.PAD])[0]\n",
    "vocab,max_vocab = spt.vocab(), len(spt.vocab().itos)\n",
    "trainTokenizer = FileTokenizer(pathToks/\"train\", spt_func,\"en\",vocab,minToks=minToks,n_cpus=max(defaults.cpus-1,1))\n",
    "validTokenizer = FileTokenizer(pathToks/\"valid\", spt_func,\"en\",vocab,minToks=minToks,n_cpus=max(defaults.cpus-1,1))\n",
    "\n",
    "print(trainTokenizer)\n",
    "print(\"size og vocabulary:\", max_vocab)\n",
    "print(\"pad_idx:\",pad_idx)\n",
    "\n",
    "print(spt.vocab().numericalize( [\"<unk>\" ,\"xxbos\" ,\"xxpad\" ,\"xxmaj\" ,\"xxup\" ,\"xxrep\" ,\"xxwrep\", \"xxfld\"]  ))\n",
    "#sentence = [\"She is tall.\", \"He is small\"]\n",
    "#tokenizer._process_all_1(sentence)"
   ]
  },
  {
   "cell_type": "code",
   "execution_count": 31,
   "metadata": {},
   "outputs": [],
   "source": [
    "files   = np.asarray( list(pathTxt.glob(\"*.txt\")) )\n",
    "nrows   = len(files)\n",
    "split   = 0.2\n",
    "splitindex, index = int(nrows*split+.5), np.random.permutation(np.arange(nrows)) \n",
    "\n",
    "chunksize=0\n",
    "\n",
    "trainList = TextList( files[:-splitindex], vocab=vocab, pad_idx=pad_idx, \n",
    "                      processor=[FileTokenizeProcessor(tokenizer=trainTokenizer, \n",
    "                                                       chunksize=chunksize, mark_fields=False)])\n",
    "\n",
    "validList = TextList( files[-splitindex:], vocab=vocab, pad_idx=pad_idx, \n",
    "                      processor=[FileTokenizeProcessor(tokenizer=validTokenizer, \n",
    "                                                       chunksize=chunksize, mark_fields=False)])\n"
   ]
  },
  {
   "cell_type": "code",
   "execution_count": 32,
   "metadata": {},
   "outputs": [],
   "source": [
    "if not (pathToks/\"train\").exists():\n",
    "    print(f\"1 nb: gc.collect:{gc.collect()} - used GB memory:{usedGB_RAM()}\") \n",
    "    %time trainList.process()\n",
    "    trainList=None\n",
    "    print(f\"2 nb: gc.collect:{gc.collect()} - used GB memory:{usedGB_RAM()}\") "
   ]
  },
  {
   "cell_type": "code",
   "execution_count": 33,
   "metadata": {},
   "outputs": [],
   "source": [
    "if not (pathToks/\"valid\").exists():\n",
    "    print(f\"1 nb: gc.collect:{gc.collect()} - used GB memory:{usedGB_RAM()}\") \n",
    "    %time p = validList.process()\n",
    "    validList=None\n",
    "    print(f\"2 nb: gc.collect:{gc.collect()} - used GB memory:{usedGB_RAM()}\") "
   ]
  },
  {
   "cell_type": "code",
   "execution_count": 34,
   "metadata": {},
   "outputs": [
    {
     "name": "stdout",
     "output_type": "stream",
     "text": [
      "1 nb: gc.collect:143 - used GB memory:20.47\n",
      "Wall time: 1min 5s\n"
     ]
    }
   ],
   "source": [
    "print(f\"1 nb: gc.collect:{gc.collect()} - used GB memory:{usedGB_RAM()}\") \n",
    "%time trainIDS = trainTokenizer.getIds()"
   ]
  },
  {
   "cell_type": "code",
   "execution_count": 35,
   "metadata": {},
   "outputs": [
    {
     "name": "stdout",
     "output_type": "stream",
     "text": [
      "Wall time: 15.9 s\n",
      "2 nb: gc.collect:0 - used GB memory:42.44\n"
     ]
    }
   ],
   "source": [
    "%time validIDS=validTokenizer.getIds()\n",
    "print(f\"2 nb: gc.collect:{gc.collect()} - used GB memory:{usedGB_RAM()}\") "
   ]
  },
  {
   "cell_type": "code",
   "execution_count": 36,
   "metadata": {},
   "outputs": [
    {
     "name": "stdout",
     "output_type": "stream",
     "text": [
      "Traning:    number of arrays:27391909 - number of ids:-2019910006\n",
      "Validation: number of arrays:6560301 - number of ids:548245997\n",
      "Lenght of token rags min:10 max:13667 - median:66.0\n",
      "rags > 1000 tokes:878\n",
      "Wall time: 9.08 s\n"
     ]
    },
    {
     "data": {
      "image/png": "[encoded data removed]",
      "text/plain": [
       "<Figure size 432x288 with 1 Axes>"
      ]
     },
     "metadata": {
      "needs_background": "light"
     },
     "output_type": "display_data"
    }
   ],
   "source": [
    "%%time\n",
    "print(f\"Traning:    number of arrays:{len(trainIDS)} - number of ids:{np.sum([len(ids) for ids in trainIDS])}\")\n",
    "print(f\"Validation: number of arrays:{len(validIDS)} - number of ids:{np.sum([len(ids) for ids in validIDS])}\")\n",
    "\n",
    "#Analyse the distribution of the legnth of tokens sequences in the ragged/jagged array of tokes\n",
    "sectionlengths = np.asarray([len(s) for s in trainIDS],dtype=np.int32)\n",
    "plt.hist(sectionlengths[sectionlengths<1000], 100, density=True, facecolor='g', alpha=0.75)\n",
    "np.histogram(sectionlengths[sectionlengths<1000],50)\n",
    "\n",
    "print(f\"Lenght of token rags min:{min(sectionlengths)} max:{np.max(sectionlengths)} - median:{np.median(sectionlengths)}\")\n",
    "print(f\"rags > 1000 tokes:{np.sum(sectionlengths>1000)}\")\n",
    "sectionlengths[:20]"
   ]
  },
  {
   "cell_type": "code",
   "execution_count": 56,
   "metadata": {
    "scrolled": true
   },
   "outputs": [
    {
     "name": "stdout",
     "output_type": "stream",
     "text": [
      "MyTextLMDataBunch def create\n",
      "LanguageModelLoader.__init__ Used GB memory:40.66 batches:16753 nToks:53608199 bptt:50 p_bptt:0.25 max_len:25 shuffle:True backwards:False\n",
      "LanguageModelLoader.__init__ Used GB memory:40.66 batches:2423 nToks:7751422 bptt:50 p_bptt:0.25 max_len:25 shuffle:False backwards:False\n",
      "LanguageModelLoader.__init__ Used GB memory:40.66 batches:16753 nToks:53608199 bptt:50 p_bptt:0.25 max_len:25 shuffle:False backwards:False\n"
     ]
    }
   ],
   "source": [
    "from languagemodelloader import *\n",
    "#i have an issue with passing pad_idx\n",
    "\n",
    "#uses nTrainToks, nValidToks to limit the number of tokens used for training/validation\n",
    "#nTrainToks, nValidToks = 1000,200\n",
    "#nTrainToks, nValidToks = int(5e5),int(2e5)\n",
    "nTrainToks, nValidToks = int(5e5),int(1e5)\n",
    "#nTrainToks, nValidToks = 3000,600\n",
    "if nTrainToks>0 and nValidToks>0:\n",
    "    trainIDS = trainIDS[0:nTrainToks]\n",
    "    validIDS = validIDS[0:nValidToks]\n",
    "#dblm = MyTextLMDataBunch.from_ids( pathTrainValid, vocab, trainIDS, validIDS, bptt=70, p_bptt=0.25, bs=64)\n",
    "dblm = MyTextLMDataBunch.from_ids( pathTrainValid, vocab, trainIDS, validIDS, bptt=50, p_bptt=0.25, bs=64)\n",
    "#dblm = TextLMDataBunch.from_ids( pathTrainValid, vocab, trainIDS, validIDS, bs=64)"
   ]
  },
  {
   "cell_type": "code",
   "execution_count": 57,
   "metadata": {},
   "outputs": [
    {
     "data": {
      "text/plain": [
       "32000"
      ]
     },
     "execution_count": 57,
     "metadata": {},
     "output_type": "execute_result"
    }
   ],
   "source": [
    "len(dblm.train_ds.vocab.itos)"
   ]
  },
  {
   "cell_type": "code",
   "execution_count": 58,
   "metadata": {},
   "outputs": [
    {
     "name": "stdout",
     "output_type": "stream",
     "text": [
      "LanguageModelLoader.allocate_buffers Used GB memory:40.76 shuffle:True backwards:False\n"
     ]
    },
    {
     "data": {
      "text/html": [
       "<table>  <col width='5%'>  <col width='95%'>  <tr>\n",
       "    <th>idx</th>\n",
       "    <th>text</th>\n",
       "  </tr>\n",
       "  <tr>\n",
       "    <th>0</th>\n",
       "    <th>▁additionally , ▁there ▁are ▁around ▁60,000 ▁non - xxmaj xxunk xxunk ▁immigrants ▁in xxunk , ▁some ▁of ▁whom ▁have ▁sought ▁asylum . ▁most ▁of ▁the ▁migrants ▁are ▁from ▁communities ▁in xxunk ▁and xxunk , ▁particularly ▁the xxunk - xxmaj con go - speaking ▁nu ba ▁groups ▁of ▁the ▁southern ▁nu</th>\n",
       "  </tr>\n",
       "  <tr>\n",
       "    <th>1</th>\n",
       "    <th>; ▁some ▁are ▁illegal ▁immigrants . ▁to ▁meet ▁growing ▁demands ▁for ▁passenger ▁and ▁cargo ▁capacity , ▁in ▁2005 ▁these ▁airline s ▁significantly ▁expanded ▁their ▁fleet s ▁with ▁orders ▁placed ▁for ▁additional xxunk ▁and xxunk ▁aircraft ▁expected ▁to ▁be ▁delivered ▁by ▁2010. ▁in xxunk ▁2006, ▁it ▁was ▁announced ▁that ▁an xxunk</th>\n",
       "  </tr>\n",
       "  <tr>\n",
       "    <th>2</th>\n",
       "    <th>3 20 ▁assembly ▁plant ▁would ▁be ▁built ▁in ▁the ▁bin hai ▁new ▁area ▁of xxunk , ▁with ▁the ▁first ▁aircraft ▁to ▁be ▁delivered ▁in ▁2008. xxup ▁a ▁technique ▁called ▁cluster ed , ▁regular ly ▁inter space d , ▁short ▁pal in dro mic xxunk e at ▁( xxup cr xxup</th>\n",
       "  </tr>\n",
       "  <tr>\n",
       "    <th>3</th>\n",
       "    <th>pr ) ▁is ▁now ▁so ▁cheap ▁and ▁widely ▁available ▁that ▁scientists ▁fear ▁that ▁the ▁amateur s ▁will ▁start ▁experiment ing ▁with ▁them . ▁in ▁this ▁technique , ▁a xxup xxunk ▁sequence ▁is ▁cut ▁off ▁and ▁replaced ▁with ▁a ▁new ▁sequence ▁or ▁code ▁that ▁codes ▁for ▁a ▁particular ▁protein ▁or ▁characteristic</th>\n",
       "  </tr>\n",
       "  <tr>\n",
       "    <th>4</th>\n",
       "    <th>▁could ▁potentially ▁show ▁up ▁in ▁the ▁required ▁organism . ▁though ▁this ▁technique ▁is ▁a ▁breakthrough ▁and ▁is ▁commend able , ▁it ▁can ▁cause ▁serious ▁issues ▁and ▁potential ▁danger ▁if ▁used ▁by ▁people ▁with ▁wrong ▁intention s . ▁concern s ▁have ▁emerged ▁regarding ▁do - it - y our self ▁biology</th>\n",
       "  </tr>\n",
       "</table>\n"
      ],
      "text/plain": [
       "<IPython.core.display.HTML object>"
      ]
     },
     "metadata": {},
     "output_type": "display_data"
    }
   ],
   "source": [
    "dblm.show_batch()"
   ]
  },
  {
   "cell_type": "code",
   "execution_count": 59,
   "metadata": {},
   "outputs": [
    {
     "name": "stdout",
     "output_type": "stream",
     "text": [
      "1 nb: gc.collect:210 - used GB memory:40.81\n",
      "Wall time: 470 ms\n",
      "2 nb: gc.collect:5029 - used GB memory:40.88\n"
     ]
    }
   ],
   "source": [
    "print(f\"1 nb: gc.collect:{gc.collect()} - used GB memory:{usedGB_RAM()}\") \n",
    "%time learn = language_model_learner(dblm, drop_mult=0, qrnn=False, pad_token=-1, callback_fns=ShowGraph)\n",
    "print(f\"2 nb: gc.collect:{gc.collect()} - used GB memory:{usedGB_RAM()}\") "
   ]
  },
  {
   "cell_type": "raw",
   "metadata": {},
   "source": [
    "#problematic at present\n",
    "%time learn.lr_find()\n",
    "learn.recorder.plot(skip_start=0)"
   ]
  },
  {
   "cell_type": "code",
   "execution_count": 60,
   "metadata": {
    "scrolled": true
   },
   "outputs": [
    {
     "name": "stdout",
     "output_type": "stream",
     "text": [
      "The line_profiler extension is already loaded. To reload it, use:\n",
      "  %reload_ext line_profiler\n",
      "1 nb: gc.collect:0 - used GB memory:40.76\n"
     ]
    },
    {
     "data": {
      "text/html": [
       "Total time: 1:04:19 <p><table style='width:300px; margin-bottom:10px'>\n",
       "  <tr>\n",
       "    <th>epoch</th>\n",
       "    <th>train_loss</th>\n",
       "    <th>valid_loss</th>\n",
       "    <th>accuracy</th>\n",
       "  </tr>\n",
       "  <tr>\n",
       "    <th>1</th>\n",
       "    <th>4.499360</th>\n",
       "    <th>4.755191</th>\n",
       "    <th>0.240708</th>\n",
       "  </tr>\n",
       "  <tr>\n",
       "    <th>2</th>\n",
       "    <th>4.214717</th>\n",
       "    <th>4.554375</th>\n",
       "    <th>0.259080</th>\n",
       "  </tr>\n",
       "</table>\n"
      ],
      "text/plain": [
       "<IPython.core.display.HTML object>"
      ]
     },
     "metadata": {},
     "output_type": "display_data"
    },
    {
     "name": "stdout",
     "output_type": "stream",
     "text": [
      "LanguageModelLoader.allocate_buffers Used GB memory:40.77 shuffle:False backwards:False\n"
     ]
    },
    {
     "data": {
      "image/png": "[encoded data removed]",
      "text/plain": [
       "<Figure size 432x288 with 1 Axes>"
      ]
     },
     "metadata": {},
     "output_type": "display_data"
    },
    {
     "name": "stdout",
     "output_type": "stream",
     "text": [
      "Wall time: 1h 4min 19s\n",
      "2 nb: gc.collect:723 - used GB memory:40.72\n"
     ]
    }
   ],
   "source": [
    "%load_ext line_profiler\n",
    "from fastai_sentencepiece import *\n",
    "from filetokenizer import *\n",
    "from languagemodelloader import *\n",
    "print(f\"1 nb: gc.collect:{gc.collect()} - used GB memory:{usedGB_RAM()}\") \n",
    "%time learn.fit_one_cycle(2, 2e-3, moms=(0.8,0.7))\n",
    "print(f\"2 nb: gc.collect:{gc.collect()} - used GB memory:{usedGB_RAM()}\") "
   ]
  },
  {
   "cell_type": "code",
   "execution_count": 42,
   "metadata": {},
   "outputs": [],
   "source": [
    "learn.save('model-32k-sentencepiece-vocab')"
   ]
  },
  {
   "cell_type": "markdown",
   "metadata": {},
   "source": [
    "C:\\projects\\sentencepiece\\src\\trainer_interface.cc(363) LOG(INFO) Done: 100% characters are covered.\n",
    "C:\\projects\\sentencepiece\\src\\trainer_interface.cc(373) LOG(INFO) Alphabet size=5727\n",
    "C:\\projects\\sentencepiece\\src\\trainer_interface.cc(374) LOG(INFO) Final character coverage=1\n",
    "C:\\projects\\sentencepiece\\src\\trainer_interface.cc(406) LOG(INFO) Done! preprocessed 998659 sentences.\n",
    "C:\\projects\\sentencepiece\\src\\unigram_model_trainer.cc(129) LOG(INFO) Making suffix array...\n",
    "[I 14:36:20.223 NotebookApp] Saving file at /nlp/nonsens scratchpad.ipynb\n",
    "C:\\projects\\sentencepiece\\src\\unigram_model_trainer.cc(133) LOG(INFO) Extracting frequent sub strings...\n",
    "C:\\projects\\sentencepiece\\src\\unigram_model_trainer.cc(184) LOG(INFO) Initialized 1000000 seed sentencepieces\n",
    "C:\\projects\\sentencepiece\\src\\trainer_interface.cc(412) LOG(INFO) Tokenizing input sentences with whitespace: 998659\n",
    "C:\\projects\\sentencepiece\\src\\trainer_interface.cc(421) LOG(INFO) Done! 2058688\n",
    "C:\\projects\\sentencepiece\\src\\unigram_model_trainer.cc(472) LOG(INFO) Using 2058688 sentences for EM training"
   ]
  }
 ],
 "metadata": {
  "kernelspec": {
   "display_name": "Python 3",
   "language": "python",
   "name": "python3"
  },
  "language_info": {
   "codemirror_mode": {
    "name": "ipython",
    "version": 3
   },
   "file_extension": ".py",
   "mimetype": "text/x-python",
   "name": "python",
   "nbconvert_exporter": "python",
   "pygments_lexer": "ipython3",
   "version": "3.7.1"
  }
 },
 "nbformat": 4,
 "nbformat_minor": 2
}
