{
 "cells": [
  {
   "cell_type": "markdown",
   "metadata": {},
   "source": [
    "# Build a language model based on wikipedia in you language \n",
    "\n",
    "The notebooke includes the whole process but you will need to help the process if the following problem happens:  \n",
    "-you internet connection is interrupted (stage 1)\n",
    "\n",
    "-you run out of diskspace\n",
    "\n",
    "-because of the huge memory consumption. creatig the databunch for the training requires lots of memory\n",
    "\n",
    "\n",
    "In order ot handle these problemn the notebook is divided into stages. If the process is failes in a stage then you can resume the processing from the beginning of that stage by:\n",
    "-restarting the kernel \"Kernel\"/Restart & Clear Output\n",
    "\n",
    "-running the cells in stage 0: initialization\n",
    "\n",
    "-running the cells from the start of the stage that failed "
   ]
  },
  {
   "cell_type": "markdown",
   "metadata": {},
   "source": [
    "# Stage 0: Initialisation\n",
    "lang: You must set the parameter \"lang\" to the language you want to build a model for. Fx:\n",
    "\n",
    "fr: for french\n",
    "\n",
    "en: for english\n",
    "\n",
    "de:for german\n",
    "\n",
    "da: for danish \n",
    "\n",
    "etc.\n",
    "\n",
    "pathData: You must se the location where you want your data stored using the parameter pathData. Consider using a ssd-rive"
   ]
  },
  {
   "cell_type": "code",
   "execution_count": 1,
   "metadata": {},
   "outputs": [],
   "source": [
    "lang=\"en\""
   ]
  },
  {
   "cell_type": "code",
   "execution_count": 2,
   "metadata": {},
   "outputs": [],
   "source": [
    "%reload_ext autoreload\n",
    "%autoreload 2"
   ]
  },
  {
   "cell_type": "code",
   "execution_count": 3,
   "metadata": {},
   "outputs": [],
   "source": [
    "from fastai.text import * \n",
    "\n",
    "from IPython.display import display, HTML\n",
    "from pathlib import *\n",
    "import re\n",
    "import shutil\n",
    "\n",
    "from fastai_sentencepiece import *\n",
    "from filetokenizer import *\n",
    "from languagemodelloader import *"
   ]
  },
  {
   "cell_type": "code",
   "execution_count": 4,
   "metadata": {},
   "outputs": [],
   "source": [
    "pathData       = Path(\"../nlp-data\")\n",
    "path           = pathData / lang\n",
    "pathDump       = path/\"wiki-dump\"\n",
    "pathJson       = path/\"wiki-json\"\n",
    "\n",
    "pathTrainValid = path/\"wiki-train_valid\"\n",
    "pathTxt        = pathTrainValid/\"txt\"\n",
    "pathToks       = pathTrainValid/\"toks\"\n",
    "pathcsv        = pathTrainValid/\"wiki.csv\"\n",
    "\n",
    "cache_name   = \"sp-model\"\n",
    "pathVocab    = pathTrainValid / cache_name"
   ]
  },
  {
   "cell_type": "markdown",
   "metadata": {},
   "source": [
    "# Stage 1: download the selected language from wikipedia and convert the articles to json"
   ]
  },
  {
   "cell_type": "code",
   "execution_count": 5,
   "metadata": {},
   "outputs": [],
   "source": [
    "if len(list(pathDump.glob(\"*.bz2\")))==0:\n",
    "    print(f\"1 nb: gc.collect:{gc.collect()} - used GB memory:{usedGB_RAM()}\") \n",
    "    pathDump.mkdir(parents=True,exist_ok=True)\n",
    "    fn    = f\"{lang}wiki-latest-pages-articles.xml.bz2\"\n",
    "    pDist = str(pathDump)\n",
    "    url   = f\"https://dumps.wikimedia.org/{lang}wiki/latest/{fn}\"\n",
    "    !wget -c $url -P $pDist\n",
    "    print(f\"2 nb: gc.collect:{gc.collect()} - used GB memory:{usedGB_RAM()}\") "
   ]
  },
  {
   "cell_type": "markdown",
   "metadata": {},
   "source": [
    "# Stage 2: Convert wikipedia dump to articles in json"
   ]
  },
  {
   "cell_type": "code",
   "execution_count": 6,
   "metadata": {},
   "outputs": [],
   "source": [
    "pathWikiExtractor = Path(\"../wikiextractor\")"
   ]
  },
  {
   "cell_type": "code",
   "execution_count": 7,
   "metadata": {},
   "outputs": [],
   "source": [
    "if not pathJson.exists():\n",
    "    !git clone https://github.com/attardi/wikiextractor.git $pathWikiExtractor\n",
    "    cmd = f\"cd {str(pathWikiExtractor)} && python setup.py install\"\n",
    "    ! $cmd"
   ]
  },
  {
   "cell_type": "code",
   "execution_count": 8,
   "metadata": {},
   "outputs": [
    {
     "name": "stdout",
     "output_type": "stream",
     "text": [
      "CPU times: user 83 µs, sys: 51 µs, total: 134 µs\n",
      "Wall time: 111 µs\n"
     ]
    }
   ],
   "source": [
    "%%time\n",
    "if not pathJson.exists():\n",
    "    print(f\"1 nb: gc.collect:{gc.collect()} - used GB memory:{usedGB_RAM()}\") \n",
    "    #extracting the json-files. This takes about 1 hour for french with files read from and saved to a ssd hardrive \n",
    "    fn_wikidump = list(pathDump.iterdir())[0]\n",
    "    strcmd = f\"cd {str(pathWikiExtractor)} && WikiExtractor.py -o {str(pathJson)} --json -q  {str(fn_wikidump)}\"\n",
    "    print(strcmd)\n",
    "    !$strcmd\n",
    "    print(f\"2 nb: gc.collect:{gc.collect()} - used GB memory:{usedGB_RAM()}\") \n"
   ]
  },
  {
   "cell_type": "markdown",
   "metadata": {},
   "source": [
    "# Stage 3: building a vocabulary using sentencepiece\n",
    "\n",
    "Now we separate the title of the wikipedia section from text section that we keep. \n",
    "\n",
    "In order to makes a first reduction on the number of section we clean the text with the preprocessing rules from fastai and ignore text with less than \"minWords\"\n",
    "\n",
    "You must set the lenght of the shortes sections you want to keep using the parameter \"minWords\""
   ]
  },
  {
   "cell_type": "code",
   "execution_count": 9,
   "metadata": {},
   "outputs": [],
   "source": [
    "minWords  = 5\n",
    "chunksize = 25000"
   ]
  },
  {
   "cell_type": "code",
   "execution_count": 10,
   "metadata": {},
   "outputs": [
    {
     "name": "stdout",
     "output_type": "stream",
     "text": [
      "Requirement already satisfied: sentencepiece in /anaconda3/envs/fastai/lib/python3.7/site-packages (0.1.6)\r\n"
     ]
    }
   ],
   "source": [
    "!pip install sentencepiece"
   ]
  },
  {
   "cell_type": "code",
   "execution_count": 11,
   "metadata": {},
   "outputs": [],
   "source": [
    "if not pathTxt.exists():\n",
    "    print(f\"1 nb: gc.collect:{gc.collect()} - used GB memory:{usedGB_RAM()}\") \n",
    "    swm = SentencepieceWikiModel(lang=lang, pathJson=pathJson, pathcsv=pathcsv, pathTxt=pathTxt, pathVocab=pathVocab)\n",
    "    %time swm.wikijson2TrainingData()   \n",
    "    print(f\"2 nb: gc.collect:{gc.collect()} - used GB memory:{usedGB_RAM()}\") "
   ]
  },
  {
   "cell_type": "code",
   "execution_count": 12,
   "metadata": {
    "scrolled": true
   },
   "outputs": [],
   "source": [
    "if not pathVocab.exists():\n",
    "    print(f\"1 nb: gc.collect:{gc.collect()} - used GB memory:{usedGB_RAM()}\") \n",
    "    swm = SentencepieceWikiModel(lang=lang, pathJson=pathJson, pathcsv=pathcsv, pathTxt=pathTxt, pathVocab=pathVocab)\n",
    "    %time swm.trainVocabulary()\n",
    "    print(f\"2 nb: gc.collect:{gc.collect()} - used GB memory:{usedGB_RAM()}\") "
   ]
  },
  {
   "cell_type": "markdown",
   "metadata": {},
   "source": [
    "# Show some examples using the vocabulary"
   ]
  },
  {
   "cell_type": "code",
   "execution_count": 13,
   "metadata": {
    "scrolled": true
   },
   "outputs": [
    {
     "name": "stdout",
     "output_type": "stream",
     "text": [
      "1: Size of vocabulary: 32000\n",
      "2: ['▁She', '▁is', '▁tall', '.', '▁He', '▁is', '▁small']\n",
      "3: [130, 20, 3921, 10, 44, 20, 324]\n"
     ]
    }
   ],
   "source": [
    "swm = SentencepieceWikiModel(lang=lang, pathJson=pathJson, pathcsv=pathcsv, pathTxt=pathTxt, pathVocab=pathVocab)\n",
    "sp = spm.SentencePieceProcessor()\n",
    "sp.Load(str(pathVocab / \"m.model\"))\n",
    "print(\"1: Size of vocabulary:\",sp.GetPieceSize())\n",
    "sentence = \"She is tall. He is small\"\n",
    "print(\"2:\", sp.EncodeAsPieces(sentence))\n",
    "print(\"3:\", sp.EncodeAsIds(sentence))\n"
   ]
  },
  {
   "cell_type": "code",
   "execution_count": 14,
   "metadata": {},
   "outputs": [
    {
     "name": "stdout",
     "output_type": "stream",
     "text": [
      "Control symbol\n",
      "<unk>(0)\n",
      "\n",
      "user_defined_symbols\n",
      "xxbos(1)\n",
      "xxpad(2)\n",
      "xxmaj(3)\n",
      "xxup(4)\n",
      "xxrep(5)\n",
      "xxwrep(6)\n",
      "xxfld(7)\n"
     ]
    }
   ],
   "source": [
    "print(f\"Control symbol\")\n",
    "for s in [\"<unk>\"]: print(f\"{s}({sp.PieceToId(s)})\")\n",
    "\n",
    "print(f\"\\nuser_defined_symbols\")\n",
    "for s in swm.getUserdefinedSymbols():print(f\"{s}({sp.PieceToId(s)})\")"
   ]
  },
  {
   "cell_type": "markdown",
   "metadata": {},
   "source": [
    "# Prepare training of the language model"
   ]
  },
  {
   "cell_type": "markdown",
   "metadata": {},
   "source": [
    "# Create Tokenizer\n",
    "The sentencepiece vocabulary was trained in Train Sentencepiece tokenizer.ipynb.\n",
    "\n",
    "Here we will make a BasicTokenizer from Sentencepiece"
   ]
  },
  {
   "cell_type": "code",
   "execution_count": 15,
   "metadata": {},
   "outputs": [
    {
     "name": "stdout",
     "output_type": "stream",
     "text": [
      "Tokenizer SentencepieceTokenizer in en with the following rules:\n",
      " - fix_html\n",
      " - replace_rep\n",
      " - replace_wrep\n",
      " - spec_add_spaces\n",
      " - rm_useless_spaces\n",
      " - rm_extra_lineshift\n",
      " - replace_all_caps\n",
      " - deal_caps\n",
      "\n",
      "size og vocabulary: 32000\n",
      "pad_idx: 2\n",
      "[0, 1, 2, 3, 4, 5, 6, 7]\n",
      "vocab: <fastai.text.transform.Vocab object at 0x1a1bf248d0>\n"
     ]
    }
   ],
   "source": [
    "spt_func  = partial(SentencepieceTokenizer.create, pathVocab=pathVocab)\n",
    "spt_func.__name__ = SentencepieceTokenizer.__name__\n",
    "spt       = spt_func(lang=\"en\")\n",
    "tokenizer = Tokenizer(spt_func,\"en\")\n",
    "\n",
    "pad_idx   = spt.vocab().numericalize([text.transform.PAD])[0]\n",
    "vocab,max_vocab  = spt.vocab(), len(spt.vocab().itos)\n",
    "\n",
    "print(tokenizer)\n",
    "print(\"size og vocabulary:\", max_vocab)\n",
    "print(\"pad_idx:\",pad_idx)\n",
    "\n",
    "print(spt.vocab().numericalize( [\"<unk>\" ,\"xxbos\" ,\"xxpad\" ,\"xxmaj\" ,\"xxup\" ,\"xxrep\" ,\"xxwrep\", \"xxfld\"]  ))\n",
    "sentence = [\"She is tall.\", \"He is small\"]\n",
    "tokenizer._process_all_1(sentence)\n",
    "\n",
    "print(\"vocab:\",vocab)"
   ]
  },
  {
   "cell_type": "markdown",
   "metadata": {},
   "source": [
    "# LM Training\n",
    "Set the minimum number of tokens for the sections that we shall retain"
   ]
  },
  {
   "cell_type": "code",
   "execution_count": 16,
   "metadata": {},
   "outputs": [],
   "source": [
    "#Discard section with kess than \"minTok\" tokens\n",
    "minToks = 7"
   ]
  },
  {
   "cell_type": "code",
   "execution_count": 17,
   "metadata": {},
   "outputs": [
    {
     "name": "stdout",
     "output_type": "stream",
     "text": [
      "Tokenizer SentencepieceTokenizer in en with the following rules:\n",
      " - fix_html\n",
      " - replace_rep\n",
      " - replace_wrep\n",
      " - spec_add_spaces\n",
      " - rm_useless_spaces\n",
      " - rm_extra_lineshift\n",
      " - rm_extra_lineshift\n",
      " - rm_extra_lineshift\n",
      " - replace_all_caps\n",
      " - deal_caps\n",
      "\n",
      "size og vocabulary: 32000\n",
      "pad_idx: 2\n",
      "[0, 1, 2, 3, 4, 5, 6, 7]\n"
     ]
    }
   ],
   "source": [
    "pad_idx   = spt.vocab().numericalize([text.transform.PAD])[0]\n",
    "vocab,max_vocab = spt.vocab(), len(spt.vocab().itos)\n",
    "trainTokenizer = FileTokenizer(pathToks/\"train\", spt_func,\"en\",vocab)\n",
    "validTokenizer = FileTokenizer(pathToks/\"valid\", spt_func,\"en\",vocab)\n",
    "\n",
    "print(trainTokenizer)\n",
    "print(\"size og vocabulary:\", max_vocab)\n",
    "print(\"pad_idx:\",pad_idx)\n",
    "\n",
    "print(spt.vocab().numericalize( [\"<unk>\" ,\"xxbos\" ,\"xxpad\" ,\"xxmaj\" ,\"xxup\" ,\"xxrep\" ,\"xxwrep\", \"xxfld\"]  ))\n",
    "#sentence = [\"She is tall.\", \"He is small\"]\n",
    "#tokenizer._process_all_1(sentence)"
   ]
  },
  {
   "cell_type": "code",
   "execution_count": 18,
   "metadata": {},
   "outputs": [],
   "source": [
    "files   = np.asarray( list(pathTxt.glob(\"*.txt\")) )\n",
    "nrows   = len(files)\n",
    "split   = 0.2\n",
    "splitindex, index = int(nrows*split+.5), np.random.permutation(np.arange(nrows)) \n",
    "\n",
    "chunksize=0\n",
    "\n",
    "trainList = TextList( files[:-splitindex], vocab=vocab, pad_idx=pad_idx, \n",
    "                      processor=[FileTokenizeProcessor(tokenizer=trainTokenizer, \n",
    "                                                       chunksize=chunksize, mark_fields=False)],\n",
    "                      minToks=minToks)\n",
    "\n",
    "validList = TextList( files[-splitindex:], vocab=vocab, pad_idx=pad_idx, \n",
    "                      processor=[FileTokenizeProcessor(tokenizer=validTokenizer, \n",
    "                                                       chunksize=chunksize, mark_fields=False)],\n",
    "                      minToks=minToks)"
   ]
  },
  {
   "cell_type": "code",
   "execution_count": 19,
   "metadata": {},
   "outputs": [],
   "source": [
    "if not (pathToks/\"train\").exists():\n",
    "    print(f\"1 nb: gc.collect:{gc.collect()} - used GB memory:{usedGB_RAM()}\") \n",
    "    %time trainList.process()\n",
    "    trainList=None\n",
    "    print(f\"2 nb: gc.collect:{gc.collect()} - used GB memory:{usedGB_RAM()}\") "
   ]
  },
  {
   "cell_type": "code",
   "execution_count": 20,
   "metadata": {},
   "outputs": [],
   "source": [
    "if not (pathToks/\"valid\").exists():\n",
    "    print(f\"1 nb: gc.collect:{gc.collect()} - used GB memory:{usedGB_RAM()}\") \n",
    "    %time p = validList.process()\n",
    "    validList=None\n",
    "    print(f\"2 nb: gc.collect:{gc.collect()} - used GB memory:{usedGB_RAM()}\") "
   ]
  },
  {
   "cell_type": "code",
   "execution_count": 21,
   "metadata": {},
   "outputs": [
    {
     "name": "stdout",
     "output_type": "stream",
     "text": [
      "1 nb: gc.collect:7 - used GB memory:6.85\n",
      "threading with on 1 cores\n",
      "CPU times: user 1min 43s, sys: 8.89 s, total: 1min 52s\n",
      "Wall time: 1min 55s\n"
     ]
    }
   ],
   "source": [
    "print(f\"1 nb: gc.collect:{gc.collect()} - used GB memory:{usedGB_RAM()}\") \n",
    "%time trainIDS = trainTokenizer.getIds()"
   ]
  },
  {
   "cell_type": "code",
   "execution_count": 22,
   "metadata": {},
   "outputs": [
    {
     "name": "stdout",
     "output_type": "stream",
     "text": [
      "threading with on 1 cores\n",
      "CPU times: user 32.4 s, sys: 3.57 s, total: 35.9 s\n",
      "Wall time: 36.6 s\n",
      "2 nb: gc.collect:0 - used GB memory:7.83\n"
     ]
    }
   ],
   "source": [
    "%time validIDS=validTokenizer.getIds()\n",
    "print(f\"2 nb: gc.collect:{gc.collect()} - used GB memory:{usedGB_RAM()}\") "
   ]
  },
  {
   "cell_type": "code",
   "execution_count": 23,
   "metadata": {},
   "outputs": [
    {
     "name": "stdout",
     "output_type": "stream",
     "text": [
      "Traning:    number of arrays:24871686 - number of ids:2044746556\n",
      "Validation: number of arrays:8310438 - number of ids:732773770\n",
      "Lenght of token rags min:5 max:12985 - median:65.0\n",
      "rags > 1000 tokes:942\n",
      "CPU times: user 15.7 s, sys: 16.3 s, total: 32 s\n",
      "Wall time: 35.9 s\n"
     ]
    },
    {
     "data": {
      "image/png": "[encoded data removed]",
      "text/plain": [
       "<Figure size 432x288 with 1 Axes>"
      ]
     },
     "metadata": {
      "needs_background": "light"
     },
     "output_type": "display_data"
    }
   ],
   "source": [
    "%%time\n",
    "print(f\"Traning:    number of arrays:{len(trainIDS)} - number of ids:{np.sum([len(ids) for ids in trainIDS])}\")\n",
    "print(f\"Validation: number of arrays:{len(validIDS)} - number of ids:{np.sum([len(ids) for ids in validIDS])}\")\n",
    "\n",
    "#Analyse the distribution of the legnth of tokens sequences in the ragged/jagged array of tokes\n",
    "sectionlengths = np.asarray([len(s) for s in trainIDS],dtype=np.int32)\n",
    "plt.hist(sectionlengths[sectionlengths<1000], 100, density=True, facecolor='g', alpha=0.75)\n",
    "np.histogram(sectionlengths[sectionlengths<1000],50)\n",
    "\n",
    "print(f\"Lenght of token rags min:{min(sectionlengths)} max:{np.max(sectionlengths)} - median:{np.median(sectionlengths)}\")\n",
    "print(f\"rags > 1000 tokes:{np.sum(sectionlengths>1000)}\")\n",
    "sectionlengths[:20]"
   ]
  },
  {
   "cell_type": "code",
   "execution_count": 24,
   "metadata": {},
   "outputs": [
    {
     "name": "stdout",
     "output_type": "stream",
     "text": [
      "MyTextLMDataBunch def create\n",
      "LanguageModelLoader.__init__ Used GB memory:5.72 batches:24 nToks:53367 bptt:70 p_bptt:0.25 shuffle:True backwards:False\n",
      "LanguageModelLoader.__init__ Used GB memory:5.72 batches:42 nToks:92794 bptt:70 p_bptt:0.25 shuffle:False backwards:False\n",
      "LanguageModelLoader.__init__ Used GB memory:5.72 batches:24 nToks:53367 bptt:70 p_bptt:0.25 shuffle:False backwards:False\n"
     ]
    }
   ],
   "source": [
    "#i have an issue with passing pad_idx\n",
    "\n",
    "#uses nTrainToks, nValidToks to limit the number of tokens used for training/validation\n",
    "nTrainToks, nValidToks = 1000,200\n",
    "#nTrainToks, nValidToks = 3000,600\n",
    "if nTrainToks>0 and nValidToks>0:\n",
    "    trainIDS = trainIDS[0:1000]\n",
    "    validIDS = validIDS[0:1000]\n",
    "dblm = MyTextLMDataBunch.from_ids( pathTrainValid, vocab, trainIDS, validIDS, bptt=70, p_bptt=0.25, bs=32)\n",
    "#dblm = TextLMDataBunch.from_ids( pathTrainValid, vocab, trainIDS, validIDS, bs=32)"
   ]
  },
  {
   "cell_type": "code",
   "execution_count": 25,
   "metadata": {},
   "outputs": [
    {
     "data": {
      "text/plain": [
       "32000"
      ]
     },
     "execution_count": 25,
     "metadata": {},
     "output_type": "execute_result"
    }
   ],
   "source": [
    "len(dblm.train_ds.vocab.itos)"
   ]
  },
  {
   "cell_type": "code",
   "execution_count": 26,
   "metadata": {},
   "outputs": [
    {
     "name": "stdout",
     "output_type": "stream",
     "text": [
      "LanguageModelLoader.allocate_buffers Used GB memory:5.71 shuffle:True backwards:False\n"
     ]
    },
    {
     "data": {
      "text/html": [
       "<table>  <col width='5%'>  <col width='95%'>  <tr>\n",
       "    <th>idx</th>\n",
       "    <th>text</th>\n",
       "  </tr>\n",
       "  <tr>\n",
       "    <th>0</th>\n",
       "    <th>▁ensemble <unk> a ño l <unk> ▁dance ▁theater ▁is ▁an <unk> <unk> ▁dance ▁company ▁in ▁residence ▁at ▁north eastern <unk> ▁university ▁in <unk> . ▁about ▁12 5,000 ▁don ▁co s s ack s , ▁who ▁formed ▁sixty ▁cavalry ▁regiments , ▁thirty - three ▁horse ▁batteries , ▁six ▁infantry ▁battalions , ▁five ▁reserve ▁regiments , ▁three ▁reserve ▁batteries ▁and ▁more ▁than ▁eight</th>\n",
       "  </tr>\n",
       "  <tr>\n",
       "    <th>1</th>\n",
       "    <th>▁special ▁hundreds ▁took ▁part ▁in ▁the ▁battles ▁of ▁the ▁first ▁world ▁war . ▁they ▁participated ▁in ▁almost ▁every ▁major ▁operation ▁at ▁the <unk> ▁front . ▁the ▁club ▁was ▁founded ▁in ▁1976 ▁by ▁the ▁two <unk> s ▁men ' s ▁basketball ▁captain s <unk> <unk> ok ovich ▁and <unk> ▁sch nee berger ▁they ▁both ▁played ▁at ▁the ▁1984 <unk> <unk> ▁summer <unk></th>\n",
       "  </tr>\n",
       "  <tr>\n",
       "    <th>2</th>\n",
       "    <th>tu ary ▁park ▁estate ▁is ▁located ▁to ▁the ▁suburb ' s ▁south - west ▁on ▁the ▁western ▁side ▁of ▁the xxup ▁b unda berg ▁ring - xxmaj ro ad , ▁which ▁separate s ▁it ▁from <unk> <unk> ▁estate ▁along ▁with ▁a ▁minor ▁creek . ▁the ▁modern ▁estate ▁currently ▁has ▁around ▁77 ▁all ot ments ▁with ▁a ▁special ▁appeal ▁from ▁strict ▁co</th>\n",
       "  </tr>\n",
       "  <tr>\n",
       "    <th>3</th>\n",
       "    <th>, ▁and ▁the ▁surrounding ▁natural ▁vegetation ▁and ▁1 . 47 ▁hectares ▁of ▁park land . <unk> <unk> <unk> ▁( born ▁10 <unk> ▁1935 ) ▁is ▁a ▁retired ▁new <unk> ▁field ▁hockey ▁player . ▁he ▁competed ▁at ▁the ▁1960 ▁and ▁1964 ▁summer <unk> ▁and ▁finished ▁fifth ▁in ▁1960. ▁while ▁pe g gram ▁concentrated ▁heavily ▁in ▁his ▁studies , ▁he ▁also ▁had ▁many</th>\n",
       "  </tr>\n",
       "  <tr>\n",
       "    <th>4</th>\n",
       "    <th>r icular ▁involvement s ▁during ▁his ▁undergraduate ▁school ing . ▁he ▁was ▁involved ▁in <unk> ▁club , ▁poetry ▁club , ▁and ▁was ▁pledge ▁of ▁le ▁cer cle ▁franc ais . ▁he ▁also ▁participated ▁in ▁the <unk> . <unk> ’ s ▁society , ▁the <unk> ▁so ir ée , ▁and ▁was ▁an ▁elected ▁member ▁of ▁the ▁1934 - 35 <unk> ▁beta <unk></th>\n",
       "  </tr>\n",
       "</table>\n"
      ],
      "text/plain": [
       "<IPython.core.display.HTML object>"
      ]
     },
     "metadata": {},
     "output_type": "display_data"
    }
   ],
   "source": [
    "dblm.show_batch()"
   ]
  },
  {
   "cell_type": "code",
   "execution_count": 30,
   "metadata": {},
   "outputs": [
    {
     "name": "stdout",
     "output_type": "stream",
     "text": [
      "1 nb: gc.collect:0 - used GB memory:6.76\n",
      "CPU times: user 439 ms, sys: 83 ms, total: 522 ms\n",
      "Wall time: 520 ms\n",
      "2 nb: gc.collect:4860 - used GB memory:6.24\n"
     ]
    }
   ],
   "source": [
    "print(f\"1 nb: gc.collect:{gc.collect()} - used GB memory:{usedGB_RAM()}\") \n",
    "%time learn = language_model_learner(dblm, drop_mult=0, qrnn=False, pad_token=-1, callback_fns=ShowGraph)\n",
    "print(f\"2 nb: gc.collect:{gc.collect()} - used GB memory:{usedGB_RAM()}\") "
   ]
  },
  {
   "cell_type": "raw",
   "metadata": {},
   "source": [
    "#problematic at present\n",
    "%time learn.lr_find()\n",
    "learn.recorder.plot(skip_start=0)"
   ]
  },
  {
   "cell_type": "code",
   "execution_count": 31,
   "metadata": {},
   "outputs": [
    {
     "name": "stdout",
     "output_type": "stream",
     "text": [
      "1 nb: gc.collect:0 - used GB memory:6.26\n"
     ]
    },
    {
     "data": {
      "text/html": [
       "Total time: 36:30 <p><table style='width:300px; margin-bottom:10px'>\n",
       "  <tr>\n",
       "    <th>epoch</th>\n",
       "    <th>train_loss</th>\n",
       "    <th>valid_loss</th>\n",
       "    <th>accuracy</th>\n",
       "  </tr>\n",
       "  <tr>\n",
       "    <th>1</th>\n",
       "    <th>9.397016</th>\n",
       "    <th>7.948424</th>\n",
       "    <th>0.055715</th>\n",
       "  </tr>\n",
       "  <tr>\n",
       "    <th>2</th>\n",
       "    <th>7.887998</th>\n",
       "    <th>7.190983</th>\n",
       "    <th>0.055246</th>\n",
       "  </tr>\n",
       "  <tr>\n",
       "    <th>3</th>\n",
       "    <th>7.276543</th>\n",
       "    <th>7.135007</th>\n",
       "    <th>0.070560</th>\n",
       "  </tr>\n",
       "  <tr>\n",
       "    <th>4</th>\n",
       "    <th>6.925540</th>\n",
       "    <th>7.019084</th>\n",
       "    <th>0.091940</th>\n",
       "  </tr>\n",
       "  <tr>\n",
       "    <th>5</th>\n",
       "    <th>6.654378</th>\n",
       "    <th>6.944036</th>\n",
       "    <th>0.098928</th>\n",
       "  </tr>\n",
       "  <tr>\n",
       "    <th>6</th>\n",
       "    <th>6.407178</th>\n",
       "    <th>6.864172</th>\n",
       "    <th>0.109921</th>\n",
       "  </tr>\n",
       "  <tr>\n",
       "    <th>7</th>\n",
       "    <th>6.169361</th>\n",
       "    <th>6.811418</th>\n",
       "    <th>0.115933</th>\n",
       "  </tr>\n",
       "  <tr>\n",
       "    <th>8</th>\n",
       "    <th>5.960704</th>\n",
       "    <th>6.791701</th>\n",
       "    <th>0.120114</th>\n",
       "  </tr>\n",
       "  <tr>\n",
       "    <th>9</th>\n",
       "    <th>5.790962</th>\n",
       "    <th>6.792933</th>\n",
       "    <th>0.121629</th>\n",
       "  </tr>\n",
       "  <tr>\n",
       "    <th>10</th>\n",
       "    <th>5.664871</th>\n",
       "    <th>6.805304</th>\n",
       "    <th>0.121745</th>\n",
       "  </tr>\n",
       "</table>\n"
      ],
      "text/plain": [
       "<IPython.core.display.HTML object>"
      ]
     },
     "metadata": {},
     "output_type": "display_data"
    },
    {
     "data": {
      "image/png": "[encoded data removed]",
      "text/plain": [
       "<Figure size 432x288 with 1 Axes>"
      ]
     },
     "metadata": {},
     "output_type": "display_data"
    },
    {
     "name": "stdout",
     "output_type": "stream",
     "text": [
      "CPU times: user 2h 7min 40s, sys: 5min 49s, total: 2h 13min 29s\n",
      "Wall time: 36min 30s\n",
      "2 nb: gc.collect:599 - used GB memory:6.69\n"
     ]
    }
   ],
   "source": [
    "from fastai_sentencepiece import *\n",
    "from filetokenizer import *\n",
    "from languagemodelloader import *\n",
    "print(f\"1 nb: gc.collect:{gc.collect()} - used GB memory:{usedGB_RAM()}\") \n",
    "%time learn.fit_one_cycle(10, 2e-3, moms=(0.8,0.7))\n",
    "print(f\"2 nb: gc.collect:{gc.collect()} - used GB memory:{usedGB_RAM()}\") "
   ]
  },
  {
   "cell_type": "code",
   "execution_count": 29,
   "metadata": {},
   "outputs": [],
   "source": [
    "learn.save('model-32k-sentencepiece-vocab')"
   ]
  },
  {
   "cell_type": "code",
   "execution_count": null,
   "metadata": {},
   "outputs": [],
   "source": []
  }
 ],
 "metadata": {
  "kernelspec": {
   "display_name": "Python 3",
   "language": "python",
   "name": "python3"
  },
  "language_info": {
   "codemirror_mode": {
    "name": "ipython",
    "version": 3
   },
   "file_extension": ".py",
   "mimetype": "text/x-python",
   "name": "python",
   "nbconvert_exporter": "python",
   "pygments_lexer": "ipython3",
   "version": "3.7.1"
  }
 },
 "nbformat": 4,
 "nbformat_minor": 2
}
