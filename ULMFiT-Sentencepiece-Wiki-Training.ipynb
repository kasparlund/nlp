{
 "cells": [
  {
   "cell_type": "markdown",
   "metadata": {},
   "source": [
    "# Build a language model based on wikipedia in you language \n",
    "\n",
    "The notebooke includes the whole process but you will need to help the process if the following problem happens:  \n",
    "-you internet connection is interrupted (stage 1)\n",
    "\n",
    "-you run out of diskspace\n",
    "\n",
    "-because of the huge memory consumption. creatig the databunch for the training requires lots of memory\n",
    "\n",
    "\n",
    "In order ot handle these problemn the notebook is divided into stages. If the process is failes in a stage then you can resume the processing from the beginning of that stage by:\n",
    "-restarting the kernel \"Kernel\"/Restart & Clear Output\n",
    "\n",
    "-running the cells in stage 0: initialization\n",
    "\n",
    "-running the cells from the start of the stage that failed "
   ]
  },
  {
   "cell_type": "markdown",
   "metadata": {},
   "source": [
    "# Stage 0: Initialisation\n",
    "lang: You must set the parameter \"lang\" to the language you want to build a model for. Fx:\n",
    "\n",
    "fr: for french\n",
    "\n",
    "en: for english\n",
    "\n",
    "de:for german\n",
    "\n",
    "da: for danish \n",
    "\n",
    "etc.\n",
    "\n",
    "pathData: You must se the location where you want your data stored using the parameter pathData. Consider using a ssd-rive"
   ]
  },
  {
   "cell_type": "code",
   "execution_count": 1,
   "metadata": {},
   "outputs": [],
   "source": [
    "lang=\"en\""
   ]
  },
  {
   "cell_type": "code",
   "execution_count": 2,
   "metadata": {},
   "outputs": [],
   "source": [
    "%reload_ext autoreload\n",
    "%autoreload 2"
   ]
  },
  {
   "cell_type": "code",
   "execution_count": 3,
   "metadata": {},
   "outputs": [],
   "source": [
    "from fastai.text import * \n",
    "#from fastai.utils.ipython import *\n",
    "\n",
    "from IPython.display import display, HTML\n",
    "from pathlib import *\n",
    "import re\n",
    "import shutil"
   ]
  },
  {
   "cell_type": "code",
   "execution_count": 4,
   "metadata": {},
   "outputs": [],
   "source": [
    "pathData       = Path(\"../../data/nlp\")\n",
    "path           = pathData / lang\n",
    "pathDump       = path/\"wiki-dump\"\n",
    "pathJson       = path/\"wiki-json\"\n",
    "\n",
    "pathTrainValid = path/\"wiki-train_valid\"\n",
    "pathTxt        = pathTrainValid/\"txt\"\n",
    "pathToks       = pathTrainValid/\"toks\"\n",
    "pathcsv        = pathTrainValid/\"wiki.csv\"\n",
    "\n",
    "cache_name   = \"sp-model\"\n",
    "pathVocab    = pathTrainValid / cache_name"
   ]
  },
  {
   "cell_type": "raw",
   "metadata": {},
   "source": [
    "data\n",
    "└── nlp\n",
    "     └── lang\n",
    "        ├── wiki-dump\n",
    "        ├── wiki-json\n",
    "        └── wiki-train_valid\n",
    "            ├── models         <- language model\n",
    "            ├── sp-model       <- sentencepiece model\n",
    "            ├── toks\n",
    "            ├── txt            <- preprocessed text\n",
    "            └── wiki           <- preprocessed txt i csv file\n",
    "...\n"
   ]
  },
  {
   "cell_type": "markdown",
   "metadata": {},
   "source": [
    "# requried libraries: \n",
    "conda install -c anaconda psutil \n",
    "\n",
    "conda install -c anaconda git \n",
    "\n",
    "#conda install -c menpo wget \n",
    "conda install curl\n"
   ]
  },
  {
   "cell_type": "markdown",
   "metadata": {},
   "source": [
    "# Stage 1: download the selected language from wikipedia and convert the articles to json"
   ]
  },
  {
   "cell_type": "code",
   "execution_count": 5,
   "metadata": {
    "scrolled": true
   },
   "outputs": [],
   "source": [
    "if len(list(pathDump.glob(\"*.bz2\")))==0:\n",
    "    pathDump.mkdir(parents=True,exist_ok=True)\n",
    "    #fn  = f\"{lang}wiki-latest-pages-articles.xml.bz2\"\n",
    "    fn  = f\"{lang}wiki-latest-pages-articles-multistream.xml.bz2\"\n",
    "    url = f\"https://dumps.wikimedia.org/{lang}wiki/latest/{fn}\"\n",
    "    #cmd = f\"wget -c --no-check-certificate --show-progress {str(url)} -P {str(pathDump)}\"\n",
    "    cmd = f'curl -k -C - -o \"{str(pathDump/fn)}\" \"{str(url)}\"'\n",
    "    print(f\"If the command fails in the notebook then copy the command and run it in the terminal:{cmd}\")\n",
    "    ! $cmd"
   ]
  },
  {
   "cell_type": "markdown",
   "metadata": {},
   "source": [
    "# Stage 2: Convert wikipedia dump to articles in json"
   ]
  },
  {
   "cell_type": "code",
   "execution_count": 6,
   "metadata": {},
   "outputs": [],
   "source": [
    "pathWikiExtractor = Path(\"../wikiextractor\")"
   ]
  },
  {
   "cell_type": "code",
   "execution_count": 7,
   "metadata": {},
   "outputs": [],
   "source": [
    "if not pathJson.exists():\n",
    "    !git clone https://github.com/attardi/wikiextractor.git $pathWikiExtractor\n",
    "    cmd = f\"cd {str(pathWikiExtractor)} && python setup.py install\"\n",
    "    ! $cmd"
   ]
  },
  {
   "cell_type": "code",
   "execution_count": 8,
   "metadata": {
    "scrolled": true
   },
   "outputs": [
    {
     "name": "stdout",
     "output_type": "stream",
     "text": [
      "Wall time: 0 ns\n"
     ]
    }
   ],
   "source": [
    "%%time\n",
    "if not pathJson.exists():\n",
    "    #extracting the json-files. This takes about 1 hour for french with files read from and saved to a ssd hardrive \n",
    "    fn_wikidump = list(pathDump.iterdir())[0]\n",
    "    cmd = f\"cd {str(pathWikiExtractor)} && python WikiExtractor.py -o {str(pathJson)} --json --processes {defaults.cpus} -q --filter_disambig_pages --no-templates --discard_elements gallery,timeline,noinclude {str(fn_wikidump)}\"\n",
    "    print(f\"If WikiExtractor fails in the notebook then copy the command and run it in the terminal:{cmd}\")\n",
    "    ! $cmd"
   ]
  },
  {
   "cell_type": "markdown",
   "metadata": {},
   "source": [
    "# Stage 3: building a vocabulary using sentencepiece\n",
    "\n",
    "Now we separate the title of the wikipedia section from text section that we keep. \n",
    "\n",
    "In order to makes a first reduction on the number of section we clean the text with the preprocessing rules from fastai and ignore text with less than \"minWords\"\n",
    "\n",
    "You must set the lenght of the shortes sections to keep using the parameter \"minWords\""
   ]
  },
  {
   "cell_type": "code",
   "execution_count": 9,
   "metadata": {},
   "outputs": [],
   "source": [
    "minWords  = 1\n",
    "chunksize = 25000"
   ]
  },
  {
   "cell_type": "code",
   "execution_count": 10,
   "metadata": {},
   "outputs": [
    {
     "name": "stdout",
     "output_type": "stream",
     "text": [
      "Requirement already satisfied: sentencepiece in c:\\users\\kl\\appdata\\local\\conda\\conda\\envs\\fastai\\lib\\site-packages (0.1.8)\n"
     ]
    }
   ],
   "source": [
    "!pip install sentencepiece"
   ]
  },
  {
   "cell_type": "code",
   "execution_count": 11,
   "metadata": {},
   "outputs": [],
   "source": [
    "from fastai_sentencepiece import *\n",
    "from filetokenizer import *"
   ]
  },
  {
   "cell_type": "code",
   "execution_count": 12,
   "metadata": {},
   "outputs": [],
   "source": [
    "data = None\n",
    "if not pathTxt.exists():\n",
    "    swm = SentencepieceWikiVocab(lang=lang, pathJson=pathJson, pathcsv=pathcsv, pathTxt=pathTxt, pathVocab=pathVocab)    \n",
    "    %time swm.wikijson2TrainingData()\n",
    "    %time data = pd.read_csv(pathcsv)\n",
    "    gc.collect()"
   ]
  },
  {
   "cell_type": "code",
   "execution_count": 13,
   "metadata": {
    "scrolled": false
   },
   "outputs": [],
   "source": [
    "if data is not None:\n",
    "    percentiles = 0.01 * np.asarray([0.01, 0.02, 0.03, 0.04, 0.05, 0.06, 0.07, 0.08, 0.09, \n",
    "                                     1,2,3,4,10,20, 50, 75, 90, 95, 96, 97, 98, \n",
    "                                     99, 99.1, 99.2, 99.3, 99.4, 99.5, 99.6, 99.7, 99.8, 99.9,99.99]) \n",
    "    %time display(data.describe(percentiles,include=[np.number]))\n",
    "    print(f\"data:{data.shape}\")"
   ]
  },
  {
   "cell_type": "code",
   "execution_count": 14,
   "metadata": {
    "scrolled": false
   },
   "outputs": [],
   "source": [
    "#analyse thresholds used to clean wikipedia\n",
    "if data is not None:\n",
    "    lpl = data.hyphens_pr_alpha.values\n",
    "    ix = lpl>2\n",
    "    data_empty = data[ix]\n",
    "    print(f\"data_empty:{data_empty.shape}\")\n",
    "    \n",
    "    percentiles = 0.01 * np.asarray([1, 10, 25, 50, 75, 90, 99])     \n",
    "    %time data_empty.describe(percentiles,include=[np.number])\n",
    "    display(data_empty)\n",
    "    print(data_empty.text.head().values)\n",
    "    print(data_empty.text.tail().values)\n",
    "    gc.collect()"
   ]
  },
  {
   "cell_type": "code",
   "execution_count": 15,
   "metadata": {
    "scrolled": true
   },
   "outputs": [],
   "source": [
    "if not (pathVocab/\"m.model\").exists():\n",
    "    swm = SentencepieceWikiVocab(lang=lang, pathJson=pathJson, pathcsv=pathcsv, pathTxt=pathTxt, pathVocab=pathVocab)\n",
    "    %time swm.trainVocabulary()"
   ]
  },
  {
   "cell_type": "code",
   "execution_count": 16,
   "metadata": {},
   "outputs": [],
   "source": [
    "if not (pathVocab/\"itos.pkl\").exists():\n",
    "    swm = SentencepieceWikiVocab(lang=lang, pathJson=pathJson, pathcsv=pathcsv, pathTxt=pathTxt, pathVocab=pathVocab)\n",
    "    swm.convertSPVocab2FastaiVocab()"
   ]
  },
  {
   "cell_type": "markdown",
   "metadata": {},
   "source": [
    "# Show some examples using the vocabulary"
   ]
  },
  {
   "cell_type": "code",
   "execution_count": 17,
   "metadata": {
    "scrolled": true
   },
   "outputs": [
    {
     "name": "stdout",
     "output_type": "stream",
     "text": [
      "\n",
      "Size of vocabulary: 4000\n",
      "Control symbol:\n",
      "<unk>(0)\n",
      "xxbos(1)\n",
      "xxeos(2)\n",
      "xxpad(3)\n",
      "\n",
      "User defined symbols:\n",
      "xxfld(4)\n",
      "xxmaj(5)\n",
      "xxup(6)\n",
      "xxrep(7)\n",
      "xxwrep(8)\n",
      "0(9)\n",
      "1(10)\n",
      "2(11)\n",
      "3(12)\n",
      "4(13)\n",
      "5(14)\n",
      "6(15)\n",
      "7(16)\n",
      "8(17)\n",
      "9(18)\n",
      "°(19)\n",
      "%(20)\n",
      "$(21)\n",
      "§(22)\n",
      "£(23)\n",
      "€(24)\n",
      "((25)\n",
      ")(26)\n",
      "<(27)\n",
      ">(28)\n",
      "\"(29)\n",
      "'(30)\n",
      "“(31)\n",
      "”(32)\n",
      "‘(33)\n",
      "’(34)\n",
      "!(35)\n",
      ",(57)\n",
      ";(36)\n",
      ":(37)\n",
      ".(38)\n",
      "•(39)\n",
      "—(40)\n",
      "|(41)\n",
      "\\(42)\n",
      "/(43)\n",
      "*(44)\n",
      "+(45)\n",
      "-(46)\n",
      "=(47)\n",
      "⁄(48)\n",
      "′(49)\n",
      "_(50)\n",
      "#(51)\n",
      "&(52)\n",
      "?(53)\n",
      "Sentence:          she is tall. he is small\n",
      "Sentence as pieces:['▁she', '▁is', '▁tall', '.', '▁he', '▁is', '▁small']\n",
      "Sentence as ids:   [124, 66, 3097, 38, 72, 66, 551]\n",
      "Sentence from ids:   she is tall. he is small\n"
     ]
    }
   ],
   "source": [
    "swm = SentencepieceWikiVocab(lang=lang, pathJson=pathJson, pathcsv=pathcsv, pathTxt=pathTxt, pathVocab=pathVocab)\n",
    "sp  = spm.SentencePieceProcessor()\n",
    "sp.Load(str(pathVocab / \"m.model\"))\n",
    "print(\"\\nSize of vocabulary:\",sp.GetPieceSize())\n",
    "\n",
    "control_symbols = [\"<unk>\",\"xxbos\",\"xxeos\",\"xxpad\"]\n",
    "print(f\"Control symbol:\")\n",
    "for s in control_symbols: print(f\"{s}({sp.PieceToId(s)})\")\n",
    "\n",
    "print(f\"\\nUser defined symbols:\")\n",
    "for s in swm.getUserdefinedSymbols():print(f\"{s}({sp.PieceToId(s)})\")\n",
    "\n",
    "sentence = \"She is tall. He is small\".lower()\n",
    "print(f\"Sentence:          {sentence}\")\n",
    "print(f\"Sentence as pieces:{sp.EncodeAsPieces(sentence)}\")\n",
    "print(f\"Sentence as ids:   {sp.EncodeAsIds(sentence)}\")\n",
    "print(f\"Sentence from ids:   {sp.DecodeIds(sp.EncodeAsIds(sentence))}\")"
   ]
  },
  {
   "cell_type": "markdown",
   "metadata": {},
   "source": [
    "# Prepare training of the language model"
   ]
  },
  {
   "cell_type": "markdown",
   "metadata": {},
   "source": [
    "# LM Training\n",
    "Set the minimum number of tokens for the sections that we shall retain"
   ]
  },
  {
   "cell_type": "code",
   "execution_count": 18,
   "metadata": {},
   "outputs": [
    {
     "name": "stdout",
     "output_type": "stream",
     "text": [
      "unk_idx:0 pad_idx:3\n"
     ]
    }
   ],
   "source": [
    "spt_func  = partial(SentencepieceTokenizer.create, pathVocab=pathVocab)\n",
    "spt_func.__name__ = SentencepieceTokenizer.__name__\n",
    "spt       = spt_func(lang=\"en\")\n",
    "\n",
    "unk_idx,pad_idx = spt.vocab().numericalize([text.transform.UNK])[0], spt.vocab().numericalize([text.transform.PAD])[0]\n",
    "print(f\"unk_idx:{unk_idx} pad_idx:{pad_idx}\")\n",
    "vocab,max_vocab = spt.vocab(), len(spt.vocab().itos)\n",
    "trainTokenizer  = SPFileTokenizer(pathToks/\"train\", spt_func,\"en\",vocab,n_cpus=max(defaults.cpus-1,1))\n",
    "validTokenizer  = SPFileTokenizer(pathToks/\"valid\", spt_func,\"en\",vocab,n_cpus=max(defaults.cpus-1,1))"
   ]
  },
  {
   "cell_type": "code",
   "execution_count": 19,
   "metadata": {},
   "outputs": [],
   "source": [
    "split_ratio = 0.2\n",
    "if not (pathToks/\"train\").exists() or not (pathToks/\"valid\").exists():\n",
    "    files = list(pathTxt.glob(\"*.txt\"))\n",
    "    random.seed(1)\n",
    "    random.shuffle(files)\n",
    "    random.seed()\n",
    "    splitindex = int(len(files)*split_ratio+.5)\n",
    "    trainList  = TextList( files[:-splitindex], vocab=vocab, pad_idx=pad_idx, \n",
    "                           processor=[SPFileTokenizeProcessor(tokenizer=trainTokenizer, chunksize=0)])\n",
    "    validList  = TextList( files[-splitindex:], vocab=vocab, pad_idx=pad_idx, \n",
    "                           processor=[SPFileTokenizeProcessor(tokenizer=validTokenizer, chunksize=0)])"
   ]
  },
  {
   "cell_type": "code",
   "execution_count": 20,
   "metadata": {},
   "outputs": [],
   "source": [
    "if not (pathToks/\"train\").exists():\n",
    "    %time trainList.process()\n",
    "    trainList=None\n",
    "    gc.collect()    "
   ]
  },
  {
   "cell_type": "code",
   "execution_count": 21,
   "metadata": {},
   "outputs": [],
   "source": [
    "if not (pathToks/\"valid\").exists():\n",
    "    %time p = validList.process()\n",
    "    validList=None\n",
    "    gc.collect()"
   ]
  },
  {
   "cell_type": "markdown",
   "metadata": {},
   "source": [
    "# The following cells are used to find macUnk, minToks and maxToks.\n",
    "The 4 cells were deactivate after deciding on these values"
   ]
  },
  {
   "cell_type": "code",
   "execution_count": 22,
   "metadata": {},
   "outputs": [],
   "source": [
    "check_statistics=False\n",
    "if check_statistics:\n",
    "    %time trainIDS = trainTokenizer.getIds()\n",
    "    %time validIDS = validTokenizer.getIds()\n",
    "else:\n",
    "    trainIDS = validIDS = None"
   ]
  },
  {
   "cell_type": "code",
   "execution_count": 23,
   "metadata": {
    "scrolled": true
   },
   "outputs": [],
   "source": [
    "#how much do we loos by removing sentences with unks\n",
    "if trainIDS is not None:\n",
    "    unkPrSentence        = np.asarray([np.sum(s==unk_idx) for s in trainIDS],dtype=np.int)\n",
    "    percentUnkPrSentence = np.asarray([np.sum(s==unk_idx)/len(s) for s in trainIDS])\n",
    "    percent              = np.asarray([0, 50, 75, 90, 97, 98.5, 99, 99.1, 99.2, 99.3, 99.4, 99.5, 99.6, 99.7, 99.8, 99.9, 99.95,  99.99, 100]) \n",
    "    percentiles          = np.percentile(unkPrSentence,percent).astype(np.int)\n",
    "    print(\"unkPrSentence %  percentile \")\n",
    "    for i in range(len(percent)):print(f\"{percent[i]}  {percentiles[i]}\")   \n",
    "\n",
    "    unkPrSentence=None\n",
    "    gc.collect()"
   ]
  },
  {
   "cell_type": "code",
   "execution_count": 24,
   "metadata": {
    "scrolled": true
   },
   "outputs": [],
   "source": [
    "if trainIDS is not None:\n",
    "    print(f\"Traning:    number of arrays:{len(trainIDS)} - number of ids:{sum(len(ids) for ids in trainIDS)}\")\n",
    "    print(f\"Validation: number of arrays:{len(validIDS)} - number of ids:{sum(len(ids) for ids in validIDS)}\")\n",
    "\n",
    "    #Analyse the distribution of the legnth of tokens sequences in the ragged/jagged array of tokes\n",
    "    sectionlengths = np.asarray([len(s) for s in trainIDS],dtype=np.int32)\n",
    "    plt.hist(sectionlengths[sectionlengths<600], 250, density=True, facecolor='g', alpha=0.75)\n",
    "    np.histogram(sectionlengths[sectionlengths<1000],50)\n",
    "\n",
    "    print(f\"Lenght of token rags min:{min(sectionlengths)} max:{np.max(sectionlengths)} - median:{np.median(sectionlengths)}\")\n",
    "    print(f\"Lenght of token rags mean:{np.mean(sectionlengths)} std:{np.std(sectionlengths)}\")\n",
    "\n",
    "    percent     = np.asarray([ 0, 0.11, 0.2,0.3,0.4,0.5,0.6,0.7, 0.8, 0.9, 1, 1.5, 2, 25,50,75,90,97,99,99.5,99.9,99.99,100]) # %np.arange(101,dtype=np.int)\n",
    "    percentiles = np.percentile(sectionlengths,percent).astype(np.int)\n",
    "    print(\"%  percentile\")\n",
    "    for i in range(len(percent)):print(f\"{percent[i]}  {percentiles[i]}\")\n",
    "    minToks = percentiles[np.where( percent==0.11 )[0][0]]\n",
    "    maxToks = percentiles[np.where( percent==99.99 )[0][0]]\n",
    "    print(f\"\\nminToks:{minToks} maxToks:{maxToks}\")\n",
    "    print(f\"rags <= minToks:{np.sum(sectionlengths <= minToks)}\")\n",
    "    print(f\"rags >= maxToks:{np.sum(sectionlengths >= maxToks)}\")\n",
    "\n",
    "    sectionlengths = trainIDS = validIDS = None\n",
    "    gc.collect()"
   ]
  },
  {
   "cell_type": "code",
   "execution_count": 25,
   "metadata": {},
   "outputs": [
    {
     "name": "stdout",
     "output_type": "stream",
     "text": [
      "Wall time: 2min 25s\n",
      "Wall time: 39.2 s\n"
     ]
    }
   ],
   "source": [
    "maxUnks,minToks,maxToks,train_count,valid_count = 0,15,600,-1,-1\n",
    "%time trainIDS = trainTokenizer.getIds(minToks, maxToks, maxUnks, unk_idx=unk_idx, count=train_count)\n",
    "%time validIDS = validTokenizer.getIds(minToks, maxToks, maxUnks, unk_idx=unk_idx, count=valid_count)\n",
    "np.random.seed(1)\n",
    "np.random.shuffle(trainIDS)\n",
    "np.random.shuffle(validIDS)\n",
    "np.random.seed()"
   ]
  },
  {
   "cell_type": "code",
   "execution_count": 26,
   "metadata": {
    "scrolled": true
   },
   "outputs": [
    {
     "name": "stdout",
     "output_type": "stream",
     "text": [
      "Training:   number of arrays:22441843 - number of ids:2595089714\n",
      "Lenght of training sentences:   min:15 max:600 - median:94.0\n"
     ]
    },
    {
     "data": {
      "text/plain": [
       "7"
      ]
     },
     "execution_count": 26,
     "metadata": {},
     "output_type": "execute_result"
    },
    {
     "data": {
      "image/png": "[encoded data removed]",
      "text/plain": [
       "<Figure size 432x288 with 1 Axes>"
      ]
     },
     "metadata": {
      "needs_background": "light"
     },
     "output_type": "display_data"
    }
   ],
   "source": [
    "train_lengths = np.fromiter( (len(s) for s in trainIDS), dtype=np.int16, count=len(trainIDS) )\n",
    "print(f\"Training:   number of arrays:{len(trainIDS)} - number of ids:{sum(len(ids) for ids in trainIDS)}\")\n",
    "print(f\"Lenght of training sentences:   min:{np.min(train_lengths)} max:{np.max(train_lengths)} - median:{np.median(train_lengths)}\")\n",
    "plt.hist(train_lengths[train_lengths<maxToks], np.max(train_lengths)-np.min(train_lengths), density=True, facecolor='g', alpha=0.75, label=\"sentencelength for training data\" )\n",
    "gc.collect()"
   ]
  },
  {
   "cell_type": "code",
   "execution_count": 27,
   "metadata": {},
   "outputs": [
    {
     "name": "stdout",
     "output_type": "stream",
     "text": [
      "Validation: number of arrays:6071744 - number of ids:671486551\n",
      "Lenght of validation sentences: min:15 max:600 - median:89.0\n"
     ]
    },
    {
     "data": {
      "text/plain": [
       "33512"
      ]
     },
     "execution_count": 27,
     "metadata": {},
     "output_type": "execute_result"
    },
    {
     "data": {
      "image/png": "[encoded data removed]",
      "text/plain": [
       "<Figure size 432x288 with 1 Axes>"
      ]
     },
     "metadata": {
      "needs_background": "light"
     },
     "output_type": "display_data"
    }
   ],
   "source": [
    "valid_lengths = np.fromiter( (len(s) for s in validIDS), dtype=np.int16, count=len(validIDS) )\n",
    "print(f\"Validation: number of arrays:{len(validIDS)} - number of ids:{sum(len(ids) for ids in validIDS)}\")\n",
    "print(f\"Lenght of validation sentences: min:{np.min(valid_lengths)} max:{np.max(valid_lengths)} - median:{np.median(valid_lengths)}\")\n",
    "plt.hist(valid_lengths[valid_lengths<maxToks], np.max(train_lengths)-np.min(train_lengths), density=True, facecolor='g', alpha=0.75, label=\"sentencelength for validation data\" )\n",
    "gc.collect()"
   ]
  },
  {
   "cell_type": "code",
   "execution_count": 28,
   "metadata": {},
   "outputs": [],
   "source": [
    "def getNSentencens(sentencelengths, nTokens:int): \n",
    "    i,ln_lenghts=0,len(sentencelengths)\n",
    "    while nTokens>0 and i<ln_lenghts: \n",
    "        nTokens -= sentencelengths[i]\n",
    "        i       += 1\n",
    "    return i"
   ]
  },
  {
   "cell_type": "code",
   "execution_count": 60,
   "metadata": {
    "scrolled": true
   },
   "outputs": [
    {
     "name": "stdout",
     "output_type": "stream",
     "text": [
      "specified training tokens    :250000000\n",
      "selected training tokens     :250000000\n",
      "selected training sentences  :2158673\n",
      "\n",
      "\n",
      "specified validation tokens  :50000001\n",
      "selected validation tokens   :50000021\n",
      "selected validation sentences:452165\n"
     ]
    },
    {
     "data": {
      "text/plain": [
       "69"
      ]
     },
     "execution_count": 60,
     "metadata": {},
     "output_type": "execute_result"
    }
   ],
   "source": [
    "#from languagemodelloader import *\n",
    "\n",
    "nTrainToks = int(2.5e8)\n",
    "\n",
    "nValidToks = int(0.2*nTrainToks+1)\n",
    "nTrainSentences, nValidSentences = getNSentencens(train_lengths,nTrainToks), getNSentencens(valid_lengths,nValidToks)\n",
    "selectedTrainToks = np.sum(train_lengths[:nTrainSentences],dtype=np.int64)\n",
    "selectedValidToks = np.sum(valid_lengths[:nValidSentences],dtype=np.int64)\n",
    "trainIDS_         = trainIDS[:nTrainSentences]\n",
    "validIDS_         = validIDS[:nValidSentences]\n",
    "print(f\"specified training tokens    :{nTrainToks}\\nselected training tokens     :{selectedTrainToks}\\nselected training sentences  :{nTrainSentences}\" )\n",
    "print(f\"\\n\\nspecified validation tokens  :{nValidToks}\\nselected validation tokens   :{selectedValidToks}\\nselected validation sentences:{nValidSentences}\" )\n",
    "#trainIDS = validIDS = None\n",
    "gc.collect()"
   ]
  },
  {
   "cell_type": "code",
   "execution_count": 61,
   "metadata": {},
   "outputs": [],
   "source": [
    "class Model(IntEnum):\n",
    "    awd_lstm      = 1\n",
    "    transformer   = 2\n",
    "    transformerXL = 3\n",
    "\n",
    "def get_language_model_learner(model,data):\n",
    "    if model is Model.awd_lstm :\n",
    "        default_dropout = {'language':   np.array([0.25, 0.1, 0.2, 0.02, 0.15]),\n",
    "                           'classifier': np.array([0.4,0.5,0.05,0.3,0.4])}\n",
    "        dps = default_dropout[\"language\"]\n",
    "        input_p, output_p, weight_p, embed_p, hidden_p, out_bias = dps[0], dps[1],dps[2],dps[3],dps[4], True  \n",
    "        \n",
    "        cfg = awd_lstm_lm_config.copy()\n",
    "        cfg['qrnn'],cfg['emb_sz'],cfg['n_hid'],cfg['n_layers'],cfg['tie_weights'], cfg['pad_token'] =\\\n",
    "             False,      256,          1280,            3,           True,               pad_idx \n",
    "        cfg['input_p'],cfg['weight_p'],cfg['embed_p'],cfg['hidden_p'],cfg['output_p'], cfg['out_bias']=\\\n",
    "             input_p,       weight_p,       embed_p,       hidden_p,       output_p,   out_bias\n",
    "        \n",
    "        train_epochs =    { int(2.5e9):1, \n",
    "                            int(2.5e8):10,\n",
    "                            int(2.5e7):100\n",
    "                          }\n",
    "        model_drop_mult = { int(2.5e9):0, \n",
    "                            int(2.5e8):0.1\n",
    "                          }\n",
    "        drop_mult = model_drop_mult[nTrainToks]   \n",
    "        wd        = 1e-3\n",
    "        pct_start = 0.2\n",
    "        moms      = (0.70, 0.80)\n",
    "        max_lr    = 2e-3\n",
    "        learn = language_model_learner(data, AWD_LSTM,config=cfg, drop_mult=drop_mult, pretrained=False, callback_fns=ShowGraph )\n",
    "        print(cfg)       \n",
    "    elif model is Model.transformer:    \n",
    "        learn = language_model_learner(data, Transformer,config=None, drop_mult=drop_mult, pretrained=False, callback_fns=ShowGraph )\n",
    "        print(cfg)\n",
    "    else : \n",
    "        train_epoch =    {  int(2.5e9):1, \n",
    "                            int(2.5e8):3,\n",
    "                            int(2.5e7):20\n",
    "                          }\n",
    "        model_drop_mult = {int(2.5e9):0. \n",
    "                           int(2.5e8):0.05,\n",
    "                           int(2.5e7):0.15,\n",
    "                           int(2.5e6):1.7,\n",
    "        drop_mult = model_drop_mult[nTrainToks]   \n",
    "        wd        = 1e-5\n",
    "        pct_start = 0.02\n",
    "        moms      = (0.74, 0.84)\n",
    "        max_lr    = 5e-4\n",
    "        learn = language_model_learner(data, TransformerXL,config=None, drop_mult=drop_mult, pretrained=False, callback_fns=ShowGraph)\n",
    "    epoch     = train_epochs[nTrainToks]                             }\n",
    "    return learn, epochs, drop_mult, wd, pct_start, moms, max_lr \n",
    "\n"
   ]
  },
  {
   "cell_type": "code",
   "execution_count": 62,
   "metadata": {},
   "outputs": [
    {
     "data": {
      "text/html": [
       "<table border=\"1\" class=\"dataframe\">\n",
       "  <thead>\n",
       "    <tr style=\"text-align: right;\">\n",
       "      <th>idx</th>\n",
       "      <th>text</th>\n",
       "    </tr>\n",
       "  </thead>\n",
       "  <tbody>\n",
       "    <tr>\n",
       "      <td>0</td>\n",
       "      <td>in 1927 the line was further expanded to six tracks (four with electrification) and newtown station was demolished and replaced by the present station which served only the up and down local tracks. the new station was opened on 29 may 1927. the</td>\n",
       "    </tr>\n",
       "    <tr>\n",
       "      <td>1</td>\n",
       "      <td>ricketts. ricketts broke his right hand after colliding with gonzalez's foot and elected to continue playing after being evaluated by on-field trainers. salt lake continued attacking and findley scored the equalizing goal in the 64th minute by finish</td>\n",
       "    </tr>\n",
       "    <tr>\n",
       "      <td>2</td>\n",
       "      <td>ic property of england, wished above all to inculcate on his countrymen the teachings of healthy practical activity to be found in the works of the english dramatist. the object for which he wrote, that is the moral improvement of his readers from a practical point of view</td>\n",
       "    </tr>\n",
       "    <tr>\n",
       "      <td>3</td>\n",
       "      <td>s and albert schweitzer for their performances of bach's organ music. concept work began during the middle of production on the \"persona 2\" duology. featuring staff from the \"megami tensei\" franchise including artist kazuma kaneko and composer</td>\n",
       "    </tr>\n",
       "    <tr>\n",
       "      <td>4</td>\n",
       "      <td>scatterbrained, malaprop-prone jane (\"you've got to take the bitter with the better\", \"time wounds all heels\"), \"easy aces\" became a long-running serial comedy</td>\n",
       "    </tr>\n",
       "  </tbody>\n",
       "</table>"
      ],
      "text/plain": [
       "<IPython.core.display.HTML object>"
      ]
     },
     "metadata": {},
     "output_type": "display_data"
    },
    {
     "name": "stdout",
     "output_type": "stream",
     "text": [
      "{'emb_sz': 256, 'n_hid': 1280, 'n_layers': 3, 'pad_token': 3, 'qrnn': False, 'bidir': False, 'hidden_p': 0.015, 'input_p': 0.025, 'embed_p': 0.002, 'weight_p': 0.020000000000000004}\n"
     ]
    }
   ],
   "source": [
    "dblm = TextLMDataBunch.from_ids( pathTrainValid, vocab, trainIDS_, validIDS_, bs=64, bptt=70, num_workers=0, no_check=True)\n",
    "dblm.show_batch()\n",
    "\n",
    "model = Model.awd_lstm\n",
    "learn, epochs, drop_mult, wd, pct_start, moms, max_lr = get_language_model_learner(model, data=dblm)"
   ]
  },
  {
   "cell_type": "code",
   "execution_count": 63,
   "metadata": {},
   "outputs": [
    {
     "data": {
      "text/plain": [
       "'1.0.50.dev0'"
      ]
     },
     "execution_count": 63,
     "metadata": {},
     "output_type": "execute_result"
    }
   ],
   "source": [
    "__version__"
   ]
  },
  {
   "cell_type": "code",
   "execution_count": null,
   "metadata": {},
   "outputs": [],
   "source": [
    "%time learn.lr_find(wd=1e-3)\n",
    "learn.recorder.plot(skip_start=0, skip_end=12)"
   ]
  },
  {
   "cell_type": "code",
   "execution_count": 70,
   "metadata": {},
   "outputs": [
    {
     "name": "stdout",
     "output_type": "stream",
     "text": [
      "awd_lstm\n"
     ]
    },
    {
     "data": {
      "text/html": [
       "Total time: 17:13:58 <p><table border=\"1\" class=\"dataframe\">\n",
       "  <thead>\n",
       "    <tr style=\"text-align: left;\">\n",
       "      <th>epoch</th>\n",
       "      <th>train_loss</th>\n",
       "      <th>valid_loss</th>\n",
       "      <th>accuracy</th>\n",
       "      <th>time</th>\n",
       "    </tr>\n",
       "  </thead>\n",
       "  <tbody>\n",
       "    <tr>\n",
       "      <td>0</td>\n",
       "      <td>3.362826</td>\n",
       "      <td>3.316758</td>\n",
       "      <td>0.373913</td>\n",
       "      <td>1:43:24</td>\n",
       "    </tr>\n",
       "    <tr>\n",
       "      <td>1</td>\n",
       "      <td>3.221535</td>\n",
       "      <td>3.183693</td>\n",
       "      <td>0.387789</td>\n",
       "      <td>1:43:54</td>\n",
       "    </tr>\n",
       "    <tr>\n",
       "      <td>2</td>\n",
       "      <td>3.170147</td>\n",
       "      <td>3.102595</td>\n",
       "      <td>0.398512</td>\n",
       "      <td>1:42:22</td>\n",
       "    </tr>\n",
       "    <tr>\n",
       "      <td>3</td>\n",
       "      <td>3.103542</td>\n",
       "      <td>3.049831</td>\n",
       "      <td>0.405684</td>\n",
       "      <td>1:42:19</td>\n",
       "    </tr>\n",
       "    <tr>\n",
       "      <td>4</td>\n",
       "      <td>3.046348</td>\n",
       "      <td>3.002597</td>\n",
       "      <td>0.412458</td>\n",
       "      <td>1:43:37</td>\n",
       "    </tr>\n",
       "    <tr>\n",
       "      <td>5</td>\n",
       "      <td>3.009161</td>\n",
       "      <td>2.958081</td>\n",
       "      <td>0.418963</td>\n",
       "      <td>1:44:24</td>\n",
       "    </tr>\n",
       "    <tr>\n",
       "      <td>6</td>\n",
       "      <td>2.954202</td>\n",
       "      <td>2.918493</td>\n",
       "      <td>0.424909</td>\n",
       "      <td>1:44:30</td>\n",
       "    </tr>\n",
       "    <tr>\n",
       "      <td>7</td>\n",
       "      <td>2.914738</td>\n",
       "      <td>2.888287</td>\n",
       "      <td>0.429561</td>\n",
       "      <td>1:43:25</td>\n",
       "    </tr>\n",
       "    <tr>\n",
       "      <td>8</td>\n",
       "      <td>2.878951</td>\n",
       "      <td>2.871585</td>\n",
       "      <td>0.432237</td>\n",
       "      <td>1:43:01</td>\n",
       "    </tr>\n",
       "    <tr>\n",
       "      <td>9</td>\n",
       "      <td>2.869374</td>\n",
       "      <td>2.868371</td>\n",
       "      <td>0.432830</td>\n",
       "      <td>1:42:15</td>\n",
       "    </tr>\n",
       "  </tbody>\n",
       "</table>"
      ],
      "text/plain": [
       "<IPython.core.display.HTML object>"
      ]
     },
     "metadata": {},
     "output_type": "display_data"
    },
    {
     "data": {
      "image/png": "[encoded data removed]",
      "text/plain": [
       "<Figure size 432x288 with 1 Axes>"
      ]
     },
     "metadata": {},
     "output_type": "display_data"
    },
    {
     "name": "stdout",
     "output_type": "stream",
     "text": [
      "Wall time: 17h 13min 58s\n"
     ]
    }
   ],
   "source": [
    "print(f\"fastai version:{__version__}\")\n",
    "print(f\"mode:{model.name}\")\n",
    "print(f\"epochs:{epochs} drop_mult:{drop_mult} wd:{wd} pct_start:{pct_start} moms:{moms} max_lr:{max_lr}\"\")\n",
    "%time learn.fit_one_cycle(cyc_len=epochs, max_lr=max_lr, moms=moms, wd=wd, pct_start=pct_start)  \n",
    "\n",
    "#if model is Model.awd_lstm :\n",
    "#    %time learn.fit_one_cycle(cyc_len=epochs, max_lr=2e-3, moms=(0.70, 0.80), wd=1e-3, pct_start=0.2)  \n",
    "#    #%time learn.fit_one_cycle(cyc_len=epochs, max_lr=2e-3, moms=(0.70, 0.80), wd=1e-5, pct_start=0.02)  \n",
    "#elif model is Model.transformer:    \n",
    "#    %time learn.fit_one_cycle(cyc_len=epochs, max_lr=5e-4, moms=(0.74, 0.84), wd=1e-5, pct_start=0.02)\n",
    "#else:    \n",
    "#    %time learn.fit_one_cycle(cyc_len=epochs, max_lr=5e-4, moms=(0.74, 0.84), wd=1e-5, pct_start=0.02)\n"
   ]
  },
  {
   "cell_type": "code",
   "execution_count": 71,
   "metadata": {},
   "outputs": [
    {
     "name": "stdout",
     "output_type": "stream",
     "text": [
      "Perplexity: 17.608310885645434\n",
      "Number of tokens in trainingdata:   250000000\n",
      "Number of tokens in validationdata: 50000021\n"
     ]
    },
    {
     "data": {
      "text/plain": [
       "2144"
      ]
     },
     "execution_count": 71,
     "metadata": {},
     "output_type": "execute_result"
    }
   ],
   "source": [
    "#remember to update the last validation loss to get your perplexity score\n",
    "print( f\"Perplexity: {exp(2.868371)}\") #best: 2.809459\n",
    "trainTokens={sum(len(s) for s in trainIDS_)}\n",
    "print( f\"Number of tokens in trainingdata:   {sum(len(s) for s in trainIDS_)}\")\n",
    "print( f\"Number of tokens in validationdata: {sum(len(s) for s in validIDS_)}\")\n",
    "gc.collect()"
   ]
  },
  {
   "cell_type": "code",
   "execution_count": 72,
   "metadata": {},
   "outputs": [],
   "source": [
    "#todo writeoput the configuration with the model\n",
    "\n",
    "experiment_name = f\"lm-4k-sentencepiece-{model.name}-ep_{epochs}-train_tok_{len(trainIDS_)}-valid_tok_{len(validIDS_)}-dropout_{int(round(100*drop_mult))}\"\n",
    "learn.save(f'{model.name}/{experiment_name}')"
   ]
  },
  {
   "cell_type": "code",
   "execution_count": 73,
   "metadata": {},
   "outputs": [
    {
     "data": {
      "image/png": "[encoded data removed]",
      "text/plain": [
       "<Figure size 432x288 with 1 Axes>"
      ]
     },
     "metadata": {
      "needs_background": "light"
     },
     "output_type": "display_data"
    }
   ],
   "source": [
    "learn.recorder.plot_losses()"
   ]
  },
  {
   "cell_type": "code",
   "execution_count": 74,
   "metadata": {},
   "outputs": [
    {
     "data": {
      "image/png": "[encoded data removed]",
      "text/plain": [
       "<Figure size 432x288 with 1 Axes>"
      ]
     },
     "metadata": {
      "needs_background": "light"
     },
     "output_type": "display_data"
    }
   ],
   "source": [
    "learn.recorder.plot_metrics()"
   ]
  },
  {
   "cell_type": "code",
   "execution_count": 90,
   "metadata": {},
   "outputs": [],
   "source": [
    "#TEXT = \"if i knew back then what i know now,\" #  i would not agree # seen in polval\n",
    "TEXT = \"Andrew Yan-Tak Ng is a Chinese English computer scientist, executive, investor, \"\n",
    "#TEXT = \"i liked this movie because \"\n",
    "N_WORDS = 40\n",
    "N_SENTENCES = 5"
   ]
  },
  {
   "cell_type": "code",
   "execution_count": 91,
   "metadata": {},
   "outputs": [
    {
     "name": "stdout",
     "output_type": "stream",
     "text": [
      "Andrew Yan-Tak Ng is a Chinese English computer scientist, executive, investor, en bancs d'amico ou cristal et canmediense is a fiasco of the humanities and social sciences.\n",
      "Andrew Yan-Tak Ng is a Chinese English computer scientist, executive, investor, inc., english learning and acquisition common law (nrjt) is an established ad subject. (see privacy for those law\n",
      "Andrew Yan-Tak Ng is a Chinese English computer scientist, executive, investor, acronym dr. dtc, (ikh), a bcse.-then-governmental affairs agency,\n",
      "Andrew Yan-Tak Ng is a Chinese English computer scientist, executive, investor, zest) is a federally recognized law enforcement agency in the united kingdom whose patents were granted in 2015. the book deals with\n",
      "Andrew Yan-Tak Ng is a Chinese English computer scientist, executive, investor, ghiu de egnaso gr monica márcio cía llóventa e es sé en\n"
     ]
    }
   ],
   "source": [
    "print((\"\\n\".join(learn.predict(TEXT, N_WORDS, temperature=0.75, sep=\"\") for _ in range(N_SENTENCES))).replace(\"▁\",\"\"))"
   ]
  },
  {
   "cell_type": "code",
   "execution_count": 92,
   "metadata": {},
   "outputs": [
    {
     "name": "stdout",
     "output_type": "stream",
     "text": [
      "Andrew Yan-Tak Ng is a Chinese English computer scientist, executive, investor, s.a. (spanish: \"spatial de sacramento e s.a.\") is a secular university in\n",
      "Andrew Yan-Tak Ng is a Chinese English computer scientist, executive, investor, s.p.a. (see sergeant) is a sovereign state in the united states of america. the 2017\n",
      "Andrew Yan-Tak Ng is a Chinese English computer scientist, executive, investor, s.a. (dsc) is a framework for enhancing the equitable and integrated framework of the s\n",
      "Andrew Yan-Tak Ng is a Chinese English computer scientist, executive, investor, s.a. (socialist) (spain) is a sovereign state of the united states of america. the 196\n",
      "Andrew Yan-Tak Ng is a Chinese English computer scientist, executive, investor, s.a., s.a. (sd) is a sovereign state of the united kingdom. it is a member of the international union of se\n"
     ]
    }
   ],
   "source": [
    "print((\"\\n\".join(learn.predict(TEXT, N_WORDS, temperature=0.25, sep=\"\") for _ in range(N_SENTENCES))).replace(\"▁\",\"\"))"
   ]
  },
  {
   "cell_type": "code",
   "execution_count": 93,
   "metadata": {},
   "outputs": [
    {
     "data": {
      "text/plain": [
       "4902"
      ]
     },
     "execution_count": 93,
     "metadata": {},
     "output_type": "execute_result"
    }
   ],
   "source": [
    "pd_train_loss = pd.DataFrame(data=np.hstack([learn.recorder.losses]), \n",
    "                             columns=[\"train_loss\"])\n",
    "pd_train_loss.to_csv(pathTrainValid/f\"models/{model.name}/{experiment_name}_train_loss.csv\", header=\"losses\")\n",
    "\n",
    "pd_valid_loss = pd.DataFrame(data=np.column_stack((learn.recorder.val_losses, learn.recorder.metrics)), \n",
    "                             columns=[\"val_loss\", \"accuracy\"])\n",
    "pd_valid_loss.to_csv(pathTrainValid/f\"models/{model.name}/{experiment_name}_valid_loss.csv\", header=\"losses\")\n",
    "pd_train_loss = pd_valid_loss=None\n",
    "gc.collect()"
   ]
  },
  {
   "cell_type": "code",
   "execution_count": 95,
   "metadata": {},
   "outputs": [
    {
     "data": {
      "text/plain": [
       "LanguageLearner(data=TextLMDataBunch;\n",
       "\n",
       "Train: LabelList (2158673 items)\n",
       "x: LMTextList\n",
       "in 1927 the line was further expanded to six tracks (four with electrification) and newtown station was demolished and replaced by the present station which served only the up and down local tracks. the new station was opened on 29 may 1927. the original overhead booking office was retained and its platform access was modified to serve only this new platform. the bookstall for nsw bookstall was constructed in 1937. in the original roof of the platform building was removed and replaced with a lower profile roof. in 1989 the station was refurbished.,joseph m. connolly is an american police detective and politician who represented the 5th middlesex district in the massachusetts house of representatives from 1983 to 1991.,the capsule used two automotive racing seats and aviation brs parachute systems and was designed and modeled with finite element software. the nozzle was carbon fiber exterior with a tough, thermally insulating inner coating. the combustion chamber was metallic, although a wound carbon fiber exterior was planned but never completed. the planned tracking system used a four car team with networked laptop computers using a hybrid cellular and shortwave radio with the capability of automatically predicting the landing spot so a support team could converge on the landing spot hand prior to landing. the highest forces were predicted to be at re-entry, peaking at approximately at up to 6g. development, construction and testing continued in earnest until the second flight of the x prize on october 4th, 2004.,the film was also nominated for three golden globes, of which it was awarded two:,at each point \"p\" of a differentiable surface in 3-dimensional euclidean space one may choose a unit normal vector. a normal plane at \"p\" is one that contains the normal vector, and will therefore also contain a unique direction tangent to the surface and cut the surface in a plane curve, called normal section. this curve will in general have different curvatures for different normal planes at \"p\". the principal curvatures at \"p\", denoted \"k\" and \"k\", are the maximum and minimum values of this curvature.\n",
       "y: LMLabelList\n",
       ",,,,\n",
       "Path: ..\\..\\data\\nlp\\en\\wiki-train_valid;\n",
       "\n",
       "Valid: LabelList (452165 items)\n",
       "x: LMTextList\n",
       "carmiano (salentino:) is a town and \"comune\" in the province of lecce in the apulia region of south-east italy. carmiano is in the heart of the province of lecce and salento. it is located east of the ionian sea (porto cesareo) and west of the adriatic sea (san cataldo).,catherine mcauley offered an honors track as well as six ap courses. students completed yearly service requirements in order to graduate. in addition to their service requirement, seniors completed a service project in may prior to graduation.,several peace river farming families have complained about \"tar and solvent-like odours and emissions associated with heavy-crude operations across the region\" after baytex energy began production. the alberta energy regulator and energy minister ken hughes have publicly expressed concern about baytex's conduct and have emphasized that the impacts being caused by baytex are out of the ordinary. minister ken hughes told cbc news the mar. 22nd decision to put a moratorium on further drilling by baytex in the reno field was \"unprecedented.\",the wesley uniting church demonstrates the growth of toowoomba during the 1870s. the church demonstrates the spread of wesleyan methodism throughout queensland,in addition to the board of supervisors, there are several elected officers that form the government of san diego county that are required by the california constitution and california law, and authorized under the charter.\n",
       "y: LMLabelList\n",
       ",,,,\n",
       "Path: ..\\..\\data\\nlp\\en\\wiki-train_valid;\n",
       "\n",
       "Test: None, model=SequentialRNN(\n",
       "  (0): AWD_LSTM(\n",
       "    (encoder): Embedding(4000, 256, padding_idx=3)\n",
       "    (encoder_dp): EmbeddingDropout(\n",
       "      (emb): Embedding(4000, 256, padding_idx=3)\n",
       "    )\n",
       "    (rnns): ModuleList(\n",
       "      (0): WeightDropout(\n",
       "        (module): LSTM(256, 1280, batch_first=True)\n",
       "      )\n",
       "      (1): WeightDropout(\n",
       "        (module): LSTM(1280, 1280, batch_first=True)\n",
       "      )\n",
       "      (2): WeightDropout(\n",
       "        (module): LSTM(1280, 256, batch_first=True)\n",
       "      )\n",
       "    )\n",
       "    (input_dp): RNNDropout()\n",
       "    (hidden_dps): ModuleList(\n",
       "      (0): RNNDropout()\n",
       "      (1): RNNDropout()\n",
       "      (2): RNNDropout()\n",
       "    )\n",
       "  )\n",
       "  (1): LinearDecoder(\n",
       "    (decoder): Linear(in_features=256, out_features=4000, bias=True)\n",
       "    (output_dp): RNNDropout()\n",
       "  )\n",
       "), opt_func=functools.partial(<class 'torch.optim.adam.Adam'>, betas=(0.9, 0.99)), loss_func=FlattenedLoss of CrossEntropyLoss(), metrics=[<function accuracy at 0x000001B548A1F6A8>], true_wd=True, bn_wd=True, wd=0.01, train_bn=True, path=WindowsPath('../../data/nlp/en/wiki-train_valid'), model_dir='models', callback_fns=[functools.partial(<class 'fastai.basic_train.Recorder'>, add_time=True), <class 'fastai.train.ShowGraph'>], callbacks=[RNNTrainer\n",
       "learn: ...\n",
       "alpha: 2.0\n",
       "beta: 1.0], layer_groups=[Sequential(\n",
       "  (0): WeightDropout(\n",
       "    (module): LSTM(256, 1280, batch_first=True)\n",
       "  )\n",
       "  (1): RNNDropout()\n",
       "), Sequential(\n",
       "  (0): WeightDropout(\n",
       "    (module): LSTM(1280, 1280, batch_first=True)\n",
       "  )\n",
       "  (1): RNNDropout()\n",
       "), Sequential(\n",
       "  (0): WeightDropout(\n",
       "    (module): LSTM(1280, 256, batch_first=True)\n",
       "  )\n",
       "  (1): RNNDropout()\n",
       "), Sequential(\n",
       "  (0): Embedding(4000, 256, padding_idx=3)\n",
       "  (1): EmbeddingDropout(\n",
       "    (emb): Embedding(4000, 256, padding_idx=3)\n",
       "  )\n",
       "  (2): LinearDecoder(\n",
       "    (decoder): Linear(in_features=256, out_features=4000, bias=True)\n",
       "    (output_dp): RNNDropout()\n",
       "  )\n",
       ")], add_time=True)"
      ]
     },
     "execution_count": 95,
     "metadata": {},
     "output_type": "execute_result"
    }
   ],
   "source": [
    "learn = learn.load(f'{model.name}/{experiment_name}')"
   ]
  },
  {
   "cell_type": "code",
   "execution_count": 96,
   "metadata": {},
   "outputs": [],
   "source": [
    "def create_dataloader_from_ids( ids:Collection[Collection[int]], bs:int, bptt:int, vocab:Vocab, backwards=False, path:str=\".\", dl_kwargs={} ):\n",
    "    \"Create a dataloader from ids and a `vocab`. `kwargs` are passed to the dataloader creation.\"\n",
    "    ids_txtlist = TextList(ids, vocab, path=path, processor=[])\n",
    "    ids_txtlist = ids_txtlist.split_none()\n",
    "    ids_txtlist.label_for_lm()\n",
    "    \n",
    "    ids_dataset = LanguageModelPreLoader(ids_txtlist, shuffle=False, bs=bs, bptt=bptt, backwards=backwards)\n",
    "    ids_dl      = DataLoader(ids_dataset, bs, shuffle=False, **dl_kwargs)  \n",
    "    return DeviceDataLoader(ids_dl, defaults.device, collate_fn=data_collate)\n",
    "#valid_dl = create_dataloader_from_ids(validIDS_,bs=64,bptt=94,vocab=vocab)   \n",
    "#learn.validate(valid_dl)"
   ]
  },
  {
   "cell_type": "code",
   "execution_count": 97,
   "metadata": {},
   "outputs": [],
   "source": [
    "from languagemodelloader import *\n",
    "def resample(jagged_ids:Collection[Collection[int]], n_samples=None):\n",
    "    #plot the resampled distribution of sentences according to length\n",
    "    lengths      = np.fromiter( (len(s) for s in jagged_ids), dtype=np.int16, count=len(jagged_ids) )\n",
    "    lower, upper, step = np.min(lengths), np.max(lengths), 1\n",
    "    print(f\"number of sentences:{len(lengths)} lower:{lower}, upper:{upper}, step:{step}\")\n",
    "    plt.hist(lengths, upper-lower, density=True, facecolor='g', alpha=0.75, label=\"sentencelengths\" )\n",
    "    plt.show()\n",
    "\n",
    "    sampling_bins   = np.arange( lower, upper+1, step)\n",
    "    buckets         = SampleOnLength(lengths,sampling_bins,min_bucket_size=1000)\n",
    "    buckets.sampler = random_bucket(nBuckets=len(buckets.buckets))\n",
    "      \n",
    "    # make sampling with replacement to change the distribution\n",
    "    n_samples = np.sum(lengths,dtype=np.int64)  if n_samples is None else n_samples\n",
    "    print(f\"number of samples: {n_samples}\")\n",
    "    resampled  = lengths[ buckets.sample(n=n_samples ) ]\n",
    "    plt.hist(resampled, upper-lower, density=True, facecolor='g', alpha=0.75, label=\"resampled distribution of sentence lengths\" )\n",
    "    plt.show()\n",
    "\n",
    "    sentence_lenght = np.fromiter( (int(np.mean(lengths[b])+.5) for b in buckets.buckets), dtype=np.int, count=len(buckets.buckets))\n",
    "    bucket_size     = np.fromiter( (len(b) for b in buckets.buckets), dtype=np.int, count=len(buckets.buckets))\n",
    "    plt.bar(sentence_lenght,bucket_size, label=\"sentencelength vs bucket size\" )\n",
    "    plt.xlabel(\"length of sentences in bucket\")\n",
    "    plt.ylabel(\"number of sentences in bucket\")\n",
    "    plt.title(\"buckets\")\n",
    "    plt.legend()    \n",
    "    return buckets\n"
   ]
  },
  {
   "cell_type": "code",
   "execution_count": 103,
   "metadata": {},
   "outputs": [],
   "source": [
    "def loss_vs_sentence_length(resampler):\n",
    "    count,min_lengths,mean_lengths,max_lengths, losses, accuracies = [],[],[],[],[],[]\n",
    "    for i,bucket in enumerate(resampler.buckets):\n",
    "        print( f\"{int(i/len(resampler.buckets)*100+.5)} %\" )\n",
    "        sentences = validIDS_[bucket]\n",
    "        lengths   = np.fromiter( (len(s) for s in sentences), dtype=np.int,count=len(bucket) ) \n",
    "        b_dl      = create_dataloader_from_ids(sentences,bs=64,bptt=70, vocab=vocab)   \n",
    "        loss, accuracy = learn.validate(b_dl)\n",
    "                            \n",
    "        count.append(len(bucket))\n",
    "        min_lengths.append(  int(np.min(  lengths ))     ) \n",
    "        mean_lengths.append( int(np.mean( lengths )+0.5) )\n",
    "        max_lengths.append(  int(np.max(  lengths ))     )\n",
    "        losses.append( loss )\n",
    "        accuracies.append(accuracy.numpy())\n",
    "    return pd.DataFrame(data=np.array([count, min_lengths, mean_lengths, max_lengths, losses, accuracies ]).T, \n",
    "                        columns=[\"count\", \"min_length\",\"mean_length\",\"max_length\", \"loss\",\"accuracy\"])   "
   ]
  },
  {
   "cell_type": "code",
   "execution_count": 99,
   "metadata": {},
   "outputs": [
    {
     "name": "stdout",
     "output_type": "stream",
     "text": [
      "number of sentences:452165 lower:15, upper:600, step:1\n"
     ]
    },
    {
     "data": {
      "image/png": "[encoded data removed]",
      "text/plain": [
       "<Figure size 432x288 with 1 Axes>"
      ]
     },
     "metadata": {
      "needs_background": "light"
     },
     "output_type": "display_data"
    },
    {
     "name": "stdout",
     "output_type": "stream",
     "text": [
      "n_buckets:586, lower:15,upper:600,step:1\n",
      "number of samples: 50000021\n"
     ]
    },
    {
     "data": {
      "image/png": "[encoded data removed]",
      "text/plain": [
       "<Figure size 432x288 with 1 Axes>"
      ]
     },
     "metadata": {
      "needs_background": "light"
     },
     "output_type": "display_data"
    },
    {
     "data": {
      "image/png": "[encoded data removed]",
      "text/plain": [
       "<Figure size 432x288 with 1 Axes>"
      ]
     },
     "metadata": {
      "needs_background": "light"
     },
     "output_type": "display_data"
    }
   ],
   "source": [
    "resampler = resample(validIDS_)"
   ]
  },
  {
   "cell_type": "code",
   "execution_count": 104,
   "metadata": {},
   "outputs": [
    {
     "data": {
      "text/html": [
       "<div>\n",
       "<style scoped>\n",
       "    .dataframe tbody tr th:only-of-type {\n",
       "        vertical-align: middle;\n",
       "    }\n",
       "\n",
       "    .dataframe tbody tr th {\n",
       "        vertical-align: top;\n",
       "    }\n",
       "\n",
       "    .dataframe thead th {\n",
       "        text-align: right;\n",
       "    }\n",
       "</style>\n",
       "<table border=\"1\" class=\"dataframe\">\n",
       "  <thead>\n",
       "    <tr style=\"text-align: right;\">\n",
       "      <th></th>\n",
       "      <th>count</th>\n",
       "      <th>min_length</th>\n",
       "      <th>mean_length</th>\n",
       "      <th>max_length</th>\n",
       "      <th>loss</th>\n",
       "      <th>accuracy</th>\n",
       "    </tr>\n",
       "  </thead>\n",
       "  <tbody>\n",
       "    <tr>\n",
       "      <th>0</th>\n",
       "      <td>1498.0</td>\n",
       "      <td>15.0</td>\n",
       "      <td>15.0</td>\n",
       "      <td>15.0</td>\n",
       "      <td>2.943119</td>\n",
       "      <td>0.453088</td>\n",
       "    </tr>\n",
       "    <tr>\n",
       "      <th>1</th>\n",
       "      <td>1720.0</td>\n",
       "      <td>16.0</td>\n",
       "      <td>16.0</td>\n",
       "      <td>16.0</td>\n",
       "      <td>2.968685</td>\n",
       "      <td>0.439732</td>\n",
       "    </tr>\n",
       "    <tr>\n",
       "      <th>2</th>\n",
       "      <td>1999.0</td>\n",
       "      <td>17.0</td>\n",
       "      <td>17.0</td>\n",
       "      <td>17.0</td>\n",
       "      <td>2.784698</td>\n",
       "      <td>0.474023</td>\n",
       "    </tr>\n",
       "    <tr>\n",
       "      <th>3</th>\n",
       "      <td>2111.0</td>\n",
       "      <td>18.0</td>\n",
       "      <td>18.0</td>\n",
       "      <td>18.0</td>\n",
       "      <td>2.897955</td>\n",
       "      <td>0.449702</td>\n",
       "    </tr>\n",
       "    <tr>\n",
       "      <th>4</th>\n",
       "      <td>2250.0</td>\n",
       "      <td>19.0</td>\n",
       "      <td>19.0</td>\n",
       "      <td>19.0</td>\n",
       "      <td>2.896466</td>\n",
       "      <td>0.446964</td>\n",
       "    </tr>\n",
       "    <tr>\n",
       "      <th>5</th>\n",
       "      <td>2790.0</td>\n",
       "      <td>20.0</td>\n",
       "      <td>20.0</td>\n",
       "      <td>20.0</td>\n",
       "      <td>2.585726</td>\n",
       "      <td>0.493613</td>\n",
       "    </tr>\n",
       "    <tr>\n",
       "      <th>6</th>\n",
       "      <td>2515.0</td>\n",
       "      <td>21.0</td>\n",
       "      <td>21.0</td>\n",
       "      <td>21.0</td>\n",
       "      <td>2.785548</td>\n",
       "      <td>0.461998</td>\n",
       "    </tr>\n",
       "    <tr>\n",
       "      <th>7</th>\n",
       "      <td>2618.0</td>\n",
       "      <td>22.0</td>\n",
       "      <td>22.0</td>\n",
       "      <td>22.0</td>\n",
       "      <td>2.875437</td>\n",
       "      <td>0.447081</td>\n",
       "    </tr>\n",
       "    <tr>\n",
       "      <th>8</th>\n",
       "      <td>2717.0</td>\n",
       "      <td>23.0</td>\n",
       "      <td>23.0</td>\n",
       "      <td>23.0</td>\n",
       "      <td>2.826774</td>\n",
       "      <td>0.451706</td>\n",
       "    </tr>\n",
       "    <tr>\n",
       "      <th>9</th>\n",
       "      <td>2853.0</td>\n",
       "      <td>24.0</td>\n",
       "      <td>24.0</td>\n",
       "      <td>24.0</td>\n",
       "      <td>2.812619</td>\n",
       "      <td>0.454157</td>\n",
       "    </tr>\n",
       "    <tr>\n",
       "      <th>10</th>\n",
       "      <td>3049.0</td>\n",
       "      <td>25.0</td>\n",
       "      <td>25.0</td>\n",
       "      <td>25.0</td>\n",
       "      <td>2.767271</td>\n",
       "      <td>0.460020</td>\n",
       "    </tr>\n",
       "    <tr>\n",
       "      <th>11</th>\n",
       "      <td>2985.0</td>\n",
       "      <td>26.0</td>\n",
       "      <td>26.0</td>\n",
       "      <td>26.0</td>\n",
       "      <td>2.780120</td>\n",
       "      <td>0.460082</td>\n",
       "    </tr>\n",
       "    <tr>\n",
       "      <th>12</th>\n",
       "      <td>3055.0</td>\n",
       "      <td>27.0</td>\n",
       "      <td>27.0</td>\n",
       "      <td>27.0</td>\n",
       "      <td>2.752783</td>\n",
       "      <td>0.461266</td>\n",
       "    </tr>\n",
       "    <tr>\n",
       "      <th>13</th>\n",
       "      <td>3329.0</td>\n",
       "      <td>28.0</td>\n",
       "      <td>28.0</td>\n",
       "      <td>28.0</td>\n",
       "      <td>2.733556</td>\n",
       "      <td>0.464860</td>\n",
       "    </tr>\n",
       "    <tr>\n",
       "      <th>14</th>\n",
       "      <td>3259.0</td>\n",
       "      <td>29.0</td>\n",
       "      <td>29.0</td>\n",
       "      <td>29.0</td>\n",
       "      <td>2.699411</td>\n",
       "      <td>0.468831</td>\n",
       "    </tr>\n",
       "    <tr>\n",
       "      <th>15</th>\n",
       "      <td>3420.0</td>\n",
       "      <td>30.0</td>\n",
       "      <td>30.0</td>\n",
       "      <td>30.0</td>\n",
       "      <td>2.719037</td>\n",
       "      <td>0.465732</td>\n",
       "    </tr>\n",
       "    <tr>\n",
       "      <th>16</th>\n",
       "      <td>3267.0</td>\n",
       "      <td>31.0</td>\n",
       "      <td>31.0</td>\n",
       "      <td>31.0</td>\n",
       "      <td>2.700304</td>\n",
       "      <td>0.467420</td>\n",
       "    </tr>\n",
       "    <tr>\n",
       "      <th>17</th>\n",
       "      <td>3306.0</td>\n",
       "      <td>32.0</td>\n",
       "      <td>32.0</td>\n",
       "      <td>32.0</td>\n",
       "      <td>2.745667</td>\n",
       "      <td>0.457766</td>\n",
       "    </tr>\n",
       "    <tr>\n",
       "      <th>18</th>\n",
       "      <td>3462.0</td>\n",
       "      <td>33.0</td>\n",
       "      <td>33.0</td>\n",
       "      <td>33.0</td>\n",
       "      <td>2.716106</td>\n",
       "      <td>0.465505</td>\n",
       "    </tr>\n",
       "    <tr>\n",
       "      <th>19</th>\n",
       "      <td>3294.0</td>\n",
       "      <td>34.0</td>\n",
       "      <td>34.0</td>\n",
       "      <td>34.0</td>\n",
       "      <td>2.727131</td>\n",
       "      <td>0.463563</td>\n",
       "    </tr>\n",
       "    <tr>\n",
       "      <th>20</th>\n",
       "      <td>3474.0</td>\n",
       "      <td>35.0</td>\n",
       "      <td>35.0</td>\n",
       "      <td>35.0</td>\n",
       "      <td>2.704803</td>\n",
       "      <td>0.466199</td>\n",
       "    </tr>\n",
       "    <tr>\n",
       "      <th>21</th>\n",
       "      <td>3429.0</td>\n",
       "      <td>36.0</td>\n",
       "      <td>36.0</td>\n",
       "      <td>36.0</td>\n",
       "      <td>2.712637</td>\n",
       "      <td>0.465665</td>\n",
       "    </tr>\n",
       "    <tr>\n",
       "      <th>22</th>\n",
       "      <td>3580.0</td>\n",
       "      <td>37.0</td>\n",
       "      <td>37.0</td>\n",
       "      <td>37.0</td>\n",
       "      <td>2.722917</td>\n",
       "      <td>0.460938</td>\n",
       "    </tr>\n",
       "    <tr>\n",
       "      <th>23</th>\n",
       "      <td>3488.0</td>\n",
       "      <td>38.0</td>\n",
       "      <td>38.0</td>\n",
       "      <td>38.0</td>\n",
       "      <td>2.710158</td>\n",
       "      <td>0.464345</td>\n",
       "    </tr>\n",
       "    <tr>\n",
       "      <th>24</th>\n",
       "      <td>3463.0</td>\n",
       "      <td>39.0</td>\n",
       "      <td>39.0</td>\n",
       "      <td>39.0</td>\n",
       "      <td>2.712830</td>\n",
       "      <td>0.464278</td>\n",
       "    </tr>\n",
       "    <tr>\n",
       "      <th>25</th>\n",
       "      <td>3607.0</td>\n",
       "      <td>40.0</td>\n",
       "      <td>40.0</td>\n",
       "      <td>40.0</td>\n",
       "      <td>2.655102</td>\n",
       "      <td>0.472335</td>\n",
       "    </tr>\n",
       "    <tr>\n",
       "      <th>26</th>\n",
       "      <td>3673.0</td>\n",
       "      <td>41.0</td>\n",
       "      <td>41.0</td>\n",
       "      <td>41.0</td>\n",
       "      <td>2.668749</td>\n",
       "      <td>0.472039</td>\n",
       "    </tr>\n",
       "    <tr>\n",
       "      <th>27</th>\n",
       "      <td>3365.0</td>\n",
       "      <td>42.0</td>\n",
       "      <td>42.0</td>\n",
       "      <td>42.0</td>\n",
       "      <td>2.668051</td>\n",
       "      <td>0.469824</td>\n",
       "    </tr>\n",
       "    <tr>\n",
       "      <th>28</th>\n",
       "      <td>3611.0</td>\n",
       "      <td>43.0</td>\n",
       "      <td>43.0</td>\n",
       "      <td>43.0</td>\n",
       "      <td>2.680094</td>\n",
       "      <td>0.469598</td>\n",
       "    </tr>\n",
       "    <tr>\n",
       "      <th>29</th>\n",
       "      <td>3498.0</td>\n",
       "      <td>44.0</td>\n",
       "      <td>44.0</td>\n",
       "      <td>44.0</td>\n",
       "      <td>2.662925</td>\n",
       "      <td>0.470816</td>\n",
       "    </tr>\n",
       "    <tr>\n",
       "      <th>...</th>\n",
       "      <td>...</td>\n",
       "      <td>...</td>\n",
       "      <td>...</td>\n",
       "      <td>...</td>\n",
       "      <td>...</td>\n",
       "      <td>...</td>\n",
       "    </tr>\n",
       "    <tr>\n",
       "      <th>208</th>\n",
       "      <td>1000.0</td>\n",
       "      <td>247.0</td>\n",
       "      <td>249.0</td>\n",
       "      <td>250.0</td>\n",
       "      <td>2.947411</td>\n",
       "      <td>0.419180</td>\n",
       "    </tr>\n",
       "    <tr>\n",
       "      <th>209</th>\n",
       "      <td>1000.0</td>\n",
       "      <td>250.0</td>\n",
       "      <td>251.0</td>\n",
       "      <td>253.0</td>\n",
       "      <td>2.969821</td>\n",
       "      <td>0.416009</td>\n",
       "    </tr>\n",
       "    <tr>\n",
       "      <th>210</th>\n",
       "      <td>1000.0</td>\n",
       "      <td>253.0</td>\n",
       "      <td>254.0</td>\n",
       "      <td>255.0</td>\n",
       "      <td>2.964215</td>\n",
       "      <td>0.416941</td>\n",
       "    </tr>\n",
       "    <tr>\n",
       "      <th>211</th>\n",
       "      <td>1000.0</td>\n",
       "      <td>255.0</td>\n",
       "      <td>257.0</td>\n",
       "      <td>258.0</td>\n",
       "      <td>2.956707</td>\n",
       "      <td>0.417338</td>\n",
       "    </tr>\n",
       "    <tr>\n",
       "      <th>212</th>\n",
       "      <td>1000.0</td>\n",
       "      <td>258.0</td>\n",
       "      <td>260.0</td>\n",
       "      <td>261.0</td>\n",
       "      <td>2.973025</td>\n",
       "      <td>0.416760</td>\n",
       "    </tr>\n",
       "    <tr>\n",
       "      <th>213</th>\n",
       "      <td>1000.0</td>\n",
       "      <td>261.0</td>\n",
       "      <td>263.0</td>\n",
       "      <td>264.0</td>\n",
       "      <td>2.959618</td>\n",
       "      <td>0.416397</td>\n",
       "    </tr>\n",
       "    <tr>\n",
       "      <th>214</th>\n",
       "      <td>1000.0</td>\n",
       "      <td>264.0</td>\n",
       "      <td>266.0</td>\n",
       "      <td>268.0</td>\n",
       "      <td>2.992806</td>\n",
       "      <td>0.411384</td>\n",
       "    </tr>\n",
       "    <tr>\n",
       "      <th>215</th>\n",
       "      <td>1000.0</td>\n",
       "      <td>268.0</td>\n",
       "      <td>269.0</td>\n",
       "      <td>271.0</td>\n",
       "      <td>2.972552</td>\n",
       "      <td>0.414875</td>\n",
       "    </tr>\n",
       "    <tr>\n",
       "      <th>216</th>\n",
       "      <td>1000.0</td>\n",
       "      <td>271.0</td>\n",
       "      <td>273.0</td>\n",
       "      <td>274.0</td>\n",
       "      <td>2.973390</td>\n",
       "      <td>0.414513</td>\n",
       "    </tr>\n",
       "    <tr>\n",
       "      <th>217</th>\n",
       "      <td>1000.0</td>\n",
       "      <td>274.0</td>\n",
       "      <td>276.0</td>\n",
       "      <td>278.0</td>\n",
       "      <td>2.981031</td>\n",
       "      <td>0.414570</td>\n",
       "    </tr>\n",
       "    <tr>\n",
       "      <th>218</th>\n",
       "      <td>1000.0</td>\n",
       "      <td>278.0</td>\n",
       "      <td>280.0</td>\n",
       "      <td>282.0</td>\n",
       "      <td>2.956645</td>\n",
       "      <td>0.417092</td>\n",
       "    </tr>\n",
       "    <tr>\n",
       "      <th>219</th>\n",
       "      <td>1000.0</td>\n",
       "      <td>282.0</td>\n",
       "      <td>284.0</td>\n",
       "      <td>286.0</td>\n",
       "      <td>2.989891</td>\n",
       "      <td>0.412720</td>\n",
       "    </tr>\n",
       "    <tr>\n",
       "      <th>220</th>\n",
       "      <td>1000.0</td>\n",
       "      <td>286.0</td>\n",
       "      <td>288.0</td>\n",
       "      <td>290.0</td>\n",
       "      <td>2.976112</td>\n",
       "      <td>0.415439</td>\n",
       "    </tr>\n",
       "    <tr>\n",
       "      <th>221</th>\n",
       "      <td>1000.0</td>\n",
       "      <td>290.0</td>\n",
       "      <td>293.0</td>\n",
       "      <td>295.0</td>\n",
       "      <td>3.002436</td>\n",
       "      <td>0.410789</td>\n",
       "    </tr>\n",
       "    <tr>\n",
       "      <th>222</th>\n",
       "      <td>1000.0</td>\n",
       "      <td>295.0</td>\n",
       "      <td>297.0</td>\n",
       "      <td>300.0</td>\n",
       "      <td>2.978209</td>\n",
       "      <td>0.412946</td>\n",
       "    </tr>\n",
       "    <tr>\n",
       "      <th>223</th>\n",
       "      <td>1000.0</td>\n",
       "      <td>300.0</td>\n",
       "      <td>302.0</td>\n",
       "      <td>305.0</td>\n",
       "      <td>2.991785</td>\n",
       "      <td>0.412569</td>\n",
       "    </tr>\n",
       "    <tr>\n",
       "      <th>224</th>\n",
       "      <td>1000.0</td>\n",
       "      <td>305.0</td>\n",
       "      <td>308.0</td>\n",
       "      <td>310.0</td>\n",
       "      <td>2.989215</td>\n",
       "      <td>0.413581</td>\n",
       "    </tr>\n",
       "    <tr>\n",
       "      <th>225</th>\n",
       "      <td>1000.0</td>\n",
       "      <td>310.0</td>\n",
       "      <td>313.0</td>\n",
       "      <td>316.0</td>\n",
       "      <td>2.983597</td>\n",
       "      <td>0.413371</td>\n",
       "    </tr>\n",
       "    <tr>\n",
       "      <th>226</th>\n",
       "      <td>1000.0</td>\n",
       "      <td>316.0</td>\n",
       "      <td>320.0</td>\n",
       "      <td>323.0</td>\n",
       "      <td>2.990261</td>\n",
       "      <td>0.411617</td>\n",
       "    </tr>\n",
       "    <tr>\n",
       "      <th>227</th>\n",
       "      <td>1000.0</td>\n",
       "      <td>323.0</td>\n",
       "      <td>326.0</td>\n",
       "      <td>330.0</td>\n",
       "      <td>2.994027</td>\n",
       "      <td>0.412203</td>\n",
       "    </tr>\n",
       "    <tr>\n",
       "      <th>228</th>\n",
       "      <td>1000.0</td>\n",
       "      <td>330.0</td>\n",
       "      <td>334.0</td>\n",
       "      <td>338.0</td>\n",
       "      <td>2.979798</td>\n",
       "      <td>0.415390</td>\n",
       "    </tr>\n",
       "    <tr>\n",
       "      <th>229</th>\n",
       "      <td>1000.0</td>\n",
       "      <td>338.0</td>\n",
       "      <td>342.0</td>\n",
       "      <td>346.0</td>\n",
       "      <td>2.987089</td>\n",
       "      <td>0.412825</td>\n",
       "    </tr>\n",
       "    <tr>\n",
       "      <th>230</th>\n",
       "      <td>1000.0</td>\n",
       "      <td>346.0</td>\n",
       "      <td>351.0</td>\n",
       "      <td>355.0</td>\n",
       "      <td>3.005232</td>\n",
       "      <td>0.410881</td>\n",
       "    </tr>\n",
       "    <tr>\n",
       "      <th>231</th>\n",
       "      <td>1000.0</td>\n",
       "      <td>355.0</td>\n",
       "      <td>360.0</td>\n",
       "      <td>365.0</td>\n",
       "      <td>3.017277</td>\n",
       "      <td>0.409345</td>\n",
       "    </tr>\n",
       "    <tr>\n",
       "      <th>232</th>\n",
       "      <td>1000.0</td>\n",
       "      <td>365.0</td>\n",
       "      <td>371.0</td>\n",
       "      <td>378.0</td>\n",
       "      <td>3.003580</td>\n",
       "      <td>0.410717</td>\n",
       "    </tr>\n",
       "    <tr>\n",
       "      <th>233</th>\n",
       "      <td>1000.0</td>\n",
       "      <td>378.0</td>\n",
       "      <td>385.0</td>\n",
       "      <td>393.0</td>\n",
       "      <td>3.011704</td>\n",
       "      <td>0.409741</td>\n",
       "    </tr>\n",
       "    <tr>\n",
       "      <th>234</th>\n",
       "      <td>1000.0</td>\n",
       "      <td>393.0</td>\n",
       "      <td>401.0</td>\n",
       "      <td>410.0</td>\n",
       "      <td>3.025898</td>\n",
       "      <td>0.408053</td>\n",
       "    </tr>\n",
       "    <tr>\n",
       "      <th>235</th>\n",
       "      <td>1000.0</td>\n",
       "      <td>410.0</td>\n",
       "      <td>421.0</td>\n",
       "      <td>433.0</td>\n",
       "      <td>3.026706</td>\n",
       "      <td>0.409195</td>\n",
       "    </tr>\n",
       "    <tr>\n",
       "      <th>236</th>\n",
       "      <td>1000.0</td>\n",
       "      <td>433.0</td>\n",
       "      <td>447.0</td>\n",
       "      <td>463.0</td>\n",
       "      <td>3.020256</td>\n",
       "      <td>0.409074</td>\n",
       "    </tr>\n",
       "    <tr>\n",
       "      <th>237</th>\n",
       "      <td>1943.0</td>\n",
       "      <td>463.0</td>\n",
       "      <td>515.0</td>\n",
       "      <td>600.0</td>\n",
       "      <td>3.015090</td>\n",
       "      <td>0.408816</td>\n",
       "    </tr>\n",
       "  </tbody>\n",
       "</table>\n",
       "<p>238 rows × 6 columns</p>\n",
       "</div>"
      ],
      "text/plain": [
       "      count  min_length  mean_length  max_length      loss  accuracy\n",
       "0    1498.0        15.0         15.0        15.0  2.943119  0.453088\n",
       "1    1720.0        16.0         16.0        16.0  2.968685  0.439732\n",
       "2    1999.0        17.0         17.0        17.0  2.784698  0.474023\n",
       "3    2111.0        18.0         18.0        18.0  2.897955  0.449702\n",
       "4    2250.0        19.0         19.0        19.0  2.896466  0.446964\n",
       "5    2790.0        20.0         20.0        20.0  2.585726  0.493613\n",
       "6    2515.0        21.0         21.0        21.0  2.785548  0.461998\n",
       "7    2618.0        22.0         22.0        22.0  2.875437  0.447081\n",
       "8    2717.0        23.0         23.0        23.0  2.826774  0.451706\n",
       "9    2853.0        24.0         24.0        24.0  2.812619  0.454157\n",
       "10   3049.0        25.0         25.0        25.0  2.767271  0.460020\n",
       "11   2985.0        26.0         26.0        26.0  2.780120  0.460082\n",
       "12   3055.0        27.0         27.0        27.0  2.752783  0.461266\n",
       "13   3329.0        28.0         28.0        28.0  2.733556  0.464860\n",
       "14   3259.0        29.0         29.0        29.0  2.699411  0.468831\n",
       "15   3420.0        30.0         30.0        30.0  2.719037  0.465732\n",
       "16   3267.0        31.0         31.0        31.0  2.700304  0.467420\n",
       "17   3306.0        32.0         32.0        32.0  2.745667  0.457766\n",
       "18   3462.0        33.0         33.0        33.0  2.716106  0.465505\n",
       "19   3294.0        34.0         34.0        34.0  2.727131  0.463563\n",
       "20   3474.0        35.0         35.0        35.0  2.704803  0.466199\n",
       "21   3429.0        36.0         36.0        36.0  2.712637  0.465665\n",
       "22   3580.0        37.0         37.0        37.0  2.722917  0.460938\n",
       "23   3488.0        38.0         38.0        38.0  2.710158  0.464345\n",
       "24   3463.0        39.0         39.0        39.0  2.712830  0.464278\n",
       "25   3607.0        40.0         40.0        40.0  2.655102  0.472335\n",
       "26   3673.0        41.0         41.0        41.0  2.668749  0.472039\n",
       "27   3365.0        42.0         42.0        42.0  2.668051  0.469824\n",
       "28   3611.0        43.0         43.0        43.0  2.680094  0.469598\n",
       "29   3498.0        44.0         44.0        44.0  2.662925  0.470816\n",
       "..      ...         ...          ...         ...       ...       ...\n",
       "208  1000.0       247.0        249.0       250.0  2.947411  0.419180\n",
       "209  1000.0       250.0        251.0       253.0  2.969821  0.416009\n",
       "210  1000.0       253.0        254.0       255.0  2.964215  0.416941\n",
       "211  1000.0       255.0        257.0       258.0  2.956707  0.417338\n",
       "212  1000.0       258.0        260.0       261.0  2.973025  0.416760\n",
       "213  1000.0       261.0        263.0       264.0  2.959618  0.416397\n",
       "214  1000.0       264.0        266.0       268.0  2.992806  0.411384\n",
       "215  1000.0       268.0        269.0       271.0  2.972552  0.414875\n",
       "216  1000.0       271.0        273.0       274.0  2.973390  0.414513\n",
       "217  1000.0       274.0        276.0       278.0  2.981031  0.414570\n",
       "218  1000.0       278.0        280.0       282.0  2.956645  0.417092\n",
       "219  1000.0       282.0        284.0       286.0  2.989891  0.412720\n",
       "220  1000.0       286.0        288.0       290.0  2.976112  0.415439\n",
       "221  1000.0       290.0        293.0       295.0  3.002436  0.410789\n",
       "222  1000.0       295.0        297.0       300.0  2.978209  0.412946\n",
       "223  1000.0       300.0        302.0       305.0  2.991785  0.412569\n",
       "224  1000.0       305.0        308.0       310.0  2.989215  0.413581\n",
       "225  1000.0       310.0        313.0       316.0  2.983597  0.413371\n",
       "226  1000.0       316.0        320.0       323.0  2.990261  0.411617\n",
       "227  1000.0       323.0        326.0       330.0  2.994027  0.412203\n",
       "228  1000.0       330.0        334.0       338.0  2.979798  0.415390\n",
       "229  1000.0       338.0        342.0       346.0  2.987089  0.412825\n",
       "230  1000.0       346.0        351.0       355.0  3.005232  0.410881\n",
       "231  1000.0       355.0        360.0       365.0  3.017277  0.409345\n",
       "232  1000.0       365.0        371.0       378.0  3.003580  0.410717\n",
       "233  1000.0       378.0        385.0       393.0  3.011704  0.409741\n",
       "234  1000.0       393.0        401.0       410.0  3.025898  0.408053\n",
       "235  1000.0       410.0        421.0       433.0  3.026706  0.409195\n",
       "236  1000.0       433.0        447.0       463.0  3.020256  0.409074\n",
       "237  1943.0       463.0        515.0       600.0  3.015090  0.408816\n",
       "\n",
       "[238 rows x 6 columns]"
      ]
     },
     "execution_count": 104,
     "metadata": {},
     "output_type": "execute_result"
    }
   ],
   "source": [
    "loss_vs_sentence = loss_vs_sentence_length(resampler)\n",
    "loss_vs_sentence"
   ]
  },
  {
   "cell_type": "code",
   "execution_count": 106,
   "metadata": {},
   "outputs": [],
   "source": [
    "loss_vs_sentence.to_csv(pathTrainValid/f\"models/{model.name}/{experiment_name}_loss_vs_sentence_length.csv\")"
   ]
  },
  {
   "cell_type": "code",
   "execution_count": 110,
   "metadata": {
    "scrolled": false
   },
   "outputs": [
    {
     "data": {
      "image/png": "[encoded data removed]",
      "text/plain": [
       "<Figure size 432x288 with 1 Axes>"
      ]
     },
     "metadata": {
      "needs_background": "light"
     },
     "output_type": "display_data"
    },
    {
     "data": {
      "image/png": "[encoded data removed]",
      "text/plain": [
       "<Figure size 432x288 with 1 Axes>"
      ]
     },
     "metadata": {
      "needs_background": "light"
     },
     "output_type": "display_data"
    },
    {
     "data": {
      "image/png": "[encoded data removed]",
      "text/plain": [
       "<Figure size 432x288 with 1 Axes>"
      ]
     },
     "metadata": {
      "needs_background": "light"
     },
     "output_type": "display_data"
    },
    {
     "data": {
      "image/png": "[encoded data removed]",
      "text/plain": [
       "<Figure size 432x288 with 1 Axes>"
      ]
     },
     "metadata": {
      "needs_background": "light"
     },
     "output_type": "display_data"
    },
    {
     "name": "stdout",
     "output_type": "stream",
     "text": [
      "2.585726499557495\n",
      "     count  min_length  mean_length  max_length      loss  accuracy\n",
      "0   1498.0        15.0         15.0        15.0  2.943119  0.453088\n",
      "1   1720.0        16.0         16.0        16.0  2.968685  0.439732\n",
      "2   1999.0        17.0         17.0        17.0  2.784698  0.474023\n",
      "3   2111.0        18.0         18.0        18.0  2.897955  0.449702\n",
      "4   2250.0        19.0         19.0        19.0  2.896466  0.446964\n",
      "5   2790.0        20.0         20.0        20.0  2.585726  0.493613\n",
      "6   2515.0        21.0         21.0        21.0  2.785548  0.461998\n",
      "7   2618.0        22.0         22.0        22.0  2.875437  0.447081\n",
      "8   2717.0        23.0         23.0        23.0  2.826774  0.451706\n",
      "9   2853.0        24.0         24.0        24.0  2.812619  0.454157\n",
      "10  3049.0        25.0         25.0        25.0  2.767271  0.460020\n",
      "11  2985.0        26.0         26.0        26.0  2.780120  0.460082\n",
      "12  3055.0        27.0         27.0        27.0  2.752783  0.461266\n",
      "13  3329.0        28.0         28.0        28.0  2.733556  0.464860\n",
      "14  3259.0        29.0         29.0        29.0  2.699411  0.468831\n",
      "15  3420.0        30.0         30.0        30.0  2.719037  0.465732\n",
      "16  3267.0        31.0         31.0        31.0  2.700304  0.467420\n",
      "17  3306.0        32.0         32.0        32.0  2.745667  0.457766\n",
      "18  3462.0        33.0         33.0        33.0  2.716106  0.465505\n",
      "19  3294.0        34.0         34.0        34.0  2.727131  0.463563\n",
      "20  3474.0        35.0         35.0        35.0  2.704803  0.466199\n",
      "21  3429.0        36.0         36.0        36.0  2.712637  0.465665\n",
      "22  3580.0        37.0         37.0        37.0  2.722917  0.460938\n",
      "23  3488.0        38.0         38.0        38.0  2.710158  0.464345\n",
      "24  3463.0        39.0         39.0        39.0  2.712830  0.464278\n",
      "25  3607.0        40.0         40.0        40.0  2.655102  0.472335\n",
      "26  3673.0        41.0         41.0        41.0  2.668749  0.472039\n",
      "27  3365.0        42.0         42.0        42.0  2.668051  0.469824\n",
      "28  3611.0        43.0         43.0        43.0  2.680094  0.469598\n",
      "29  3498.0        44.0         44.0        44.0  2.662925  0.470816\n",
      "30  3565.0        45.0         45.0        45.0  2.659196  0.468818\n",
      "31  3500.0        46.0         46.0        46.0  2.642468  0.472780\n",
      "32  3489.0        47.0         47.0        47.0  2.679602  0.466518\n",
      "33  3389.0        48.0         48.0        48.0  2.632855  0.472490\n",
      "34  3574.0        49.0         49.0        49.0  2.653689  0.468783\n",
      "35  3360.0        50.0         50.0        50.0  2.662971  0.467188\n",
      "36  3497.0        51.0         51.0        51.0  2.675275  0.466981\n",
      "37  3343.0        52.0         52.0        52.0  2.677960  0.465894\n",
      "38  3377.0        53.0         53.0        53.0  2.697267  0.464565\n",
      "39  3321.0        54.0         54.0        54.0  2.665315  0.466425\n",
      "40  3327.0        55.0         55.0        55.0  2.694851  0.461466\n",
      "41  3232.0        56.0         56.0        56.0  2.714349  0.458673\n",
      "42  3152.0        57.0         57.0        57.0  2.696904  0.461351\n",
      "43  3215.0        58.0         58.0        58.0  2.744220  0.453885\n",
      "44  3023.0        59.0         59.0        59.0  2.733055  0.455631\n",
      "45  3141.0        60.0         60.0        60.0  2.715409  0.459920\n",
      "46  3101.0        61.0         61.0        61.0  2.730296  0.454610\n",
      "47  3080.0        62.0         62.0        62.0  2.717220  0.457781\n",
      "48  2962.0        63.0         63.0        63.0  2.736588  0.453540\n",
      "49  3042.0        64.0         64.0        64.0  2.720820  0.456067\n",
      "50  3051.0        65.0         65.0        65.0  2.744388  0.453075\n",
      "51  3150.0        66.0         66.0        66.0  2.751258  0.452731\n",
      "52  3015.0        67.0         67.0        67.0  2.728199  0.455013\n",
      "53  2945.0        68.0         68.0        68.0  2.748309  0.452068\n",
      "54  2970.0        69.0         69.0        69.0  2.767595  0.451179\n",
      "55  2836.0        70.0         70.0        70.0  2.738656  0.453358\n",
      "56  2962.0        71.0         71.0        71.0  2.770283  0.448827\n",
      "57  3029.0        72.0         72.0        72.0  2.751111  0.451726\n",
      "58  2992.0        73.0         73.0        73.0  2.773630  0.448519\n",
      "59  2932.0        74.0         74.0        74.0  2.753167  0.450729\n"
     ]
    }
   ],
   "source": [
    "def plot_losses( title, x_label, y_label, x, y): #, accuracy ):\n",
    "    plt.scatter(x, y, s=2, c='b')\n",
    "    #plt.plot(x, loss, c='g', label='loss')\n",
    "    plt.xlabel(x_label)\n",
    "    plt.ylabel(y_label)\n",
    "    plt.title(title)\n",
    "plot_losses(\"min length vs validation loss\", \"min length\", \"loss\", loss_vs_sentence.min_length, loss_vs_sentence.loss)\n",
    "plt.show()\n",
    "plot_losses(\"mean length vs validation loss\",\"mean length\", \"loss\", loss_vs_sentence.mean_length, loss_vs_sentence.loss)\n",
    "plt.show()\n",
    "plot_losses(\"sentence count vs validation loss\",\"sentence count\", \"loss\",  loss_vs_sentence[\"count\"], loss_vs_sentence.loss)\n",
    "plt.show()\n",
    "plot_losses(\"mean length vs validation accuracy\",\"mean length\", \"accuracy\", loss_vs_sentence.mean_length, loss_vs_sentence.accuracy)\n",
    "plt.show()\n",
    "\n",
    "print(min(loss_vs_sentence.loss))\n",
    "print(loss_vs_sentence[0:60])"
   ]
  },
  {
   "cell_type": "raw",
   "metadata": {},
   "source": [
    "\n",
    "\n",
    "\n",
    "\n",
    "#below is various hacks for grid search and display"
   ]
  },
  {
   "cell_type": "raw",
   "metadata": {},
   "source": [
    "#lr_range        = [1e-3, 1.5e-3, 2e-3, 2.5e-3, 3e-3, 3.5e-3 ] \n",
    "#lr_range        = [1e-4, 2e-4, 6e-4, 8e-4, 10e-4 ] \n",
    "pct_start_range = [0.01, 0.02, 0.4, 0.7, 0.1, 0.2, 0.3]\n",
    "\n",
    "moms_range      = [.73, .75, .77, .79, .81, .83 ]\n",
    "#pct_start_range = np.linspace(0.01,  .3, 5)\n",
    "#drop_mult_range = np.linspace(.25,  1.75,  6)\n",
    "\n",
    "#wd_range        = [1e-3, 1e-4, 1e-5, 0 ] #np.linspace(1e-2, 0, 10),\n"
   ]
  },
  {
   "cell_type": "raw",
   "metadata": {},
   "source": [
    "def param_grid( pct_start_range ):\n",
    "    pct_start, lr, drop_mult, moms, moms_span, wd = [],[],[],[],[],[]\n",
    "    for p in pct_start_range:\n",
    "        pct_start.append(p)\n",
    "    return pd.DataFrame(data=np.array([pct_start]).T, columns=[\"pct_start\"])\n",
    "grid = param_grid( pct_start_range )\n",
    "print(grid)"
   ]
  },
  {
   "cell_type": "raw",
   "metadata": {
    "scrolled": false
   },
   "source": [
    "from fastai.callbacks.mem import *\n",
    "gc.collect()\n",
    "\n",
    "epochs=1\n",
    "train_loss,val_loss=[],[]\n",
    "\n",
    "for i in range(len(grid)):\n",
    "    g = grid.iloc[i]\n",
    "    print(g)\n",
    "    print(f\"progress %:{ round(i/len(grid)*100) }\" )\n",
    "    with gpu_mem_restore_ctx():\n",
    "        dblm = TextLMDataBunch.from_ids( pathTrainValid, vocab, trainIDS_, validIDS_, bs=64, bptt=70, num_workers=0, no_check=True)\n",
    "        learn = get_language_model_learner(model, drop_mult=0.1, data=dblm)\n",
    "        dblm = None\n",
    "        learn.fit_one_cycle(cyc_len=epochs, max_lr=2e-3, moms=(0.75, 0.85), wd=1e-5, pct_start=g.pct_start)   #awd_lstm \n",
    "        #learn.fit_one_cycle(cyc_len=epochs, max_lr=2e-3, moms=(0.75, 0.85), wd=1e-5, pct_start=0.02) #awd_lstm\n",
    "        #learn.fit_one_cycle(cyc_len=epochs, max_lr=g.lr, moms=(0.7, 0.8), wd=1e-5, pct_start=0.1) #awd_lstm\n",
    "        \n",
    "        #learn.fit_one_cycle(cyc_len=epochs, max_lr=5e-4, moms=(0.74, 0.84), wd=1e-5, pct_start=0.02) #TransformerXL\n",
    "        val_loss.append(learn.recorder.val_losses[-1])\n",
    "        train_loss.append(learn.recorder.losses[-1].numpy())\n",
    "        learn = None\n",
    "    #learn = get_language_model_learner(Model.transformerXL, drop_mult=g.drop_mult, data=dblm)\n",
    "    #learn.fit_one_cycle(cyc_len=epochs, max_lr=g.lr, moms=(g.moms-0.05, g.moms+0.05), wd=g.wd, pct_start=g.pct_start)\n",
    "    gc.collect()    \n",
    "    \n",
    "    #dblm.show_batch()\n",
    "grid[\"val_loss\"] = val_loss\n",
    "grid[\"train_loss\"] = train_loss"
   ]
  },
  {
   "cell_type": "raw",
   "metadata": {},
   "source": [
    "grid.to_csv(pathTrainValid/f\"lm-TransformerXL-4k-vocab-grid_search_traintoks_{nTrainToks}-validtoks_{nValidToks}-epochs_{epochs}.csv\")\n",
    "grid"
   ]
  },
  {
   "cell_type": "raw",
   "metadata": {},
   "source": [
    "def plot_losses( title, x, val_loss, train_loss ):\n",
    "    plt.plot(x, val_loss,   'b', label='val_loss')\n",
    "    plt.plot(x, train_loss, 'g', label='train_loss')\n",
    "    plt.xlabel(title)\n",
    "    plt.ylabel(\"loss\")\n",
    "    plt.title(title)\n",
    "    plt.legend()\n",
    "#plot_losses( \"last epoch\", grid.lr, grid.val_loss, grid.train_loss )\n",
    "#plt.show()\n",
    "\n",
    "\n",
    "plot_losses( \"pct_start\", grid.pct_start, grid.val_loss, grid.train_loss )\n",
    "plt.show()\n",
    "\n",
    "#this mean that the best moms is (0.79-0.05, 0.79+0.05)\n",
    "# i wonder whether a larger span would be better +-0.4, +-0.8 +-1 "
   ]
  },
  {
   "cell_type": "raw",
   "metadata": {},
   "source": [
    "X, Y    = np.meshgrid(np.unique(grid.pct_start.values), np.unique(grid.lr.values))\n",
    "Z_val   = np.zeros_like(X)\n",
    "Z_train = np.zeros_like(X)\n",
    "for i in range(X.shape[0]):\n",
    "    for j in range(X.shape[1]):\n",
    "        Z_val[i,j]   = grid.val_loss[   np.logical_and(grid.pct_start.values==X[i,j] , grid.lr.values==Y[i,j] ) ]\n",
    "        Z_train[i,j] = grid.train_loss[ np.logical_and(grid.pct_start.values==X[i,j] , grid.lr.values==Y[i,j] ) ]"
   ]
  },
  {
   "cell_type": "raw",
   "metadata": {},
   "source": [
    "from mpl_toolkits import mplot3d\n",
    "from matplotlib import cm\n",
    "def plot(X,Y,Z,x_label,y_label,loss_title):\n",
    "    fig = plt.figure(figsize=(8,8))\n",
    "    ax = fig.gca(projection='3d')\n",
    "\n",
    "    ax.plot_surface(X, Y, Z,  rstride=1, cstride=1, cmap=cm.coolwarm, edgecolor='none')\n",
    "    ax.view_init(15, 10)\n",
    "    ax.set_title(loss_title);\n",
    "    ax.set_xlabel(x_label)\n",
    "    ax.set_ylabel(y_label)\n",
    "    ax.set_zlabel(loss_title)\n",
    "plot(X,Y,Z_val,\"pct_start\",\"lr\",\"val_loss\")    \n",
    "plt.show()\n",
    "plot(X,Y,Z_train,\"pct_start\",\"lr\",\"train_loss\")    \n",
    "plt.show()\n"
   ]
  },
  {
   "cell_type": "code",
   "execution_count": 112,
   "metadata": {},
   "outputs": [
    {
     "name": "stdout",
     "output_type": "stream",
     "text": [
      "{'sm3', 'sha3-256', 'blake2s256', 'sha3_384', 'blake2b512', 'sha512', 'sha1', 'sha3_256', 'sha512-256', 'ripemd160', 'sha3_224', 'shake_128', 'md5-sha1', 'sha3-224', 'md4', 'sha3-384', 'sha3-512', 'mdc2', 'md5', 'whirlpool', 'sha384', 'shake128', 'sha256', 'blake2b', 'shake256', 'sha3_512', 'blake2s', 'sha224', 'shake_256', 'sha512-224'}\n",
      "{'sha3_256', 'sha256', 'blake2b', 'shake_256', 'sha3_384', 'shake_128', 'md5', 'blake2s', 'sha3_224', 'sha512', 'sha224', 'sha3_512', 'sha1', 'sha384'}\n"
     ]
    }
   ],
   "source": [
    "import hashlib\n",
    "\n",
    "print(hashlib.algorithms_available)\n",
    "print(hashlib.algorithms_guaranteed)"
   ]
  },
  {
   "cell_type": "code",
   "execution_count": 118,
   "metadata": {},
   "outputs": [
    {
     "name": "stdout",
     "output_type": "stream",
     "text": [
      "83c1c3990ddc78052283e4eff624716e\n"
     ]
    }
   ],
   "source": [
    "mystring = \"Andrew Yan-Tak Ng is a Chinese English computer scientist, executive, investor, \"\n",
    "hash_object = hashlib.md5(mystring.encode()).hexdigest()\n",
    "print(hash_object)"
   ]
  },
  {
   "cell_type": "code",
   "execution_count": 119,
   "metadata": {},
   "outputs": [
    {
     "data": {
      "text/plain": [
       "True"
      ]
     },
     "execution_count": 119,
     "metadata": {},
     "output_type": "execute_result"
    }
   ],
   "source": [
    "hash_object == hashlib.md5(mystring.encode()).hexdigest()"
   ]
  },
  {
   "cell_type": "code",
   "execution_count": null,
   "metadata": {},
   "outputs": [],
   "source": []
  }
 ],
 "metadata": {
  "kernelspec": {
   "display_name": "Python 3",
   "language": "python",
   "name": "python3"
  },
  "language_info": {
   "codemirror_mode": {
    "name": "ipython",
    "version": 3
   },
   "file_extension": ".py",
   "mimetype": "text/x-python",
   "name": "python",
   "nbconvert_exporter": "python",
   "pygments_lexer": "ipython3",
   "version": "3.7.2"
  }
 },
 "nbformat": 4,
 "nbformat_minor": 2
}
